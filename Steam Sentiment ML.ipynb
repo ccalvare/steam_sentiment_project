{
 "cells": [
  {
   "cell_type": "code",
   "execution_count": 1,
   "metadata": {
    "scrolled": false
   },
   "outputs": [
    {
     "name": "stdout",
     "output_type": "stream",
     "text": [
      "Requirement already satisfied: gensim in c:\\users\\tuchek\\anaconda3\\lib\\site-packages (3.8.3)\n",
      "Requirement already satisfied: six>=1.5.0 in c:\\users\\tuchek\\anaconda3\\lib\\site-packages (from gensim) (1.15.0)\n",
      "Requirement already satisfied: numpy>=1.11.3 in c:\\users\\tuchek\\anaconda3\\lib\\site-packages (from gensim) (1.19.5)\n",
      "Requirement already satisfied: scipy>=0.18.1 in c:\\users\\tuchek\\anaconda3\\lib\\site-packages (from gensim) (1.5.0)\n",
      "Requirement already satisfied: smart-open>=1.8.1 in c:\\users\\tuchek\\anaconda3\\lib\\site-packages (from gensim) (4.2.0)\n",
      "Requirement already satisfied: Cython==0.29.14 in c:\\users\\tuchek\\anaconda3\\lib\\site-packages (from gensim) (0.29.14)\n",
      "Requirement already satisfied: keras in c:\\users\\tuchek\\anaconda3\\lib\\site-packages (2.4.3)\n",
      "Requirement already satisfied: pyyaml in c:\\users\\tuchek\\anaconda3\\lib\\site-packages (from keras) (5.3.1)\n",
      "Requirement already satisfied: h5py in c:\\users\\tuchek\\anaconda3\\lib\\site-packages (from keras) (2.10.0)\n",
      "Requirement already satisfied: numpy>=1.9.1 in c:\\users\\tuchek\\anaconda3\\lib\\site-packages (from keras) (1.19.5)\n",
      "Requirement already satisfied: scipy>=0.14 in c:\\users\\tuchek\\anaconda3\\lib\\site-packages (from keras) (1.5.0)\n",
      "Requirement already satisfied: six in c:\\users\\tuchek\\anaconda3\\lib\\site-packages (from h5py->keras) (1.15.0)\n"
     ]
    }
   ],
   "source": [
    "!pip install gensim\n",
    "!pip install keras\n"
   ]
  },
  {
   "cell_type": "code",
   "execution_count": 3,
   "metadata": {
    "scrolled": true
   },
   "outputs": [],
   "source": [
    "import pandas as pd\n",
    "import matplotlib.pyplot as plt\n",
    "%matplotlib inline\n",
    "\n",
    "from sklearn.model_selection import train_test_split\n",
    "from sklearn.preprocessing import LabelEncoder\n",
    "from sklearn.metrics import confusion_matrix, classification_report, accuracy_score\n",
    "from sklearn.manifold import TSNE\n",
    "from sklearn.feature_extraction.text import TfidfVectorizer\n",
    "\n",
    "from keras.preprocessing.text import Tokenizer\n",
    "from keras.preprocessing.sequence import pad_sequences \n",
    "from keras.models import Sequential\n",
    "from keras.layers import Activation, Dense, Dropout, Embedding, Flatten, Conv1D, MaxPooling1D, LSTM\n",
    "from keras import utils\n",
    "from keras.callbacks import ReduceLROnPlateau, EarlyStopping\n",
    "\n"
   ]
  },
  {
   "cell_type": "code",
   "execution_count": 4,
   "metadata": {},
   "outputs": [],
   "source": [
    "# nltk\n",
    "import nltk\n",
    "from nltk.corpus import stopwords\n",
    "from  nltk.stem import SnowballStemmer"
   ]
  },
  {
   "cell_type": "code",
   "execution_count": 5,
   "metadata": {},
   "outputs": [],
   "source": [
    "# Word2vec\n",
    "import gensim"
   ]
  },
  {
   "cell_type": "code",
   "execution_count": 6,
   "metadata": {},
   "outputs": [],
   "source": [
    "# Utility\n",
    "import re\n",
    "import numpy as np\n",
    "import os\n",
    "from collections import Counter\n",
    "import logging\n",
    "import time\n",
    "import pickle\n",
    "import itertools"
   ]
  },
  {
   "cell_type": "code",
   "execution_count": 30,
   "metadata": {},
   "outputs": [],
   "source": [
    "# Set log\n",
    "logging.basicConfig(format='%(asctime)s : %(levelname)s : %(message)s', level=logging.INFO)"
   ]
  },
  {
   "cell_type": "code",
   "execution_count": 31,
   "metadata": {},
   "outputs": [
    {
     "name": "stderr",
     "output_type": "stream",
     "text": [
      "[nltk_data] Downloading package stopwords to\n",
      "[nltk_data]     C:\\Users\\Tuchek\\AppData\\Roaming\\nltk_data...\n",
      "[nltk_data]   Package stopwords is already up-to-date!\n"
     ]
    },
    {
     "data": {
      "text/plain": [
       "True"
      ]
     },
     "execution_count": 31,
     "metadata": {},
     "output_type": "execute_result"
    }
   ],
   "source": [
    "nltk.download('stopwords')"
   ]
  },
  {
   "cell_type": "code",
   "execution_count": 32,
   "metadata": {},
   "outputs": [],
   "source": [
    "# DATASET\n",
    "DATASET_COLUMNS = [\"date_posted\", \"hour_played\", \"recommendation\", \"text\", \"title\", \"target\"]\n",
    "DATASET_ENCODING = \"ISO-8859-1\"\n",
    "TRAIN_SIZE = 0.8\n",
    "\n",
    "# TEXT CLENAING\n",
    "TEXT_CLEANING_RE = \"@\\S+|https?:\\S+|http?:\\S|[^A-Za-z0-9]+\"\n",
    "\n",
    "# WORD2VEC \n",
    "W2V_SIZE = 300\n",
    "W2V_WINDOW = 7\n",
    "W2V_EPOCH = 32\n",
    "W2V_MIN_COUNT = 10\n",
    "\n",
    "# KERAS\n",
    "SEQUENCE_LENGTH = 300\n",
    "EPOCHS = 8\n",
    "BATCH_SIZE = 1024\n",
    "\n",
    "# SENTIMENT\n",
    "POSITIVE = \"POSITIVE\"\n",
    "NEGATIVE = \"NEGATIVE\"\n",
    "NEUTRAL = \"NEUTRAL\"\n",
    "SENTIMENT_THRESHOLDS = (0.4, 0.7)\n",
    "\n",
    "# EXPORT\n",
    "KERAS_MODEL = \"model.h5\"\n",
    "WORD2VEC_MODEL = \"model.w2v\"\n",
    "TOKENIZER_MODEL = \"tokenizer.pkl\"\n",
    "ENCODER_MODEL = \"encoder.pkl\""
   ]
  },
  {
   "cell_type": "markdown",
   "metadata": {},
   "source": [
    "# READ DATA SET"
   ]
  },
  {
   "cell_type": "code",
   "execution_count": 33,
   "metadata": {},
   "outputs": [
    {
     "data": {
      "text/html": [
       "<div>\n",
       "<style scoped>\n",
       "    .dataframe tbody tr th:only-of-type {\n",
       "        vertical-align: middle;\n",
       "    }\n",
       "\n",
       "    .dataframe tbody tr th {\n",
       "        vertical-align: top;\n",
       "    }\n",
       "\n",
       "    .dataframe thead th {\n",
       "        text-align: right;\n",
       "    }\n",
       "</style>\n",
       "<table border=\"1\" class=\"dataframe\">\n",
       "  <thead>\n",
       "    <tr style=\"text-align: right;\">\n",
       "      <th></th>\n",
       "      <th>Unnamed: 0</th>\n",
       "      <th>date_posted</th>\n",
       "      <th>hour_played</th>\n",
       "      <th>recommendation</th>\n",
       "      <th>text</th>\n",
       "      <th>title</th>\n",
       "      <th>target</th>\n",
       "    </tr>\n",
       "  </thead>\n",
       "  <tbody>\n",
       "    <tr>\n",
       "      <th>0</th>\n",
       "      <td>0</td>\n",
       "      <td>2019-02-10</td>\n",
       "      <td>578</td>\n",
       "      <td>Recommended</td>\n",
       "      <td>&amp;gt Played as German Reich&amp;gt Declare war on B...</td>\n",
       "      <td>Expansion - Hearts of Iron IV: Man the Guns</td>\n",
       "      <td>1</td>\n",
       "    </tr>\n",
       "    <tr>\n",
       "      <th>1</th>\n",
       "      <td>1</td>\n",
       "      <td>2019-02-10</td>\n",
       "      <td>184</td>\n",
       "      <td>Recommended</td>\n",
       "      <td>yes.</td>\n",
       "      <td>Expansion - Hearts of Iron IV: Man the Guns</td>\n",
       "      <td>1</td>\n",
       "    </tr>\n",
       "    <tr>\n",
       "      <th>2</th>\n",
       "      <td>2</td>\n",
       "      <td>2019-02-07</td>\n",
       "      <td>892</td>\n",
       "      <td>Recommended</td>\n",
       "      <td>Very good game although a bit overpriced in my...</td>\n",
       "      <td>Expansion - Hearts of Iron IV: Man the Guns</td>\n",
       "      <td>1</td>\n",
       "    </tr>\n",
       "    <tr>\n",
       "      <th>3</th>\n",
       "      <td>3</td>\n",
       "      <td>2018-06-14</td>\n",
       "      <td>676</td>\n",
       "      <td>Recommended</td>\n",
       "      <td>Out of all the reviews I wrote This one is pro...</td>\n",
       "      <td>Dead by Daylight</td>\n",
       "      <td>1</td>\n",
       "    </tr>\n",
       "    <tr>\n",
       "      <th>4</th>\n",
       "      <td>4</td>\n",
       "      <td>2017-06-20</td>\n",
       "      <td>612</td>\n",
       "      <td>Recommended</td>\n",
       "      <td>Disclaimer I survivor main. I play games for f...</td>\n",
       "      <td>Dead by Daylight</td>\n",
       "      <td>1</td>\n",
       "    </tr>\n",
       "    <tr>\n",
       "      <th>5</th>\n",
       "      <td>5</td>\n",
       "      <td>2016-12-12</td>\n",
       "      <td>2694</td>\n",
       "      <td>Recommended</td>\n",
       "      <td>ENGLISH After playing for more than two years ...</td>\n",
       "      <td>Dead by Daylight</td>\n",
       "      <td>1</td>\n",
       "    </tr>\n",
       "    <tr>\n",
       "      <th>6</th>\n",
       "      <td>6</td>\n",
       "      <td>2017-09-17</td>\n",
       "      <td>48</td>\n",
       "      <td>Recommended</td>\n",
       "      <td>Out of all the reviews I wrote This one is pro...</td>\n",
       "      <td>Dead by Daylight</td>\n",
       "      <td>1</td>\n",
       "    </tr>\n",
       "    <tr>\n",
       "      <th>7</th>\n",
       "      <td>7</td>\n",
       "      <td>2018-12-24</td>\n",
       "      <td>71</td>\n",
       "      <td>Recommended</td>\n",
       "      <td>I have never been told to kill myself more tha...</td>\n",
       "      <td>Dead by Daylight</td>\n",
       "      <td>1</td>\n",
       "    </tr>\n",
       "    <tr>\n",
       "      <th>8</th>\n",
       "      <td>8</td>\n",
       "      <td>2018-09-21</td>\n",
       "      <td>400</td>\n",
       "      <td>Recommended</td>\n",
       "      <td>Any longtime Dead by Daylight player knows tha...</td>\n",
       "      <td>Dead by Daylight</td>\n",
       "      <td>1</td>\n",
       "    </tr>\n",
       "    <tr>\n",
       "      <th>9</th>\n",
       "      <td>9</td>\n",
       "      <td>2018-12-05</td>\n",
       "      <td>414</td>\n",
       "      <td>Recommended</td>\n",
       "      <td>if you think cs go is toxic try this game</td>\n",
       "      <td>Dead by Daylight</td>\n",
       "      <td>1</td>\n",
       "    </tr>\n",
       "  </tbody>\n",
       "</table>\n",
       "</div>"
      ],
      "text/plain": [
       "   Unnamed: 0 date_posted  hour_played recommendation  \\\n",
       "0           0  2019-02-10          578    Recommended   \n",
       "1           1  2019-02-10          184    Recommended   \n",
       "2           2  2019-02-07          892    Recommended   \n",
       "3           3  2018-06-14          676    Recommended   \n",
       "4           4  2017-06-20          612    Recommended   \n",
       "5           5  2016-12-12         2694    Recommended   \n",
       "6           6  2017-09-17           48    Recommended   \n",
       "7           7  2018-12-24           71    Recommended   \n",
       "8           8  2018-09-21          400    Recommended   \n",
       "9           9  2018-12-05          414    Recommended   \n",
       "\n",
       "                                                text  \\\n",
       "0  &gt Played as German Reich&gt Declare war on B...   \n",
       "1                                               yes.   \n",
       "2  Very good game although a bit overpriced in my...   \n",
       "3  Out of all the reviews I wrote This one is pro...   \n",
       "4  Disclaimer I survivor main. I play games for f...   \n",
       "5  ENGLISH After playing for more than two years ...   \n",
       "6  Out of all the reviews I wrote This one is pro...   \n",
       "7  I have never been told to kill myself more tha...   \n",
       "8  Any longtime Dead by Daylight player knows tha...   \n",
       "9          if you think cs go is toxic try this game   \n",
       "\n",
       "                                         title  target  \n",
       "0  Expansion - Hearts of Iron IV: Man the Guns       1  \n",
       "1  Expansion - Hearts of Iron IV: Man the Guns       1  \n",
       "2  Expansion - Hearts of Iron IV: Man the Guns       1  \n",
       "3                             Dead by Daylight       1  \n",
       "4                             Dead by Daylight       1  \n",
       "5                             Dead by Daylight       1  \n",
       "6                             Dead by Daylight       1  \n",
       "7                             Dead by Daylight       1  \n",
       "8                             Dead by Daylight       1  \n",
       "9                             Dead by Daylight       1  "
      ]
     },
     "execution_count": 33,
     "metadata": {},
     "output_type": "execute_result"
    }
   ],
   "source": [
    "#Read in the clean_steam_reviews CSV\n",
    "steam_df = pd.read_csv(os.path.join(\"clean_steam_reviews.csv\"))\n",
    "steam_df.head(10)"
   ]
  },
  {
   "cell_type": "code",
   "execution_count": 34,
   "metadata": {},
   "outputs": [],
   "source": [
    "# dataset_filename = os.listdir(\"clean_steam_reviews\")[0]\n",
    "# dataset_path = os.path.join(\"input\",dataset_filename)\n",
    "# print(\"Open file:\", dataset_path)\n",
    "# df = pd.read_csv(dataset_path, encoding =DATASET_ENCODING , names=DATASET_COLUMNS)"
   ]
  },
  {
   "cell_type": "code",
   "execution_count": 35,
   "metadata": {
    "scrolled": true
   },
   "outputs": [
    {
     "name": "stdout",
     "output_type": "stream",
     "text": [
      "Dataset size: 433375\n"
     ]
    }
   ],
   "source": [
    "print(\"Dataset size:\", len(steam_df))"
   ]
  },
  {
   "cell_type": "code",
   "execution_count": 36,
   "metadata": {
    "scrolled": true
   },
   "outputs": [
    {
     "data": {
      "text/html": [
       "<div>\n",
       "<style scoped>\n",
       "    .dataframe tbody tr th:only-of-type {\n",
       "        vertical-align: middle;\n",
       "    }\n",
       "\n",
       "    .dataframe tbody tr th {\n",
       "        vertical-align: top;\n",
       "    }\n",
       "\n",
       "    .dataframe thead th {\n",
       "        text-align: right;\n",
       "    }\n",
       "</style>\n",
       "<table border=\"1\" class=\"dataframe\">\n",
       "  <thead>\n",
       "    <tr style=\"text-align: right;\">\n",
       "      <th></th>\n",
       "      <th>Unnamed: 0</th>\n",
       "      <th>date_posted</th>\n",
       "      <th>hour_played</th>\n",
       "      <th>recommendation</th>\n",
       "      <th>text</th>\n",
       "      <th>title</th>\n",
       "      <th>target</th>\n",
       "    </tr>\n",
       "  </thead>\n",
       "  <tbody>\n",
       "    <tr>\n",
       "      <th>0</th>\n",
       "      <td>0</td>\n",
       "      <td>2019-02-10</td>\n",
       "      <td>578</td>\n",
       "      <td>Recommended</td>\n",
       "      <td>&amp;gt Played as German Reich&amp;gt Declare war on B...</td>\n",
       "      <td>Expansion - Hearts of Iron IV: Man the Guns</td>\n",
       "      <td>1</td>\n",
       "    </tr>\n",
       "    <tr>\n",
       "      <th>1</th>\n",
       "      <td>1</td>\n",
       "      <td>2019-02-10</td>\n",
       "      <td>184</td>\n",
       "      <td>Recommended</td>\n",
       "      <td>yes.</td>\n",
       "      <td>Expansion - Hearts of Iron IV: Man the Guns</td>\n",
       "      <td>1</td>\n",
       "    </tr>\n",
       "    <tr>\n",
       "      <th>2</th>\n",
       "      <td>2</td>\n",
       "      <td>2019-02-07</td>\n",
       "      <td>892</td>\n",
       "      <td>Recommended</td>\n",
       "      <td>Very good game although a bit overpriced in my...</td>\n",
       "      <td>Expansion - Hearts of Iron IV: Man the Guns</td>\n",
       "      <td>1</td>\n",
       "    </tr>\n",
       "    <tr>\n",
       "      <th>3</th>\n",
       "      <td>3</td>\n",
       "      <td>2018-06-14</td>\n",
       "      <td>676</td>\n",
       "      <td>Recommended</td>\n",
       "      <td>Out of all the reviews I wrote This one is pro...</td>\n",
       "      <td>Dead by Daylight</td>\n",
       "      <td>1</td>\n",
       "    </tr>\n",
       "    <tr>\n",
       "      <th>4</th>\n",
       "      <td>4</td>\n",
       "      <td>2017-06-20</td>\n",
       "      <td>612</td>\n",
       "      <td>Recommended</td>\n",
       "      <td>Disclaimer I survivor main. I play games for f...</td>\n",
       "      <td>Dead by Daylight</td>\n",
       "      <td>1</td>\n",
       "    </tr>\n",
       "  </tbody>\n",
       "</table>\n",
       "</div>"
      ],
      "text/plain": [
       "   Unnamed: 0 date_posted  hour_played recommendation  \\\n",
       "0           0  2019-02-10          578    Recommended   \n",
       "1           1  2019-02-10          184    Recommended   \n",
       "2           2  2019-02-07          892    Recommended   \n",
       "3           3  2018-06-14          676    Recommended   \n",
       "4           4  2017-06-20          612    Recommended   \n",
       "\n",
       "                                                text  \\\n",
       "0  &gt Played as German Reich&gt Declare war on B...   \n",
       "1                                               yes.   \n",
       "2  Very good game although a bit overpriced in my...   \n",
       "3  Out of all the reviews I wrote This one is pro...   \n",
       "4  Disclaimer I survivor main. I play games for f...   \n",
       "\n",
       "                                         title  target  \n",
       "0  Expansion - Hearts of Iron IV: Man the Guns       1  \n",
       "1  Expansion - Hearts of Iron IV: Man the Guns       1  \n",
       "2  Expansion - Hearts of Iron IV: Man the Guns       1  \n",
       "3                             Dead by Daylight       1  \n",
       "4                             Dead by Daylight       1  "
      ]
     },
     "execution_count": 36,
     "metadata": {},
     "output_type": "execute_result"
    }
   ],
   "source": [
    "steam_df.head(5)"
   ]
  },
  {
   "cell_type": "markdown",
   "metadata": {},
   "source": [
    "# Map Target Label to String"
   ]
  },
  {
   "cell_type": "code",
   "execution_count": 37,
   "metadata": {},
   "outputs": [],
   "source": [
    "decode_map = {0: \"NOT RECOMMENDED\", 1: \"RECOMMENDED\"}\n",
    "def decode_sentiment(label):\n",
    "    return decode_map[int(label)]"
   ]
  },
  {
   "cell_type": "code",
   "execution_count": 38,
   "metadata": {
    "scrolled": true
   },
   "outputs": [
    {
     "name": "stdout",
     "output_type": "stream",
     "text": [
      "Wall time: 305 ms\n"
     ]
    }
   ],
   "source": [
    "%%time\n",
    "steam_df.target = steam_df.target.apply(lambda x: decode_sentiment(x))"
   ]
  },
  {
   "cell_type": "code",
   "execution_count": 39,
   "metadata": {},
   "outputs": [
    {
     "data": {
      "text/plain": [
       "Text(0.5, 1.0, 'Dataset labels distribuition')"
      ]
     },
     "execution_count": 39,
     "metadata": {},
     "output_type": "execute_result"
    },
    {
     "data": {
      "image/png": "[encoded data removed]",
      "text/plain": [
       "<Figure size 1152x576 with 1 Axes>"
      ]
     },
     "metadata": {
      "needs_background": "light"
     },
     "output_type": "display_data"
    }
   ],
   "source": [
    "target_cnt = Counter(steam_df.target)\n",
    "\n",
    "plt.figure(figsize=(16,8))\n",
    "plt.bar(target_cnt.keys(), target_cnt.values())\n",
    "plt.title(\"Dataset labels distribuition\")"
   ]
  },
  {
   "cell_type": "markdown",
   "metadata": {},
   "source": [
    "# Pre Process Data Set"
   ]
  },
  {
   "cell_type": "code",
   "execution_count": 40,
   "metadata": {},
   "outputs": [],
   "source": [
    "stop_words = stopwords.words(\"english\")\n",
    "stemmer = SnowballStemmer(\"english\")"
   ]
  },
  {
   "cell_type": "code",
   "execution_count": 41,
   "metadata": {},
   "outputs": [],
   "source": [
    "def preprocess(text, stem=False):\n",
    "    # Remove link,user and special characters\n",
    "    text = re.sub(TEXT_CLEANING_RE, ' ', str(text).lower()).strip()\n",
    "    tokens = []\n",
    "    for token in text.split():\n",
    "        if token not in stop_words:\n",
    "            if stem:\n",
    "                tokens.append(stemmer.stem(token))\n",
    "            else:\n",
    "                tokens.append(token)\n",
    "    return \" \".join(tokens)"
   ]
  },
  {
   "cell_type": "markdown",
   "metadata": {},
   "source": [
    "# Split and Train Test"
   ]
  },
  {
   "cell_type": "code",
   "execution_count": 42,
   "metadata": {},
   "outputs": [
    {
     "name": "stdout",
     "output_type": "stream",
     "text": [
      "TRAIN size: 346700\n",
      "TEST size: 86675\n"
     ]
    }
   ],
   "source": [
    "df_train, df_test = train_test_split(steam_df, test_size=1-TRAIN_SIZE, random_state=50)\n",
    "print(\"TRAIN size:\", len(df_train))\n",
    "print(\"TEST size:\", len(df_test))"
   ]
  },
  {
   "cell_type": "code",
   "execution_count": 43,
   "metadata": {},
   "outputs": [
    {
     "name": "stdout",
     "output_type": "stream",
     "text": [
      "Wall time: 4.08 s\n"
     ]
    }
   ],
   "source": [
    "%%time\n",
    "documents = [_text.split() for _text in df_train.text] "
   ]
  },
  {
   "cell_type": "markdown",
   "metadata": {},
   "source": [
    "# Word2Vec"
   ]
  },
  {
   "cell_type": "code",
   "execution_count": 44,
   "metadata": {},
   "outputs": [
    {
     "name": "stdout",
     "output_type": "stream",
     "text": [
      "Wall time: 17 s\n"
     ]
    }
   ],
   "source": [
    "%%time\n",
    "documents = [_text.split() for _text in df_train.text] "
   ]
  },
  {
   "cell_type": "code",
   "execution_count": 45,
   "metadata": {},
   "outputs": [],
   "source": [
    "w2v_model = gensim.models.word2vec.Word2Vec(size=W2V_SIZE, \n",
    "                                            window=W2V_WINDOW, \n",
    "                                            min_count=W2V_MIN_COUNT, \n",
    "                                            workers=8)"
   ]
  },
  {
   "cell_type": "code",
   "execution_count": 46,
   "metadata": {},
   "outputs": [
    {
     "name": "stderr",
     "output_type": "stream",
     "text": [
      "2021-03-10 19:55:18,701 : INFO : collecting all words and their counts\n",
      "2021-03-10 19:55:18,704 : INFO : PROGRESS: at sentence #0, processed 0 words, keeping 0 word types\n",
      "2021-03-10 19:55:19,074 : INFO : PROGRESS: at sentence #10000, processed 409048 words, keeping 37138 word types\n",
      "2021-03-10 19:55:19,305 : INFO : PROGRESS: at sentence #20000, processed 816953 words, keeping 59490 word types\n",
      "2021-03-10 19:55:19,531 : INFO : PROGRESS: at sentence #30000, processed 1223397 words, keeping 79233 word types\n",
      "2021-03-10 19:55:19,850 : INFO : PROGRESS: at sentence #40000, processed 1623652 words, keeping 96975 word types\n",
      "2021-03-10 19:55:20,312 : INFO : PROGRESS: at sentence #50000, processed 2036715 words, keeping 114105 word types\n",
      "2021-03-10 19:55:20,624 : INFO : PROGRESS: at sentence #60000, processed 2433827 words, keeping 129383 word types\n",
      "2021-03-10 19:55:21,002 : INFO : PROGRESS: at sentence #70000, processed 2834735 words, keeping 143938 word types\n",
      "2021-03-10 19:55:21,235 : INFO : PROGRESS: at sentence #80000, processed 3238379 words, keeping 158178 word types\n",
      "2021-03-10 19:55:21,460 : INFO : PROGRESS: at sentence #90000, processed 3631139 words, keeping 171721 word types\n",
      "2021-03-10 19:55:21,711 : INFO : PROGRESS: at sentence #100000, processed 4024861 words, keeping 185046 word types\n",
      "2021-03-10 19:55:21,946 : INFO : PROGRESS: at sentence #110000, processed 4436492 words, keeping 198642 word types\n",
      "2021-03-10 19:55:22,201 : INFO : PROGRESS: at sentence #120000, processed 4825291 words, keeping 211189 word types\n",
      "2021-03-10 19:55:22,437 : INFO : PROGRESS: at sentence #130000, processed 5221442 words, keeping 224165 word types\n",
      "2021-03-10 19:55:22,677 : INFO : PROGRESS: at sentence #140000, processed 5636319 words, keeping 236774 word types\n",
      "2021-03-10 19:55:22,912 : INFO : PROGRESS: at sentence #150000, processed 6045567 words, keeping 248728 word types\n",
      "2021-03-10 19:55:23,175 : INFO : PROGRESS: at sentence #160000, processed 6457168 words, keeping 260929 word types\n",
      "2021-03-10 19:55:23,411 : INFO : PROGRESS: at sentence #170000, processed 6858632 words, keeping 272608 word types\n",
      "2021-03-10 19:55:23,653 : INFO : PROGRESS: at sentence #180000, processed 7258823 words, keeping 284364 word types\n",
      "2021-03-10 19:55:23,891 : INFO : PROGRESS: at sentence #190000, processed 7655767 words, keeping 295656 word types\n",
      "2021-03-10 19:55:24,123 : INFO : PROGRESS: at sentence #200000, processed 8070147 words, keeping 307412 word types\n",
      "2021-03-10 19:55:24,351 : INFO : PROGRESS: at sentence #210000, processed 8478144 words, keeping 318428 word types\n",
      "2021-03-10 19:55:24,587 : INFO : PROGRESS: at sentence #220000, processed 8881843 words, keeping 330040 word types\n",
      "2021-03-10 19:55:24,804 : INFO : PROGRESS: at sentence #230000, processed 9280755 words, keeping 341043 word types\n",
      "2021-03-10 19:55:25,057 : INFO : PROGRESS: at sentence #240000, processed 9691886 words, keeping 352401 word types\n",
      "2021-03-10 19:55:25,302 : INFO : PROGRESS: at sentence #250000, processed 10096185 words, keeping 362877 word types\n",
      "2021-03-10 19:55:25,544 : INFO : PROGRESS: at sentence #260000, processed 10516583 words, keeping 373753 word types\n",
      "2021-03-10 19:55:25,792 : INFO : PROGRESS: at sentence #270000, processed 10929717 words, keeping 384859 word types\n",
      "2021-03-10 19:55:26,032 : INFO : PROGRESS: at sentence #280000, processed 11344281 words, keeping 395523 word types\n",
      "2021-03-10 19:55:26,268 : INFO : PROGRESS: at sentence #290000, processed 11761336 words, keeping 405917 word types\n",
      "2021-03-10 19:55:26,504 : INFO : PROGRESS: at sentence #300000, processed 12168870 words, keeping 416179 word types\n",
      "2021-03-10 19:55:26,740 : INFO : PROGRESS: at sentence #310000, processed 12577495 words, keeping 426292 word types\n",
      "2021-03-10 19:55:26,995 : INFO : PROGRESS: at sentence #320000, processed 12978215 words, keeping 436964 word types\n",
      "2021-03-10 19:55:27,232 : INFO : PROGRESS: at sentence #330000, processed 13387517 words, keeping 447058 word types\n",
      "2021-03-10 19:55:27,459 : INFO : PROGRESS: at sentence #340000, processed 13788693 words, keeping 456194 word types\n",
      "2021-03-10 19:55:27,638 : INFO : collected 462767 word types from a corpus of 14059602 raw words and 346700 sentences\n",
      "2021-03-10 19:55:27,640 : INFO : Loading a fresh vocabulary\n",
      "2021-03-10 19:55:28,162 : INFO : effective_min_count=10 retains 31485 unique words (6% of original 462767, drops 431282)\n",
      "2021-03-10 19:55:28,163 : INFO : effective_min_count=10 leaves 13401348 word corpus (95% of original 14059602, drops 658254)\n",
      "2021-03-10 19:55:28,400 : INFO : deleting the raw counts dictionary of 462767 items\n",
      "2021-03-10 19:55:28,417 : INFO : sample=0.001 downsamples 48 most-common words\n",
      "2021-03-10 19:55:28,423 : INFO : downsampling leaves estimated 10361690 word corpus (77.3% of prior 13401348)\n",
      "2021-03-10 19:55:28,670 : INFO : estimated required memory for 31485 words and 300 dimensions: 91306500 bytes\n",
      "2021-03-10 19:55:28,672 : INFO : resetting layer weights\n"
     ]
    }
   ],
   "source": [
    "w2v_model.build_vocab(documents)"
   ]
  },
  {
   "cell_type": "code",
   "execution_count": 47,
   "metadata": {},
   "outputs": [
    {
     "name": "stdout",
     "output_type": "stream",
     "text": [
      "Vocab size 31485\n"
     ]
    }
   ],
   "source": [
    "words = w2v_model.wv.vocab.keys()\n",
    "vocab_size = len(words)\n",
    "print(\"Vocab size\", vocab_size)"
   ]
  },
  {
   "cell_type": "code",
   "execution_count": 48,
   "metadata": {},
   "outputs": [
    {
     "name": "stderr",
     "output_type": "stream",
     "text": [
      "2021-03-10 19:56:04,344 : INFO : training model with 8 workers on 31485 vocabulary and 300 features, using sg=0 hs=0 sample=0.001 negative=5 window=7\n",
      "2021-03-10 19:56:05,536 : INFO : EPOCH 1 - PROGRESS: at 3.38% examples, 321606 words/s, in_qsize 15, out_qsize 1\n",
      "2021-03-10 19:56:06,570 : INFO : EPOCH 1 - PROGRESS: at 6.78% examples, 332829 words/s, in_qsize 14, out_qsize 1\n",
      "2021-03-10 19:56:07,615 : INFO : EPOCH 1 - PROGRESS: at 10.01% examples, 328806 words/s, in_qsize 15, out_qsize 0\n",
      "2021-03-10 19:56:08,702 : INFO : EPOCH 1 - PROGRESS: at 13.13% examples, 321415 words/s, in_qsize 15, out_qsize 0\n",
      "2021-03-10 19:56:09,704 : INFO : EPOCH 1 - PROGRESS: at 16.35% examples, 322520 words/s, in_qsize 16, out_qsize 1\n",
      "2021-03-10 19:56:10,737 : INFO : EPOCH 1 - PROGRESS: at 20.49% examples, 336677 words/s, in_qsize 15, out_qsize 0\n",
      "2021-03-10 19:56:11,749 : INFO : EPOCH 1 - PROGRESS: at 23.93% examples, 339262 words/s, in_qsize 15, out_qsize 0\n",
      "2021-03-10 19:56:12,773 : INFO : EPOCH 1 - PROGRESS: at 26.63% examples, 329889 words/s, in_qsize 15, out_qsize 0\n",
      "2021-03-10 19:56:13,788 : INFO : EPOCH 1 - PROGRESS: at 29.33% examples, 323187 words/s, in_qsize 15, out_qsize 0\n",
      "2021-03-10 19:56:14,867 : INFO : EPOCH 1 - PROGRESS: at 31.49% examples, 311531 words/s, in_qsize 15, out_qsize 0\n",
      "2021-03-10 19:56:15,895 : INFO : EPOCH 1 - PROGRESS: at 34.28% examples, 307759 words/s, in_qsize 15, out_qsize 0\n",
      "2021-03-10 19:56:16,953 : INFO : EPOCH 1 - PROGRESS: at 37.88% examples, 311397 words/s, in_qsize 16, out_qsize 2\n",
      "2021-03-10 19:56:17,975 : INFO : EPOCH 1 - PROGRESS: at 41.64% examples, 317053 words/s, in_qsize 14, out_qsize 1\n",
      "2021-03-10 19:56:19,013 : INFO : EPOCH 1 - PROGRESS: at 45.12% examples, 319383 words/s, in_qsize 15, out_qsize 0\n",
      "2021-03-10 19:56:20,034 : INFO : EPOCH 1 - PROGRESS: at 47.87% examples, 316631 words/s, in_qsize 15, out_qsize 0\n",
      "2021-03-10 19:56:21,065 : INFO : EPOCH 1 - PROGRESS: at 50.72% examples, 314949 words/s, in_qsize 15, out_qsize 0\n",
      "2021-03-10 19:56:22,121 : INFO : EPOCH 1 - PROGRESS: at 53.90% examples, 314202 words/s, in_qsize 16, out_qsize 0\n",
      "2021-03-10 19:56:23,141 : INFO : EPOCH 1 - PROGRESS: at 56.01% examples, 308744 words/s, in_qsize 15, out_qsize 0\n",
      "2021-03-10 19:56:24,264 : INFO : EPOCH 1 - PROGRESS: at 57.50% examples, 299360 words/s, in_qsize 15, out_qsize 0\n",
      "2021-03-10 19:56:25,315 : INFO : EPOCH 1 - PROGRESS: at 60.05% examples, 296874 words/s, in_qsize 15, out_qsize 0\n",
      "2021-03-10 19:56:26,316 : INFO : EPOCH 1 - PROGRESS: at 63.12% examples, 297620 words/s, in_qsize 16, out_qsize 0\n",
      "2021-03-10 19:56:27,362 : INFO : EPOCH 1 - PROGRESS: at 66.51% examples, 299314 words/s, in_qsize 13, out_qsize 2\n",
      "2021-03-10 19:56:28,393 : INFO : EPOCH 1 - PROGRESS: at 68.81% examples, 296432 words/s, in_qsize 15, out_qsize 2\n",
      "2021-03-10 19:56:29,420 : INFO : EPOCH 1 - PROGRESS: at 70.78% examples, 292389 words/s, in_qsize 13, out_qsize 2\n",
      "2021-03-10 19:56:30,454 : INFO : EPOCH 1 - PROGRESS: at 73.73% examples, 292553 words/s, in_qsize 15, out_qsize 0\n",
      "2021-03-10 19:56:31,845 : INFO : EPOCH 1 - PROGRESS: at 76.31% examples, 287981 words/s, in_qsize 15, out_qsize 0\n",
      "2021-03-10 19:56:32,870 : INFO : EPOCH 1 - PROGRESS: at 78.70% examples, 286334 words/s, in_qsize 16, out_qsize 1\n",
      "2021-03-10 19:56:33,962 : INFO : EPOCH 1 - PROGRESS: at 80.36% examples, 281684 words/s, in_qsize 15, out_qsize 0\n",
      "2021-03-10 19:56:34,977 : INFO : EPOCH 1 - PROGRESS: at 82.27% examples, 279167 words/s, in_qsize 15, out_qsize 0\n",
      "2021-03-10 19:56:36,012 : INFO : EPOCH 1 - PROGRESS: at 84.71% examples, 277840 words/s, in_qsize 15, out_qsize 0\n",
      "2021-03-10 19:56:37,024 : INFO : EPOCH 1 - PROGRESS: at 86.49% examples, 275013 words/s, in_qsize 15, out_qsize 0\n",
      "2021-03-10 19:56:38,033 : INFO : EPOCH 1 - PROGRESS: at 88.51% examples, 273059 words/s, in_qsize 15, out_qsize 0\n",
      "2021-03-10 19:56:39,075 : INFO : EPOCH 1 - PROGRESS: at 90.61% examples, 271133 words/s, in_qsize 15, out_qsize 0\n",
      "2021-03-10 19:56:40,113 : INFO : EPOCH 1 - PROGRESS: at 93.15% examples, 270804 words/s, in_qsize 15, out_qsize 0\n",
      "2021-03-10 19:56:41,152 : INFO : EPOCH 1 - PROGRESS: at 95.69% examples, 270264 words/s, in_qsize 16, out_qsize 0\n",
      "2021-03-10 19:56:42,270 : INFO : EPOCH 1 - PROGRESS: at 96.96% examples, 265766 words/s, in_qsize 16, out_qsize 9\n",
      "2021-03-10 19:56:43,220 : INFO : worker thread finished; awaiting finish of 7 more threads\n",
      "2021-03-10 19:56:43,222 : INFO : worker thread finished; awaiting finish of 6 more threads\n",
      "2021-03-10 19:56:43,224 : INFO : worker thread finished; awaiting finish of 5 more threads\n",
      "2021-03-10 19:56:43,226 : INFO : worker thread finished; awaiting finish of 4 more threads\n",
      "2021-03-10 19:56:43,230 : INFO : worker thread finished; awaiting finish of 3 more threads\n",
      "2021-03-10 19:56:43,260 : INFO : worker thread finished; awaiting finish of 2 more threads\n",
      "2021-03-10 19:56:43,321 : INFO : EPOCH 1 - PROGRESS: at 99.94% examples, 266368 words/s, in_qsize 1, out_qsize 1\n",
      "2021-03-10 19:56:43,323 : INFO : worker thread finished; awaiting finish of 1 more threads\n",
      "2021-03-10 19:56:43,325 : INFO : worker thread finished; awaiting finish of 0 more threads\n",
      "2021-03-10 19:56:43,327 : INFO : EPOCH - 1 : training on 14059602 raw words (10361825 effective words) took 38.9s, 266516 effective words/s\n",
      "2021-03-10 19:56:44,756 : INFO : EPOCH 2 - PROGRESS: at 2.01% examples, 205396 words/s, in_qsize 15, out_qsize 0\n",
      "2021-03-10 19:56:45,855 : INFO : EPOCH 2 - PROGRESS: at 4.77% examples, 233591 words/s, in_qsize 16, out_qsize 0\n",
      "2021-03-10 19:56:46,897 : INFO : EPOCH 2 - PROGRESS: at 6.86% examples, 225286 words/s, in_qsize 16, out_qsize 3\n",
      "2021-03-10 19:56:47,920 : INFO : EPOCH 2 - PROGRESS: at 8.35% examples, 206997 words/s, in_qsize 15, out_qsize 0\n",
      "2021-03-10 19:56:48,957 : INFO : EPOCH 2 - PROGRESS: at 11.30% examples, 224177 words/s, in_qsize 15, out_qsize 0\n",
      "2021-03-10 19:56:50,027 : INFO : EPOCH 2 - PROGRESS: at 13.90% examples, 229899 words/s, in_qsize 15, out_qsize 0\n",
      "2021-03-10 19:56:51,093 : INFO : EPOCH 2 - PROGRESS: at 16.70% examples, 235094 words/s, in_qsize 15, out_qsize 0\n",
      "2021-03-10 19:56:52,104 : INFO : EPOCH 2 - PROGRESS: at 19.55% examples, 241612 words/s, in_qsize 14, out_qsize 1\n",
      "2021-03-10 19:56:53,118 : INFO : EPOCH 2 - PROGRESS: at 22.53% examples, 248143 words/s, in_qsize 15, out_qsize 0\n",
      "2021-03-10 19:56:54,163 : INFO : EPOCH 2 - PROGRESS: at 25.27% examples, 250040 words/s, in_qsize 16, out_qsize 4\n",
      "2021-03-10 19:56:55,192 : INFO : EPOCH 2 - PROGRESS: at 28.30% examples, 254411 words/s, in_qsize 15, out_qsize 0\n",
      "2021-03-10 19:56:56,231 : INFO : EPOCH 2 - PROGRESS: at 31.01% examples, 255602 words/s, in_qsize 16, out_qsize 0\n",
      "2021-03-10 19:56:57,297 : INFO : EPOCH 2 - PROGRESS: at 34.23% examples, 259159 words/s, in_qsize 16, out_qsize 0\n",
      "2021-03-10 19:56:58,309 : INFO : EPOCH 2 - PROGRESS: at 36.97% examples, 260614 words/s, in_qsize 15, out_qsize 0\n",
      "2021-03-10 19:56:59,381 : INFO : EPOCH 2 - PROGRESS: at 39.82% examples, 261862 words/s, in_qsize 15, out_qsize 0\n",
      "2021-03-10 19:57:00,392 : INFO : EPOCH 2 - PROGRESS: at 42.37% examples, 261751 words/s, in_qsize 15, out_qsize 0\n",
      "2021-03-10 19:57:01,478 : INFO : EPOCH 2 - PROGRESS: at 45.60% examples, 264944 words/s, in_qsize 15, out_qsize 0\n",
      "2021-03-10 19:57:02,482 : INFO : EPOCH 2 - PROGRESS: at 48.77% examples, 268267 words/s, in_qsize 15, out_qsize 0\n",
      "2021-03-10 19:57:03,571 : INFO : EPOCH 2 - PROGRESS: at 52.37% examples, 272179 words/s, in_qsize 14, out_qsize 1\n",
      "2021-03-10 19:57:04,627 : INFO : EPOCH 2 - PROGRESS: at 55.89% examples, 275529 words/s, in_qsize 16, out_qsize 1\n",
      "2021-03-10 19:57:05,705 : INFO : EPOCH 2 - PROGRESS: at 59.54% examples, 279583 words/s, in_qsize 15, out_qsize 0\n",
      "2021-03-10 19:57:06,725 : INFO : EPOCH 2 - PROGRESS: at 62.99% examples, 282423 words/s, in_qsize 14, out_qsize 1\n",
      "2021-03-10 19:57:07,769 : INFO : EPOCH 2 - PROGRESS: at 66.66% examples, 285938 words/s, in_qsize 15, out_qsize 0\n",
      "2021-03-10 19:57:08,785 : INFO : EPOCH 2 - PROGRESS: at 70.19% examples, 288824 words/s, in_qsize 15, out_qsize 0\n",
      "2021-03-10 19:57:09,797 : INFO : EPOCH 2 - PROGRESS: at 73.35% examples, 290474 words/s, in_qsize 15, out_qsize 0\n",
      "2021-03-10 19:57:10,872 : INFO : EPOCH 2 - PROGRESS: at 76.96% examples, 293097 words/s, in_qsize 16, out_qsize 1\n"
     ]
    },
    {
     "name": "stderr",
     "output_type": "stream",
     "text": [
      "2021-03-10 19:57:11,898 : INFO : EPOCH 2 - PROGRESS: at 80.58% examples, 295934 words/s, in_qsize 15, out_qsize 0\n",
      "2021-03-10 19:57:12,961 : INFO : EPOCH 2 - PROGRESS: at 84.47% examples, 299276 words/s, in_qsize 16, out_qsize 0\n",
      "2021-03-10 19:57:13,993 : INFO : EPOCH 2 - PROGRESS: at 88.10% examples, 301600 words/s, in_qsize 16, out_qsize 1\n",
      "2021-03-10 19:57:15,051 : INFO : EPOCH 2 - PROGRESS: at 91.89% examples, 304040 words/s, in_qsize 14, out_qsize 5\n",
      "2021-03-10 19:57:16,082 : INFO : EPOCH 2 - PROGRESS: at 95.70% examples, 306613 words/s, in_qsize 15, out_qsize 0\n",
      "2021-03-10 19:57:17,120 : INFO : EPOCH 2 - PROGRESS: at 99.55% examples, 308876 words/s, in_qsize 7, out_qsize 1\n",
      "2021-03-10 19:57:17,122 : INFO : worker thread finished; awaiting finish of 7 more threads\n",
      "2021-03-10 19:57:17,133 : INFO : worker thread finished; awaiting finish of 6 more threads\n",
      "2021-03-10 19:57:17,135 : INFO : worker thread finished; awaiting finish of 5 more threads\n",
      "2021-03-10 19:57:17,168 : INFO : worker thread finished; awaiting finish of 4 more threads\n",
      "2021-03-10 19:57:17,180 : INFO : worker thread finished; awaiting finish of 3 more threads\n",
      "2021-03-10 19:57:17,182 : INFO : worker thread finished; awaiting finish of 2 more threads\n",
      "2021-03-10 19:57:17,185 : INFO : worker thread finished; awaiting finish of 1 more threads\n",
      "2021-03-10 19:57:17,194 : INFO : worker thread finished; awaiting finish of 0 more threads\n",
      "2021-03-10 19:57:17,196 : INFO : EPOCH - 2 : training on 14059602 raw words (10361612 effective words) took 33.5s, 309605 effective words/s\n",
      "2021-03-10 19:57:18,353 : INFO : EPOCH 3 - PROGRESS: at 3.59% examples, 350678 words/s, in_qsize 14, out_qsize 1\n",
      "2021-03-10 19:57:19,406 : INFO : EPOCH 3 - PROGRESS: at 7.22% examples, 354624 words/s, in_qsize 14, out_qsize 1\n",
      "2021-03-10 19:57:20,485 : INFO : EPOCH 3 - PROGRESS: at 10.48% examples, 341994 words/s, in_qsize 16, out_qsize 0\n",
      "2021-03-10 19:57:21,485 : INFO : EPOCH 3 - PROGRESS: at 13.79% examples, 341700 words/s, in_qsize 12, out_qsize 3\n",
      "2021-03-10 19:57:22,531 : INFO : EPOCH 3 - PROGRESS: at 17.22% examples, 340131 words/s, in_qsize 16, out_qsize 0\n",
      "2021-03-10 19:57:23,551 : INFO : EPOCH 3 - PROGRESS: at 20.28% examples, 334793 words/s, in_qsize 15, out_qsize 0\n",
      "2021-03-10 19:57:24,584 : INFO : EPOCH 3 - PROGRESS: at 22.75% examples, 322434 words/s, in_qsize 16, out_qsize 2\n",
      "2021-03-10 19:57:25,596 : INFO : EPOCH 3 - PROGRESS: at 26.76% examples, 332554 words/s, in_qsize 14, out_qsize 1\n",
      "2021-03-10 19:57:26,621 : INFO : EPOCH 3 - PROGRESS: at 31.29% examples, 345617 words/s, in_qsize 15, out_qsize 0\n",
      "2021-03-10 19:57:27,624 : INFO : EPOCH 3 - PROGRESS: at 35.97% examples, 357880 words/s, in_qsize 15, out_qsize 0\n",
      "2021-03-10 19:57:28,634 : INFO : EPOCH 3 - PROGRESS: at 40.25% examples, 365213 words/s, in_qsize 14, out_qsize 1\n",
      "2021-03-10 19:57:29,636 : INFO : EPOCH 3 - PROGRESS: at 44.71% examples, 373368 words/s, in_qsize 15, out_qsize 0\n",
      "2021-03-10 19:57:30,675 : INFO : EPOCH 3 - PROGRESS: at 49.04% examples, 378105 words/s, in_qsize 15, out_qsize 0\n",
      "2021-03-10 19:57:31,683 : INFO : EPOCH 3 - PROGRESS: at 53.65% examples, 384378 words/s, in_qsize 15, out_qsize 0\n",
      "2021-03-10 19:57:32,712 : INFO : EPOCH 3 - PROGRESS: at 58.08% examples, 388551 words/s, in_qsize 15, out_qsize 0\n",
      "2021-03-10 19:57:33,721 : INFO : EPOCH 3 - PROGRESS: at 62.49% examples, 392193 words/s, in_qsize 14, out_qsize 1\n",
      "2021-03-10 19:57:34,750 : INFO : EPOCH 3 - PROGRESS: at 67.01% examples, 395804 words/s, in_qsize 16, out_qsize 1\n",
      "2021-03-10 19:57:35,800 : INFO : EPOCH 3 - PROGRESS: at 71.90% examples, 400842 words/s, in_qsize 12, out_qsize 3\n",
      "2021-03-10 19:57:36,828 : INFO : EPOCH 3 - PROGRESS: at 76.46% examples, 404602 words/s, in_qsize 15, out_qsize 0\n",
      "2021-03-10 19:57:37,850 : INFO : EPOCH 3 - PROGRESS: at 81.12% examples, 408879 words/s, in_qsize 15, out_qsize 0\n",
      "2021-03-10 19:57:38,872 : INFO : EPOCH 3 - PROGRESS: at 85.51% examples, 410448 words/s, in_qsize 16, out_qsize 0\n",
      "2021-03-10 19:57:39,872 : INFO : EPOCH 3 - PROGRESS: at 89.34% examples, 410016 words/s, in_qsize 13, out_qsize 2\n",
      "2021-03-10 19:57:40,873 : INFO : EPOCH 3 - PROGRESS: at 92.62% examples, 407079 words/s, in_qsize 15, out_qsize 0\n",
      "2021-03-10 19:57:41,923 : INFO : EPOCH 3 - PROGRESS: at 95.97% examples, 403911 words/s, in_qsize 16, out_qsize 0\n",
      "2021-03-10 19:57:42,922 : INFO : worker thread finished; awaiting finish of 7 more threads\n",
      "2021-03-10 19:57:42,984 : INFO : EPOCH 3 - PROGRESS: at 99.62% examples, 401716 words/s, in_qsize 5, out_qsize 3\n",
      "2021-03-10 19:57:42,986 : INFO : worker thread finished; awaiting finish of 6 more threads\n",
      "2021-03-10 19:57:42,988 : INFO : worker thread finished; awaiting finish of 5 more threads\n",
      "2021-03-10 19:57:42,991 : INFO : worker thread finished; awaiting finish of 4 more threads\n",
      "2021-03-10 19:57:43,021 : INFO : worker thread finished; awaiting finish of 3 more threads\n",
      "2021-03-10 19:57:43,044 : INFO : worker thread finished; awaiting finish of 2 more threads\n",
      "2021-03-10 19:57:43,054 : INFO : worker thread finished; awaiting finish of 1 more threads\n",
      "2021-03-10 19:57:43,069 : INFO : worker thread finished; awaiting finish of 0 more threads\n",
      "2021-03-10 19:57:43,071 : INFO : EPOCH - 3 : training on 14059602 raw words (10361702 effective words) took 25.8s, 401954 effective words/s\n",
      "2021-03-10 19:57:44,115 : INFO : EPOCH 4 - PROGRESS: at 3.32% examples, 339333 words/s, in_qsize 15, out_qsize 0\n",
      "2021-03-10 19:57:45,119 : INFO : EPOCH 4 - PROGRESS: at 6.93% examples, 357821 words/s, in_qsize 15, out_qsize 0\n",
      "2021-03-10 19:57:46,174 : INFO : EPOCH 4 - PROGRESS: at 9.95% examples, 336799 words/s, in_qsize 15, out_qsize 0\n",
      "2021-03-10 19:57:47,186 : INFO : EPOCH 4 - PROGRESS: at 13.59% examples, 345899 words/s, in_qsize 15, out_qsize 0\n",
      "2021-03-10 19:57:48,197 : INFO : EPOCH 4 - PROGRESS: at 17.72% examples, 360094 words/s, in_qsize 14, out_qsize 1\n",
      "2021-03-10 19:57:49,270 : INFO : EPOCH 4 - PROGRESS: at 22.03% examples, 369557 words/s, in_qsize 15, out_qsize 0\n",
      "2021-03-10 19:57:50,317 : INFO : EPOCH 4 - PROGRESS: at 26.44% examples, 377944 words/s, in_qsize 14, out_qsize 1\n",
      "2021-03-10 19:57:51,339 : INFO : EPOCH 4 - PROGRESS: at 31.15% examples, 389764 words/s, in_qsize 15, out_qsize 0\n",
      "2021-03-10 19:57:52,403 : INFO : EPOCH 4 - PROGRESS: at 36.10% examples, 399168 words/s, in_qsize 15, out_qsize 0\n",
      "2021-03-10 19:57:53,414 : INFO : EPOCH 4 - PROGRESS: at 40.45% examples, 403927 words/s, in_qsize 15, out_qsize 0\n",
      "2021-03-10 19:57:54,417 : INFO : EPOCH 4 - PROGRESS: at 44.84% examples, 408631 words/s, in_qsize 15, out_qsize 0\n",
      "2021-03-10 19:57:55,455 : INFO : EPOCH 4 - PROGRESS: at 49.10% examples, 410238 words/s, in_qsize 16, out_qsize 1\n",
      "2021-03-10 19:57:56,456 : INFO : EPOCH 4 - PROGRESS: at 53.81% examples, 415389 words/s, in_qsize 16, out_qsize 0\n",
      "2021-03-10 19:57:57,502 : INFO : EPOCH 4 - PROGRESS: at 58.72% examples, 420663 words/s, in_qsize 15, out_qsize 0\n",
      "2021-03-10 19:57:58,556 : INFO : EPOCH 4 - PROGRESS: at 63.52% examples, 424042 words/s, in_qsize 15, out_qsize 0\n",
      "2021-03-10 19:57:59,611 : INFO : EPOCH 4 - PROGRESS: at 68.01% examples, 425148 words/s, in_qsize 14, out_qsize 1\n",
      "2021-03-10 19:58:00,641 : INFO : EPOCH 4 - PROGRESS: at 72.67% examples, 427523 words/s, in_qsize 15, out_qsize 0\n",
      "2021-03-10 19:58:01,656 : INFO : EPOCH 4 - PROGRESS: at 76.68% examples, 427214 words/s, in_qsize 11, out_qsize 4\n",
      "2021-03-10 19:58:02,667 : INFO : EPOCH 4 - PROGRESS: at 81.06% examples, 429277 words/s, in_qsize 15, out_qsize 0\n",
      "2021-03-10 19:58:03,681 : INFO : EPOCH 4 - PROGRESS: at 85.70% examples, 431507 words/s, in_qsize 15, out_qsize 0\n",
      "2021-03-10 19:58:04,697 : INFO : EPOCH 4 - PROGRESS: at 90.27% examples, 433077 words/s, in_qsize 14, out_qsize 1\n",
      "2021-03-10 19:58:05,709 : INFO : EPOCH 4 - PROGRESS: at 94.98% examples, 435505 words/s, in_qsize 15, out_qsize 0\n",
      "2021-03-10 19:58:06,719 : INFO : EPOCH 4 - PROGRESS: at 99.54% examples, 436653 words/s, in_qsize 4, out_qsize 7\n",
      "2021-03-10 19:58:06,724 : INFO : worker thread finished; awaiting finish of 7 more threads\n",
      "2021-03-10 19:58:06,726 : INFO : worker thread finished; awaiting finish of 6 more threads\n",
      "2021-03-10 19:58:06,729 : INFO : worker thread finished; awaiting finish of 5 more threads\n",
      "2021-03-10 19:58:06,731 : INFO : worker thread finished; awaiting finish of 4 more threads\n"
     ]
    },
    {
     "name": "stderr",
     "output_type": "stream",
     "text": [
      "2021-03-10 19:58:06,746 : INFO : worker thread finished; awaiting finish of 3 more threads\n",
      "2021-03-10 19:58:06,770 : INFO : worker thread finished; awaiting finish of 2 more threads\n",
      "2021-03-10 19:58:06,784 : INFO : worker thread finished; awaiting finish of 1 more threads\n",
      "2021-03-10 19:58:06,798 : INFO : worker thread finished; awaiting finish of 0 more threads\n",
      "2021-03-10 19:58:06,801 : INFO : EPOCH - 4 : training on 14059602 raw words (10359243 effective words) took 23.7s, 437180 effective words/s\n",
      "2021-03-10 19:58:07,835 : INFO : EPOCH 5 - PROGRESS: at 4.16% examples, 430461 words/s, in_qsize 16, out_qsize 2\n",
      "2021-03-10 19:58:08,841 : INFO : EPOCH 5 - PROGRESS: at 8.84% examples, 457980 words/s, in_qsize 15, out_qsize 0\n",
      "2021-03-10 19:58:09,844 : INFO : EPOCH 5 - PROGRESS: at 13.10% examples, 452177 words/s, in_qsize 15, out_qsize 0\n",
      "2021-03-10 19:58:10,862 : INFO : EPOCH 5 - PROGRESS: at 17.65% examples, 453476 words/s, in_qsize 15, out_qsize 0\n",
      "2021-03-10 19:58:11,876 : INFO : EPOCH 5 - PROGRESS: at 22.26% examples, 456398 words/s, in_qsize 15, out_qsize 0\n",
      "2021-03-10 19:58:12,877 : INFO : EPOCH 5 - PROGRESS: at 26.84% examples, 458378 words/s, in_qsize 15, out_qsize 0\n",
      "2021-03-10 19:58:13,884 : INFO : EPOCH 5 - PROGRESS: at 31.35% examples, 458563 words/s, in_qsize 16, out_qsize 0\n",
      "2021-03-10 19:58:14,902 : INFO : EPOCH 5 - PROGRESS: at 36.24% examples, 462032 words/s, in_qsize 15, out_qsize 0\n",
      "2021-03-10 19:58:15,906 : INFO : EPOCH 5 - PROGRESS: at 40.53% examples, 459967 words/s, in_qsize 15, out_qsize 0\n",
      "2021-03-10 19:58:16,923 : INFO : EPOCH 5 - PROGRESS: at 45.26% examples, 462713 words/s, in_qsize 15, out_qsize 0\n",
      "2021-03-10 19:58:17,935 : INFO : EPOCH 5 - PROGRESS: at 49.95% examples, 464388 words/s, in_qsize 15, out_qsize 0\n",
      "2021-03-10 19:58:18,962 : INFO : EPOCH 5 - PROGRESS: at 54.70% examples, 464588 words/s, in_qsize 12, out_qsize 3\n",
      "2021-03-10 19:58:20,001 : INFO : EPOCH 5 - PROGRESS: at 59.34% examples, 465090 words/s, in_qsize 10, out_qsize 5\n",
      "2021-03-10 19:58:21,031 : INFO : EPOCH 5 - PROGRESS: at 64.48% examples, 468343 words/s, in_qsize 14, out_qsize 1\n",
      "2021-03-10 19:58:22,071 : INFO : EPOCH 5 - PROGRESS: at 69.23% examples, 468822 words/s, in_qsize 15, out_qsize 0\n",
      "2021-03-10 19:58:23,077 : INFO : EPOCH 5 - PROGRESS: at 74.08% examples, 470782 words/s, in_qsize 15, out_qsize 0\n",
      "2021-03-10 19:58:24,088 : INFO : EPOCH 5 - PROGRESS: at 78.30% examples, 469257 words/s, in_qsize 15, out_qsize 0\n",
      "2021-03-10 19:58:25,098 : INFO : EPOCH 5 - PROGRESS: at 82.73% examples, 469536 words/s, in_qsize 16, out_qsize 0\n",
      "2021-03-10 19:58:26,100 : INFO : EPOCH 5 - PROGRESS: at 86.60% examples, 465896 words/s, in_qsize 15, out_qsize 0\n",
      "2021-03-10 19:58:27,107 : INFO : EPOCH 5 - PROGRESS: at 90.52% examples, 462490 words/s, in_qsize 12, out_qsize 3\n",
      "2021-03-10 19:58:28,131 : INFO : EPOCH 5 - PROGRESS: at 94.48% examples, 460045 words/s, in_qsize 15, out_qsize 0\n",
      "2021-03-10 19:58:29,144 : INFO : EPOCH 5 - PROGRESS: at 98.97% examples, 459743 words/s, in_qsize 14, out_qsize 1\n",
      "2021-03-10 19:58:29,212 : INFO : worker thread finished; awaiting finish of 7 more threads\n",
      "2021-03-10 19:58:29,245 : INFO : worker thread finished; awaiting finish of 6 more threads\n",
      "2021-03-10 19:58:29,252 : INFO : worker thread finished; awaiting finish of 5 more threads\n",
      "2021-03-10 19:58:29,256 : INFO : worker thread finished; awaiting finish of 4 more threads\n",
      "2021-03-10 19:58:29,284 : INFO : worker thread finished; awaiting finish of 3 more threads\n",
      "2021-03-10 19:58:29,297 : INFO : worker thread finished; awaiting finish of 2 more threads\n",
      "2021-03-10 19:58:29,302 : INFO : worker thread finished; awaiting finish of 1 more threads\n",
      "2021-03-10 19:58:29,314 : INFO : worker thread finished; awaiting finish of 0 more threads\n",
      "2021-03-10 19:58:29,316 : INFO : EPOCH - 5 : training on 14059602 raw words (10362645 effective words) took 22.5s, 460959 effective words/s\n",
      "2021-03-10 19:58:30,383 : INFO : EPOCH 6 - PROGRESS: at 4.31% examples, 444116 words/s, in_qsize 16, out_qsize 0\n",
      "2021-03-10 19:58:31,392 : INFO : EPOCH 6 - PROGRESS: at 8.41% examples, 434754 words/s, in_qsize 16, out_qsize 2\n",
      "2021-03-10 19:58:32,401 : INFO : EPOCH 6 - PROGRESS: at 12.19% examples, 419253 words/s, in_qsize 16, out_qsize 3\n",
      "2021-03-10 19:58:33,411 : INFO : EPOCH 6 - PROGRESS: at 15.43% examples, 397436 words/s, in_qsize 15, out_qsize 0\n",
      "2021-03-10 19:58:34,418 : INFO : EPOCH 6 - PROGRESS: at 19.75% examples, 405999 words/s, in_qsize 16, out_qsize 0\n",
      "2021-03-10 19:58:35,423 : INFO : EPOCH 6 - PROGRESS: at 23.29% examples, 399039 words/s, in_qsize 10, out_qsize 5\n",
      "2021-03-10 19:58:36,424 : INFO : EPOCH 6 - PROGRESS: at 27.19% examples, 398375 words/s, in_qsize 15, out_qsize 0\n",
      "2021-03-10 19:58:37,427 : INFO : EPOCH 6 - PROGRESS: at 31.22% examples, 399720 words/s, in_qsize 15, out_qsize 0\n",
      "2021-03-10 19:58:38,450 : INFO : EPOCH 6 - PROGRESS: at 35.67% examples, 404469 words/s, in_qsize 12, out_qsize 3\n",
      "2021-03-10 19:58:39,487 : INFO : EPOCH 6 - PROGRESS: at 39.43% examples, 401147 words/s, in_qsize 14, out_qsize 1\n",
      "2021-03-10 19:58:40,504 : INFO : EPOCH 6 - PROGRESS: at 43.45% examples, 402549 words/s, in_qsize 15, out_qsize 0\n",
      "2021-03-10 19:58:41,543 : INFO : EPOCH 6 - PROGRESS: at 46.78% examples, 396703 words/s, in_qsize 14, out_qsize 1\n",
      "2021-03-10 19:58:42,555 : INFO : EPOCH 6 - PROGRESS: at 50.53% examples, 395570 words/s, in_qsize 11, out_qsize 4\n",
      "2021-03-10 19:58:43,567 : INFO : EPOCH 6 - PROGRESS: at 54.23% examples, 393931 words/s, in_qsize 15, out_qsize 0\n",
      "2021-03-10 19:58:44,574 : INFO : EPOCH 6 - PROGRESS: at 58.02% examples, 393808 words/s, in_qsize 15, out_qsize 0\n",
      "2021-03-10 19:58:45,596 : INFO : EPOCH 6 - PROGRESS: at 62.64% examples, 398219 words/s, in_qsize 15, out_qsize 0\n",
      "2021-03-10 19:58:46,605 : INFO : EPOCH 6 - PROGRESS: at 67.19% examples, 402453 words/s, in_qsize 15, out_qsize 0\n",
      "2021-03-10 19:58:47,611 : INFO : EPOCH 6 - PROGRESS: at 71.76% examples, 406126 words/s, in_qsize 15, out_qsize 0\n",
      "2021-03-10 19:58:48,612 : INFO : EPOCH 6 - PROGRESS: at 76.31% examples, 410241 words/s, in_qsize 15, out_qsize 0\n",
      "2021-03-10 19:58:49,671 : INFO : EPOCH 6 - PROGRESS: at 80.82% examples, 412237 words/s, in_qsize 15, out_qsize 0\n",
      "2021-03-10 19:58:50,688 : INFO : EPOCH 6 - PROGRESS: at 85.51% examples, 415706 words/s, in_qsize 15, out_qsize 0\n",
      "2021-03-10 19:58:51,692 : INFO : EPOCH 6 - PROGRESS: at 89.91% examples, 417552 words/s, in_qsize 15, out_qsize 0\n",
      "2021-03-10 19:58:52,704 : INFO : EPOCH 6 - PROGRESS: at 94.54% examples, 420337 words/s, in_qsize 16, out_qsize 0\n",
      "2021-03-10 19:58:53,706 : INFO : EPOCH 6 - PROGRESS: at 99.26% examples, 422786 words/s, in_qsize 9, out_qsize 2\n",
      "2021-03-10 19:58:53,740 : INFO : worker thread finished; awaiting finish of 7 more threads\n",
      "2021-03-10 19:58:53,761 : INFO : worker thread finished; awaiting finish of 6 more threads\n",
      "2021-03-10 19:58:53,771 : INFO : worker thread finished; awaiting finish of 5 more threads\n",
      "2021-03-10 19:58:53,792 : INFO : worker thread finished; awaiting finish of 4 more threads\n",
      "2021-03-10 19:58:53,810 : INFO : worker thread finished; awaiting finish of 3 more threads\n",
      "2021-03-10 19:58:53,813 : INFO : worker thread finished; awaiting finish of 2 more threads\n",
      "2021-03-10 19:58:53,817 : INFO : worker thread finished; awaiting finish of 1 more threads\n",
      "2021-03-10 19:58:53,820 : INFO : worker thread finished; awaiting finish of 0 more threads\n",
      "2021-03-10 19:58:53,822 : INFO : EPOCH - 6 : training on 14059602 raw words (10361715 effective words) took 24.4s, 423943 effective words/s\n",
      "2021-03-10 19:58:54,932 : INFO : EPOCH 7 - PROGRESS: at 4.37% examples, 432730 words/s, in_qsize 13, out_qsize 3\n",
      "2021-03-10 19:58:55,940 : INFO : EPOCH 7 - PROGRESS: at 9.11% examples, 460710 words/s, in_qsize 15, out_qsize 0\n",
      "2021-03-10 19:58:56,958 : INFO : EPOCH 7 - PROGRESS: at 13.84% examples, 468987 words/s, in_qsize 15, out_qsize 0\n",
      "2021-03-10 19:58:57,960 : INFO : EPOCH 7 - PROGRESS: at 18.51% examples, 469622 words/s, in_qsize 14, out_qsize 1\n",
      "2021-03-10 19:58:58,967 : INFO : EPOCH 7 - PROGRESS: at 22.12% examples, 449779 words/s, in_qsize 15, out_qsize 0\n",
      "2021-03-10 19:58:59,975 : INFO : EPOCH 7 - PROGRESS: at 25.89% examples, 437954 words/s, in_qsize 15, out_qsize 0\n",
      "2021-03-10 19:59:00,999 : INFO : EPOCH 7 - PROGRESS: at 28.89% examples, 418069 words/s, in_qsize 11, out_qsize 4\n"
     ]
    },
    {
     "name": "stderr",
     "output_type": "stream",
     "text": [
      "2021-03-10 19:59:02,071 : INFO : EPOCH 7 - PROGRESS: at 33.40% examples, 419635 words/s, in_qsize 15, out_qsize 1\n",
      "2021-03-10 19:59:03,073 : INFO : EPOCH 7 - PROGRESS: at 37.69% examples, 421371 words/s, in_qsize 16, out_qsize 1\n",
      "2021-03-10 19:59:04,106 : INFO : EPOCH 7 - PROGRESS: at 41.85% examples, 421675 words/s, in_qsize 15, out_qsize 0\n",
      "2021-03-10 19:59:05,113 : INFO : EPOCH 7 - PROGRESS: at 45.80% examples, 420681 words/s, in_qsize 11, out_qsize 4\n",
      "2021-03-10 19:59:06,169 : INFO : EPOCH 7 - PROGRESS: at 50.19% examples, 421223 words/s, in_qsize 15, out_qsize 0\n",
      "2021-03-10 19:59:07,213 : INFO : EPOCH 7 - PROGRESS: at 54.76% examples, 423100 words/s, in_qsize 11, out_qsize 3\n",
      "2021-03-10 19:59:08,216 : INFO : EPOCH 7 - PROGRESS: at 58.93% examples, 424071 words/s, in_qsize 15, out_qsize 0\n",
      "2021-03-10 19:59:09,261 : INFO : EPOCH 7 - PROGRESS: at 63.38% examples, 425134 words/s, in_qsize 15, out_qsize 0\n",
      "2021-03-10 19:59:10,262 : INFO : EPOCH 7 - PROGRESS: at 67.76% examples, 426812 words/s, in_qsize 15, out_qsize 1\n",
      "2021-03-10 19:59:11,303 : INFO : EPOCH 7 - PROGRESS: at 72.61% examples, 430022 words/s, in_qsize 14, out_qsize 1\n",
      "2021-03-10 19:59:12,351 : INFO : EPOCH 7 - PROGRESS: at 77.28% examples, 432369 words/s, in_qsize 16, out_qsize 0\n",
      "2021-03-10 19:59:13,361 : INFO : EPOCH 7 - PROGRESS: at 81.87% examples, 435342 words/s, in_qsize 15, out_qsize 0\n",
      "2021-03-10 19:59:14,370 : INFO : EPOCH 7 - PROGRESS: at 86.52% examples, 437712 words/s, in_qsize 15, out_qsize 0\n",
      "2021-03-10 19:59:15,394 : INFO : EPOCH 7 - PROGRESS: at 91.27% examples, 439496 words/s, in_qsize 13, out_qsize 2\n",
      "2021-03-10 19:59:16,411 : INFO : EPOCH 7 - PROGRESS: at 95.78% examples, 440658 words/s, in_qsize 15, out_qsize 0\n",
      "2021-03-10 19:59:17,239 : INFO : worker thread finished; awaiting finish of 7 more threads\n",
      "2021-03-10 19:59:17,243 : INFO : worker thread finished; awaiting finish of 6 more threads\n",
      "2021-03-10 19:59:17,244 : INFO : worker thread finished; awaiting finish of 5 more threads\n",
      "2021-03-10 19:59:17,246 : INFO : worker thread finished; awaiting finish of 4 more threads\n",
      "2021-03-10 19:59:17,250 : INFO : worker thread finished; awaiting finish of 3 more threads\n",
      "2021-03-10 19:59:17,261 : INFO : worker thread finished; awaiting finish of 2 more threads\n",
      "2021-03-10 19:59:17,263 : INFO : worker thread finished; awaiting finish of 1 more threads\n",
      "2021-03-10 19:59:17,267 : INFO : worker thread finished; awaiting finish of 0 more threads\n",
      "2021-03-10 19:59:17,270 : INFO : EPOCH - 7 : training on 14059602 raw words (10360343 effective words) took 23.4s, 443045 effective words/s\n",
      "2021-03-10 19:59:18,333 : INFO : EPOCH 8 - PROGRESS: at 4.44% examples, 444563 words/s, in_qsize 15, out_qsize 0\n",
      "2021-03-10 19:59:19,336 : INFO : EPOCH 8 - PROGRESS: at 8.96% examples, 457557 words/s, in_qsize 15, out_qsize 0\n",
      "2021-03-10 19:59:20,362 : INFO : EPOCH 8 - PROGRESS: at 13.90% examples, 472565 words/s, in_qsize 15, out_qsize 0\n",
      "2021-03-10 19:59:21,401 : INFO : EPOCH 8 - PROGRESS: at 18.64% examples, 469918 words/s, in_qsize 14, out_qsize 1\n",
      "2021-03-10 19:59:22,415 : INFO : EPOCH 8 - PROGRESS: at 23.49% examples, 475446 words/s, in_qsize 15, out_qsize 0\n",
      "2021-03-10 19:59:23,433 : INFO : EPOCH 8 - PROGRESS: at 28.40% examples, 476505 words/s, in_qsize 15, out_qsize 0\n",
      "2021-03-10 19:59:24,477 : INFO : EPOCH 8 - PROGRESS: at 33.17% examples, 475644 words/s, in_qsize 15, out_qsize 0\n",
      "2021-03-10 19:59:25,479 : INFO : EPOCH 8 - PROGRESS: at 37.88% examples, 476085 words/s, in_qsize 13, out_qsize 2\n",
      "2021-03-10 19:59:26,487 : INFO : EPOCH 8 - PROGRESS: at 42.63% examples, 477888 words/s, in_qsize 15, out_qsize 0\n",
      "2021-03-10 19:59:27,512 : INFO : EPOCH 8 - PROGRESS: at 47.30% examples, 477421 words/s, in_qsize 15, out_qsize 0\n",
      "2021-03-10 19:59:28,536 : INFO : EPOCH 8 - PROGRESS: at 52.00% examples, 476767 words/s, in_qsize 12, out_qsize 3\n",
      "2021-03-10 19:59:29,549 : INFO : EPOCH 8 - PROGRESS: at 56.49% examples, 475371 words/s, in_qsize 16, out_qsize 0\n",
      "2021-03-10 19:59:30,568 : INFO : EPOCH 8 - PROGRESS: at 61.08% examples, 475232 words/s, in_qsize 15, out_qsize 0\n",
      "2021-03-10 19:59:31,572 : INFO : EPOCH 8 - PROGRESS: at 66.03% examples, 476948 words/s, in_qsize 15, out_qsize 0\n",
      "2021-03-10 19:59:32,585 : INFO : EPOCH 8 - PROGRESS: at 70.59% examples, 476280 words/s, in_qsize 16, out_qsize 0\n",
      "2021-03-10 19:59:33,622 : INFO : EPOCH 8 - PROGRESS: at 75.11% examples, 475451 words/s, in_qsize 15, out_qsize 0\n",
      "2021-03-10 19:59:34,638 : INFO : EPOCH 8 - PROGRESS: at 79.52% examples, 474454 words/s, in_qsize 15, out_qsize 0\n",
      "2021-03-10 19:59:35,657 : INFO : EPOCH 8 - PROGRESS: at 84.20% examples, 474967 words/s, in_qsize 15, out_qsize 0\n",
      "2021-03-10 19:59:36,672 : INFO : EPOCH 8 - PROGRESS: at 88.91% examples, 475634 words/s, in_qsize 15, out_qsize 0\n",
      "2021-03-10 19:59:37,682 : INFO : EPOCH 8 - PROGRESS: at 93.07% examples, 473470 words/s, in_qsize 16, out_qsize 2\n",
      "2021-03-10 19:59:38,706 : INFO : EPOCH 8 - PROGRESS: at 98.07% examples, 474667 words/s, in_qsize 15, out_qsize 0\n",
      "2021-03-10 19:59:39,030 : INFO : worker thread finished; awaiting finish of 7 more threads\n",
      "2021-03-10 19:59:39,046 : INFO : worker thread finished; awaiting finish of 6 more threads\n",
      "2021-03-10 19:59:39,051 : INFO : worker thread finished; awaiting finish of 5 more threads\n",
      "2021-03-10 19:59:39,104 : INFO : worker thread finished; awaiting finish of 4 more threads\n",
      "2021-03-10 19:59:39,110 : INFO : worker thread finished; awaiting finish of 3 more threads\n",
      "2021-03-10 19:59:39,115 : INFO : worker thread finished; awaiting finish of 2 more threads\n",
      "2021-03-10 19:59:39,122 : INFO : worker thread finished; awaiting finish of 1 more threads\n",
      "2021-03-10 19:59:39,138 : INFO : worker thread finished; awaiting finish of 0 more threads\n",
      "2021-03-10 19:59:39,140 : INFO : EPOCH - 8 : training on 14059602 raw words (10362215 effective words) took 21.8s, 474399 effective words/s\n",
      "2021-03-10 19:59:40,230 : INFO : EPOCH 9 - PROGRESS: at 4.23% examples, 431991 words/s, in_qsize 15, out_qsize 0\n",
      "2021-03-10 19:59:41,240 : INFO : EPOCH 9 - PROGRESS: at 9.04% examples, 464567 words/s, in_qsize 15, out_qsize 0\n",
      "2021-03-10 19:59:42,245 : INFO : EPOCH 9 - PROGRESS: at 13.21% examples, 454249 words/s, in_qsize 16, out_qsize 0\n",
      "2021-03-10 19:59:43,262 : INFO : EPOCH 9 - PROGRESS: at 17.87% examples, 456952 words/s, in_qsize 16, out_qsize 0\n",
      "2021-03-10 19:59:44,282 : INFO : EPOCH 9 - PROGRESS: at 22.54% examples, 460036 words/s, in_qsize 15, out_qsize 0\n",
      "2021-03-10 19:59:45,294 : INFO : EPOCH 9 - PROGRESS: at 26.99% examples, 458142 words/s, in_qsize 16, out_qsize 0\n",
      "2021-03-10 19:59:46,340 : INFO : EPOCH 9 - PROGRESS: at 31.77% examples, 459950 words/s, in_qsize 14, out_qsize 1\n",
      "2021-03-10 19:59:47,368 : INFO : EPOCH 9 - PROGRESS: at 36.69% examples, 462775 words/s, in_qsize 15, out_qsize 0\n",
      "2021-03-10 19:59:48,382 : INFO : EPOCH 9 - PROGRESS: at 41.09% examples, 461666 words/s, in_qsize 16, out_qsize 0\n",
      "2021-03-10 19:59:49,401 : INFO : EPOCH 9 - PROGRESS: at 45.68% examples, 462557 words/s, in_qsize 15, out_qsize 0\n",
      "2021-03-10 19:59:50,420 : INFO : EPOCH 9 - PROGRESS: at 50.52% examples, 465278 words/s, in_qsize 15, out_qsize 0\n",
      "2021-03-10 19:59:51,421 : INFO : EPOCH 9 - PROGRESS: at 55.22% examples, 465835 words/s, in_qsize 15, out_qsize 0\n",
      "2021-03-10 19:59:52,445 : INFO : EPOCH 9 - PROGRESS: at 59.85% examples, 466735 words/s, in_qsize 15, out_qsize 0\n",
      "2021-03-10 19:59:53,464 : INFO : EPOCH 9 - PROGRESS: at 64.28% examples, 465049 words/s, in_qsize 14, out_qsize 1\n",
      "2021-03-10 19:59:54,470 : INFO : EPOCH 9 - PROGRESS: at 68.80% examples, 465380 words/s, in_qsize 14, out_qsize 1\n",
      "2021-03-10 19:59:55,504 : INFO : EPOCH 9 - PROGRESS: at 73.42% examples, 465378 words/s, in_qsize 15, out_qsize 0\n",
      "2021-03-10 19:59:56,518 : INFO : EPOCH 9 - PROGRESS: at 77.94% examples, 465799 words/s, in_qsize 15, out_qsize 0\n",
      "2021-03-10 19:59:57,523 : INFO : EPOCH 9 - PROGRESS: at 82.48% examples, 466795 words/s, in_qsize 15, out_qsize 0\n",
      "2021-03-10 19:59:58,539 : INFO : EPOCH 9 - PROGRESS: at 86.90% examples, 465970 words/s, in_qsize 14, out_qsize 1\n",
      "2021-03-10 19:59:59,539 : INFO : EPOCH 9 - PROGRESS: at 91.51% examples, 466329 words/s, in_qsize 15, out_qsize 0\n",
      "2021-03-10 20:00:00,573 : INFO : EPOCH 9 - PROGRESS: at 95.54% examples, 463858 words/s, in_qsize 16, out_qsize 0\n"
     ]
    },
    {
     "name": "stderr",
     "output_type": "stream",
     "text": [
      "2021-03-10 20:00:01,511 : INFO : worker thread finished; awaiting finish of 7 more threads\n",
      "2021-03-10 20:00:01,514 : INFO : worker thread finished; awaiting finish of 6 more threads\n",
      "2021-03-10 20:00:01,525 : INFO : worker thread finished; awaiting finish of 5 more threads\n",
      "2021-03-10 20:00:01,551 : INFO : worker thread finished; awaiting finish of 4 more threads\n",
      "2021-03-10 20:00:01,554 : INFO : worker thread finished; awaiting finish of 3 more threads\n",
      "2021-03-10 20:00:01,581 : INFO : EPOCH 9 - PROGRESS: at 99.87% examples, 462720 words/s, in_qsize 2, out_qsize 1\n",
      "2021-03-10 20:00:01,583 : INFO : worker thread finished; awaiting finish of 2 more threads\n",
      "2021-03-10 20:00:01,585 : INFO : worker thread finished; awaiting finish of 1 more threads\n",
      "2021-03-10 20:00:01,603 : INFO : worker thread finished; awaiting finish of 0 more threads\n",
      "2021-03-10 20:00:01,605 : INFO : EPOCH - 9 : training on 14059602 raw words (10363078 effective words) took 22.4s, 462866 effective words/s\n",
      "2021-03-10 20:00:02,676 : INFO : EPOCH 10 - PROGRESS: at 3.74% examples, 386135 words/s, in_qsize 15, out_qsize 0\n",
      "2021-03-10 20:00:03,680 : INFO : EPOCH 10 - PROGRESS: at 7.24% examples, 374404 words/s, in_qsize 16, out_qsize 2\n",
      "2021-03-10 20:00:04,710 : INFO : EPOCH 10 - PROGRESS: at 11.05% examples, 378894 words/s, in_qsize 15, out_qsize 0\n",
      "2021-03-10 20:00:05,738 : INFO : EPOCH 10 - PROGRESS: at 15.09% examples, 385080 words/s, in_qsize 16, out_qsize 1\n",
      "2021-03-10 20:00:06,792 : INFO : EPOCH 10 - PROGRESS: at 19.18% examples, 388096 words/s, in_qsize 15, out_qsize 0\n",
      "2021-03-10 20:00:07,818 : INFO : EPOCH 10 - PROGRESS: at 23.42% examples, 394942 words/s, in_qsize 15, out_qsize 0\n",
      "2021-03-10 20:00:08,875 : INFO : EPOCH 10 - PROGRESS: at 28.02% examples, 400942 words/s, in_qsize 16, out_qsize 3\n",
      "2021-03-10 20:00:09,892 : INFO : EPOCH 10 - PROGRESS: at 32.75% examples, 410187 words/s, in_qsize 15, out_qsize 0\n",
      "2021-03-10 20:00:10,906 : INFO : EPOCH 10 - PROGRESS: at 37.20% examples, 414056 words/s, in_qsize 15, out_qsize 0\n",
      "2021-03-10 20:00:11,909 : INFO : EPOCH 10 - PROGRESS: at 41.15% examples, 414082 words/s, in_qsize 15, out_qsize 0\n",
      "2021-03-10 20:00:12,931 : INFO : EPOCH 10 - PROGRESS: at 45.76% examples, 419057 words/s, in_qsize 15, out_qsize 0\n",
      "2021-03-10 20:00:13,947 : INFO : EPOCH 10 - PROGRESS: at 50.33% examples, 422909 words/s, in_qsize 15, out_qsize 0\n",
      "2021-03-10 20:00:14,960 : INFO : EPOCH 10 - PROGRESS: at 54.92% examples, 425600 words/s, in_qsize 15, out_qsize 0\n",
      "2021-03-10 20:00:15,979 : INFO : EPOCH 10 - PROGRESS: at 59.28% examples, 427447 words/s, in_qsize 16, out_qsize 0\n",
      "2021-03-10 20:00:16,979 : INFO : EPOCH 10 - PROGRESS: at 64.06% examples, 431411 words/s, in_qsize 16, out_qsize 1\n",
      "2021-03-10 20:00:18,027 : INFO : EPOCH 10 - PROGRESS: at 68.60% examples, 432672 words/s, in_qsize 16, out_qsize 1\n",
      "2021-03-10 20:00:19,030 : INFO : EPOCH 10 - PROGRESS: at 73.29% examples, 435787 words/s, in_qsize 15, out_qsize 0\n",
      "2021-03-10 20:00:20,066 : INFO : EPOCH 10 - PROGRESS: at 77.75% examples, 436886 words/s, in_qsize 15, out_qsize 0\n",
      "2021-03-10 20:00:21,076 : INFO : EPOCH 10 - PROGRESS: at 82.13% examples, 438472 words/s, in_qsize 12, out_qsize 3\n",
      "2021-03-10 20:00:22,080 : INFO : EPOCH 10 - PROGRESS: at 86.73% examples, 440437 words/s, in_qsize 11, out_qsize 4\n",
      "2021-03-10 20:00:23,082 : INFO : EPOCH 10 - PROGRESS: at 91.48% examples, 442555 words/s, in_qsize 15, out_qsize 0\n",
      "2021-03-10 20:00:24,111 : INFO : EPOCH 10 - PROGRESS: at 95.93% examples, 443038 words/s, in_qsize 14, out_qsize 1\n",
      "2021-03-10 20:00:24,903 : INFO : worker thread finished; awaiting finish of 7 more threads\n",
      "2021-03-10 20:00:24,923 : INFO : worker thread finished; awaiting finish of 6 more threads\n",
      "2021-03-10 20:00:24,939 : INFO : worker thread finished; awaiting finish of 5 more threads\n",
      "2021-03-10 20:00:24,959 : INFO : worker thread finished; awaiting finish of 4 more threads\n",
      "2021-03-10 20:00:24,972 : INFO : worker thread finished; awaiting finish of 3 more threads\n",
      "2021-03-10 20:00:24,982 : INFO : worker thread finished; awaiting finish of 2 more threads\n",
      "2021-03-10 20:00:24,987 : INFO : worker thread finished; awaiting finish of 1 more threads\n",
      "2021-03-10 20:00:25,010 : INFO : worker thread finished; awaiting finish of 0 more threads\n",
      "2021-03-10 20:00:25,012 : INFO : EPOCH - 10 : training on 14059602 raw words (10360084 effective words) took 23.3s, 443920 effective words/s\n",
      "2021-03-10 20:00:26,075 : INFO : EPOCH 11 - PROGRESS: at 4.26% examples, 425056 words/s, in_qsize 16, out_qsize 3\n",
      "2021-03-10 20:00:27,076 : INFO : EPOCH 11 - PROGRESS: at 8.83% examples, 451890 words/s, in_qsize 15, out_qsize 0\n",
      "2021-03-10 20:00:28,127 : INFO : EPOCH 11 - PROGRESS: at 13.42% examples, 453279 words/s, in_qsize 16, out_qsize 2\n",
      "2021-03-10 20:00:29,129 : INFO : EPOCH 11 - PROGRESS: at 18.23% examples, 461553 words/s, in_qsize 15, out_qsize 0\n",
      "2021-03-10 20:00:30,137 : INFO : EPOCH 11 - PROGRESS: at 22.82% examples, 463323 words/s, in_qsize 15, out_qsize 0\n",
      "2021-03-10 20:00:31,142 : INFO : EPOCH 11 - PROGRESS: at 27.43% examples, 463862 words/s, in_qsize 14, out_qsize 1\n",
      "2021-03-10 20:00:32,148 : INFO : EPOCH 11 - PROGRESS: at 31.99% examples, 464315 words/s, in_qsize 16, out_qsize 4\n",
      "2021-03-10 20:00:33,199 : INFO : EPOCH 11 - PROGRESS: at 36.30% examples, 457988 words/s, in_qsize 16, out_qsize 2\n",
      "2021-03-10 20:00:34,214 : INFO : EPOCH 11 - PROGRESS: at 40.79% examples, 458207 words/s, in_qsize 14, out_qsize 1\n",
      "2021-03-10 20:00:35,216 : INFO : EPOCH 11 - PROGRESS: at 45.16% examples, 458192 words/s, in_qsize 12, out_qsize 3\n",
      "2021-03-10 20:00:36,233 : INFO : EPOCH 11 - PROGRESS: at 50.01% examples, 461363 words/s, in_qsize 14, out_qsize 1\n",
      "2021-03-10 20:00:37,238 : INFO : EPOCH 11 - PROGRESS: at 54.85% examples, 463277 words/s, in_qsize 16, out_qsize 0\n",
      "2021-03-10 20:00:38,276 : INFO : EPOCH 11 - PROGRESS: at 58.65% examples, 457322 words/s, in_qsize 15, out_qsize 0\n",
      "2021-03-10 20:00:39,343 : INFO : EPOCH 11 - PROGRESS: at 61.98% examples, 447129 words/s, in_qsize 15, out_qsize 0\n",
      "2021-03-10 20:00:40,427 : INFO : EPOCH 11 - PROGRESS: at 65.75% examples, 440721 words/s, in_qsize 14, out_qsize 1\n",
      "2021-03-10 20:00:41,428 : INFO : EPOCH 11 - PROGRESS: at 70.47% examples, 443558 words/s, in_qsize 15, out_qsize 0\n",
      "2021-03-10 20:00:42,478 : INFO : EPOCH 11 - PROGRESS: at 74.46% examples, 441153 words/s, in_qsize 15, out_qsize 0\n",
      "2021-03-10 20:00:43,503 : INFO : EPOCH 11 - PROGRESS: at 78.95% examples, 442559 words/s, in_qsize 16, out_qsize 1\n",
      "2021-03-10 20:00:44,562 : INFO : EPOCH 11 - PROGRESS: at 83.82% examples, 444977 words/s, in_qsize 14, out_qsize 1\n",
      "2021-03-10 20:00:45,631 : INFO : EPOCH 11 - PROGRESS: at 87.96% examples, 442747 words/s, in_qsize 15, out_qsize 0\n",
      "2021-03-10 20:00:46,642 : INFO : EPOCH 11 - PROGRESS: at 92.88% examples, 445900 words/s, in_qsize 15, out_qsize 0\n",
      "2021-03-10 20:00:47,645 : INFO : EPOCH 11 - PROGRESS: at 97.36% examples, 446790 words/s, in_qsize 13, out_qsize 2\n",
      "2021-03-10 20:00:48,085 : INFO : worker thread finished; awaiting finish of 7 more threads\n",
      "2021-03-10 20:00:48,095 : INFO : worker thread finished; awaiting finish of 6 more threads\n",
      "2021-03-10 20:00:48,126 : INFO : worker thread finished; awaiting finish of 5 more threads\n",
      "2021-03-10 20:00:48,135 : INFO : worker thread finished; awaiting finish of 4 more threads\n",
      "2021-03-10 20:00:48,143 : INFO : worker thread finished; awaiting finish of 3 more threads\n",
      "2021-03-10 20:00:48,156 : INFO : worker thread finished; awaiting finish of 2 more threads\n",
      "2021-03-10 20:00:48,162 : INFO : worker thread finished; awaiting finish of 1 more threads\n",
      "2021-03-10 20:00:48,183 : INFO : worker thread finished; awaiting finish of 0 more threads\n",
      "2021-03-10 20:00:48,185 : INFO : EPOCH - 11 : training on 14059602 raw words (10362856 effective words) took 23.1s, 447838 effective words/s\n",
      "2021-03-10 20:00:49,247 : INFO : EPOCH 12 - PROGRESS: at 3.37% examples, 345487 words/s, in_qsize 15, out_qsize 0\n",
      "2021-03-10 20:00:50,281 : INFO : EPOCH 12 - PROGRESS: at 7.45% examples, 376898 words/s, in_qsize 15, out_qsize 0\n",
      "2021-03-10 20:00:51,376 : INFO : EPOCH 12 - PROGRESS: at 11.20% examples, 370617 words/s, in_qsize 15, out_qsize 0\n",
      "2021-03-10 20:00:52,379 : INFO : EPOCH 12 - PROGRESS: at 15.09% examples, 377578 words/s, in_qsize 16, out_qsize 0\n"
     ]
    },
    {
     "name": "stderr",
     "output_type": "stream",
     "text": [
      "2021-03-10 20:00:53,381 : INFO : EPOCH 12 - PROGRESS: at 18.97% examples, 381615 words/s, in_qsize 16, out_qsize 1\n",
      "2021-03-10 20:00:54,390 : INFO : EPOCH 12 - PROGRESS: at 23.65% examples, 397558 words/s, in_qsize 15, out_qsize 0\n",
      "2021-03-10 20:00:55,420 : INFO : EPOCH 12 - PROGRESS: at 28.68% examples, 410930 words/s, in_qsize 15, out_qsize 0\n",
      "2021-03-10 20:00:56,450 : INFO : EPOCH 12 - PROGRESS: at 33.85% examples, 423511 words/s, in_qsize 15, out_qsize 0\n",
      "2021-03-10 20:00:57,451 : INFO : EPOCH 12 - PROGRESS: at 38.41% examples, 428093 words/s, in_qsize 14, out_qsize 1\n",
      "2021-03-10 20:00:58,463 : INFO : EPOCH 12 - PROGRESS: at 43.25% examples, 435702 words/s, in_qsize 15, out_qsize 0\n",
      "2021-03-10 20:00:59,477 : INFO : EPOCH 12 - PROGRESS: at 47.87% examples, 439043 words/s, in_qsize 15, out_qsize 0\n",
      "2021-03-10 20:01:00,489 : INFO : EPOCH 12 - PROGRESS: at 52.70% examples, 443661 words/s, in_qsize 15, out_qsize 0\n",
      "2021-03-10 20:01:01,498 : INFO : EPOCH 12 - PROGRESS: at 57.37% examples, 446199 words/s, in_qsize 15, out_qsize 0\n",
      "2021-03-10 20:01:02,505 : INFO : EPOCH 12 - PROGRESS: at 62.29% examples, 449979 words/s, in_qsize 15, out_qsize 0\n",
      "2021-03-10 20:01:03,525 : INFO : EPOCH 12 - PROGRESS: at 66.44% examples, 448116 words/s, in_qsize 16, out_qsize 4\n",
      "2021-03-10 20:01:04,532 : INFO : EPOCH 12 - PROGRESS: at 71.28% examples, 451194 words/s, in_qsize 15, out_qsize 0\n",
      "2021-03-10 20:01:05,560 : INFO : EPOCH 12 - PROGRESS: at 75.82% examples, 452509 words/s, in_qsize 14, out_qsize 1\n",
      "2021-03-10 20:01:06,562 : INFO : EPOCH 12 - PROGRESS: at 80.77% examples, 456038 words/s, in_qsize 15, out_qsize 0\n",
      "2021-03-10 20:01:07,566 : INFO : EPOCH 12 - PROGRESS: at 85.57% examples, 458603 words/s, in_qsize 15, out_qsize 0\n",
      "2021-03-10 20:01:08,574 : INFO : EPOCH 12 - PROGRESS: at 90.27% examples, 459841 words/s, in_qsize 15, out_qsize 0\n",
      "2021-03-10 20:01:09,640 : INFO : EPOCH 12 - PROGRESS: at 94.70% examples, 458689 words/s, in_qsize 13, out_qsize 2\n",
      "2021-03-10 20:01:10,627 : INFO : worker thread finished; awaiting finish of 7 more threads\n",
      "2021-03-10 20:01:10,634 : INFO : worker thread finished; awaiting finish of 6 more threads\n",
      "2021-03-10 20:01:10,639 : INFO : worker thread finished; awaiting finish of 5 more threads\n",
      "2021-03-10 20:01:10,643 : INFO : EPOCH 12 - PROGRESS: at 99.76% examples, 461251 words/s, in_qsize 4, out_qsize 1\n",
      "2021-03-10 20:01:10,645 : INFO : worker thread finished; awaiting finish of 4 more threads\n",
      "2021-03-10 20:01:10,660 : INFO : worker thread finished; awaiting finish of 3 more threads\n",
      "2021-03-10 20:01:10,677 : INFO : worker thread finished; awaiting finish of 2 more threads\n",
      "2021-03-10 20:01:10,683 : INFO : worker thread finished; awaiting finish of 1 more threads\n",
      "2021-03-10 20:01:10,704 : INFO : worker thread finished; awaiting finish of 0 more threads\n",
      "2021-03-10 20:01:10,709 : INFO : EPOCH - 12 : training on 14059602 raw words (10362349 effective words) took 22.5s, 461060 effective words/s\n",
      "2021-03-10 20:01:11,783 : INFO : EPOCH 13 - PROGRESS: at 4.58% examples, 457042 words/s, in_qsize 15, out_qsize 0\n",
      "2021-03-10 20:01:12,795 : INFO : EPOCH 13 - PROGRESS: at 9.37% examples, 475602 words/s, in_qsize 15, out_qsize 0\n",
      "2021-03-10 20:01:13,844 : INFO : EPOCH 13 - PROGRESS: at 13.84% examples, 464675 words/s, in_qsize 16, out_qsize 1\n",
      "2021-03-10 20:01:14,859 : INFO : EPOCH 13 - PROGRESS: at 18.64% examples, 468631 words/s, in_qsize 16, out_qsize 0\n",
      "2021-03-10 20:01:15,860 : INFO : EPOCH 13 - PROGRESS: at 23.29% examples, 471366 words/s, in_qsize 13, out_qsize 2\n",
      "2021-03-10 20:01:16,864 : INFO : EPOCH 13 - PROGRESS: at 28.32% examples, 476539 words/s, in_qsize 15, out_qsize 0\n",
      "2021-03-10 20:01:17,888 : INFO : EPOCH 13 - PROGRESS: at 33.05% examples, 475913 words/s, in_qsize 15, out_qsize 0\n",
      "2021-03-10 20:01:18,925 : INFO : EPOCH 13 - PROGRESS: at 38.04% examples, 477839 words/s, in_qsize 15, out_qsize 0\n",
      "2021-03-10 20:01:19,959 : INFO : EPOCH 13 - PROGRESS: at 42.75% examples, 478090 words/s, in_qsize 15, out_qsize 0\n",
      "2021-03-10 20:01:20,997 : INFO : EPOCH 13 - PROGRESS: at 47.50% examples, 477748 words/s, in_qsize 16, out_qsize 4\n",
      "2021-03-10 20:01:22,007 : INFO : EPOCH 13 - PROGRESS: at 52.63% examples, 482043 words/s, in_qsize 15, out_qsize 0\n",
      "2021-03-10 20:01:23,017 : INFO : EPOCH 13 - PROGRESS: at 57.37% examples, 482205 words/s, in_qsize 14, out_qsize 1\n",
      "2021-03-10 20:01:24,023 : INFO : EPOCH 13 - PROGRESS: at 61.90% examples, 480842 words/s, in_qsize 16, out_qsize 0\n",
      "2021-03-10 20:01:25,049 : INFO : EPOCH 13 - PROGRESS: at 66.79% examples, 481569 words/s, in_qsize 13, out_qsize 2\n",
      "2021-03-10 20:01:26,050 : INFO : EPOCH 13 - PROGRESS: at 71.63% examples, 482835 words/s, in_qsize 15, out_qsize 0\n",
      "2021-03-10 20:01:27,079 : INFO : EPOCH 13 - PROGRESS: at 76.17% examples, 482195 words/s, in_qsize 15, out_qsize 0\n",
      "2021-03-10 20:01:28,106 : INFO : EPOCH 13 - PROGRESS: at 81.06% examples, 483229 words/s, in_qsize 14, out_qsize 1\n",
      "2021-03-10 20:01:29,110 : INFO : EPOCH 13 - PROGRESS: at 85.71% examples, 483498 words/s, in_qsize 15, out_qsize 0\n",
      "2021-03-10 20:01:30,125 : INFO : EPOCH 13 - PROGRESS: at 90.25% examples, 482573 words/s, in_qsize 14, out_qsize 1\n",
      "2021-03-10 20:01:31,126 : INFO : EPOCH 13 - PROGRESS: at 95.07% examples, 483414 words/s, in_qsize 15, out_qsize 0\n",
      "2021-03-10 20:01:32,002 : INFO : worker thread finished; awaiting finish of 7 more threads\n",
      "2021-03-10 20:01:32,012 : INFO : worker thread finished; awaiting finish of 6 more threads\n",
      "2021-03-10 20:01:32,037 : INFO : worker thread finished; awaiting finish of 5 more threads\n",
      "2021-03-10 20:01:32,061 : INFO : worker thread finished; awaiting finish of 4 more threads\n",
      "2021-03-10 20:01:32,071 : INFO : worker thread finished; awaiting finish of 3 more threads\n",
      "2021-03-10 20:01:32,075 : INFO : worker thread finished; awaiting finish of 2 more threads\n",
      "2021-03-10 20:01:32,087 : INFO : worker thread finished; awaiting finish of 1 more threads\n",
      "2021-03-10 20:01:32,095 : INFO : worker thread finished; awaiting finish of 0 more threads\n",
      "2021-03-10 20:01:32,100 : INFO : EPOCH - 13 : training on 14059602 raw words (10361130 effective words) took 21.4s, 485177 effective words/s\n",
      "2021-03-10 20:01:33,216 : INFO : EPOCH 14 - PROGRESS: at 4.24% examples, 414936 words/s, in_qsize 14, out_qsize 1\n",
      "2021-03-10 20:01:34,217 : INFO : EPOCH 14 - PROGRESS: at 8.97% examples, 453818 words/s, in_qsize 12, out_qsize 3\n",
      "2021-03-10 20:01:35,238 : INFO : EPOCH 14 - PROGRESS: at 13.78% examples, 465865 words/s, in_qsize 15, out_qsize 0\n",
      "2021-03-10 20:01:36,245 : INFO : EPOCH 14 - PROGRESS: at 18.78% examples, 475683 words/s, in_qsize 15, out_qsize 0\n",
      "2021-03-10 20:01:37,255 : INFO : EPOCH 14 - PROGRESS: at 23.42% examples, 476056 words/s, in_qsize 14, out_qsize 1\n",
      "2021-03-10 20:01:38,255 : INFO : EPOCH 14 - PROGRESS: at 28.38% examples, 479663 words/s, in_qsize 15, out_qsize 0\n",
      "2021-03-10 20:01:39,269 : INFO : EPOCH 14 - PROGRESS: at 32.95% examples, 477213 words/s, in_qsize 15, out_qsize 0\n",
      "2021-03-10 20:01:40,279 : INFO : EPOCH 14 - PROGRESS: at 37.83% examples, 478830 words/s, in_qsize 16, out_qsize 1\n",
      "2021-03-10 20:01:41,279 : INFO : EPOCH 14 - PROGRESS: at 42.56% examples, 480734 words/s, in_qsize 15, out_qsize 0\n",
      "2021-03-10 20:01:42,307 : INFO : EPOCH 14 - PROGRESS: at 47.22% examples, 479857 words/s, in_qsize 15, out_qsize 0\n",
      "2021-03-10 20:01:43,385 : INFO : EPOCH 14 - PROGRESS: at 52.08% examples, 478516 words/s, in_qsize 15, out_qsize 0\n",
      "2021-03-10 20:01:44,401 : INFO : EPOCH 14 - PROGRESS: at 56.89% examples, 479285 words/s, in_qsize 16, out_qsize 0\n",
      "2021-03-10 20:01:45,414 : INFO : EPOCH 14 - PROGRESS: at 61.45% examples, 478508 words/s, in_qsize 15, out_qsize 0\n",
      "2021-03-10 20:01:46,422 : INFO : EPOCH 14 - PROGRESS: at 66.59% examples, 481461 words/s, in_qsize 15, out_qsize 0\n",
      "2021-03-10 20:01:47,462 : INFO : EPOCH 14 - PROGRESS: at 71.37% examples, 481048 words/s, in_qsize 15, out_qsize 0\n",
      "2021-03-10 20:01:48,465 : INFO : EPOCH 14 - PROGRESS: at 75.73% examples, 480421 words/s, in_qsize 15, out_qsize 0\n",
      "2021-03-10 20:01:49,467 : INFO : EPOCH 14 - PROGRESS: at 80.07% examples, 478751 words/s, in_qsize 15, out_qsize 0\n",
      "2021-03-10 20:01:50,496 : INFO : EPOCH 14 - PROGRESS: at 83.45% examples, 471614 words/s, in_qsize 16, out_qsize 0\n",
      "2021-03-10 20:01:51,520 : INFO : EPOCH 14 - PROGRESS: at 87.20% examples, 466619 words/s, in_qsize 14, out_qsize 1\n"
     ]
    },
    {
     "name": "stderr",
     "output_type": "stream",
     "text": [
      "2021-03-10 20:01:52,535 : INFO : EPOCH 14 - PROGRESS: at 90.74% examples, 461244 words/s, in_qsize 14, out_qsize 1\n",
      "2021-03-10 20:01:53,566 : INFO : EPOCH 14 - PROGRESS: at 94.99% examples, 460064 words/s, in_qsize 14, out_qsize 1\n",
      "2021-03-10 20:01:54,593 : INFO : EPOCH 14 - PROGRESS: at 99.06% examples, 457537 words/s, in_qsize 12, out_qsize 2\n",
      "2021-03-10 20:01:54,704 : INFO : worker thread finished; awaiting finish of 7 more threads\n",
      "2021-03-10 20:01:54,712 : INFO : worker thread finished; awaiting finish of 6 more threads\n",
      "2021-03-10 20:01:54,720 : INFO : worker thread finished; awaiting finish of 5 more threads\n",
      "2021-03-10 20:01:54,742 : INFO : worker thread finished; awaiting finish of 4 more threads\n",
      "2021-03-10 20:01:54,752 : INFO : worker thread finished; awaiting finish of 3 more threads\n",
      "2021-03-10 20:01:54,755 : INFO : worker thread finished; awaiting finish of 2 more threads\n",
      "2021-03-10 20:01:54,775 : INFO : worker thread finished; awaiting finish of 1 more threads\n",
      "2021-03-10 20:01:54,794 : INFO : worker thread finished; awaiting finish of 0 more threads\n",
      "2021-03-10 20:01:54,796 : INFO : EPOCH - 14 : training on 14059602 raw words (10362864 effective words) took 22.6s, 457815 effective words/s\n",
      "2021-03-10 20:01:55,880 : INFO : EPOCH 15 - PROGRESS: at 4.23% examples, 433323 words/s, in_qsize 15, out_qsize 0\n",
      "2021-03-10 20:01:56,883 : INFO : EPOCH 15 - PROGRESS: at 7.67% examples, 394468 words/s, in_qsize 15, out_qsize 0\n",
      "2021-03-10 20:01:57,904 : INFO : EPOCH 15 - PROGRESS: at 11.90% examples, 407991 words/s, in_qsize 15, out_qsize 0\n",
      "2021-03-10 20:01:58,932 : INFO : EPOCH 15 - PROGRESS: at 15.98% examples, 408459 words/s, in_qsize 15, out_qsize 0\n",
      "2021-03-10 20:01:59,941 : INFO : EPOCH 15 - PROGRESS: at 19.98% examples, 407619 words/s, in_qsize 9, out_qsize 6\n",
      "2021-03-10 20:02:01,043 : INFO : EPOCH 15 - PROGRESS: at 23.84% examples, 400151 words/s, in_qsize 16, out_qsize 8\n",
      "2021-03-10 20:02:02,059 : INFO : EPOCH 15 - PROGRESS: at 28.84% examples, 412877 words/s, in_qsize 15, out_qsize 0\n",
      "2021-03-10 20:02:03,085 : INFO : EPOCH 15 - PROGRESS: at 32.89% examples, 412098 words/s, in_qsize 15, out_qsize 0\n",
      "2021-03-10 20:02:04,117 : INFO : EPOCH 15 - PROGRESS: at 37.06% examples, 411774 words/s, in_qsize 15, out_qsize 1\n",
      "2021-03-10 20:02:05,125 : INFO : EPOCH 15 - PROGRESS: at 41.29% examples, 414705 words/s, in_qsize 15, out_qsize 0\n",
      "2021-03-10 20:02:06,125 : INFO : EPOCH 15 - PROGRESS: at 44.78% examples, 410223 words/s, in_qsize 14, out_qsize 1\n",
      "2021-03-10 20:02:07,134 : INFO : EPOCH 15 - PROGRESS: at 48.54% examples, 408428 words/s, in_qsize 15, out_qsize 0\n",
      "2021-03-10 20:02:08,138 : INFO : EPOCH 15 - PROGRESS: at 52.65% examples, 409266 words/s, in_qsize 13, out_qsize 2\n",
      "2021-03-10 20:02:09,147 : INFO : EPOCH 15 - PROGRESS: at 56.84% examples, 410461 words/s, in_qsize 15, out_qsize 0\n",
      "2021-03-10 20:02:10,180 : INFO : EPOCH 15 - PROGRESS: at 61.02% examples, 411448 words/s, in_qsize 15, out_qsize 0\n",
      "2021-03-10 20:02:11,193 : INFO : EPOCH 15 - PROGRESS: at 65.18% examples, 411753 words/s, in_qsize 15, out_qsize 0\n",
      "2021-03-10 20:02:12,264 : INFO : EPOCH 15 - PROGRESS: at 69.41% examples, 411476 words/s, in_qsize 12, out_qsize 3\n",
      "2021-03-10 20:02:13,267 : INFO : EPOCH 15 - PROGRESS: at 73.66% examples, 413202 words/s, in_qsize 16, out_qsize 0\n",
      "2021-03-10 20:02:14,270 : INFO : EPOCH 15 - PROGRESS: at 77.63% examples, 413499 words/s, in_qsize 14, out_qsize 1\n",
      "2021-03-10 20:02:15,293 : INFO : EPOCH 15 - PROGRESS: at 82.13% examples, 416645 words/s, in_qsize 15, out_qsize 0\n",
      "2021-03-10 20:02:16,321 : INFO : EPOCH 15 - PROGRESS: at 86.46% examples, 417723 words/s, in_qsize 15, out_qsize 0\n",
      "2021-03-10 20:02:17,331 : INFO : EPOCH 15 - PROGRESS: at 90.95% examples, 419326 words/s, in_qsize 14, out_qsize 1\n",
      "2021-03-10 20:02:18,381 : INFO : EPOCH 15 - PROGRESS: at 95.14% examples, 419403 words/s, in_qsize 15, out_qsize 0\n",
      "2021-03-10 20:02:19,390 : INFO : EPOCH 15 - PROGRESS: at 98.57% examples, 416459 words/s, in_qsize 15, out_qsize 0\n",
      "2021-03-10 20:02:19,756 : INFO : worker thread finished; awaiting finish of 7 more threads\n",
      "2021-03-10 20:02:19,760 : INFO : worker thread finished; awaiting finish of 6 more threads\n",
      "2021-03-10 20:02:19,762 : INFO : worker thread finished; awaiting finish of 5 more threads\n",
      "2021-03-10 20:02:19,763 : INFO : worker thread finished; awaiting finish of 4 more threads\n",
      "2021-03-10 20:02:19,765 : INFO : worker thread finished; awaiting finish of 3 more threads\n",
      "2021-03-10 20:02:19,766 : INFO : worker thread finished; awaiting finish of 2 more threads\n",
      "2021-03-10 20:02:19,795 : INFO : worker thread finished; awaiting finish of 1 more threads\n",
      "2021-03-10 20:02:19,808 : INFO : worker thread finished; awaiting finish of 0 more threads\n",
      "2021-03-10 20:02:19,811 : INFO : EPOCH - 15 : training on 14059602 raw words (10361656 effective words) took 24.9s, 415446 effective words/s\n",
      "2021-03-10 20:02:20,904 : INFO : EPOCH 16 - PROGRESS: at 3.08% examples, 316969 words/s, in_qsize 16, out_qsize 1\n",
      "2021-03-10 20:02:21,920 : INFO : EPOCH 16 - PROGRESS: at 6.37% examples, 327490 words/s, in_qsize 15, out_qsize 0\n",
      "2021-03-10 20:02:22,928 : INFO : EPOCH 16 - PROGRESS: at 10.28% examples, 352657 words/s, in_qsize 14, out_qsize 1\n",
      "2021-03-10 20:02:23,954 : INFO : EPOCH 16 - PROGRESS: at 14.25% examples, 365464 words/s, in_qsize 15, out_qsize 0\n",
      "2021-03-10 20:02:24,972 : INFO : EPOCH 16 - PROGRESS: at 18.16% examples, 369561 words/s, in_qsize 16, out_qsize 0\n",
      "2021-03-10 20:02:25,980 : INFO : EPOCH 16 - PROGRESS: at 22.46% examples, 381510 words/s, in_qsize 14, out_qsize 1\n",
      "2021-03-10 20:02:26,982 : INFO : EPOCH 16 - PROGRESS: at 27.21% examples, 395797 words/s, in_qsize 16, out_qsize 0\n",
      "2021-03-10 20:02:27,986 : INFO : EPOCH 16 - PROGRESS: at 32.30% examples, 411001 words/s, in_qsize 15, out_qsize 0\n",
      "2021-03-10 20:02:28,990 : INFO : EPOCH 16 - PROGRESS: at 37.26% examples, 420927 words/s, in_qsize 15, out_qsize 0\n",
      "2021-03-10 20:02:30,023 : INFO : EPOCH 16 - PROGRESS: at 41.93% examples, 426237 words/s, in_qsize 15, out_qsize 0\n",
      "2021-03-10 20:02:31,034 : INFO : EPOCH 16 - PROGRESS: at 46.70% examples, 432464 words/s, in_qsize 14, out_qsize 1\n",
      "2021-03-10 20:02:32,035 : INFO : EPOCH 16 - PROGRESS: at 51.39% examples, 436374 words/s, in_qsize 15, out_qsize 0\n",
      "2021-03-10 20:02:33,067 : INFO : EPOCH 16 - PROGRESS: at 55.67% examples, 435376 words/s, in_qsize 15, out_qsize 0\n",
      "2021-03-10 20:02:34,068 : INFO : EPOCH 16 - PROGRESS: at 60.20% examples, 438124 words/s, in_qsize 15, out_qsize 0\n",
      "2021-03-10 20:02:35,112 : INFO : EPOCH 16 - PROGRESS: at 64.48% examples, 436835 words/s, in_qsize 15, out_qsize 0\n",
      "2021-03-10 20:02:36,190 : INFO : EPOCH 16 - PROGRESS: at 68.59% examples, 434274 words/s, in_qsize 15, out_qsize 0\n",
      "2021-03-10 20:02:37,237 : INFO : EPOCH 16 - PROGRESS: at 72.95% examples, 434064 words/s, in_qsize 15, out_qsize 0\n",
      "2021-03-10 20:02:38,247 : INFO : EPOCH 16 - PROGRESS: at 77.40% examples, 435908 words/s, in_qsize 15, out_qsize 0\n",
      "2021-03-10 20:02:39,324 : INFO : EPOCH 16 - PROGRESS: at 82.27% examples, 438690 words/s, in_qsize 15, out_qsize 0\n",
      "2021-03-10 20:02:40,351 : INFO : EPOCH 16 - PROGRESS: at 86.92% examples, 440137 words/s, in_qsize 12, out_qsize 3\n",
      "2021-03-10 20:02:41,407 : INFO : EPOCH 16 - PROGRESS: at 91.98% examples, 443202 words/s, in_qsize 16, out_qsize 0\n",
      "2021-03-10 20:02:42,412 : INFO : EPOCH 16 - PROGRESS: at 96.86% examples, 446081 words/s, in_qsize 14, out_qsize 1\n",
      "2021-03-10 20:02:42,928 : INFO : worker thread finished; awaiting finish of 7 more threads\n",
      "2021-03-10 20:02:42,930 : INFO : worker thread finished; awaiting finish of 6 more threads\n",
      "2021-03-10 20:02:42,943 : INFO : worker thread finished; awaiting finish of 5 more threads\n",
      "2021-03-10 20:02:42,951 : INFO : worker thread finished; awaiting finish of 4 more threads\n",
      "2021-03-10 20:02:42,971 : INFO : worker thread finished; awaiting finish of 3 more threads\n",
      "2021-03-10 20:02:42,985 : INFO : worker thread finished; awaiting finish of 2 more threads\n",
      "2021-03-10 20:02:42,989 : INFO : worker thread finished; awaiting finish of 1 more threads\n",
      "2021-03-10 20:02:43,027 : INFO : worker thread finished; awaiting finish of 0 more threads\n",
      "2021-03-10 20:02:43,032 : INFO : EPOCH - 16 : training on 14059602 raw words (10362687 effective words) took 23.1s, 447837 effective words/s\n"
     ]
    },
    {
     "name": "stderr",
     "output_type": "stream",
     "text": [
      "2021-03-10 20:02:44,103 : INFO : EPOCH 17 - PROGRESS: at 4.45% examples, 451214 words/s, in_qsize 15, out_qsize 0\n",
      "2021-03-10 20:02:45,109 : INFO : EPOCH 17 - PROGRESS: at 9.18% examples, 470879 words/s, in_qsize 15, out_qsize 0\n",
      "2021-03-10 20:02:46,114 : INFO : EPOCH 17 - PROGRESS: at 13.84% examples, 475324 words/s, in_qsize 15, out_qsize 0\n",
      "2021-03-10 20:02:47,143 : INFO : EPOCH 17 - PROGRESS: at 18.72% examples, 476710 words/s, in_qsize 15, out_qsize 0\n",
      "2021-03-10 20:02:48,144 : INFO : EPOCH 17 - PROGRESS: at 23.38% examples, 477631 words/s, in_qsize 15, out_qsize 0\n",
      "2021-03-10 20:02:49,148 : INFO : EPOCH 17 - PROGRESS: at 28.78% examples, 488039 words/s, in_qsize 15, out_qsize 0\n",
      "2021-03-10 20:02:50,172 : INFO : EPOCH 17 - PROGRESS: at 33.40% examples, 484597 words/s, in_qsize 15, out_qsize 0\n",
      "2021-03-10 20:02:51,211 : INFO : EPOCH 17 - PROGRESS: at 38.41% examples, 485306 words/s, in_qsize 15, out_qsize 0\n",
      "2021-03-10 20:02:52,232 : INFO : EPOCH 17 - PROGRESS: at 43.24% examples, 486940 words/s, in_qsize 14, out_qsize 1\n",
      "2021-03-10 20:02:53,284 : INFO : EPOCH 17 - PROGRESS: at 48.35% examples, 488773 words/s, in_qsize 16, out_qsize 0\n",
      "2021-03-10 20:02:54,290 : INFO : EPOCH 17 - PROGRESS: at 52.86% examples, 486331 words/s, in_qsize 15, out_qsize 0\n",
      "2021-03-10 20:02:55,291 : INFO : EPOCH 17 - PROGRESS: at 57.59% examples, 486435 words/s, in_qsize 16, out_qsize 0\n",
      "2021-03-10 20:02:56,302 : INFO : EPOCH 17 - PROGRESS: at 62.42% examples, 486772 words/s, in_qsize 14, out_qsize 1\n",
      "2021-03-10 20:02:57,304 : INFO : EPOCH 17 - PROGRESS: at 67.17% examples, 486841 words/s, in_qsize 14, out_qsize 1\n",
      "2021-03-10 20:02:58,308 : INFO : EPOCH 17 - PROGRESS: at 71.69% examples, 485712 words/s, in_qsize 15, out_qsize 0\n",
      "2021-03-10 20:02:59,353 : INFO : EPOCH 17 - PROGRESS: at 75.61% examples, 480475 words/s, in_qsize 14, out_qsize 1\n",
      "2021-03-10 20:03:00,361 : INFO : EPOCH 17 - PROGRESS: at 79.66% examples, 476833 words/s, in_qsize 15, out_qsize 0\n",
      "2021-03-10 20:03:01,363 : INFO : EPOCH 17 - PROGRESS: at 84.03% examples, 476080 words/s, in_qsize 14, out_qsize 1\n",
      "2021-03-10 20:03:02,415 : INFO : EPOCH 17 - PROGRESS: at 87.52% examples, 469062 words/s, in_qsize 14, out_qsize 1\n",
      "2021-03-10 20:03:03,416 : INFO : EPOCH 17 - PROGRESS: at 91.07% examples, 463842 words/s, in_qsize 15, out_qsize 0\n",
      "2021-03-10 20:03:04,425 : INFO : EPOCH 17 - PROGRESS: at 94.34% examples, 458243 words/s, in_qsize 15, out_qsize 0\n",
      "2021-03-10 20:03:05,446 : INFO : EPOCH 17 - PROGRESS: at 98.43% examples, 455946 words/s, in_qsize 15, out_qsize 0\n",
      "2021-03-10 20:03:05,756 : INFO : worker thread finished; awaiting finish of 7 more threads\n",
      "2021-03-10 20:03:05,759 : INFO : worker thread finished; awaiting finish of 6 more threads\n",
      "2021-03-10 20:03:05,780 : INFO : worker thread finished; awaiting finish of 5 more threads\n",
      "2021-03-10 20:03:05,783 : INFO : worker thread finished; awaiting finish of 4 more threads\n",
      "2021-03-10 20:03:05,787 : INFO : worker thread finished; awaiting finish of 3 more threads\n",
      "2021-03-10 20:03:05,810 : INFO : worker thread finished; awaiting finish of 2 more threads\n",
      "2021-03-10 20:03:05,846 : INFO : worker thread finished; awaiting finish of 1 more threads\n",
      "2021-03-10 20:03:05,856 : INFO : worker thread finished; awaiting finish of 0 more threads\n",
      "2021-03-10 20:03:05,860 : INFO : EPOCH - 17 : training on 14059602 raw words (10359480 effective words) took 22.8s, 454855 effective words/s\n",
      "2021-03-10 20:03:06,900 : INFO : EPOCH 18 - PROGRESS: at 3.32% examples, 337931 words/s, in_qsize 12, out_qsize 3\n",
      "2021-03-10 20:03:07,913 : INFO : EPOCH 18 - PROGRESS: at 7.00% examples, 359203 words/s, in_qsize 15, out_qsize 0\n",
      "2021-03-10 20:03:08,918 : INFO : EPOCH 18 - PROGRESS: at 10.64% examples, 364823 words/s, in_qsize 15, out_qsize 0\n",
      "2021-03-10 20:03:09,948 : INFO : EPOCH 18 - PROGRESS: at 14.49% examples, 371061 words/s, in_qsize 15, out_qsize 0\n",
      "2021-03-10 20:03:10,965 : INFO : EPOCH 18 - PROGRESS: at 18.66% examples, 379785 words/s, in_qsize 15, out_qsize 0\n",
      "2021-03-10 20:03:11,972 : INFO : EPOCH 18 - PROGRESS: at 22.24% examples, 378126 words/s, in_qsize 15, out_qsize 0\n",
      "2021-03-10 20:03:13,031 : INFO : EPOCH 18 - PROGRESS: at 25.72% examples, 371458 words/s, in_qsize 15, out_qsize 0\n",
      "2021-03-10 20:03:14,055 : INFO : EPOCH 18 - PROGRESS: at 29.57% examples, 372407 words/s, in_qsize 14, out_qsize 1\n",
      "2021-03-10 20:03:15,111 : INFO : EPOCH 18 - PROGRESS: at 33.93% examples, 378143 words/s, in_qsize 13, out_qsize 2\n",
      "2021-03-10 20:03:16,135 : INFO : EPOCH 18 - PROGRESS: at 38.98% examples, 390720 words/s, in_qsize 15, out_qsize 0\n",
      "2021-03-10 20:03:17,139 : INFO : EPOCH 18 - PROGRESS: at 42.63% examples, 390302 words/s, in_qsize 14, out_qsize 1\n",
      "2021-03-10 20:03:18,171 : INFO : EPOCH 18 - PROGRESS: at 47.44% examples, 398215 words/s, in_qsize 14, out_qsize 1\n",
      "2021-03-10 20:03:19,175 : INFO : EPOCH 18 - PROGRESS: at 51.91% examples, 402654 words/s, in_qsize 15, out_qsize 0\n",
      "2021-03-10 20:03:20,179 : INFO : EPOCH 18 - PROGRESS: at 55.91% examples, 402942 words/s, in_qsize 14, out_qsize 1\n",
      "2021-03-10 20:03:21,221 : INFO : EPOCH 18 - PROGRESS: at 59.21% examples, 398435 words/s, in_qsize 14, out_qsize 1\n",
      "2021-03-10 20:03:22,232 : INFO : EPOCH 18 - PROGRESS: at 63.45% examples, 400550 words/s, in_qsize 16, out_qsize 0\n",
      "2021-03-10 20:03:23,284 : INFO : EPOCH 18 - PROGRESS: at 67.62% examples, 401073 words/s, in_qsize 15, out_qsize 0\n",
      "2021-03-10 20:03:24,300 : INFO : EPOCH 18 - PROGRESS: at 71.37% examples, 399900 words/s, in_qsize 15, out_qsize 0\n",
      "2021-03-10 20:03:25,314 : INFO : EPOCH 18 - PROGRESS: at 75.35% examples, 401119 words/s, in_qsize 15, out_qsize 0\n",
      "2021-03-10 20:03:26,329 : INFO : EPOCH 18 - PROGRESS: at 78.99% examples, 400004 words/s, in_qsize 16, out_qsize 0\n",
      "2021-03-10 20:03:27,330 : INFO : EPOCH 18 - PROGRESS: at 82.56% examples, 398933 words/s, in_qsize 16, out_qsize 1\n",
      "2021-03-10 20:03:28,390 : INFO : EPOCH 18 - PROGRESS: at 86.99% examples, 400506 words/s, in_qsize 15, out_qsize 0\n",
      "2021-03-10 20:03:29,461 : INFO : EPOCH 18 - PROGRESS: at 90.64% examples, 398356 words/s, in_qsize 15, out_qsize 0\n",
      "2021-03-10 20:03:30,467 : INFO : EPOCH 18 - PROGRESS: at 94.90% examples, 400363 words/s, in_qsize 15, out_qsize 0\n",
      "2021-03-10 20:03:31,499 : INFO : EPOCH 18 - PROGRESS: at 98.78% examples, 399653 words/s, in_qsize 16, out_qsize 0\n",
      "2021-03-10 20:03:31,705 : INFO : worker thread finished; awaiting finish of 7 more threads\n",
      "2021-03-10 20:03:31,719 : INFO : worker thread finished; awaiting finish of 6 more threads\n",
      "2021-03-10 20:03:31,724 : INFO : worker thread finished; awaiting finish of 5 more threads\n",
      "2021-03-10 20:03:31,742 : INFO : worker thread finished; awaiting finish of 4 more threads\n",
      "2021-03-10 20:03:31,766 : INFO : worker thread finished; awaiting finish of 3 more threads\n",
      "2021-03-10 20:03:31,780 : INFO : worker thread finished; awaiting finish of 2 more threads\n",
      "2021-03-10 20:03:31,809 : INFO : worker thread finished; awaiting finish of 1 more threads\n",
      "2021-03-10 20:03:31,820 : INFO : worker thread finished; awaiting finish of 0 more threads\n",
      "2021-03-10 20:03:31,822 : INFO : EPOCH - 18 : training on 14059602 raw words (10363682 effective words) took 25.9s, 399599 effective words/s\n",
      "2021-03-10 20:03:32,915 : INFO : EPOCH 19 - PROGRESS: at 3.16% examples, 312262 words/s, in_qsize 15, out_qsize 0\n",
      "2021-03-10 20:03:33,936 : INFO : EPOCH 19 - PROGRESS: at 6.71% examples, 337473 words/s, in_qsize 15, out_qsize 0\n",
      "2021-03-10 20:03:34,942 : INFO : EPOCH 19 - PROGRESS: at 10.44% examples, 352434 words/s, in_qsize 13, out_qsize 2\n",
      "2021-03-10 20:03:36,002 : INFO : EPOCH 19 - PROGRESS: at 13.57% examples, 341074 words/s, in_qsize 15, out_qsize 0\n",
      "2021-03-10 20:03:37,020 : INFO : EPOCH 19 - PROGRESS: at 16.71% examples, 335922 words/s, in_qsize 7, out_qsize 8\n",
      "2021-03-10 20:03:38,025 : INFO : EPOCH 19 - PROGRESS: at 21.01% examples, 351975 words/s, in_qsize 15, out_qsize 0\n",
      "2021-03-10 20:03:39,033 : INFO : EPOCH 19 - PROGRESS: at 24.91% examples, 358777 words/s, in_qsize 15, out_qsize 0\n",
      "2021-03-10 20:03:40,046 : INFO : EPOCH 19 - PROGRESS: at 28.68% examples, 360864 words/s, in_qsize 15, out_qsize 0\n",
      "2021-03-10 20:03:41,051 : INFO : EPOCH 19 - PROGRESS: at 32.45% examples, 363598 words/s, in_qsize 16, out_qsize 0\n",
      "2021-03-10 20:03:42,078 : INFO : EPOCH 19 - PROGRESS: at 36.40% examples, 366289 words/s, in_qsize 16, out_qsize 0\n"
     ]
    },
    {
     "name": "stderr",
     "output_type": "stream",
     "text": [
      "2021-03-10 20:03:43,093 : INFO : EPOCH 19 - PROGRESS: at 40.94% examples, 375410 words/s, in_qsize 14, out_qsize 1\n",
      "2021-03-10 20:03:44,142 : INFO : EPOCH 19 - PROGRESS: at 45.53% examples, 382446 words/s, in_qsize 15, out_qsize 0\n",
      "2021-03-10 20:03:45,189 : INFO : EPOCH 19 - PROGRESS: at 50.46% examples, 390588 words/s, in_qsize 14, out_qsize 1\n",
      "2021-03-10 20:03:46,210 : INFO : EPOCH 19 - PROGRESS: at 55.33% examples, 397246 words/s, in_qsize 12, out_qsize 3\n",
      "2021-03-10 20:03:47,217 : INFO : EPOCH 19 - PROGRESS: at 59.78% examples, 401596 words/s, in_qsize 14, out_qsize 1\n",
      "2021-03-10 20:03:48,221 : INFO : EPOCH 19 - PROGRESS: at 64.20% examples, 404586 words/s, in_qsize 15, out_qsize 0\n",
      "2021-03-10 20:03:49,244 : INFO : EPOCH 19 - PROGRESS: at 68.02% examples, 403812 words/s, in_qsize 15, out_qsize 0\n",
      "2021-03-10 20:03:50,257 : INFO : EPOCH 19 - PROGRESS: at 72.05% examples, 404127 words/s, in_qsize 14, out_qsize 1\n",
      "2021-03-10 20:03:51,284 : INFO : EPOCH 19 - PROGRESS: at 76.67% examples, 408170 words/s, in_qsize 15, out_qsize 0\n",
      "2021-03-10 20:03:52,332 : INFO : EPOCH 19 - PROGRESS: at 81.15% examples, 410680 words/s, in_qsize 11, out_qsize 4\n",
      "2021-03-10 20:03:53,354 : INFO : EPOCH 19 - PROGRESS: at 86.17% examples, 415591 words/s, in_qsize 15, out_qsize 0\n",
      "2021-03-10 20:03:54,365 : INFO : EPOCH 19 - PROGRESS: at 90.87% examples, 418261 words/s, in_qsize 15, out_qsize 0\n",
      "2021-03-10 20:03:55,380 : INFO : EPOCH 19 - PROGRESS: at 94.67% examples, 417502 words/s, in_qsize 15, out_qsize 0\n",
      "2021-03-10 20:03:56,430 : INFO : EPOCH 19 - PROGRESS: at 98.78% examples, 416623 words/s, in_qsize 11, out_qsize 2\n",
      "2021-03-10 20:03:56,611 : INFO : worker thread finished; awaiting finish of 7 more threads\n",
      "2021-03-10 20:03:56,631 : INFO : worker thread finished; awaiting finish of 6 more threads\n",
      "2021-03-10 20:03:56,643 : INFO : worker thread finished; awaiting finish of 5 more threads\n",
      "2021-03-10 20:03:56,668 : INFO : worker thread finished; awaiting finish of 4 more threads\n",
      "2021-03-10 20:03:56,690 : INFO : worker thread finished; awaiting finish of 3 more threads\n",
      "2021-03-10 20:03:56,704 : INFO : worker thread finished; awaiting finish of 2 more threads\n",
      "2021-03-10 20:03:56,714 : INFO : worker thread finished; awaiting finish of 1 more threads\n",
      "2021-03-10 20:03:56,733 : INFO : worker thread finished; awaiting finish of 0 more threads\n",
      "2021-03-10 20:03:56,740 : INFO : EPOCH - 19 : training on 14059602 raw words (10361526 effective words) took 24.9s, 416566 effective words/s\n",
      "2021-03-10 20:03:57,809 : INFO : EPOCH 20 - PROGRESS: at 3.60% examples, 358711 words/s, in_qsize 15, out_qsize 0\n",
      "2021-03-10 20:03:58,821 : INFO : EPOCH 20 - PROGRESS: at 7.23% examples, 366114 words/s, in_qsize 15, out_qsize 0\n",
      "2021-03-10 20:03:59,847 : INFO : EPOCH 20 - PROGRESS: at 11.37% examples, 383625 words/s, in_qsize 15, out_qsize 0\n",
      "2021-03-10 20:04:00,869 : INFO : EPOCH 20 - PROGRESS: at 15.50% examples, 392893 words/s, in_qsize 16, out_qsize 0\n",
      "2021-03-10 20:04:01,871 : INFO : EPOCH 20 - PROGRESS: at 19.55% examples, 396875 words/s, in_qsize 14, out_qsize 1\n",
      "2021-03-10 20:04:02,888 : INFO : EPOCH 20 - PROGRESS: at 24.46% examples, 413478 words/s, in_qsize 15, out_qsize 0\n",
      "2021-03-10 20:04:03,889 : INFO : EPOCH 20 - PROGRESS: at 29.63% examples, 428351 words/s, in_qsize 15, out_qsize 0\n",
      "2021-03-10 20:04:04,896 : INFO : EPOCH 20 - PROGRESS: at 34.14% examples, 432015 words/s, in_qsize 15, out_qsize 0\n",
      "2021-03-10 20:04:05,915 : INFO : EPOCH 20 - PROGRESS: at 39.03% examples, 438772 words/s, in_qsize 15, out_qsize 0\n",
      "2021-03-10 20:04:06,920 : INFO : EPOCH 20 - PROGRESS: at 43.64% examples, 442832 words/s, in_qsize 11, out_qsize 4\n",
      "2021-03-10 20:04:07,937 : INFO : EPOCH 20 - PROGRESS: at 48.42% examples, 447342 words/s, in_qsize 15, out_qsize 0\n",
      "2021-03-10 20:04:08,960 : INFO : EPOCH 20 - PROGRESS: at 53.14% examples, 449684 words/s, in_qsize 13, out_qsize 2\n",
      "2021-03-10 20:04:10,062 : INFO : EPOCH 20 - PROGRESS: at 58.23% examples, 451961 words/s, in_qsize 11, out_qsize 4\n",
      "2021-03-10 20:04:11,070 : INFO : EPOCH 20 - PROGRESS: at 63.28% examples, 456290 words/s, in_qsize 15, out_qsize 0\n",
      "2021-03-10 20:04:12,080 : INFO : EPOCH 20 - PROGRESS: at 67.62% examples, 455702 words/s, in_qsize 15, out_qsize 0\n",
      "2021-03-10 20:04:13,151 : INFO : EPOCH 20 - PROGRESS: at 71.76% examples, 452080 words/s, in_qsize 15, out_qsize 0\n",
      "2021-03-10 20:04:14,165 : INFO : EPOCH 20 - PROGRESS: at 75.29% examples, 447508 words/s, in_qsize 16, out_qsize 0\n",
      "2021-03-10 20:04:15,167 : INFO : EPOCH 20 - PROGRESS: at 78.76% examples, 442846 words/s, in_qsize 15, out_qsize 0\n",
      "2021-03-10 20:04:16,180 : INFO : EPOCH 20 - PROGRESS: at 82.54% examples, 440674 words/s, in_qsize 15, out_qsize 0\n",
      "2021-03-10 20:04:17,211 : INFO : EPOCH 20 - PROGRESS: at 86.52% examples, 438754 words/s, in_qsize 15, out_qsize 0\n",
      "2021-03-10 20:04:18,225 : INFO : EPOCH 20 - PROGRESS: at 90.86% examples, 438710 words/s, in_qsize 15, out_qsize 0\n",
      "2021-03-10 20:04:19,228 : INFO : EPOCH 20 - PROGRESS: at 94.92% examples, 438187 words/s, in_qsize 15, out_qsize 0\n",
      "2021-03-10 20:04:20,231 : INFO : EPOCH 20 - PROGRESS: at 99.11% examples, 437813 words/s, in_qsize 10, out_qsize 3\n",
      "2021-03-10 20:04:20,271 : INFO : worker thread finished; awaiting finish of 7 more threads\n",
      "2021-03-10 20:04:20,291 : INFO : worker thread finished; awaiting finish of 6 more threads\n",
      "2021-03-10 20:04:20,357 : INFO : worker thread finished; awaiting finish of 5 more threads\n",
      "2021-03-10 20:04:20,362 : INFO : worker thread finished; awaiting finish of 4 more threads\n",
      "2021-03-10 20:04:20,364 : INFO : worker thread finished; awaiting finish of 3 more threads\n",
      "2021-03-10 20:04:20,371 : INFO : worker thread finished; awaiting finish of 2 more threads\n",
      "2021-03-10 20:04:20,373 : INFO : worker thread finished; awaiting finish of 1 more threads\n",
      "2021-03-10 20:04:20,374 : INFO : worker thread finished; awaiting finish of 0 more threads\n",
      "2021-03-10 20:04:20,375 : INFO : EPOCH - 20 : training on 14059602 raw words (10362298 effective words) took 23.6s, 439030 effective words/s\n",
      "2021-03-10 20:04:21,484 : INFO : EPOCH 21 - PROGRESS: at 3.82% examples, 376766 words/s, in_qsize 15, out_qsize 0\n",
      "2021-03-10 20:04:22,499 : INFO : EPOCH 21 - PROGRESS: at 8.27% examples, 417385 words/s, in_qsize 14, out_qsize 1\n",
      "2021-03-10 20:04:23,515 : INFO : EPOCH 21 - PROGRESS: at 11.87% examples, 400086 words/s, in_qsize 15, out_qsize 0\n",
      "2021-03-10 20:04:24,525 : INFO : EPOCH 21 - PROGRESS: at 15.92% examples, 404527 words/s, in_qsize 15, out_qsize 0\n",
      "2021-03-10 20:04:25,530 : INFO : EPOCH 21 - PROGRESS: at 20.58% examples, 417532 words/s, in_qsize 14, out_qsize 1\n",
      "2021-03-10 20:04:26,554 : INFO : EPOCH 21 - PROGRESS: at 25.41% examples, 429072 words/s, in_qsize 16, out_qsize 4\n",
      "2021-03-10 20:04:27,557 : INFO : EPOCH 21 - PROGRESS: at 30.36% examples, 439611 words/s, in_qsize 14, out_qsize 1\n",
      "2021-03-10 20:04:28,562 : INFO : EPOCH 21 - PROGRESS: at 35.28% examples, 446355 words/s, in_qsize 15, out_qsize 0\n",
      "2021-03-10 20:04:29,581 : INFO : EPOCH 21 - PROGRESS: at 39.83% examples, 448434 words/s, in_qsize 15, out_qsize 0\n",
      "2021-03-10 20:04:30,605 : INFO : EPOCH 21 - PROGRESS: at 44.57% examples, 452025 words/s, in_qsize 14, out_qsize 1\n",
      "2021-03-10 20:04:31,656 : INFO : EPOCH 21 - PROGRESS: at 49.27% examples, 453126 words/s, in_qsize 16, out_qsize 4\n",
      "2021-03-10 20:04:32,671 : INFO : EPOCH 21 - PROGRESS: at 54.12% examples, 455863 words/s, in_qsize 15, out_qsize 0\n",
      "2021-03-10 20:04:33,672 : INFO : EPOCH 21 - PROGRESS: at 58.30% examples, 454527 words/s, in_qsize 15, out_qsize 0\n",
      "2021-03-10 20:04:34,680 : INFO : EPOCH 21 - PROGRESS: at 62.99% examples, 456137 words/s, in_qsize 15, out_qsize 0\n",
      "2021-03-10 20:04:35,696 : INFO : EPOCH 21 - PROGRESS: at 67.75% examples, 458230 words/s, in_qsize 15, out_qsize 0\n",
      "2021-03-10 20:04:36,721 : INFO : EPOCH 21 - PROGRESS: at 72.54% examples, 459736 words/s, in_qsize 16, out_qsize 1\n",
      "2021-03-10 20:04:37,727 : INFO : EPOCH 21 - PROGRESS: at 77.57% examples, 463663 words/s, in_qsize 15, out_qsize 0\n",
      "2021-03-10 20:04:38,756 : INFO : EPOCH 21 - PROGRESS: at 82.35% examples, 465781 words/s, in_qsize 15, out_qsize 0\n",
      "2021-03-10 20:04:39,771 : INFO : EPOCH 21 - PROGRESS: at 86.98% examples, 466150 words/s, in_qsize 13, out_qsize 2\n",
      "2021-03-10 20:04:40,776 : INFO : EPOCH 21 - PROGRESS: at 90.94% examples, 463154 words/s, in_qsize 15, out_qsize 0\n"
     ]
    },
    {
     "name": "stderr",
     "output_type": "stream",
     "text": [
      "2021-03-10 20:04:41,778 : INFO : EPOCH 21 - PROGRESS: at 95.29% examples, 462863 words/s, in_qsize 15, out_qsize 0\n",
      "2021-03-10 20:04:42,696 : INFO : worker thread finished; awaiting finish of 7 more threads\n",
      "2021-03-10 20:04:42,703 : INFO : worker thread finished; awaiting finish of 6 more threads\n",
      "2021-03-10 20:04:42,705 : INFO : worker thread finished; awaiting finish of 5 more threads\n",
      "2021-03-10 20:04:42,710 : INFO : worker thread finished; awaiting finish of 4 more threads\n",
      "2021-03-10 20:04:42,712 : INFO : worker thread finished; awaiting finish of 3 more threads\n",
      "2021-03-10 20:04:42,722 : INFO : worker thread finished; awaiting finish of 2 more threads\n",
      "2021-03-10 20:04:42,724 : INFO : worker thread finished; awaiting finish of 1 more threads\n",
      "2021-03-10 20:04:42,746 : INFO : worker thread finished; awaiting finish of 0 more threads\n",
      "2021-03-10 20:04:42,749 : INFO : EPOCH - 21 : training on 14059602 raw words (10362551 effective words) took 22.3s, 464485 effective words/s\n",
      "2021-03-10 20:04:43,795 : INFO : EPOCH 22 - PROGRESS: at 4.51% examples, 462358 words/s, in_qsize 15, out_qsize 0\n",
      "2021-03-10 20:04:44,815 : INFO : EPOCH 22 - PROGRESS: at 8.90% examples, 455547 words/s, in_qsize 15, out_qsize 0\n",
      "2021-03-10 20:04:45,842 : INFO : EPOCH 22 - PROGRESS: at 13.78% examples, 468593 words/s, in_qsize 15, out_qsize 0\n",
      "2021-03-10 20:04:46,886 : INFO : EPOCH 22 - PROGRESS: at 18.46% examples, 464693 words/s, in_qsize 15, out_qsize 0\n",
      "2021-03-10 20:04:47,894 : INFO : EPOCH 22 - PROGRESS: at 23.16% examples, 468784 words/s, in_qsize 15, out_qsize 0\n",
      "2021-03-10 20:04:48,918 : INFO : EPOCH 22 - PROGRESS: at 27.96% examples, 469346 words/s, in_qsize 13, out_qsize 2\n",
      "2021-03-10 20:04:49,939 : INFO : EPOCH 22 - PROGRESS: at 32.67% examples, 470006 words/s, in_qsize 15, out_qsize 0\n",
      "2021-03-10 20:04:50,987 : INFO : EPOCH 22 - PROGRESS: at 37.26% examples, 466850 words/s, in_qsize 14, out_qsize 1\n",
      "2021-03-10 20:04:52,064 : INFO : EPOCH 22 - PROGRESS: at 42.29% examples, 469344 words/s, in_qsize 15, out_qsize 0\n",
      "2021-03-10 20:04:53,066 : INFO : EPOCH 22 - PROGRESS: at 46.83% examples, 470088 words/s, in_qsize 15, out_qsize 0\n",
      "2021-03-10 20:04:54,082 : INFO : EPOCH 22 - PROGRESS: at 51.62% examples, 471027 words/s, in_qsize 15, out_qsize 0\n",
      "2021-03-10 20:04:55,089 : INFO : EPOCH 22 - PROGRESS: at 56.34% examples, 472066 words/s, in_qsize 14, out_qsize 1\n",
      "2021-03-10 20:04:56,107 : INFO : EPOCH 22 - PROGRESS: at 61.01% examples, 472784 words/s, in_qsize 15, out_qsize 0\n",
      "2021-03-10 20:04:57,113 : INFO : EPOCH 22 - PROGRESS: at 65.53% examples, 471583 words/s, in_qsize 15, out_qsize 0\n",
      "2021-03-10 20:04:58,118 : INFO : EPOCH 22 - PROGRESS: at 70.47% examples, 473853 words/s, in_qsize 15, out_qsize 0\n",
      "2021-03-10 20:04:59,153 : INFO : EPOCH 22 - PROGRESS: at 75.04% examples, 473733 words/s, in_qsize 15, out_qsize 0\n",
      "2021-03-10 20:05:00,155 : INFO : EPOCH 22 - PROGRESS: at 79.59% examples, 474035 words/s, in_qsize 15, out_qsize 0\n",
      "2021-03-10 20:05:01,165 : INFO : EPOCH 22 - PROGRESS: at 84.47% examples, 476018 words/s, in_qsize 15, out_qsize 0\n",
      "2021-03-10 20:05:02,200 : INFO : EPOCH 22 - PROGRESS: at 89.17% examples, 476136 words/s, in_qsize 15, out_qsize 0\n",
      "2021-03-10 20:05:03,199 : INFO : EPOCH 22 - PROGRESS: at 93.33% examples, 474161 words/s, in_qsize 14, out_qsize 1\n",
      "2021-03-10 20:05:04,205 : INFO : EPOCH 22 - PROGRESS: at 98.15% examples, 474724 words/s, in_qsize 15, out_qsize 0\n",
      "2021-03-10 20:05:04,489 : INFO : worker thread finished; awaiting finish of 7 more threads\n",
      "2021-03-10 20:05:04,515 : INFO : worker thread finished; awaiting finish of 6 more threads\n",
      "2021-03-10 20:05:04,520 : INFO : worker thread finished; awaiting finish of 5 more threads\n",
      "2021-03-10 20:05:04,524 : INFO : worker thread finished; awaiting finish of 4 more threads\n",
      "2021-03-10 20:05:04,549 : INFO : worker thread finished; awaiting finish of 3 more threads\n",
      "2021-03-10 20:05:04,551 : INFO : worker thread finished; awaiting finish of 2 more threads\n",
      "2021-03-10 20:05:04,570 : INFO : worker thread finished; awaiting finish of 1 more threads\n",
      "2021-03-10 20:05:04,581 : INFO : worker thread finished; awaiting finish of 0 more threads\n",
      "2021-03-10 20:05:04,583 : INFO : EPOCH - 22 : training on 14059602 raw words (10362279 effective words) took 21.8s, 475341 effective words/s\n",
      "2021-03-10 20:05:05,649 : INFO : EPOCH 23 - PROGRESS: at 4.77% examples, 481568 words/s, in_qsize 14, out_qsize 1\n",
      "2021-03-10 20:05:06,653 : INFO : EPOCH 23 - PROGRESS: at 9.26% examples, 471981 words/s, in_qsize 15, out_qsize 0\n",
      "2021-03-10 20:05:07,673 : INFO : EPOCH 23 - PROGRESS: at 14.14% examples, 480901 words/s, in_qsize 14, out_qsize 1\n",
      "2021-03-10 20:05:08,678 : INFO : EPOCH 23 - PROGRESS: at 19.03% examples, 485435 words/s, in_qsize 16, out_qsize 1\n",
      "2021-03-10 20:05:09,714 : INFO : EPOCH 23 - PROGRESS: at 23.79% examples, 483268 words/s, in_qsize 15, out_qsize 0\n",
      "2021-03-10 20:05:10,721 : INFO : EPOCH 23 - PROGRESS: at 28.88% examples, 487396 words/s, in_qsize 15, out_qsize 0\n",
      "2021-03-10 20:05:11,749 : INFO : EPOCH 23 - PROGRESS: at 33.55% examples, 483788 words/s, in_qsize 15, out_qsize 0\n",
      "2021-03-10 20:05:12,755 : INFO : EPOCH 23 - PROGRESS: at 38.10% examples, 481240 words/s, in_qsize 15, out_qsize 0\n",
      "2021-03-10 20:05:13,771 : INFO : EPOCH 23 - PROGRESS: at 42.84% examples, 482013 words/s, in_qsize 15, out_qsize 0\n",
      "2021-03-10 20:05:14,799 : INFO : EPOCH 23 - PROGRESS: at 47.67% examples, 482519 words/s, in_qsize 16, out_qsize 0\n",
      "2021-03-10 20:05:15,825 : INFO : EPOCH 23 - PROGRESS: at 52.16% examples, 479902 words/s, in_qsize 15, out_qsize 0\n",
      "2021-03-10 20:05:16,844 : INFO : EPOCH 23 - PROGRESS: at 56.62% examples, 477458 words/s, in_qsize 12, out_qsize 3\n",
      "2021-03-10 20:05:17,873 : INFO : EPOCH 23 - PROGRESS: at 61.38% examples, 477881 words/s, in_qsize 16, out_qsize 0\n",
      "2021-03-10 20:05:18,906 : INFO : EPOCH 23 - PROGRESS: at 66.24% examples, 477997 words/s, in_qsize 14, out_qsize 1\n",
      "2021-03-10 20:05:19,915 : INFO : EPOCH 23 - PROGRESS: at 70.85% examples, 477776 words/s, in_qsize 15, out_qsize 0\n",
      "2021-03-10 20:05:20,933 : INFO : EPOCH 23 - PROGRESS: at 75.35% examples, 477450 words/s, in_qsize 15, out_qsize 0\n",
      "2021-03-10 20:05:21,966 : INFO : EPOCH 23 - PROGRESS: at 80.15% examples, 477939 words/s, in_qsize 16, out_qsize 0\n",
      "2021-03-10 20:05:22,983 : INFO : EPOCH 23 - PROGRESS: at 84.81% examples, 478280 words/s, in_qsize 15, out_qsize 0\n",
      "2021-03-10 20:05:23,987 : INFO : EPOCH 23 - PROGRESS: at 89.64% examples, 479416 words/s, in_qsize 16, out_qsize 0\n",
      "2021-03-10 20:05:25,009 : INFO : EPOCH 23 - PROGRESS: at 94.27% examples, 479292 words/s, in_qsize 15, out_qsize 0\n",
      "2021-03-10 20:05:26,017 : INFO : EPOCH 23 - PROGRESS: at 99.00% examples, 479201 words/s, in_qsize 14, out_qsize 1\n",
      "2021-03-10 20:05:26,107 : INFO : worker thread finished; awaiting finish of 7 more threads\n",
      "2021-03-10 20:05:26,132 : INFO : worker thread finished; awaiting finish of 6 more threads\n",
      "2021-03-10 20:05:26,138 : INFO : worker thread finished; awaiting finish of 5 more threads\n",
      "2021-03-10 20:05:26,144 : INFO : worker thread finished; awaiting finish of 4 more threads\n",
      "2021-03-10 20:05:26,181 : INFO : worker thread finished; awaiting finish of 3 more threads\n",
      "2021-03-10 20:05:26,184 : INFO : worker thread finished; awaiting finish of 2 more threads\n",
      "2021-03-10 20:05:26,186 : INFO : worker thread finished; awaiting finish of 1 more threads\n",
      "2021-03-10 20:05:26,190 : INFO : worker thread finished; awaiting finish of 0 more threads\n",
      "2021-03-10 20:05:26,193 : INFO : EPOCH - 23 : training on 14059602 raw words (10360565 effective words) took 21.6s, 480206 effective words/s\n",
      "2021-03-10 20:05:27,245 : INFO : EPOCH 24 - PROGRESS: at 4.50% examples, 460421 words/s, in_qsize 15, out_qsize 0\n",
      "2021-03-10 20:05:28,250 : INFO : EPOCH 24 - PROGRESS: at 9.24% examples, 476033 words/s, in_qsize 15, out_qsize 0\n",
      "2021-03-10 20:05:29,271 : INFO : EPOCH 24 - PROGRESS: at 14.06% examples, 481011 words/s, in_qsize 15, out_qsize 0\n",
      "2021-03-10 20:05:30,306 : INFO : EPOCH 24 - PROGRESS: at 18.10% examples, 458877 words/s, in_qsize 15, out_qsize 0\n",
      "2021-03-10 20:05:31,336 : INFO : EPOCH 24 - PROGRESS: at 21.47% examples, 434835 words/s, in_qsize 12, out_qsize 9\n",
      "2021-03-10 20:05:32,337 : INFO : EPOCH 24 - PROGRESS: at 25.58% examples, 432074 words/s, in_qsize 14, out_qsize 1\n"
     ]
    },
    {
     "name": "stderr",
     "output_type": "stream",
     "text": [
      "2021-03-10 20:05:33,343 : INFO : EPOCH 24 - PROGRESS: at 29.54% examples, 427662 words/s, in_qsize 15, out_qsize 0\n",
      "2021-03-10 20:05:34,358 : INFO : EPOCH 24 - PROGRESS: at 33.23% examples, 421107 words/s, in_qsize 13, out_qsize 2\n",
      "2021-03-10 20:05:35,374 : INFO : EPOCH 24 - PROGRESS: at 36.68% examples, 412535 words/s, in_qsize 15, out_qsize 0\n",
      "2021-03-10 20:05:36,393 : INFO : EPOCH 24 - PROGRESS: at 40.11% examples, 406348 words/s, in_qsize 15, out_qsize 0\n",
      "2021-03-10 20:05:37,403 : INFO : EPOCH 24 - PROGRESS: at 44.37% examples, 409440 words/s, in_qsize 16, out_qsize 0\n",
      "2021-03-10 20:05:38,425 : INFO : EPOCH 24 - PROGRESS: at 48.14% examples, 407220 words/s, in_qsize 15, out_qsize 0\n",
      "2021-03-10 20:05:39,443 : INFO : EPOCH 24 - PROGRESS: at 52.43% examples, 409410 words/s, in_qsize 15, out_qsize 0\n",
      "2021-03-10 20:05:40,479 : INFO : EPOCH 24 - PROGRESS: at 57.38% examples, 415412 words/s, in_qsize 15, out_qsize 0\n",
      "2021-03-10 20:05:41,487 : INFO : EPOCH 24 - PROGRESS: at 62.14% examples, 420007 words/s, in_qsize 15, out_qsize 0\n",
      "2021-03-10 20:05:42,515 : INFO : EPOCH 24 - PROGRESS: at 66.58% examples, 421724 words/s, in_qsize 14, out_qsize 1\n",
      "2021-03-10 20:05:43,540 : INFO : EPOCH 24 - PROGRESS: at 71.63% examples, 426992 words/s, in_qsize 15, out_qsize 0\n",
      "2021-03-10 20:05:44,546 : INFO : EPOCH 24 - PROGRESS: at 76.17% examples, 430100 words/s, in_qsize 14, out_qsize 1\n",
      "2021-03-10 20:05:45,560 : INFO : EPOCH 24 - PROGRESS: at 80.61% examples, 431691 words/s, in_qsize 15, out_qsize 0\n",
      "2021-03-10 20:05:46,585 : INFO : EPOCH 24 - PROGRESS: at 85.22% examples, 433809 words/s, in_qsize 15, out_qsize 0\n",
      "2021-03-10 20:05:47,619 : INFO : EPOCH 24 - PROGRESS: at 90.20% examples, 436990 words/s, in_qsize 15, out_qsize 0\n",
      "2021-03-10 20:05:48,628 : INFO : EPOCH 24 - PROGRESS: at 94.12% examples, 435791 words/s, in_qsize 14, out_qsize 1\n",
      "2021-03-10 20:05:49,632 : INFO : EPOCH 24 - PROGRESS: at 98.91% examples, 437964 words/s, in_qsize 15, out_qsize 0\n",
      "2021-03-10 20:05:49,793 : INFO : worker thread finished; awaiting finish of 7 more threads\n",
      "2021-03-10 20:05:49,796 : INFO : worker thread finished; awaiting finish of 6 more threads\n",
      "2021-03-10 20:05:49,839 : INFO : worker thread finished; awaiting finish of 5 more threads\n",
      "2021-03-10 20:05:49,847 : INFO : worker thread finished; awaiting finish of 4 more threads\n",
      "2021-03-10 20:05:49,870 : INFO : worker thread finished; awaiting finish of 3 more threads\n",
      "2021-03-10 20:05:49,883 : INFO : worker thread finished; awaiting finish of 2 more threads\n",
      "2021-03-10 20:05:49,889 : INFO : worker thread finished; awaiting finish of 1 more threads\n",
      "2021-03-10 20:05:49,895 : INFO : worker thread finished; awaiting finish of 0 more threads\n",
      "2021-03-10 20:05:49,897 : INFO : EPOCH - 24 : training on 14059602 raw words (10362218 effective words) took 23.7s, 437843 effective words/s\n",
      "2021-03-10 20:05:50,972 : INFO : EPOCH 25 - PROGRESS: at 4.44% examples, 455711 words/s, in_qsize 15, out_qsize 0\n",
      "2021-03-10 20:05:52,039 : INFO : EPOCH 25 - PROGRESS: at 8.68% examples, 435501 words/s, in_qsize 13, out_qsize 13\n",
      "2021-03-10 20:05:53,039 : INFO : EPOCH 25 - PROGRESS: at 14.18% examples, 480142 words/s, in_qsize 15, out_qsize 0\n",
      "2021-03-10 20:05:54,071 : INFO : EPOCH 25 - PROGRESS: at 18.91% examples, 476329 words/s, in_qsize 15, out_qsize 0\n",
      "2021-03-10 20:05:55,089 : INFO : EPOCH 25 - PROGRESS: at 23.57% examples, 476114 words/s, in_qsize 15, out_qsize 0\n",
      "2021-03-10 20:05:56,095 : INFO : EPOCH 25 - PROGRESS: at 28.54% examples, 479194 words/s, in_qsize 15, out_qsize 0\n",
      "2021-03-10 20:05:57,111 : INFO : EPOCH 25 - PROGRESS: at 33.47% examples, 481735 words/s, in_qsize 16, out_qsize 0\n",
      "2021-03-10 20:05:58,113 : INFO : EPOCH 25 - PROGRESS: at 38.18% examples, 481458 words/s, in_qsize 12, out_qsize 3\n",
      "2021-03-10 20:05:59,132 : INFO : EPOCH 25 - PROGRESS: at 42.84% examples, 481368 words/s, in_qsize 16, out_qsize 1\n",
      "2021-03-10 20:06:00,137 : INFO : EPOCH 25 - PROGRESS: at 46.76% examples, 474359 words/s, in_qsize 15, out_qsize 0\n",
      "2021-03-10 20:06:01,214 : INFO : EPOCH 25 - PROGRESS: at 50.68% examples, 464660 words/s, in_qsize 16, out_qsize 2\n",
      "2021-03-10 20:06:02,280 : INFO : EPOCH 25 - PROGRESS: at 54.86% examples, 458635 words/s, in_qsize 16, out_qsize 3\n",
      "2021-03-10 20:06:03,291 : INFO : EPOCH 25 - PROGRESS: at 58.70% examples, 454473 words/s, in_qsize 15, out_qsize 0\n",
      "2021-03-10 20:06:04,326 : INFO : EPOCH 25 - PROGRESS: at 63.33% examples, 454724 words/s, in_qsize 15, out_qsize 0\n",
      "2021-03-10 20:06:05,346 : INFO : EPOCH 25 - PROGRESS: at 67.36% examples, 451672 words/s, in_qsize 12, out_qsize 3\n",
      "2021-03-10 20:06:06,347 : INFO : EPOCH 25 - PROGRESS: at 72.05% examples, 453799 words/s, in_qsize 15, out_qsize 0\n",
      "2021-03-10 20:06:07,353 : INFO : EPOCH 25 - PROGRESS: at 76.60% examples, 455504 words/s, in_qsize 15, out_qsize 0\n",
      "2021-03-10 20:06:08,359 : INFO : EPOCH 25 - PROGRESS: at 81.06% examples, 456663 words/s, in_qsize 15, out_qsize 0\n",
      "2021-03-10 20:06:09,384 : INFO : EPOCH 25 - PROGRESS: at 85.78% examples, 457702 words/s, in_qsize 15, out_qsize 0\n",
      "2021-03-10 20:06:10,387 : INFO : EPOCH 25 - PROGRESS: at 90.42% examples, 458719 words/s, in_qsize 14, out_qsize 1\n",
      "2021-03-10 20:06:11,417 : INFO : EPOCH 25 - PROGRESS: at 95.06% examples, 459392 words/s, in_qsize 15, out_qsize 0\n",
      "2021-03-10 20:06:12,337 : INFO : worker thread finished; awaiting finish of 7 more threads\n",
      "2021-03-10 20:06:12,358 : INFO : worker thread finished; awaiting finish of 6 more threads\n",
      "2021-03-10 20:06:12,367 : INFO : worker thread finished; awaiting finish of 5 more threads\n",
      "2021-03-10 20:06:12,380 : INFO : worker thread finished; awaiting finish of 4 more threads\n",
      "2021-03-10 20:06:12,399 : INFO : worker thread finished; awaiting finish of 3 more threads\n",
      "2021-03-10 20:06:12,402 : INFO : worker thread finished; awaiting finish of 2 more threads\n",
      "2021-03-10 20:06:12,407 : INFO : worker thread finished; awaiting finish of 1 more threads\n",
      "2021-03-10 20:06:12,416 : INFO : worker thread finished; awaiting finish of 0 more threads\n",
      "2021-03-10 20:06:12,418 : INFO : EPOCH - 25 : training on 14059602 raw words (10364664 effective words) took 22.5s, 461554 effective words/s\n",
      "2021-03-10 20:06:13,501 : INFO : EPOCH 26 - PROGRESS: at 4.52% examples, 454557 words/s, in_qsize 15, out_qsize 0\n",
      "2021-03-10 20:06:14,507 : INFO : EPOCH 26 - PROGRESS: at 9.37% examples, 479597 words/s, in_qsize 15, out_qsize 0\n",
      "2021-03-10 20:06:15,562 : INFO : EPOCH 26 - PROGRESS: at 14.12% examples, 475704 words/s, in_qsize 15, out_qsize 0\n",
      "2021-03-10 20:06:16,571 : INFO : EPOCH 26 - PROGRESS: at 18.90% examples, 477436 words/s, in_qsize 15, out_qsize 0\n",
      "2021-03-10 20:06:17,595 : INFO : EPOCH 26 - PROGRESS: at 24.02% examples, 484947 words/s, in_qsize 15, out_qsize 0\n",
      "2021-03-10 20:06:18,605 : INFO : EPOCH 26 - PROGRESS: at 28.94% examples, 485086 words/s, in_qsize 15, out_qsize 0\n",
      "2021-03-10 20:06:19,634 : INFO : EPOCH 26 - PROGRESS: at 33.69% examples, 483809 words/s, in_qsize 13, out_qsize 2\n",
      "2021-03-10 20:06:20,647 : INFO : EPOCH 26 - PROGRESS: at 37.89% examples, 476426 words/s, in_qsize 16, out_qsize 0\n",
      "2021-03-10 20:06:21,694 : INFO : EPOCH 26 - PROGRESS: at 42.90% examples, 479337 words/s, in_qsize 13, out_qsize 2\n",
      "2021-03-10 20:06:22,694 : INFO : EPOCH 26 - PROGRESS: at 47.75% examples, 481425 words/s, in_qsize 14, out_qsize 0\n",
      "2021-03-10 20:06:23,697 : INFO : EPOCH 26 - PROGRESS: at 52.56% examples, 483074 words/s, in_qsize 14, out_qsize 1\n",
      "2021-03-10 20:06:24,703 : INFO : EPOCH 26 - PROGRESS: at 57.09% examples, 481440 words/s, in_qsize 15, out_qsize 0\n",
      "2021-03-10 20:06:25,710 : INFO : EPOCH 26 - PROGRESS: at 61.83% examples, 481820 words/s, in_qsize 15, out_qsize 0\n",
      "2021-03-10 20:06:26,717 : INFO : EPOCH 26 - PROGRESS: at 66.66% examples, 482568 words/s, in_qsize 14, out_qsize 1\n",
      "2021-03-10 20:06:27,724 : INFO : EPOCH 26 - PROGRESS: at 71.51% examples, 483585 words/s, in_qsize 15, out_qsize 0\n",
      "2021-03-10 20:06:28,730 : INFO : EPOCH 26 - PROGRESS: at 76.11% examples, 484003 words/s, in_qsize 15, out_qsize 0\n",
      "2021-03-10 20:06:29,732 : INFO : EPOCH 26 - PROGRESS: at 80.85% examples, 484836 words/s, in_qsize 15, out_qsize 0\n",
      "2021-03-10 20:06:30,771 : INFO : EPOCH 26 - PROGRESS: at 85.57% examples, 484482 words/s, in_qsize 15, out_qsize 0\n",
      "2021-03-10 20:06:31,775 : INFO : EPOCH 26 - PROGRESS: at 90.42% examples, 485276 words/s, in_qsize 14, out_qsize 1\n"
     ]
    },
    {
     "name": "stderr",
     "output_type": "stream",
     "text": [
      "2021-03-10 20:06:32,818 : INFO : EPOCH 26 - PROGRESS: at 94.70% examples, 482582 words/s, in_qsize 16, out_qsize 0\n",
      "2021-03-10 20:06:33,825 : INFO : EPOCH 26 - PROGRESS: at 99.07% examples, 480630 words/s, in_qsize 14, out_qsize 0\n",
      "2021-03-10 20:06:33,937 : INFO : worker thread finished; awaiting finish of 7 more threads\n",
      "2021-03-10 20:06:33,947 : INFO : worker thread finished; awaiting finish of 6 more threads\n",
      "2021-03-10 20:06:33,951 : INFO : worker thread finished; awaiting finish of 5 more threads\n",
      "2021-03-10 20:06:33,956 : INFO : worker thread finished; awaiting finish of 4 more threads\n",
      "2021-03-10 20:06:33,973 : INFO : worker thread finished; awaiting finish of 3 more threads\n",
      "2021-03-10 20:06:33,992 : INFO : worker thread finished; awaiting finish of 2 more threads\n",
      "2021-03-10 20:06:34,010 : INFO : worker thread finished; awaiting finish of 1 more threads\n",
      "2021-03-10 20:06:34,020 : INFO : worker thread finished; awaiting finish of 0 more threads\n",
      "2021-03-10 20:06:34,023 : INFO : EPOCH - 26 : training on 14059602 raw words (10360853 effective words) took 21.5s, 480815 effective words/s\n",
      "2021-03-10 20:06:35,136 : INFO : EPOCH 27 - PROGRESS: at 4.58% examples, 442387 words/s, in_qsize 16, out_qsize 0\n",
      "2021-03-10 20:06:36,174 : INFO : EPOCH 27 - PROGRESS: at 9.23% examples, 455155 words/s, in_qsize 16, out_qsize 2\n",
      "2021-03-10 20:06:37,181 : INFO : EPOCH 27 - PROGRESS: at 13.84% examples, 461930 words/s, in_qsize 13, out_qsize 2\n",
      "2021-03-10 20:06:38,197 : INFO : EPOCH 27 - PROGRESS: at 18.72% examples, 468269 words/s, in_qsize 14, out_qsize 1\n",
      "2021-03-10 20:06:39,212 : INFO : EPOCH 27 - PROGRESS: at 23.42% examples, 471197 words/s, in_qsize 15, out_qsize 0\n",
      "2021-03-10 20:06:40,218 : INFO : EPOCH 27 - PROGRESS: at 28.32% examples, 473838 words/s, in_qsize 15, out_qsize 0\n",
      "2021-03-10 20:06:41,223 : INFO : EPOCH 27 - PROGRESS: at 33.04% examples, 474821 words/s, in_qsize 16, out_qsize 0\n",
      "2021-03-10 20:06:42,310 : INFO : EPOCH 27 - PROGRESS: at 37.57% examples, 467814 words/s, in_qsize 11, out_qsize 4\n",
      "2021-03-10 20:06:43,321 : INFO : EPOCH 27 - PROGRESS: at 42.35% examples, 471180 words/s, in_qsize 15, out_qsize 0\n",
      "2021-03-10 20:06:44,325 : INFO : EPOCH 27 - PROGRESS: at 46.98% examples, 472302 words/s, in_qsize 15, out_qsize 0\n",
      "2021-03-10 20:06:45,336 : INFO : EPOCH 27 - PROGRESS: at 50.54% examples, 462374 words/s, in_qsize 14, out_qsize 2\n",
      "2021-03-10 20:06:46,355 : INFO : EPOCH 27 - PROGRESS: at 54.89% examples, 460082 words/s, in_qsize 15, out_qsize 0\n",
      "2021-03-10 20:06:47,382 : INFO : EPOCH 27 - PROGRESS: at 59.69% examples, 462462 words/s, in_qsize 15, out_qsize 0\n",
      "2021-03-10 20:06:48,394 : INFO : EPOCH 27 - PROGRESS: at 64.35% examples, 462911 words/s, in_qsize 14, out_qsize 1\n",
      "2021-03-10 20:06:49,436 : INFO : EPOCH 27 - PROGRESS: at 68.73% examples, 461350 words/s, in_qsize 15, out_qsize 0\n",
      "2021-03-10 20:06:50,463 : INFO : EPOCH 27 - PROGRESS: at 72.88% examples, 458617 words/s, in_qsize 15, out_qsize 0\n",
      "2021-03-10 20:06:51,483 : INFO : EPOCH 27 - PROGRESS: at 76.90% examples, 456343 words/s, in_qsize 14, out_qsize 1\n",
      "2021-03-10 20:06:52,486 : INFO : EPOCH 27 - PROGRESS: at 81.20% examples, 456792 words/s, in_qsize 15, out_qsize 0\n",
      "2021-03-10 20:06:53,504 : INFO : EPOCH 27 - PROGRESS: at 85.43% examples, 455341 words/s, in_qsize 15, out_qsize 0\n",
      "2021-03-10 20:06:54,504 : INFO : EPOCH 27 - PROGRESS: at 90.00% examples, 456203 words/s, in_qsize 15, out_qsize 0\n",
      "2021-03-10 20:06:55,505 : INFO : EPOCH 27 - PROGRESS: at 93.56% examples, 452548 words/s, in_qsize 16, out_qsize 0\n",
      "2021-03-10 20:06:56,507 : INFO : EPOCH 27 - PROGRESS: at 98.13% examples, 453164 words/s, in_qsize 12, out_qsize 3\n",
      "2021-03-10 20:06:56,831 : INFO : worker thread finished; awaiting finish of 7 more threads\n",
      "2021-03-10 20:06:56,840 : INFO : worker thread finished; awaiting finish of 6 more threads\n",
      "2021-03-10 20:06:56,873 : INFO : worker thread finished; awaiting finish of 5 more threads\n",
      "2021-03-10 20:06:56,875 : INFO : worker thread finished; awaiting finish of 4 more threads\n",
      "2021-03-10 20:06:56,902 : INFO : worker thread finished; awaiting finish of 3 more threads\n",
      "2021-03-10 20:06:56,904 : INFO : worker thread finished; awaiting finish of 2 more threads\n",
      "2021-03-10 20:06:56,915 : INFO : worker thread finished; awaiting finish of 1 more threads\n",
      "2021-03-10 20:06:56,930 : INFO : worker thread finished; awaiting finish of 0 more threads\n",
      "2021-03-10 20:06:56,933 : INFO : EPOCH - 27 : training on 14059602 raw words (10363477 effective words) took 22.9s, 453153 effective words/s\n",
      "2021-03-10 20:06:57,992 : INFO : EPOCH 28 - PROGRESS: at 3.52% examples, 363792 words/s, in_qsize 12, out_qsize 3\n",
      "2021-03-10 20:06:59,006 : INFO : EPOCH 28 - PROGRESS: at 8.27% examples, 426401 words/s, in_qsize 15, out_qsize 0\n",
      "2021-03-10 20:07:00,069 : INFO : EPOCH 28 - PROGRESS: at 11.93% examples, 401858 words/s, in_qsize 15, out_qsize 0\n",
      "2021-03-10 20:07:01,114 : INFO : EPOCH 28 - PROGRESS: at 15.43% examples, 388292 words/s, in_qsize 15, out_qsize 0\n",
      "2021-03-10 20:07:02,120 : INFO : EPOCH 28 - PROGRESS: at 19.21% examples, 387400 words/s, in_qsize 14, out_qsize 1\n",
      "2021-03-10 20:07:03,188 : INFO : EPOCH 28 - PROGRESS: at 23.03% examples, 384192 words/s, in_qsize 16, out_qsize 2\n",
      "2021-03-10 20:07:04,226 : INFO : EPOCH 28 - PROGRESS: at 27.15% examples, 386794 words/s, in_qsize 15, out_qsize 0\n",
      "2021-03-10 20:07:05,233 : INFO : EPOCH 28 - PROGRESS: at 30.87% examples, 385886 words/s, in_qsize 15, out_qsize 0\n",
      "2021-03-10 20:07:06,322 : INFO : EPOCH 28 - PROGRESS: at 35.35% examples, 389330 words/s, in_qsize 16, out_qsize 0\n",
      "2021-03-10 20:07:07,323 : INFO : EPOCH 28 - PROGRESS: at 38.75% examples, 385367 words/s, in_qsize 15, out_qsize 0\n",
      "2021-03-10 20:07:08,357 : INFO : EPOCH 28 - PROGRESS: at 41.62% examples, 377409 words/s, in_qsize 16, out_qsize 0\n",
      "2021-03-10 20:07:09,356 : INFO : EPOCH 28 - PROGRESS: at 44.98% examples, 375098 words/s, in_qsize 14, out_qsize 1\n",
      "2021-03-10 20:07:10,364 : INFO : EPOCH 28 - PROGRESS: at 48.75% examples, 376209 words/s, in_qsize 15, out_qsize 0\n",
      "2021-03-10 20:07:11,374 : INFO : EPOCH 28 - PROGRESS: at 52.83% examples, 379076 words/s, in_qsize 13, out_qsize 2\n",
      "2021-03-10 20:07:12,445 : INFO : EPOCH 28 - PROGRESS: at 56.54% examples, 377319 words/s, in_qsize 15, out_qsize 0\n",
      "2021-03-10 20:07:13,473 : INFO : EPOCH 28 - PROGRESS: at 60.34% examples, 377693 words/s, in_qsize 15, out_qsize 0\n",
      "2021-03-10 20:07:14,481 : INFO : EPOCH 28 - PROGRESS: at 64.55% examples, 380557 words/s, in_qsize 15, out_qsize 0\n",
      "2021-03-10 20:07:15,488 : INFO : EPOCH 28 - PROGRESS: at 68.93% examples, 384568 words/s, in_qsize 15, out_qsize 0\n",
      "2021-03-10 20:07:16,530 : INFO : EPOCH 28 - PROGRESS: at 73.15% examples, 386450 words/s, in_qsize 14, out_qsize 1\n",
      "2021-03-10 20:07:17,585 : INFO : EPOCH 28 - PROGRESS: at 76.96% examples, 386355 words/s, in_qsize 15, out_qsize 0\n",
      "2021-03-10 20:07:18,603 : INFO : EPOCH 28 - PROGRESS: at 80.43% examples, 385062 words/s, in_qsize 15, out_qsize 0\n",
      "2021-03-10 20:07:19,656 : INFO : EPOCH 28 - PROGRESS: at 84.76% examples, 387321 words/s, in_qsize 15, out_qsize 0\n",
      "2021-03-10 20:07:20,737 : INFO : EPOCH 28 - PROGRESS: at 88.11% examples, 384428 words/s, in_qsize 15, out_qsize 0\n",
      "2021-03-10 20:07:21,746 : INFO : EPOCH 28 - PROGRESS: at 92.06% examples, 385469 words/s, in_qsize 14, out_qsize 1\n",
      "2021-03-10 20:07:22,749 : INFO : EPOCH 28 - PROGRESS: at 95.76% examples, 385445 words/s, in_qsize 15, out_qsize 0\n",
      "2021-03-10 20:07:23,652 : INFO : worker thread finished; awaiting finish of 7 more threads\n",
      "2021-03-10 20:07:23,695 : INFO : worker thread finished; awaiting finish of 6 more threads\n",
      "2021-03-10 20:07:23,707 : INFO : worker thread finished; awaiting finish of 5 more threads\n",
      "2021-03-10 20:07:23,712 : INFO : worker thread finished; awaiting finish of 4 more threads\n",
      "2021-03-10 20:07:23,743 : INFO : worker thread finished; awaiting finish of 3 more threads\n",
      "2021-03-10 20:07:23,752 : INFO : EPOCH 28 - PROGRESS: at 99.87% examples, 386806 words/s, in_qsize 2, out_qsize 1\n",
      "2021-03-10 20:07:23,754 : INFO : worker thread finished; awaiting finish of 2 more threads\n",
      "2021-03-10 20:07:23,764 : INFO : worker thread finished; awaiting finish of 1 more threads\n",
      "2021-03-10 20:07:23,775 : INFO : worker thread finished; awaiting finish of 0 more threads\n"
     ]
    },
    {
     "name": "stderr",
     "output_type": "stream",
     "text": [
      "2021-03-10 20:07:23,777 : INFO : EPOCH - 28 : training on 14059602 raw words (10363672 effective words) took 26.8s, 386879 effective words/s\n",
      "2021-03-10 20:07:24,882 : INFO : EPOCH 29 - PROGRESS: at 3.51% examples, 356007 words/s, in_qsize 13, out_qsize 2\n",
      "2021-03-10 20:07:25,897 : INFO : EPOCH 29 - PROGRESS: at 7.64% examples, 389264 words/s, in_qsize 14, out_qsize 1\n",
      "2021-03-10 20:07:26,922 : INFO : EPOCH 29 - PROGRESS: at 11.19% examples, 380008 words/s, in_qsize 15, out_qsize 0\n",
      "2021-03-10 20:07:27,989 : INFO : EPOCH 29 - PROGRESS: at 15.43% examples, 387469 words/s, in_qsize 15, out_qsize 0\n",
      "2021-03-10 20:07:28,991 : INFO : EPOCH 29 - PROGRESS: at 19.25% examples, 388378 words/s, in_qsize 16, out_qsize 0\n",
      "2021-03-10 20:07:30,055 : INFO : EPOCH 29 - PROGRESS: at 23.09% examples, 385321 words/s, in_qsize 16, out_qsize 0\n",
      "2021-03-10 20:07:31,077 : INFO : EPOCH 29 - PROGRESS: at 27.64% examples, 394705 words/s, in_qsize 15, out_qsize 0\n",
      "2021-03-10 20:07:32,079 : INFO : EPOCH 29 - PROGRESS: at 31.42% examples, 393944 words/s, in_qsize 15, out_qsize 0\n",
      "2021-03-10 20:07:33,098 : INFO : EPOCH 29 - PROGRESS: at 35.69% examples, 397027 words/s, in_qsize 15, out_qsize 0\n",
      "2021-03-10 20:07:34,122 : INFO : EPOCH 29 - PROGRESS: at 40.40% examples, 404986 words/s, in_qsize 13, out_qsize 2\n",
      "2021-03-10 20:07:35,129 : INFO : EPOCH 29 - PROGRESS: at 44.58% examples, 407548 words/s, in_qsize 15, out_qsize 0\n",
      "2021-03-10 20:07:36,132 : INFO : EPOCH 29 - PROGRESS: at 48.49% examples, 407436 words/s, in_qsize 16, out_qsize 1\n",
      "2021-03-10 20:07:37,134 : INFO : EPOCH 29 - PROGRESS: at 52.56% examples, 408380 words/s, in_qsize 15, out_qsize 0\n",
      "2021-03-10 20:07:38,152 : INFO : EPOCH 29 - PROGRESS: at 57.17% examples, 412463 words/s, in_qsize 15, out_qsize 0\n",
      "2021-03-10 20:07:39,196 : INFO : EPOCH 29 - PROGRESS: at 61.81% examples, 415773 words/s, in_qsize 16, out_qsize 0\n",
      "2021-03-10 20:07:40,204 : INFO : EPOCH 29 - PROGRESS: at 66.53% examples, 419598 words/s, in_qsize 14, out_qsize 1\n",
      "2021-03-10 20:07:41,218 : INFO : EPOCH 29 - PROGRESS: at 71.13% examples, 422729 words/s, in_qsize 15, out_qsize 0\n",
      "2021-03-10 20:07:42,247 : INFO : EPOCH 29 - PROGRESS: at 75.82% examples, 426333 words/s, in_qsize 16, out_qsize 1\n",
      "2021-03-10 20:07:43,295 : INFO : EPOCH 29 - PROGRESS: at 80.11% examples, 426593 words/s, in_qsize 16, out_qsize 3\n",
      "2021-03-10 20:07:44,299 : INFO : EPOCH 29 - PROGRESS: at 84.82% examples, 429771 words/s, in_qsize 11, out_qsize 4\n",
      "2021-03-10 20:07:45,304 : INFO : EPOCH 29 - PROGRESS: at 89.55% examples, 432739 words/s, in_qsize 14, out_qsize 1\n",
      "2021-03-10 20:07:46,307 : INFO : EPOCH 29 - PROGRESS: at 94.20% examples, 435095 words/s, in_qsize 15, out_qsize 0\n",
      "2021-03-10 20:07:47,353 : INFO : EPOCH 29 - PROGRESS: at 99.07% examples, 436833 words/s, in_qsize 14, out_qsize 0\n",
      "2021-03-10 20:07:47,391 : INFO : worker thread finished; awaiting finish of 7 more threads\n",
      "2021-03-10 20:07:47,456 : INFO : worker thread finished; awaiting finish of 6 more threads\n",
      "2021-03-10 20:07:47,460 : INFO : worker thread finished; awaiting finish of 5 more threads\n",
      "2021-03-10 20:07:47,469 : INFO : worker thread finished; awaiting finish of 4 more threads\n",
      "2021-03-10 20:07:47,473 : INFO : worker thread finished; awaiting finish of 3 more threads\n",
      "2021-03-10 20:07:47,485 : INFO : worker thread finished; awaiting finish of 2 more threads\n",
      "2021-03-10 20:07:47,500 : INFO : worker thread finished; awaiting finish of 1 more threads\n",
      "2021-03-10 20:07:47,511 : INFO : worker thread finished; awaiting finish of 0 more threads\n",
      "2021-03-10 20:07:47,514 : INFO : EPOCH - 29 : training on 14059602 raw words (10362281 effective words) took 23.7s, 438029 effective words/s\n",
      "2021-03-10 20:07:48,586 : INFO : EPOCH 30 - PROGRESS: at 4.23% examples, 419151 words/s, in_qsize 16, out_qsize 6\n",
      "2021-03-10 20:07:49,589 : INFO : EPOCH 30 - PROGRESS: at 8.90% examples, 451557 words/s, in_qsize 15, out_qsize 0\n",
      "2021-03-10 20:07:50,607 : INFO : EPOCH 30 - PROGRESS: at 13.57% examples, 460273 words/s, in_qsize 15, out_qsize 0\n",
      "2021-03-10 20:07:51,608 : INFO : EPOCH 30 - PROGRESS: at 18.44% examples, 468656 words/s, in_qsize 14, out_qsize 1\n",
      "2021-03-10 20:07:52,642 : INFO : EPOCH 30 - PROGRESS: at 23.49% examples, 476897 words/s, in_qsize 15, out_qsize 0\n",
      "2021-03-10 20:07:53,651 : INFO : EPOCH 30 - PROGRESS: at 28.10% examples, 473679 words/s, in_qsize 16, out_qsize 0\n",
      "2021-03-10 20:07:54,713 : INFO : EPOCH 30 - PROGRESS: at 31.91% examples, 458753 words/s, in_qsize 15, out_qsize 14\n",
      "2021-03-10 20:07:55,732 : INFO : EPOCH 30 - PROGRESS: at 37.58% examples, 471080 words/s, in_qsize 15, out_qsize 0\n",
      "2021-03-10 20:07:56,764 : INFO : EPOCH 30 - PROGRESS: at 42.43% examples, 473763 words/s, in_qsize 15, out_qsize 0\n",
      "2021-03-10 20:07:57,767 : INFO : EPOCH 30 - PROGRESS: at 47.13% examples, 475485 words/s, in_qsize 15, out_qsize 0\n",
      "2021-03-10 20:07:58,769 : INFO : EPOCH 30 - PROGRESS: at 52.02% examples, 477740 words/s, in_qsize 15, out_qsize 0\n",
      "2021-03-10 20:07:59,811 : INFO : EPOCH 30 - PROGRESS: at 56.54% examples, 475195 words/s, in_qsize 15, out_qsize 0\n",
      "2021-03-10 20:08:00,940 : INFO : EPOCH 30 - PROGRESS: at 60.67% examples, 467368 words/s, in_qsize 16, out_qsize 0\n",
      "2021-03-10 20:08:01,982 : INFO : EPOCH 30 - PROGRESS: at 64.63% examples, 461411 words/s, in_qsize 15, out_qsize 0\n",
      "2021-03-10 20:08:02,984 : INFO : EPOCH 30 - PROGRESS: at 68.79% examples, 459650 words/s, in_qsize 15, out_qsize 0\n",
      "2021-03-10 20:08:04,012 : INFO : EPOCH 30 - PROGRESS: at 72.81% examples, 456159 words/s, in_qsize 15, out_qsize 0\n",
      "2021-03-10 20:08:05,014 : INFO : EPOCH 30 - PROGRESS: at 76.88% examples, 454920 words/s, in_qsize 14, out_qsize 1\n",
      "2021-03-10 20:08:06,053 : INFO : EPOCH 30 - PROGRESS: at 80.85% examples, 452032 words/s, in_qsize 16, out_qsize 0\n",
      "2021-03-10 20:08:07,082 : INFO : EPOCH 30 - PROGRESS: at 84.65% examples, 448844 words/s, in_qsize 15, out_qsize 0\n",
      "2021-03-10 20:08:08,097 : INFO : EPOCH 30 - PROGRESS: at 88.23% examples, 444757 words/s, in_qsize 13, out_qsize 2\n",
      "2021-03-10 20:08:09,128 : INFO : EPOCH 30 - PROGRESS: at 91.99% examples, 441665 words/s, in_qsize 15, out_qsize 0\n",
      "2021-03-10 20:08:10,144 : INFO : EPOCH 30 - PROGRESS: at 96.26% examples, 441485 words/s, in_qsize 15, out_qsize 0\n",
      "2021-03-10 20:08:10,973 : INFO : worker thread finished; awaiting finish of 7 more threads\n",
      "2021-03-10 20:08:10,975 : INFO : worker thread finished; awaiting finish of 6 more threads\n",
      "2021-03-10 20:08:10,980 : INFO : worker thread finished; awaiting finish of 5 more threads\n",
      "2021-03-10 20:08:11,008 : INFO : worker thread finished; awaiting finish of 4 more threads\n",
      "2021-03-10 20:08:11,011 : INFO : worker thread finished; awaiting finish of 3 more threads\n",
      "2021-03-10 20:08:11,032 : INFO : worker thread finished; awaiting finish of 2 more threads\n",
      "2021-03-10 20:08:11,043 : INFO : worker thread finished; awaiting finish of 1 more threads\n",
      "2021-03-10 20:08:11,045 : INFO : worker thread finished; awaiting finish of 0 more threads\n",
      "2021-03-10 20:08:11,047 : INFO : EPOCH - 30 : training on 14059602 raw words (10361619 effective words) took 23.5s, 440803 effective words/s\n",
      "2021-03-10 20:08:12,130 : INFO : EPOCH 31 - PROGRESS: at 3.46% examples, 347917 words/s, in_qsize 15, out_qsize 0\n",
      "2021-03-10 20:08:13,141 : INFO : EPOCH 31 - PROGRESS: at 7.58% examples, 385812 words/s, in_qsize 14, out_qsize 1\n",
      "2021-03-10 20:08:14,174 : INFO : EPOCH 31 - PROGRESS: at 11.99% examples, 405498 words/s, in_qsize 15, out_qsize 0\n",
      "2021-03-10 20:08:15,197 : INFO : EPOCH 31 - PROGRESS: at 16.28% examples, 412419 words/s, in_qsize 12, out_qsize 3\n",
      "2021-03-10 20:08:16,310 : INFO : EPOCH 31 - PROGRESS: at 20.88% examples, 413804 words/s, in_qsize 12, out_qsize 3\n",
      "2021-03-10 20:08:17,317 : INFO : EPOCH 31 - PROGRESS: at 24.30% examples, 404599 words/s, in_qsize 15, out_qsize 0\n",
      "2021-03-10 20:08:18,349 : INFO : EPOCH 31 - PROGRESS: at 28.77% examples, 408543 words/s, in_qsize 14, out_qsize 1\n",
      "2021-03-10 20:08:19,409 : INFO : EPOCH 31 - PROGRESS: at 33.46% examples, 414532 words/s, in_qsize 14, out_qsize 1\n",
      "2021-03-10 20:08:20,420 : INFO : EPOCH 31 - PROGRESS: at 37.75% examples, 416394 words/s, in_qsize 15, out_qsize 0\n",
      "2021-03-10 20:08:21,448 : INFO : EPOCH 31 - PROGRESS: at 42.28% examples, 420869 words/s, in_qsize 15, out_qsize 0\n"
     ]
    },
    {
     "name": "stderr",
     "output_type": "stream",
     "text": [
      "2021-03-10 20:08:22,499 : INFO : EPOCH 31 - PROGRESS: at 46.54% examples, 421523 words/s, in_qsize 14, out_qsize 1\n",
      "2021-03-10 20:08:23,514 : INFO : EPOCH 31 - PROGRESS: at 49.88% examples, 414680 words/s, in_qsize 15, out_qsize 0\n",
      "2021-03-10 20:08:24,523 : INFO : EPOCH 31 - PROGRESS: at 52.85% examples, 406213 words/s, in_qsize 15, out_qsize 0\n",
      "2021-03-10 20:08:25,548 : INFO : EPOCH 31 - PROGRESS: at 57.12% examples, 407682 words/s, in_qsize 14, out_qsize 1\n",
      "2021-03-10 20:08:26,555 : INFO : EPOCH 31 - PROGRESS: at 60.82% examples, 406184 words/s, in_qsize 15, out_qsize 0\n",
      "2021-03-10 20:08:27,556 : INFO : EPOCH 31 - PROGRESS: at 64.70% examples, 405374 words/s, in_qsize 15, out_qsize 0\n",
      "2021-03-10 20:08:28,566 : INFO : EPOCH 31 - PROGRESS: at 68.09% examples, 402303 words/s, in_qsize 15, out_qsize 0\n",
      "2021-03-10 20:08:29,603 : INFO : EPOCH 31 - PROGRESS: at 71.69% examples, 399819 words/s, in_qsize 15, out_qsize 0\n",
      "2021-03-10 20:08:30,629 : INFO : EPOCH 31 - PROGRESS: at 75.37% examples, 398944 words/s, in_qsize 15, out_qsize 0\n",
      "2021-03-10 20:08:31,647 : INFO : EPOCH 31 - PROGRESS: at 79.00% examples, 397893 words/s, in_qsize 14, out_qsize 1\n",
      "2021-03-10 20:08:32,647 : INFO : EPOCH 31 - PROGRESS: at 82.26% examples, 395593 words/s, in_qsize 16, out_qsize 0\n",
      "2021-03-10 20:08:33,687 : INFO : EPOCH 31 - PROGRESS: at 86.55% examples, 397057 words/s, in_qsize 15, out_qsize 0\n",
      "2021-03-10 20:08:34,695 : INFO : EPOCH 31 - PROGRESS: at 90.99% examples, 399507 words/s, in_qsize 16, out_qsize 0\n",
      "2021-03-10 20:08:35,700 : INFO : EPOCH 31 - PROGRESS: at 94.20% examples, 397090 words/s, in_qsize 15, out_qsize 0\n",
      "2021-03-10 20:08:36,713 : INFO : EPOCH 31 - PROGRESS: at 97.99% examples, 396481 words/s, in_qsize 16, out_qsize 0\n",
      "2021-03-10 20:08:37,036 : INFO : worker thread finished; awaiting finish of 7 more threads\n",
      "2021-03-10 20:08:37,060 : INFO : worker thread finished; awaiting finish of 6 more threads\n",
      "2021-03-10 20:08:37,063 : INFO : worker thread finished; awaiting finish of 5 more threads\n",
      "2021-03-10 20:08:37,064 : INFO : worker thread finished; awaiting finish of 4 more threads\n",
      "2021-03-10 20:08:37,082 : INFO : worker thread finished; awaiting finish of 3 more threads\n",
      "2021-03-10 20:08:37,085 : INFO : worker thread finished; awaiting finish of 2 more threads\n",
      "2021-03-10 20:08:37,091 : INFO : worker thread finished; awaiting finish of 1 more threads\n",
      "2021-03-10 20:08:37,115 : INFO : worker thread finished; awaiting finish of 0 more threads\n",
      "2021-03-10 20:08:37,117 : INFO : EPOCH - 31 : training on 14059602 raw words (10361129 effective words) took 26.0s, 398297 effective words/s\n",
      "2021-03-10 20:08:38,202 : INFO : EPOCH 32 - PROGRESS: at 3.07% examples, 305053 words/s, in_qsize 15, out_qsize 0\n",
      "2021-03-10 20:08:39,248 : INFO : EPOCH 32 - PROGRESS: at 6.52% examples, 323321 words/s, in_qsize 13, out_qsize 2\n",
      "2021-03-10 20:08:40,249 : INFO : EPOCH 32 - PROGRESS: at 11.00% examples, 368754 words/s, in_qsize 15, out_qsize 0\n",
      "2021-03-10 20:08:41,274 : INFO : EPOCH 32 - PROGRESS: at 15.58% examples, 392023 words/s, in_qsize 14, out_qsize 1\n",
      "2021-03-10 20:08:42,304 : INFO : EPOCH 32 - PROGRESS: at 20.66% examples, 413780 words/s, in_qsize 15, out_qsize 0\n",
      "2021-03-10 20:08:43,308 : INFO : EPOCH 32 - PROGRESS: at 25.51% examples, 427247 words/s, in_qsize 15, out_qsize 0\n",
      "2021-03-10 20:08:44,331 : INFO : EPOCH 32 - PROGRESS: at 30.28% examples, 434705 words/s, in_qsize 15, out_qsize 0\n",
      "2021-03-10 20:08:45,346 : INFO : EPOCH 32 - PROGRESS: at 34.92% examples, 437852 words/s, in_qsize 15, out_qsize 0\n",
      "2021-03-10 20:08:46,353 : INFO : EPOCH 32 - PROGRESS: at 39.82% examples, 445459 words/s, in_qsize 15, out_qsize 0\n",
      "2021-03-10 20:08:47,383 : INFO : EPOCH 32 - PROGRESS: at 44.38% examples, 446988 words/s, in_qsize 15, out_qsize 0\n",
      "2021-03-10 20:08:48,391 : INFO : EPOCH 32 - PROGRESS: at 49.14% examples, 450883 words/s, in_qsize 15, out_qsize 0\n",
      "2021-03-10 20:08:49,416 : INFO : EPOCH 32 - PROGRESS: at 53.71% examples, 451660 words/s, in_qsize 14, out_qsize 1\n",
      "2021-03-10 20:08:50,450 : INFO : EPOCH 32 - PROGRESS: at 58.22% examples, 451684 words/s, in_qsize 15, out_qsize 0\n",
      "2021-03-10 20:08:51,454 : INFO : EPOCH 32 - PROGRESS: at 63.07% examples, 454584 words/s, in_qsize 14, out_qsize 1\n",
      "2021-03-10 20:08:52,458 : INFO : EPOCH 32 - PROGRESS: at 67.88% examples, 457604 words/s, in_qsize 14, out_qsize 1\n",
      "2021-03-10 20:08:53,462 : INFO : EPOCH 32 - PROGRESS: at 72.03% examples, 455765 words/s, in_qsize 13, out_qsize 2\n",
      "2021-03-10 20:08:54,467 : INFO : EPOCH 32 - PROGRESS: at 75.89% examples, 453209 words/s, in_qsize 15, out_qsize 0\n",
      "2021-03-10 20:08:55,514 : INFO : EPOCH 32 - PROGRESS: at 80.22% examples, 451995 words/s, in_qsize 15, out_qsize 0\n",
      "2021-03-10 20:08:56,514 : INFO : EPOCH 32 - PROGRESS: at 84.32% examples, 451088 words/s, in_qsize 15, out_qsize 0\n",
      "2021-03-10 20:08:57,535 : INFO : EPOCH 32 - PROGRESS: at 88.10% examples, 447795 words/s, in_qsize 15, out_qsize 0\n",
      "2021-03-10 20:08:58,610 : INFO : EPOCH 32 - PROGRESS: at 92.36% examples, 446018 words/s, in_qsize 16, out_qsize 0\n",
      "2021-03-10 20:08:59,617 : INFO : EPOCH 32 - PROGRESS: at 96.95% examples, 447422 words/s, in_qsize 15, out_qsize 0\n",
      "2021-03-10 20:09:00,168 : INFO : worker thread finished; awaiting finish of 7 more threads\n",
      "2021-03-10 20:09:00,182 : INFO : worker thread finished; awaiting finish of 6 more threads\n",
      "2021-03-10 20:09:00,189 : INFO : worker thread finished; awaiting finish of 5 more threads\n",
      "2021-03-10 20:09:00,201 : INFO : worker thread finished; awaiting finish of 4 more threads\n",
      "2021-03-10 20:09:00,210 : INFO : worker thread finished; awaiting finish of 3 more threads\n",
      "2021-03-10 20:09:00,235 : INFO : worker thread finished; awaiting finish of 2 more threads\n",
      "2021-03-10 20:09:00,239 : INFO : worker thread finished; awaiting finish of 1 more threads\n",
      "2021-03-10 20:09:00,245 : INFO : worker thread finished; awaiting finish of 0 more threads\n",
      "2021-03-10 20:09:00,248 : INFO : EPOCH - 32 : training on 14059602 raw words (10361199 effective words) took 23.1s, 448604 effective words/s\n",
      "2021-03-10 20:09:00,251 : INFO : training on a 449907264 raw words (331581497 effective words) took 775.9s, 427348 effective words/s\n"
     ]
    },
    {
     "name": "stdout",
     "output_type": "stream",
     "text": [
      "Wall time: 12min 55s\n"
     ]
    },
    {
     "data": {
      "text/plain": [
       "(331581497, 449907264)"
      ]
     },
     "execution_count": 48,
     "metadata": {},
     "output_type": "execute_result"
    }
   ],
   "source": [
    "%%time\n",
    "w2v_model.train(documents, total_examples=len(documents), epochs=W2V_EPOCH)"
   ]
  },
  {
   "cell_type": "code",
   "execution_count": 49,
   "metadata": {
    "scrolled": true
   },
   "outputs": [
    {
     "name": "stderr",
     "output_type": "stream",
     "text": [
      "<ipython-input-49-9e1a4c826e7b>:1: DeprecationWarning: Call to deprecated `most_similar` (Method will be removed in 4.0.0, use self.wv.most_similar() instead).\n",
      "  w2v_model.most_similar(\"love\")\n",
      "2021-03-10 20:10:56,326 : INFO : precomputing L2-norms of word weight vectors\n"
     ]
    },
    {
     "data": {
      "text/plain": [
       "[('hate', 0.6895469427108765),\n",
       " ('loved', 0.6539959907531738),\n",
       " ('Love', 0.647836446762085),\n",
       " ('enjoy', 0.6455405950546265),\n",
       " ('adore', 0.6207034587860107),\n",
       " ('liked', 0.5966242551803589),\n",
       " ('LOVE', 0.5744820237159729),\n",
       " ('luv', 0.5582122206687927),\n",
       " ('dislike', 0.5541728138923645),\n",
       " ('recommend', 0.49958938360214233)]"
      ]
     },
     "execution_count": 49,
     "metadata": {},
     "output_type": "execute_result"
    }
   ],
   "source": [
    "w2v_model.most_similar(\"love\")"
   ]
  },
  {
   "cell_type": "code",
   "execution_count": 50,
   "metadata": {
    "scrolled": true
   },
   "outputs": [
    {
     "name": "stderr",
     "output_type": "stream",
     "text": [
      "<ipython-input-50-e02d7be84874>:1: DeprecationWarning: Call to deprecated `most_similar` (Method will be removed in 4.0.0, use self.wv.most_similar() instead).\n",
      "  w2v_model.most_similar(\"fun\")\n"
     ]
    },
    {
     "data": {
      "text/plain": [
       "[('fun.', 0.7155592441558838),\n",
       " ('enjoyable', 0.7085375785827637),\n",
       " ('fun!', 0.6636222004890442),\n",
       " ('blast', 0.600725531578064),\n",
       " ('entertaining', 0.5938655138015747),\n",
       " ('funny', 0.5668469667434692),\n",
       " ('great', 0.5536203980445862),\n",
       " ('fun...', 0.5397957563400269),\n",
       " ('frustrating', 0.534489631652832),\n",
       " ('good', 0.5339673757553101)]"
      ]
     },
     "execution_count": 50,
     "metadata": {},
     "output_type": "execute_result"
    }
   ],
   "source": [
    "w2v_model.most_similar(\"fun\")"
   ]
  },
  {
   "cell_type": "code",
   "execution_count": 51,
   "metadata": {
    "scrolled": true
   },
   "outputs": [
    {
     "name": "stderr",
     "output_type": "stream",
     "text": [
      "<ipython-input-51-b91d4aefd334>:1: DeprecationWarning: Call to deprecated `most_similar` (Method will be removed in 4.0.0, use self.wv.most_similar() instead).\n",
      "  w2v_model.most_similar(\"exciting\")\n"
     ]
    },
    {
     "data": {
      "text/plain": [
       "[('entertaining', 0.6466375589370728),\n",
       " ('intense', 0.6354601979255676),\n",
       " ('interesting', 0.622502326965332),\n",
       " ('enjoyable', 0.6048544645309448),\n",
       " ('tense', 0.5993873476982117),\n",
       " ('thrilling', 0.5907541513442993),\n",
       " ('engaging', 0.5801414251327515),\n",
       " ('addictive', 0.5733288526535034),\n",
       " ('challenging', 0.5697798728942871),\n",
       " ('immersive', 0.5535655617713928)]"
      ]
     },
     "execution_count": 51,
     "metadata": {},
     "output_type": "execute_result"
    }
   ],
   "source": [
    "w2v_model.most_similar(\"exciting\")"
   ]
  },
  {
   "cell_type": "code",
   "execution_count": 52,
   "metadata": {},
   "outputs": [
    {
     "name": "stderr",
     "output_type": "stream",
     "text": [
      "<ipython-input-52-eaa207e9ba15>:1: DeprecationWarning: Call to deprecated `most_similar` (Method will be removed in 4.0.0, use self.wv.most_similar() instead).\n",
      "  w2v_model.most_similar(\"sucks\")\n"
     ]
    },
    {
     "data": {
      "text/plain": [
       "[('sucks.', 0.6131856441497803),\n",
       " ('suck', 0.49332424998283386),\n",
       " ('sux', 0.4406989514827728),\n",
       " ('hurts', 0.42914992570877075),\n",
       " ('sucks...', 0.4034218192100525),\n",
       " ('ruins', 0.4007611870765686),\n",
       " ('awfull', 0.38044464588165283),\n",
       " ('terrible', 0.35983389616012573),\n",
       " ('suck.', 0.35844871401786804),\n",
       " ('shity', 0.35815370082855225)]"
      ]
     },
     "execution_count": 52,
     "metadata": {},
     "output_type": "execute_result"
    }
   ],
   "source": [
    "w2v_model.most_similar(\"sucks\")"
   ]
  },
  {
   "cell_type": "markdown",
   "metadata": {},
   "source": [
    "# Tokenize Text"
   ]
  },
  {
   "cell_type": "code",
   "execution_count": 53,
   "metadata": {},
   "outputs": [
    {
     "name": "stdout",
     "output_type": "stream",
     "text": [
      "Total words 196286\n",
      "Wall time: 28.9 s\n"
     ]
    }
   ],
   "source": [
    "%%time\n",
    "tokenizer = Tokenizer()\n",
    "tokenizer.fit_on_texts(df_train.text)\n",
    "\n",
    "vocab_size = len(tokenizer.word_index) + 1\n",
    "print(\"Total words\", vocab_size)"
   ]
  },
  {
   "cell_type": "code",
   "execution_count": 54,
   "metadata": {},
   "outputs": [
    {
     "name": "stdout",
     "output_type": "stream",
     "text": [
      "Wall time: 48.6 s\n"
     ]
    }
   ],
   "source": [
    "%%time\n",
    "x_train = pad_sequences(tokenizer.texts_to_sequences(df_train.text), maxlen=SEQUENCE_LENGTH)\n",
    "x_test = pad_sequences(tokenizer.texts_to_sequences(df_test.text), maxlen=SEQUENCE_LENGTH)"
   ]
  },
  {
   "cell_type": "markdown",
   "metadata": {},
   "source": [
    "# Label Encoder"
   ]
  },
  {
   "cell_type": "code",
   "execution_count": 56,
   "metadata": {},
   "outputs": [
    {
     "data": {
      "text/plain": [
       "['RECOMMENDED', 'NOT RECOMMENDED']"
      ]
     },
     "execution_count": 56,
     "metadata": {},
     "output_type": "execute_result"
    }
   ],
   "source": [
    "labels = df_train.target.unique().tolist()\n",
    "# labels.append(NEUTRAL)\n",
    "labels"
   ]
  },
  {
   "cell_type": "code",
   "execution_count": 57,
   "metadata": {},
   "outputs": [
    {
     "name": "stdout",
     "output_type": "stream",
     "text": [
      "y_train (346700, 1)\n",
      "y_test (86675, 1)\n"
     ]
    }
   ],
   "source": [
    "encoder = LabelEncoder()\n",
    "encoder.fit(df_train.target.tolist())\n",
    "\n",
    "y_train = encoder.transform(df_train.target.tolist())\n",
    "y_test = encoder.transform(df_test.target.tolist())\n",
    "\n",
    "y_train = y_train.reshape(-1,1)\n",
    "y_test = y_test.reshape(-1,1)\n",
    "\n",
    "print(\"y_train\",y_train.shape)\n",
    "print(\"y_test\",y_test.shape)"
   ]
  },
  {
   "cell_type": "code",
   "execution_count": 58,
   "metadata": {},
   "outputs": [
    {
     "name": "stdout",
     "output_type": "stream",
     "text": [
      "x_train (346700, 300)\n",
      "y_train (346700, 1)\n",
      "\n",
      "x_test (86675, 300)\n",
      "y_test (86675, 1)\n"
     ]
    }
   ],
   "source": [
    "print(\"x_train\", x_train.shape)\n",
    "print(\"y_train\", y_train.shape)\n",
    "print()\n",
    "print(\"x_test\", x_test.shape)\n",
    "print(\"y_test\", y_test.shape)"
   ]
  },
  {
   "cell_type": "code",
   "execution_count": 59,
   "metadata": {},
   "outputs": [
    {
     "data": {
      "text/plain": [
       "array([[1],\n",
       "       [1],\n",
       "       [1],\n",
       "       [0],\n",
       "       [0],\n",
       "       [1],\n",
       "       [1],\n",
       "       [1],\n",
       "       [1],\n",
       "       [1]], dtype=int64)"
      ]
     },
     "execution_count": 59,
     "metadata": {},
     "output_type": "execute_result"
    }
   ],
   "source": [
    "y_train[:10]"
   ]
  },
  {
   "cell_type": "markdown",
   "metadata": {},
   "source": [
    "# Embedding Layer"
   ]
  },
  {
   "cell_type": "code",
   "execution_count": 60,
   "metadata": {},
   "outputs": [
    {
     "name": "stdout",
     "output_type": "stream",
     "text": [
      "(196286, 300)\n"
     ]
    }
   ],
   "source": [
    "embedding_matrix = np.zeros((vocab_size, W2V_SIZE))\n",
    "for word, i in tokenizer.word_index.items():\n",
    "  if word in w2v_model.wv:\n",
    "    embedding_matrix[i] = w2v_model.wv[word]\n",
    "print(embedding_matrix.shape)"
   ]
  },
  {
   "cell_type": "code",
   "execution_count": 61,
   "metadata": {},
   "outputs": [],
   "source": [
    "embedding_layer = Embedding(vocab_size, W2V_SIZE, weights=[embedding_matrix], input_length=SEQUENCE_LENGTH, trainable=False)"
   ]
  },
  {
   "cell_type": "markdown",
   "metadata": {},
   "source": [
    "# Build Model"
   ]
  },
  {
   "cell_type": "code",
   "execution_count": 62,
   "metadata": {},
   "outputs": [
    {
     "name": "stdout",
     "output_type": "stream",
     "text": [
      "Model: \"sequential\"\n",
      "_________________________________________________________________\n",
      "Layer (type)                 Output Shape              Param #   \n",
      "=================================================================\n",
      "embedding (Embedding)        (None, 300, 300)          58885800  \n",
      "_________________________________________________________________\n",
      "dropout (Dropout)            (None, 300, 300)          0         \n",
      "_________________________________________________________________\n",
      "lstm (LSTM)                  (None, 100)               160400    \n",
      "_________________________________________________________________\n",
      "dense (Dense)                (None, 1)                 101       \n",
      "=================================================================\n",
      "Total params: 59,046,301\n",
      "Trainable params: 160,501\n",
      "Non-trainable params: 58,885,800\n",
      "_________________________________________________________________\n"
     ]
    }
   ],
   "source": [
    "model = Sequential()\n",
    "model.add(embedding_layer)\n",
    "model.add(Dropout(0.5))\n",
    "model.add(LSTM(100, dropout=0.2, recurrent_dropout=0.2))\n",
    "model.add(Dense(1, activation='sigmoid'))\n",
    "\n",
    "model.summary()"
   ]
  },
  {
   "cell_type": "markdown",
   "metadata": {},
   "source": [
    "# Compile Model"
   ]
  },
  {
   "cell_type": "code",
   "execution_count": 63,
   "metadata": {},
   "outputs": [],
   "source": [
    "model.compile(loss='binary_crossentropy',\n",
    "              optimizer=\"adam\",\n",
    "              metrics=['accuracy'])"
   ]
  },
  {
   "cell_type": "markdown",
   "metadata": {},
   "source": [
    "# Callbacks"
   ]
  },
  {
   "cell_type": "code",
   "execution_count": 64,
   "metadata": {},
   "outputs": [],
   "source": [
    "callbacks = [ ReduceLROnPlateau(monitor='val_loss', patience=5, cooldown=0),\n",
    "              EarlyStopping(monitor='val_acc', min_delta=1e-4, patience=5)]"
   ]
  },
  {
   "cell_type": "markdown",
   "metadata": {},
   "source": [
    "# Train"
   ]
  },
  {
   "cell_type": "code",
   "execution_count": null,
   "metadata": {
    "scrolled": true
   },
   "outputs": [
    {
     "name": "stdout",
     "output_type": "stream",
     "text": [
      "Epoch 1/8\n",
      "305/305 [==============================] - 8497s 28s/step - loss: 0.4534 - accuracy: 0.7788 - val_loss: 0.3187 - val_accuracy: 0.8626\n",
      "WARNING:tensorflow:Early stopping conditioned on metric `val_acc` which is not available. Available metrics are: loss,accuracy,val_loss,val_accuracy,lr\n"
     ]
    },
    {
     "name": "stderr",
     "output_type": "stream",
     "text": [
      "2021-03-10 22:44:42,850 : WARNING : Early stopping conditioned on metric `val_acc` which is not available. Available metrics are: loss,accuracy,val_loss,val_accuracy,lr\n"
     ]
    },
    {
     "name": "stdout",
     "output_type": "stream",
     "text": [
      "Epoch 2/8\n",
      " 80/305 [======>.......................] - ETA: 1:36:25 - loss: 0.3304 - accuracy: 0.8552"
     ]
    }
   ],
   "source": [
    "%%time\n",
    "history = model.fit(x_train, y_train,\n",
    "                    batch_size=BATCH_SIZE,\n",
    "                    epochs=EPOCHS,\n",
    "                    validation_split=0.1,\n",
    "                    verbose=1,\n",
    "                    callbacks=callbacks)"
   ]
  },
  {
   "cell_type": "markdown",
   "metadata": {},
   "source": [
    "# Evaluate"
   ]
  },
  {
   "cell_type": "code",
   "execution_count": null,
   "metadata": {},
   "outputs": [],
   "source": [
    "%%time\n",
    "score = model.evaluate(x_test, y_test, batch_size=BATCH_SIZE)\n",
    "print()\n",
    "print(\"ACCURACY:\",score[1])\n",
    "print(\"LOSS:\",score[0])"
   ]
  },
  {
   "cell_type": "markdown",
   "metadata": {},
   "source": [
    "# Plot"
   ]
  },
  {
   "cell_type": "code",
   "execution_count": null,
   "metadata": {},
   "outputs": [],
   "source": [
    "acc = history.history['acc']\n",
    "val_acc = history.history['val_acc']\n",
    "loss = history.history['loss']\n",
    "val_loss = history.history['val_loss']\n",
    " \n",
    "epochs = range(len(acc))\n",
    " \n",
    "plt.plot(epochs, acc, 'b', label='Training acc')\n",
    "plt.plot(epochs, val_acc, 'r', label='Validation acc')\n",
    "plt.title('Training and validation accuracy')\n",
    "plt.legend()\n",
    " \n",
    "plt.figure()\n",
    " \n",
    "plt.plot(epochs, loss, 'b', label='Training loss')\n",
    "plt.plot(epochs, val_loss, 'r', label='Validation loss')\n",
    "plt.title('Training and validation loss')\n",
    "plt.legend()\n",
    " \n",
    "plt.show()"
   ]
  },
  {
   "cell_type": "markdown",
   "metadata": {},
   "source": [
    "# Predict"
   ]
  },
  {
   "cell_type": "code",
   "execution_count": null,
   "metadata": {},
   "outputs": [],
   "source": [
    "def decode_sentiment(score, include_neutral=True):\n",
    "    if include_neutral:        \n",
    "        label = NEUTRAL\n",
    "        if score <= SENTIMENT_THRESHOLDS[0]:\n",
    "            label = NOT RECOMMEND\n",
    "        elif score >= SENTIMENT_THRESHOLDS[1]:\n",
    "            label = RECOMMEND\n",
    "\n",
    "        return label\n",
    "    else:\n",
    "        return NOT RECOMMEND if score < 0.5 else RECOMMEND"
   ]
  },
  {
   "cell_type": "code",
   "execution_count": null,
   "metadata": {},
   "outputs": [],
   "source": [
    "def predict(text, include_neutral=True):\n",
    "    start_at = time.time()\n",
    "    # Tokenize text\n",
    "    x_test = pad_sequences(tokenizer.texts_to_sequences([text]), maxlen=SEQUENCE_LENGTH)\n",
    "    # Predict\n",
    "    score = model.predict([x_test])[0]\n",
    "    # Decode sentiment\n",
    "    label = decode_sentiment(score, include_neutral=include_neutral)\n",
    "\n",
    "    return {\"label\": label, \"score\": float(score),\n",
    "       \"elapsed_time\": time.time()-start_at}  "
   ]
  },
  {
   "cell_type": "code",
   "execution_count": null,
   "metadata": {},
   "outputs": [],
   "source": [
    "predict(\"I love the music\")"
   ]
  },
  {
   "cell_type": "code",
   "execution_count": null,
   "metadata": {},
   "outputs": [],
   "source": [
    "predict(\"I hate the rain\")"
   ]
  },
  {
   "cell_type": "code",
   "execution_count": null,
   "metadata": {},
   "outputs": [],
   "source": [
    "predict(\"i don't know what i'm doing\")"
   ]
  },
  {
   "cell_type": "markdown",
   "metadata": {},
   "source": [
    "# Confusiuon Matrix"
   ]
  },
  {
   "cell_type": "code",
   "execution_count": null,
   "metadata": {},
   "outputs": [],
   "source": [
    "%%time\n",
    "y_pred_1d = []\n",
    "y_test_1d = list(df_test.target)\n",
    "scores = model.predict(x_test, verbose=1, batch_size=8000)\n",
    "y_pred_1d = [decode_sentiment(score, include_neutral=False) for score in scores]"
   ]
  },
  {
   "cell_type": "code",
   "execution_count": null,
   "metadata": {},
   "outputs": [],
   "source": [
    "def plot_confusion_matrix(cm, classes,\n",
    "                          title='Confusion matrix',\n",
    "                          cmap=plt.cm.Blues):\n",
    "    \"\"\"\n",
    "    This function prints and plots the confusion matrix.\n",
    "    Normalization can be applied by setting `normalize=True`.\n",
    "    \"\"\"\n",
    "\n",
    "    cm = cm.astype('float') / cm.sum(axis=1)[:, np.newaxis]\n",
    "\n",
    "    plt.imshow(cm, interpolation='nearest', cmap=cmap)\n",
    "    plt.title(title, fontsize=30)\n",
    "    plt.colorbar()\n",
    "    tick_marks = np.arange(len(classes))\n",
    "    plt.xticks(tick_marks, classes, rotation=90, fontsize=22)\n",
    "    plt.yticks(tick_marks, classes, fontsize=22)\n",
    "\n",
    "    fmt = '.2f'\n",
    "    thresh = cm.max() / 2.\n",
    "    for i, j in itertools.product(range(cm.shape[0]), range(cm.shape[1])):\n",
    "        plt.text(j, i, format(cm[i, j], fmt),\n",
    "                 horizontalalignment=\"center\",\n",
    "                 color=\"white\" if cm[i, j] > thresh else \"black\")\n",
    "\n",
    "    plt.ylabel('True label', fontsize=25)\n",
    "    plt.xlabel('Predicted label', fontsize=25)"
   ]
  },
  {
   "cell_type": "code",
   "execution_count": null,
   "metadata": {},
   "outputs": [],
   "source": [
    "%%time\n",
    "\n",
    "cnf_matrix = confusion_matrix(y_test_1d, y_pred_1d)\n",
    "plt.figure(figsize=(12,12))\n",
    "plot_confusion_matrix(cnf_matrix, classes=df_train.target.unique(), title=\"Confusion matrix\")\n",
    "plt.show()"
   ]
  },
  {
   "cell_type": "markdown",
   "metadata": {},
   "source": [
    "# Classification Report"
   ]
  },
  {
   "cell_type": "code",
   "execution_count": null,
   "metadata": {},
   "outputs": [],
   "source": [
    "print(classification_report(y_test_1d, y_pred_1d))"
   ]
  },
  {
   "cell_type": "markdown",
   "metadata": {},
   "source": [
    "# Accuracy Score"
   ]
  },
  {
   "cell_type": "code",
   "execution_count": null,
   "metadata": {},
   "outputs": [],
   "source": [
    "accuracy_score(y_test_1d, y_pred_1d)"
   ]
  },
  {
   "cell_type": "markdown",
   "metadata": {},
   "source": [
    "# Save Model"
   ]
  },
  {
   "cell_type": "code",
   "execution_count": null,
   "metadata": {},
   "outputs": [],
   "source": [
    "model.save(KERAS_MODEL)\n",
    "w2v_model.save(WORD2VEC_MODEL)\n",
    "pickle.dump(tokenizer, open(TOKENIZER_MODEL, \"wb\"), protocol=0)\n",
    "pickle.dump(encoder, open(ENCODER_MODEL, \"wb\"), protocol=0)"
   ]
  }
 ],
 "metadata": {
  "kernelspec": {
   "display_name": "Python 3",
   "language": "python",
   "name": "python3"
  },
  "language_info": {
   "codemirror_mode": {
    "name": "ipython",
    "version": 3
   },
   "file_extension": ".py",
   "mimetype": "text/x-python",
   "name": "python",
   "nbconvert_exporter": "python",
   "pygments_lexer": "ipython3",
   "version": "3.8.3"
  }
 },
 "nbformat": 4,
 "nbformat_minor": 4
}
