{
  "nbformat": 4,
  "nbformat_minor": 0,
  "metadata": {
    "colab": {
      "name": "Steam Sentiment ML.ipynb",
      "provenance": [],
      "collapsed_sections": [],
      "toc_visible": true
    },
    "kernelspec": {
      "display_name": "Python 3",
      "language": "python",
      "name": "python3"
    },
    "language_info": {
      "codemirror_mode": {
        "name": "ipython",
        "version": 3
      },
      "file_extension": ".py",
      "mimetype": "text/x-python",
      "name": "python",
      "nbconvert_exporter": "python",
      "pygments_lexer": "ipython3",
      "version": "3.8.3"
    },
    "accelerator": "GPU"
  },
  "cells": [
    {
      "cell_type": "code",
      "metadata": {
        "colab": {
          "base_uri": "https://localhost:8080/"
        },
        "id": "USP33Gp5Kx_s",
        "scrolled": false,
        "outputId": "8738027a-e7c3-478c-f497-4d63a4e8918a"
      },
      "source": [
        "!pip install gensim\n",
        "!pip install keras\n"
      ],
      "execution_count": null,
      "outputs": [
        {
          "output_type": "stream",
          "text": [
            "Requirement already satisfied: gensim in /usr/local/lib/python3.7/dist-packages (3.6.0)\n",
            "Requirement already satisfied: smart-open>=1.2.1 in /usr/local/lib/python3.7/dist-packages (from gensim) (4.2.0)\n",
            "Requirement already satisfied: six>=1.5.0 in /usr/local/lib/python3.7/dist-packages (from gensim) (1.15.0)\n",
            "Requirement already satisfied: scipy>=0.18.1 in /usr/local/lib/python3.7/dist-packages (from gensim) (1.4.1)\n",
            "Requirement already satisfied: numpy>=1.11.3 in /usr/local/lib/python3.7/dist-packages (from gensim) (1.19.5)\n",
            "Requirement already satisfied: keras in /usr/local/lib/python3.7/dist-packages (2.4.3)\n",
            "Requirement already satisfied: pyyaml in /usr/local/lib/python3.7/dist-packages (from keras) (3.13)\n",
            "Requirement already satisfied: h5py in /usr/local/lib/python3.7/dist-packages (from keras) (2.10.0)\n",
            "Requirement already satisfied: scipy>=0.14 in /usr/local/lib/python3.7/dist-packages (from keras) (1.4.1)\n",
            "Requirement already satisfied: numpy>=1.9.1 in /usr/local/lib/python3.7/dist-packages (from keras) (1.19.5)\n",
            "Requirement already satisfied: six in /usr/local/lib/python3.7/dist-packages (from h5py->keras) (1.15.0)\n"
          ],
          "name": "stdout"
        }
      ]
    },
    {
      "cell_type": "code",
      "metadata": {
        "id": "JTLXvzaWKx_z",
        "scrolled": true
      },
      "source": [
        "import pandas as pd\n",
        "import io\n",
        "import matplotlib.pyplot as plt\n",
        "%matplotlib inline\n",
        "\n",
        "from sklearn.model_selection import train_test_split\n",
        "from sklearn.preprocessing import LabelEncoder\n",
        "from sklearn.metrics import confusion_matrix, classification_report, accuracy_score\n",
        "from sklearn.manifold import TSNE\n",
        "from sklearn.feature_extraction.text import TfidfVectorizer\n",
        "\n",
        "from keras.preprocessing.text import Tokenizer\n",
        "from keras.preprocessing.sequence import pad_sequences \n",
        "from keras.models import Sequential\n",
        "from keras.layers import Activation, Dense, Dropout, Embedding, Flatten, Conv1D, MaxPooling1D, LSTM\n",
        "from keras import utils\n",
        "from keras.callbacks import ReduceLROnPlateau, EarlyStopping\n",
        "\n"
      ],
      "execution_count": 3,
      "outputs": []
    },
    {
      "cell_type": "code",
      "metadata": {
        "id": "8gbt3unBKx_0"
      },
      "source": [
        "# nltk\n",
        "import nltk\n",
        "from nltk.corpus import stopwords\n",
        "from  nltk.stem import SnowballStemmer"
      ],
      "execution_count": 4,
      "outputs": []
    },
    {
      "cell_type": "code",
      "metadata": {
        "id": "td1hH_79Kx_0"
      },
      "source": [
        "# Word2vec\n",
        "import gensim"
      ],
      "execution_count": 5,
      "outputs": []
    },
    {
      "cell_type": "code",
      "metadata": {
        "id": "xDzaErGUKx_0"
      },
      "source": [
        "# Utility\n",
        "import re\n",
        "import numpy as np\n",
        "import os\n",
        "from collections import Counter\n",
        "import logging\n",
        "import time\n",
        "import pickle\n",
        "import itertools"
      ],
      "execution_count": 6,
      "outputs": []
    },
    {
      "cell_type": "code",
      "metadata": {
        "id": "_7QGvF-RKx_1"
      },
      "source": [
        "# Set log\n",
        "logging.basicConfig(format='%(asctime)s : %(levelname)s : %(message)s', level=logging.INFO)"
      ],
      "execution_count": 7,
      "outputs": []
    },
    {
      "cell_type": "code",
      "metadata": {
        "colab": {
          "base_uri": "https://localhost:8080/"
        },
        "id": "vqWqWGIJKx_1",
        "outputId": "0caa5f2d-c8f2-4d6b-fab1-7ecbff7fcccd"
      },
      "source": [
        "nltk.download('stopwords')"
      ],
      "execution_count": 8,
      "outputs": [
        {
          "output_type": "stream",
          "text": [
            "[nltk_data] Downloading package stopwords to /root/nltk_data...\n",
            "[nltk_data]   Package stopwords is already up-to-date!\n"
          ],
          "name": "stdout"
        },
        {
          "output_type": "execute_result",
          "data": {
            "text/plain": [
              "True"
            ]
          },
          "metadata": {
            "tags": []
          },
          "execution_count": 8
        }
      ]
    },
    {
      "cell_type": "code",
      "metadata": {
        "id": "0UoTHq1DKx_2"
      },
      "source": [
        "# DATASET\n",
        "DATASET_COLUMNS = [\"date_posted\", \"hour_played\", \"recommendation\", \"text\", \"title\", \"target\"]\n",
        "DATASET_ENCODING = \"ISO-8859-1\"\n",
        "TRAIN_SIZE = 0.8\n",
        "\n",
        "# TEXT CLENAING\n",
        "TEXT_CLEANING_RE = \"@\\S+|https?:\\S+|http?:\\S|[^A-Za-z0-9]+\"\n",
        "\n",
        "# WORD2VEC \n",
        "W2V_SIZE = 300\n",
        "W2V_WINDOW = 7\n",
        "W2V_EPOCH = 32\n",
        "W2V_MIN_COUNT = 10\n",
        "\n",
        "# KERAS\n",
        "SEQUENCE_LENGTH = 300\n",
        "EPOCHS = 6\n",
        "BATCH_SIZE = 1024\n",
        "\n",
        "# SENTIMENT\n",
        "RECOMMENDED = \"RECOMMENDED\"\n",
        "NOT_RECOMMENDED = \"NOT RECOMMENDED\"\n",
        "NEUTRAL = \"NEUTRAL\"\n",
        "SENTIMENT_THRESHOLDS = (0.4, 0.7)\n",
        "\n",
        "# EXPORT\n",
        "KERAS_MODEL = \"model.h5\"\n",
        "WORD2VEC_MODEL = \"model.w2v\"\n",
        "TOKENIZER_MODEL = \"tokenizer.pkl\"\n",
        "ENCODER_MODEL = \"encoder.pkl\""
      ],
      "execution_count": 9,
      "outputs": []
    },
    {
      "cell_type": "markdown",
      "metadata": {
        "id": "Cqi_8SaaKx_3"
      },
      "source": [
        "# READ DATA SET"
      ]
    },
    {
      "cell_type": "code",
      "metadata": {
        "colab": {
          "resources": {
            "http://localhost:8080/nbextensions/google.colab/files.js": {
              "data": "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",
              "ok": true,
              "headers": [
                [
                  "content-type",
                  "application/javascript"
                ]
              ],
              "status": 200,
              "status_text": ""
            }
          },
          "base_uri": "https://localhost:8080/",
          "height": 72
        },
        "id": "UKmlGxsVQps2",
        "outputId": "2203a656-38ca-43af-94b2-0001b97c43d9"
      },
      "source": [
        "from google.colab import files\r\n",
        "uploaded = files.upload()"
      ],
      "execution_count": 10,
      "outputs": [
        {
          "output_type": "display_data",
          "data": {
            "text/html": [
              "\n",
              "     <input type=\"file\" id=\"files-b65fd1df-6b4b-4864-b4dd-2092f03b7854\" name=\"files[]\" multiple disabled\n",
              "        style=\"border:none\" />\n",
              "     <output id=\"result-b65fd1df-6b4b-4864-b4dd-2092f03b7854\">\n",
              "      Upload widget is only available when the cell has been executed in the\n",
              "      current browser session. Please rerun this cell to enable.\n",
              "      </output>\n",
              "      <script src=\"/nbextensions/google.colab/files.js\"></script> "
            ],
            "text/plain": [
              "<IPython.core.display.HTML object>"
            ]
          },
          "metadata": {
            "tags": []
          }
        },
        {
          "output_type": "stream",
          "text": [
            "Saving clean_steam_reviews.csv to clean_steam_reviews (1).csv\n"
          ],
          "name": "stdout"
        }
      ]
    },
    {
      "cell_type": "code",
      "metadata": {
        "colab": {
          "base_uri": "https://localhost:8080/",
          "height": 306
        },
        "id": "-Fs9iAlpSrX-",
        "outputId": "86eb3d7e-b43a-410b-a0a4-25e45392f47c"
      },
      "source": [
        "steam_df = pd.read_csv(io.BytesIO(uploaded['clean_steam_reviews.csv']))\r\n",
        "steam_df.head()"
      ],
      "execution_count": 11,
      "outputs": [
        {
          "output_type": "execute_result",
          "data": {
            "text/html": [
              "<div>\n",
              "<style scoped>\n",
              "    .dataframe tbody tr th:only-of-type {\n",
              "        vertical-align: middle;\n",
              "    }\n",
              "\n",
              "    .dataframe tbody tr th {\n",
              "        vertical-align: top;\n",
              "    }\n",
              "\n",
              "    .dataframe thead th {\n",
              "        text-align: right;\n",
              "    }\n",
              "</style>\n",
              "<table border=\"1\" class=\"dataframe\">\n",
              "  <thead>\n",
              "    <tr style=\"text-align: right;\">\n",
              "      <th></th>\n",
              "      <th>Unnamed: 0</th>\n",
              "      <th>date_posted</th>\n",
              "      <th>hour_played</th>\n",
              "      <th>recommendation</th>\n",
              "      <th>text</th>\n",
              "      <th>title</th>\n",
              "      <th>target</th>\n",
              "    </tr>\n",
              "  </thead>\n",
              "  <tbody>\n",
              "    <tr>\n",
              "      <th>0</th>\n",
              "      <td>0</td>\n",
              "      <td>2019-02-10</td>\n",
              "      <td>578</td>\n",
              "      <td>Recommended</td>\n",
              "      <td>&amp;gt Played as German Reich&amp;gt Declare war on B...</td>\n",
              "      <td>Expansion - Hearts of Iron IV: Man the Guns</td>\n",
              "      <td>1</td>\n",
              "    </tr>\n",
              "    <tr>\n",
              "      <th>1</th>\n",
              "      <td>1</td>\n",
              "      <td>2019-02-10</td>\n",
              "      <td>184</td>\n",
              "      <td>Recommended</td>\n",
              "      <td>yes.</td>\n",
              "      <td>Expansion - Hearts of Iron IV: Man the Guns</td>\n",
              "      <td>1</td>\n",
              "    </tr>\n",
              "    <tr>\n",
              "      <th>2</th>\n",
              "      <td>2</td>\n",
              "      <td>2019-02-07</td>\n",
              "      <td>892</td>\n",
              "      <td>Recommended</td>\n",
              "      <td>Very good game although a bit overpriced in my...</td>\n",
              "      <td>Expansion - Hearts of Iron IV: Man the Guns</td>\n",
              "      <td>1</td>\n",
              "    </tr>\n",
              "    <tr>\n",
              "      <th>3</th>\n",
              "      <td>3</td>\n",
              "      <td>2018-06-14</td>\n",
              "      <td>676</td>\n",
              "      <td>Recommended</td>\n",
              "      <td>Out of all the reviews I wrote This one is pro...</td>\n",
              "      <td>Dead by Daylight</td>\n",
              "      <td>1</td>\n",
              "    </tr>\n",
              "    <tr>\n",
              "      <th>4</th>\n",
              "      <td>4</td>\n",
              "      <td>2017-06-20</td>\n",
              "      <td>612</td>\n",
              "      <td>Recommended</td>\n",
              "      <td>Disclaimer I survivor main. I play games for f...</td>\n",
              "      <td>Dead by Daylight</td>\n",
              "      <td>1</td>\n",
              "    </tr>\n",
              "  </tbody>\n",
              "</table>\n",
              "</div>"
            ],
            "text/plain": [
              "   Unnamed: 0 date_posted  ...                                        title target\n",
              "0           0  2019-02-10  ...  Expansion - Hearts of Iron IV: Man the Guns      1\n",
              "1           1  2019-02-10  ...  Expansion - Hearts of Iron IV: Man the Guns      1\n",
              "2           2  2019-02-07  ...  Expansion - Hearts of Iron IV: Man the Guns      1\n",
              "3           3  2018-06-14  ...                             Dead by Daylight      1\n",
              "4           4  2017-06-20  ...                             Dead by Daylight      1\n",
              "\n",
              "[5 rows x 7 columns]"
            ]
          },
          "metadata": {
            "tags": []
          },
          "execution_count": 11
        }
      ]
    },
    {
      "cell_type": "code",
      "metadata": {
        "id": "wb-KCL73b-Ln"
      },
      "source": [
        ""
      ],
      "execution_count": null,
      "outputs": []
    },
    {
      "cell_type": "code",
      "metadata": {
        "id": "HrYegGvTKx_3"
      },
      "source": [
        "#Read in the clean_steam_reviews CSV\n",
        "# steam_df = pd.read_csv(os.path.join(\"clean_steam_reviews.csv\"))\n",
        "# steam_df.head(10)\n",
        "\n",
        "# steam_df = pd.read_csv(io.StringIO(uploaded['clean_steam_reviews.csv'].decode('utf-8')))\n",
        "# steam_df.head(10)"
      ],
      "execution_count": null,
      "outputs": []
    },
    {
      "cell_type": "code",
      "metadata": {
        "id": "HDcTzjlEKx_4"
      },
      "source": [
        "# dataset_filename = os.listdir(\"clean_steam_reviews\")[0]\n",
        "# dataset_path = os.path.join(\"input\",dataset_filename)\n",
        "# print(\"Open file:\", dataset_path)\n",
        "# df = pd.read_csv(dataset_path, encoding =DATASET_ENCODING , names=DATASET_COLUMNS)"
      ],
      "execution_count": null,
      "outputs": []
    },
    {
      "cell_type": "code",
      "metadata": {
        "colab": {
          "base_uri": "https://localhost:8080/"
        },
        "id": "cT80pElqKx_4",
        "scrolled": true,
        "outputId": "af1ff178-cc68-4bc3-d754-dc26588f4b20"
      },
      "source": [
        "print(\"Dataset size:\", len(steam_df))"
      ],
      "execution_count": 12,
      "outputs": [
        {
          "output_type": "stream",
          "text": [
            "Dataset size: 433375\n"
          ],
          "name": "stdout"
        }
      ]
    },
    {
      "cell_type": "code",
      "metadata": {
        "colab": {
          "base_uri": "https://localhost:8080/",
          "height": 306
        },
        "id": "nrgbkYnWKx_5",
        "scrolled": true,
        "outputId": "25000768-a18b-4722-b0e5-b21fac401f8a"
      },
      "source": [
        "steam_df.head(5)"
      ],
      "execution_count": 13,
      "outputs": [
        {
          "output_type": "execute_result",
          "data": {
            "text/html": [
              "<div>\n",
              "<style scoped>\n",
              "    .dataframe tbody tr th:only-of-type {\n",
              "        vertical-align: middle;\n",
              "    }\n",
              "\n",
              "    .dataframe tbody tr th {\n",
              "        vertical-align: top;\n",
              "    }\n",
              "\n",
              "    .dataframe thead th {\n",
              "        text-align: right;\n",
              "    }\n",
              "</style>\n",
              "<table border=\"1\" class=\"dataframe\">\n",
              "  <thead>\n",
              "    <tr style=\"text-align: right;\">\n",
              "      <th></th>\n",
              "      <th>Unnamed: 0</th>\n",
              "      <th>date_posted</th>\n",
              "      <th>hour_played</th>\n",
              "      <th>recommendation</th>\n",
              "      <th>text</th>\n",
              "      <th>title</th>\n",
              "      <th>target</th>\n",
              "    </tr>\n",
              "  </thead>\n",
              "  <tbody>\n",
              "    <tr>\n",
              "      <th>0</th>\n",
              "      <td>0</td>\n",
              "      <td>2019-02-10</td>\n",
              "      <td>578</td>\n",
              "      <td>Recommended</td>\n",
              "      <td>&amp;gt Played as German Reich&amp;gt Declare war on B...</td>\n",
              "      <td>Expansion - Hearts of Iron IV: Man the Guns</td>\n",
              "      <td>1</td>\n",
              "    </tr>\n",
              "    <tr>\n",
              "      <th>1</th>\n",
              "      <td>1</td>\n",
              "      <td>2019-02-10</td>\n",
              "      <td>184</td>\n",
              "      <td>Recommended</td>\n",
              "      <td>yes.</td>\n",
              "      <td>Expansion - Hearts of Iron IV: Man the Guns</td>\n",
              "      <td>1</td>\n",
              "    </tr>\n",
              "    <tr>\n",
              "      <th>2</th>\n",
              "      <td>2</td>\n",
              "      <td>2019-02-07</td>\n",
              "      <td>892</td>\n",
              "      <td>Recommended</td>\n",
              "      <td>Very good game although a bit overpriced in my...</td>\n",
              "      <td>Expansion - Hearts of Iron IV: Man the Guns</td>\n",
              "      <td>1</td>\n",
              "    </tr>\n",
              "    <tr>\n",
              "      <th>3</th>\n",
              "      <td>3</td>\n",
              "      <td>2018-06-14</td>\n",
              "      <td>676</td>\n",
              "      <td>Recommended</td>\n",
              "      <td>Out of all the reviews I wrote This one is pro...</td>\n",
              "      <td>Dead by Daylight</td>\n",
              "      <td>1</td>\n",
              "    </tr>\n",
              "    <tr>\n",
              "      <th>4</th>\n",
              "      <td>4</td>\n",
              "      <td>2017-06-20</td>\n",
              "      <td>612</td>\n",
              "      <td>Recommended</td>\n",
              "      <td>Disclaimer I survivor main. I play games for f...</td>\n",
              "      <td>Dead by Daylight</td>\n",
              "      <td>1</td>\n",
              "    </tr>\n",
              "  </tbody>\n",
              "</table>\n",
              "</div>"
            ],
            "text/plain": [
              "   Unnamed: 0 date_posted  ...                                        title target\n",
              "0           0  2019-02-10  ...  Expansion - Hearts of Iron IV: Man the Guns      1\n",
              "1           1  2019-02-10  ...  Expansion - Hearts of Iron IV: Man the Guns      1\n",
              "2           2  2019-02-07  ...  Expansion - Hearts of Iron IV: Man the Guns      1\n",
              "3           3  2018-06-14  ...                             Dead by Daylight      1\n",
              "4           4  2017-06-20  ...                             Dead by Daylight      1\n",
              "\n",
              "[5 rows x 7 columns]"
            ]
          },
          "metadata": {
            "tags": []
          },
          "execution_count": 13
        }
      ]
    },
    {
      "cell_type": "markdown",
      "metadata": {
        "id": "opokbkBSKx_5"
      },
      "source": [
        "# Map Target Label to String"
      ]
    },
    {
      "cell_type": "code",
      "metadata": {
        "id": "B0IKauJJKx_5"
      },
      "source": [
        "decode_map = {0: \"NOT RECOMMENDED\", 1: \"RECOMMENDED\"}\n",
        "def decode_sentiment(label):\n",
        "    return decode_map[int(label)]"
      ],
      "execution_count": 14,
      "outputs": []
    },
    {
      "cell_type": "code",
      "metadata": {
        "colab": {
          "base_uri": "https://localhost:8080/"
        },
        "id": "YE09R1VpKx_6",
        "scrolled": true,
        "outputId": "63a6be28-4759-4c9a-89bf-f6029533fbbe"
      },
      "source": [
        "%%time\n",
        "steam_df.target = steam_df.target.apply(lambda x: decode_sentiment(x))"
      ],
      "execution_count": 15,
      "outputs": [
        {
          "output_type": "stream",
          "text": [
            "CPU times: user 135 ms, sys: 0 ns, total: 135 ms\n",
            "Wall time: 139 ms\n"
          ],
          "name": "stdout"
        }
      ]
    },
    {
      "cell_type": "code",
      "metadata": {
        "colab": {
          "base_uri": "https://localhost:8080/",
          "height": 516
        },
        "id": "04c5IXqmKx_6",
        "outputId": "97aa8eed-507b-47ad-a617-3b8d245fc841"
      },
      "source": [
        "target_cnt = Counter(steam_df.target)\n",
        "\n",
        "plt.figure(figsize=(16,8))\n",
        "plt.bar(target_cnt.keys(), target_cnt.values())\n",
        "plt.title(\"Dataset labels distribuition\")"
      ],
      "execution_count": 16,
      "outputs": [
        {
          "output_type": "execute_result",
          "data": {
            "text/plain": [
              "Text(0.5, 1.0, 'Dataset labels distribuition')"
            ]
          },
          "metadata": {
            "tags": []
          },
          "execution_count": 16
        },
        {
          "output_type": "display_data",
          "data": {
            "image/png": "[encoded data removed]",
            "text/plain": [
              "<Figure size 1152x576 with 1 Axes>"
            ]
          },
          "metadata": {
            "tags": [],
            "needs_background": "light"
          }
        }
      ]
    },
    {
      "cell_type": "markdown",
      "metadata": {
        "id": "nEP6mjIXKx_6"
      },
      "source": [
        "# Pre Process Data Set"
      ]
    },
    {
      "cell_type": "code",
      "metadata": {
        "id": "Y0RXKURrKx_7"
      },
      "source": [
        "stop_words = stopwords.words(\"english\")\n",
        "stemmer = SnowballStemmer(\"english\")"
      ],
      "execution_count": 17,
      "outputs": []
    },
    {
      "cell_type": "code",
      "metadata": {
        "id": "VzGsuklpV1jm"
      },
      "source": [
        "stoplist = set(stopwords.words(\"english\"))\r\n",
        "stoplist.remove(\"not\")"
      ],
      "execution_count": 18,
      "outputs": []
    },
    {
      "cell_type": "code",
      "metadata": {
        "id": "r3fludXVKx_7"
      },
      "source": [
        "def preprocess(text, stem=False):\n",
        "    # Remove link,user and special characters\n",
        "    text = re.sub(TEXT_CLEANING_RE, ' ', str(text).lower()).strip()\n",
        "    tokens = []\n",
        "    for token in text.split():\n",
        "        if token not in stop_words:\n",
        "            if stem:\n",
        "                tokens.append(stemmer.stem(token))\n",
        "            else:\n",
        "                tokens.append(token)\n",
        "    return \" \".join(tokens)"
      ],
      "execution_count": 19,
      "outputs": []
    },
    {
      "cell_type": "markdown",
      "metadata": {
        "id": "C0yJ3nDrKx_7"
      },
      "source": [
        "# Split and Train Test"
      ]
    },
    {
      "cell_type": "code",
      "metadata": {
        "colab": {
          "base_uri": "https://localhost:8080/"
        },
        "id": "nal0BPSwKx_7",
        "outputId": "cebf1c1b-cf1d-452f-bfeb-41a3cef13679"
      },
      "source": [
        "df_train, df_test = train_test_split(steam_df, test_size=1-TRAIN_SIZE, random_state=50)\n",
        "print(\"TRAIN size:\", len(df_train))\n",
        "print(\"TEST size:\", len(df_test))"
      ],
      "execution_count": 20,
      "outputs": [
        {
          "output_type": "stream",
          "text": [
            "TRAIN size: 346700\n",
            "TEST size: 86675\n"
          ],
          "name": "stdout"
        }
      ]
    },
    {
      "cell_type": "code",
      "metadata": {
        "colab": {
          "base_uri": "https://localhost:8080/"
        },
        "id": "vXhWGKX-Kx_8",
        "outputId": "2dfd4553-7349-41c2-bc91-3912b3358fdd"
      },
      "source": [
        "%%time\n",
        "documents = [_text.split() for _text in df_train.text] "
      ],
      "execution_count": 21,
      "outputs": [
        {
          "output_type": "stream",
          "text": [
            "CPU times: user 2.03 s, sys: 395 ms, total: 2.42 s\n",
            "Wall time: 2.42 s\n"
          ],
          "name": "stdout"
        }
      ]
    },
    {
      "cell_type": "markdown",
      "metadata": {
        "id": "jNpAN6bYKx_8"
      },
      "source": [
        "# Word2Vec"
      ]
    },
    {
      "cell_type": "code",
      "metadata": {
        "colab": {
          "base_uri": "https://localhost:8080/"
        },
        "id": "xNSgPXvvKx_8",
        "outputId": "80dd6e33-dedd-45f2-917a-79454c7ef20f"
      },
      "source": [
        "%%time\n",
        "documents = [_text.split() for _text in df_train.text] "
      ],
      "execution_count": 22,
      "outputs": [
        {
          "output_type": "stream",
          "text": [
            "CPU times: user 2.45 s, sys: 453 ms, total: 2.91 s\n",
            "Wall time: 2.91 s\n"
          ],
          "name": "stdout"
        }
      ]
    },
    {
      "cell_type": "code",
      "metadata": {
        "id": "ec3VoAKXKx_9"
      },
      "source": [
        "w2v_model = gensim.models.word2vec.Word2Vec(size=W2V_SIZE, \n",
        "                                            window=W2V_WINDOW, \n",
        "                                            min_count=W2V_MIN_COUNT, \n",
        "                                            workers=6)"
      ],
      "execution_count": 23,
      "outputs": []
    },
    {
      "cell_type": "code",
      "metadata": {
        "colab": {
          "base_uri": "https://localhost:8080/"
        },
        "id": "rp9F0WOAKx_9",
        "outputId": "d8f95103-cb32-452a-975f-508e3ac427ed"
      },
      "source": [
        "w2v_model.build_vocab(documents)"
      ],
      "execution_count": 24,
      "outputs": [
        {
          "output_type": "stream",
          "text": [
            "2021-03-13 21:05:11,873 : INFO : collecting all words and their counts\n",
            "2021-03-13 21:05:11,876 : INFO : PROGRESS: at sentence #0, processed 0 words, keeping 0 word types\n",
            "2021-03-13 21:05:11,952 : INFO : PROGRESS: at sentence #10000, processed 409048 words, keeping 37138 word types\n",
            "2021-03-13 21:05:12,026 : INFO : PROGRESS: at sentence #20000, processed 816953 words, keeping 59490 word types\n",
            "2021-03-13 21:05:12,111 : INFO : PROGRESS: at sentence #30000, processed 1223397 words, keeping 79233 word types\n",
            "2021-03-13 21:05:12,187 : INFO : PROGRESS: at sentence #40000, processed 1623652 words, keeping 96975 word types\n",
            "2021-03-13 21:05:12,278 : INFO : PROGRESS: at sentence #50000, processed 2036715 words, keeping 114105 word types\n",
            "2021-03-13 21:05:12,352 : INFO : PROGRESS: at sentence #60000, processed 2433827 words, keeping 129383 word types\n",
            "2021-03-13 21:05:12,432 : INFO : PROGRESS: at sentence #70000, processed 2834735 words, keeping 143938 word types\n",
            "2021-03-13 21:05:12,511 : INFO : PROGRESS: at sentence #80000, processed 3238379 words, keeping 158178 word types\n",
            "2021-03-13 21:05:12,588 : INFO : PROGRESS: at sentence #90000, processed 3631139 words, keeping 171721 word types\n",
            "2021-03-13 21:05:12,674 : INFO : PROGRESS: at sentence #100000, processed 4024861 words, keeping 185046 word types\n",
            "2021-03-13 21:05:12,753 : INFO : PROGRESS: at sentence #110000, processed 4436492 words, keeping 198642 word types\n",
            "2021-03-13 21:05:12,832 : INFO : PROGRESS: at sentence #120000, processed 4825291 words, keeping 211189 word types\n",
            "2021-03-13 21:05:12,911 : INFO : PROGRESS: at sentence #130000, processed 5221442 words, keeping 224165 word types\n",
            "2021-03-13 21:05:12,997 : INFO : PROGRESS: at sentence #140000, processed 5636319 words, keeping 236774 word types\n",
            "2021-03-13 21:05:13,082 : INFO : PROGRESS: at sentence #150000, processed 6045567 words, keeping 248728 word types\n",
            "2021-03-13 21:05:13,162 : INFO : PROGRESS: at sentence #160000, processed 6457168 words, keeping 260929 word types\n",
            "2021-03-13 21:05:13,237 : INFO : PROGRESS: at sentence #170000, processed 6858632 words, keeping 272608 word types\n",
            "2021-03-13 21:05:13,322 : INFO : PROGRESS: at sentence #180000, processed 7258823 words, keeping 284364 word types\n",
            "2021-03-13 21:05:13,399 : INFO : PROGRESS: at sentence #190000, processed 7655767 words, keeping 295656 word types\n",
            "2021-03-13 21:05:13,480 : INFO : PROGRESS: at sentence #200000, processed 8070147 words, keeping 307412 word types\n",
            "2021-03-13 21:05:13,571 : INFO : PROGRESS: at sentence #210000, processed 8478144 words, keeping 318428 word types\n",
            "2021-03-13 21:05:13,653 : INFO : PROGRESS: at sentence #220000, processed 8881843 words, keeping 330040 word types\n",
            "2021-03-13 21:05:13,734 : INFO : PROGRESS: at sentence #230000, processed 9280755 words, keeping 341043 word types\n",
            "2021-03-13 21:05:13,831 : INFO : PROGRESS: at sentence #240000, processed 9691886 words, keeping 352401 word types\n",
            "2021-03-13 21:05:13,910 : INFO : PROGRESS: at sentence #250000, processed 10096185 words, keeping 362877 word types\n",
            "2021-03-13 21:05:13,993 : INFO : PROGRESS: at sentence #260000, processed 10516583 words, keeping 373753 word types\n",
            "2021-03-13 21:05:14,076 : INFO : PROGRESS: at sentence #270000, processed 10929717 words, keeping 384859 word types\n",
            "2021-03-13 21:05:14,163 : INFO : PROGRESS: at sentence #280000, processed 11344281 words, keeping 395523 word types\n",
            "2021-03-13 21:05:14,248 : INFO : PROGRESS: at sentence #290000, processed 11761336 words, keeping 405917 word types\n",
            "2021-03-13 21:05:14,336 : INFO : PROGRESS: at sentence #300000, processed 12168870 words, keeping 416179 word types\n",
            "2021-03-13 21:05:14,422 : INFO : PROGRESS: at sentence #310000, processed 12577495 words, keeping 426292 word types\n",
            "2021-03-13 21:05:14,506 : INFO : PROGRESS: at sentence #320000, processed 12978215 words, keeping 436964 word types\n",
            "2021-03-13 21:05:14,590 : INFO : PROGRESS: at sentence #330000, processed 13387517 words, keeping 447058 word types\n",
            "2021-03-13 21:05:14,672 : INFO : PROGRESS: at sentence #340000, processed 13788693 words, keeping 456194 word types\n",
            "2021-03-13 21:05:14,727 : INFO : collected 462767 word types from a corpus of 14059602 raw words and 346700 sentences\n",
            "2021-03-13 21:05:14,728 : INFO : Loading a fresh vocabulary\n",
            "2021-03-13 21:05:14,941 : INFO : effective_min_count=10 retains 31485 unique words (6% of original 462767, drops 431282)\n",
            "2021-03-13 21:05:14,942 : INFO : effective_min_count=10 leaves 13401348 word corpus (95% of original 14059602, drops 658254)\n",
            "2021-03-13 21:05:15,033 : INFO : deleting the raw counts dictionary of 462767 items\n",
            "2021-03-13 21:05:15,046 : INFO : sample=0.001 downsamples 48 most-common words\n",
            "2021-03-13 21:05:15,046 : INFO : downsampling leaves estimated 10361690 word corpus (77.3% of prior 13401348)\n",
            "2021-03-13 21:05:15,136 : INFO : estimated required memory for 31485 words and 300 dimensions: 91306500 bytes\n",
            "2021-03-13 21:05:15,137 : INFO : resetting layer weights\n"
          ],
          "name": "stderr"
        }
      ]
    },
    {
      "cell_type": "code",
      "metadata": {
        "colab": {
          "base_uri": "https://localhost:8080/"
        },
        "id": "I1SibMVDKx_9",
        "outputId": "e398a86f-f50f-4766-9a84-cef54a86dfc4"
      },
      "source": [
        "words = w2v_model.wv.vocab.keys()\n",
        "vocab_size = len(words)\n",
        "print(\"Vocab size\", vocab_size)"
      ],
      "execution_count": 25,
      "outputs": [
        {
          "output_type": "stream",
          "text": [
            "Vocab size 31485\n"
          ],
          "name": "stdout"
        }
      ]
    },
    {
      "cell_type": "code",
      "metadata": {
        "colab": {
          "base_uri": "https://localhost:8080/"
        },
        "id": "owHUaIVSKx_9",
        "outputId": "699133e1-37b3-49f0-c5e7-533bdeabaa7b"
      },
      "source": [
        "%%time\n",
        "w2v_model.train(documents, total_examples=len(documents), epochs=W2V_EPOCH)"
      ],
      "execution_count": 26,
      "outputs": [
        {
          "output_type": "stream",
          "text": [
            "2021-03-13 21:05:32,887 : INFO : training model with 6 workers on 31485 vocabulary and 300 features, using sg=0 hs=0 sample=0.001 negative=5 window=7\n",
            "2021-03-13 21:05:33,922 : INFO : EPOCH 1 - PROGRESS: at 3.95% examples, 399220 words/s, in_qsize 11, out_qsize 0\n",
            "2021-03-13 21:05:34,954 : INFO : EPOCH 1 - PROGRESS: at 8.14% examples, 412452 words/s, in_qsize 12, out_qsize 2\n",
            "2021-03-13 21:05:35,951 : INFO : EPOCH 1 - PROGRESS: at 12.33% examples, 419621 words/s, in_qsize 11, out_qsize 0\n",
            "2021-03-13 21:05:36,963 : INFO : EPOCH 1 - PROGRESS: at 16.41% examples, 418851 words/s, in_qsize 11, out_qsize 0\n",
            "2021-03-13 21:05:37,973 : INFO : EPOCH 1 - PROGRESS: at 20.74% examples, 421613 words/s, in_qsize 11, out_qsize 0\n",
            "2021-03-13 21:05:38,974 : INFO : EPOCH 1 - PROGRESS: at 25.14% examples, 426966 words/s, in_qsize 11, out_qsize 0\n",
            "2021-03-13 21:05:39,976 : INFO : EPOCH 1 - PROGRESS: at 29.28% examples, 425479 words/s, in_qsize 11, out_qsize 0\n",
            "2021-03-13 21:05:40,979 : INFO : EPOCH 1 - PROGRESS: at 33.61% examples, 427877 words/s, in_qsize 11, out_qsize 0\n",
            "2021-03-13 21:05:41,981 : INFO : EPOCH 1 - PROGRESS: at 37.76% examples, 427160 words/s, in_qsize 12, out_qsize 0\n",
            "2021-03-13 21:05:43,023 : INFO : EPOCH 1 - PROGRESS: at 41.91% examples, 426463 words/s, in_qsize 11, out_qsize 0\n",
            "2021-03-13 21:05:44,055 : INFO : EPOCH 1 - PROGRESS: at 46.13% examples, 426658 words/s, in_qsize 10, out_qsize 1\n",
            "2021-03-13 21:05:45,065 : INFO : EPOCH 1 - PROGRESS: at 50.39% examples, 427169 words/s, in_qsize 12, out_qsize 1\n",
            "2021-03-13 21:05:46,108 : INFO : EPOCH 1 - PROGRESS: at 54.85% examples, 427540 words/s, in_qsize 11, out_qsize 0\n",
            "2021-03-13 21:05:47,111 : INFO : EPOCH 1 - PROGRESS: at 59.01% examples, 428222 words/s, in_qsize 11, out_qsize 0\n",
            "2021-03-13 21:05:48,112 : INFO : EPOCH 1 - PROGRESS: at 63.07% examples, 427356 words/s, in_qsize 11, out_qsize 0\n",
            "2021-03-13 21:05:49,127 : INFO : EPOCH 1 - PROGRESS: at 67.34% examples, 428048 words/s, in_qsize 11, out_qsize 0\n",
            "2021-03-13 21:05:50,132 : INFO : EPOCH 1 - PROGRESS: at 71.37% examples, 427114 words/s, in_qsize 11, out_qsize 0\n",
            "2021-03-13 21:05:51,133 : INFO : EPOCH 1 - PROGRESS: at 75.37% examples, 427217 words/s, in_qsize 11, out_qsize 0\n",
            "2021-03-13 21:05:52,142 : INFO : EPOCH 1 - PROGRESS: at 79.43% examples, 427088 words/s, in_qsize 11, out_qsize 4\n",
            "2021-03-13 21:05:53,157 : INFO : EPOCH 1 - PROGRESS: at 83.52% examples, 427177 words/s, in_qsize 12, out_qsize 1\n",
            "2021-03-13 21:05:54,167 : INFO : EPOCH 1 - PROGRESS: at 87.66% examples, 427094 words/s, in_qsize 11, out_qsize 0\n",
            "2021-03-13 21:05:55,181 : INFO : EPOCH 1 - PROGRESS: at 91.78% examples, 426866 words/s, in_qsize 11, out_qsize 0\n",
            "2021-03-13 21:05:56,235 : INFO : EPOCH 1 - PROGRESS: at 96.11% examples, 426965 words/s, in_qsize 11, out_qsize 1\n",
            "2021-03-13 21:05:57,028 : INFO : worker thread finished; awaiting finish of 5 more threads\n",
            "2021-03-13 21:05:57,056 : INFO : worker thread finished; awaiting finish of 4 more threads\n",
            "2021-03-13 21:05:57,077 : INFO : worker thread finished; awaiting finish of 3 more threads\n",
            "2021-03-13 21:05:57,090 : INFO : worker thread finished; awaiting finish of 2 more threads\n",
            "2021-03-13 21:05:57,096 : INFO : worker thread finished; awaiting finish of 1 more threads\n",
            "2021-03-13 21:05:57,099 : INFO : worker thread finished; awaiting finish of 0 more threads\n",
            "2021-03-13 21:05:57,100 : INFO : EPOCH - 1 : training on 14059602 raw words (10361272 effective words) took 24.2s, 428129 effective words/s\n",
            "2021-03-13 21:05:58,119 : INFO : EPOCH 2 - PROGRESS: at 3.90% examples, 396792 words/s, in_qsize 11, out_qsize 0\n",
            "2021-03-13 21:05:59,171 : INFO : EPOCH 2 - PROGRESS: at 8.27% examples, 416769 words/s, in_qsize 11, out_qsize 0\n",
            "2021-03-13 21:06:00,185 : INFO : EPOCH 2 - PROGRESS: at 12.63% examples, 425744 words/s, in_qsize 11, out_qsize 0\n",
            "2021-03-13 21:06:01,186 : INFO : EPOCH 2 - PROGRESS: at 16.64% examples, 422900 words/s, in_qsize 11, out_qsize 0\n",
            "2021-03-13 21:06:02,186 : INFO : EPOCH 2 - PROGRESS: at 21.09% examples, 428514 words/s, in_qsize 11, out_qsize 0\n",
            "2021-03-13 21:06:03,202 : INFO : EPOCH 2 - PROGRESS: at 25.22% examples, 426941 words/s, in_qsize 11, out_qsize 0\n",
            "2021-03-13 21:06:04,224 : INFO : EPOCH 2 - PROGRESS: at 29.55% examples, 427352 words/s, in_qsize 12, out_qsize 0\n",
            "2021-03-13 21:06:05,244 : INFO : EPOCH 2 - PROGRESS: at 34.01% examples, 429539 words/s, in_qsize 11, out_qsize 0\n",
            "2021-03-13 21:06:06,263 : INFO : EPOCH 2 - PROGRESS: at 38.27% examples, 429404 words/s, in_qsize 11, out_qsize 1\n",
            "2021-03-13 21:06:07,290 : INFO : EPOCH 2 - PROGRESS: at 42.63% examples, 431312 words/s, in_qsize 11, out_qsize 1\n",
            "2021-03-13 21:06:08,302 : INFO : EPOCH 2 - PROGRESS: at 46.77% examples, 431161 words/s, in_qsize 10, out_qsize 1\n",
            "2021-03-13 21:06:09,312 : INFO : EPOCH 2 - PROGRESS: at 50.96% examples, 430740 words/s, in_qsize 12, out_qsize 1\n",
            "2021-03-13 21:06:10,328 : INFO : EPOCH 2 - PROGRESS: at 55.35% examples, 431146 words/s, in_qsize 11, out_qsize 0\n",
            "2021-03-13 21:06:11,344 : INFO : EPOCH 2 - PROGRESS: at 59.40% examples, 430800 words/s, in_qsize 11, out_qsize 1\n",
            "2021-03-13 21:06:12,377 : INFO : EPOCH 2 - PROGRESS: at 63.92% examples, 431570 words/s, in_qsize 11, out_qsize 0\n",
            "2021-03-13 21:06:13,381 : INFO : EPOCH 2 - PROGRESS: at 67.90% examples, 430459 words/s, in_qsize 12, out_qsize 0\n",
            "2021-03-13 21:06:14,417 : INFO : EPOCH 2 - PROGRESS: at 72.13% examples, 429937 words/s, in_qsize 11, out_qsize 2\n",
            "2021-03-13 21:06:15,426 : INFO : EPOCH 2 - PROGRESS: at 76.26% examples, 430416 words/s, in_qsize 11, out_qsize 0\n",
            "2021-03-13 21:06:16,495 : INFO : EPOCH 2 - PROGRESS: at 80.51% examples, 429625 words/s, in_qsize 11, out_qsize 0\n",
            "2021-03-13 21:06:17,512 : INFO : EPOCH 2 - PROGRESS: at 84.70% examples, 429889 words/s, in_qsize 10, out_qsize 1\n",
            "2021-03-13 21:06:18,527 : INFO : EPOCH 2 - PROGRESS: at 89.04% examples, 430959 words/s, in_qsize 11, out_qsize 0\n",
            "2021-03-13 21:06:19,534 : INFO : EPOCH 2 - PROGRESS: at 93.01% examples, 430055 words/s, in_qsize 11, out_qsize 0\n",
            "2021-03-13 21:06:20,563 : INFO : EPOCH 2 - PROGRESS: at 97.03% examples, 428918 words/s, in_qsize 11, out_qsize 0\n",
            "2021-03-13 21:06:21,157 : INFO : worker thread finished; awaiting finish of 5 more threads\n",
            "2021-03-13 21:06:21,199 : INFO : worker thread finished; awaiting finish of 4 more threads\n",
            "2021-03-13 21:06:21,201 : INFO : worker thread finished; awaiting finish of 3 more threads\n",
            "2021-03-13 21:06:21,202 : INFO : worker thread finished; awaiting finish of 2 more threads\n",
            "2021-03-13 21:06:21,206 : INFO : worker thread finished; awaiting finish of 1 more threads\n",
            "2021-03-13 21:06:21,208 : INFO : worker thread finished; awaiting finish of 0 more threads\n",
            "2021-03-13 21:06:21,209 : INFO : EPOCH - 2 : training on 14059602 raw words (10363212 effective words) took 24.1s, 429994 effective words/s\n",
            "2021-03-13 21:06:22,258 : INFO : EPOCH 3 - PROGRESS: at 4.02% examples, 406413 words/s, in_qsize 12, out_qsize 1\n",
            "2021-03-13 21:06:23,276 : INFO : EPOCH 3 - PROGRESS: at 8.20% examples, 417320 words/s, in_qsize 11, out_qsize 0\n",
            "2021-03-13 21:06:24,297 : INFO : EPOCH 3 - PROGRESS: at 12.34% examples, 418071 words/s, in_qsize 11, out_qsize 0\n",
            "2021-03-13 21:06:25,303 : INFO : EPOCH 3 - PROGRESS: at 16.41% examples, 418427 words/s, in_qsize 11, out_qsize 0\n",
            "2021-03-13 21:06:26,337 : INFO : EPOCH 3 - PROGRESS: at 20.87% examples, 422128 words/s, in_qsize 12, out_qsize 0\n",
            "2021-03-13 21:06:27,371 : INFO : EPOCH 3 - PROGRESS: at 25.14% examples, 422652 words/s, in_qsize 11, out_qsize 0\n",
            "2021-03-13 21:06:28,415 : INFO : EPOCH 3 - PROGRESS: at 29.55% examples, 423314 words/s, in_qsize 10, out_qsize 1\n",
            "2021-03-13 21:06:29,445 : INFO : EPOCH 3 - PROGRESS: at 33.94% examples, 425374 words/s, in_qsize 11, out_qsize 0\n",
            "2021-03-13 21:06:30,451 : INFO : EPOCH 3 - PROGRESS: at 38.24% examples, 426476 words/s, in_qsize 11, out_qsize 0\n",
            "2021-03-13 21:06:31,461 : INFO : EPOCH 3 - PROGRESS: at 42.50% examples, 427908 words/s, in_qsize 11, out_qsize 0\n",
            "2021-03-13 21:06:32,487 : INFO : EPOCH 3 - PROGRESS: at 46.78% examples, 428823 words/s, in_qsize 11, out_qsize 0\n",
            "2021-03-13 21:06:33,499 : INFO : EPOCH 3 - PROGRESS: at 51.04% examples, 429104 words/s, in_qsize 10, out_qsize 1\n",
            "2021-03-13 21:06:34,513 : INFO : EPOCH 3 - PROGRESS: at 55.27% examples, 428601 words/s, in_qsize 11, out_qsize 0\n",
            "2021-03-13 21:06:35,552 : INFO : EPOCH 3 - PROGRESS: at 59.46% examples, 428536 words/s, in_qsize 11, out_qsize 0\n",
            "2021-03-13 21:06:36,562 : INFO : EPOCH 3 - PROGRESS: at 63.76% examples, 428852 words/s, in_qsize 11, out_qsize 0\n",
            "2021-03-13 21:06:37,580 : INFO : EPOCH 3 - PROGRESS: at 67.96% examples, 428893 words/s, in_qsize 11, out_qsize 0\n",
            "2021-03-13 21:06:38,618 : INFO : EPOCH 3 - PROGRESS: at 72.34% examples, 429229 words/s, in_qsize 11, out_qsize 0\n",
            "2021-03-13 21:06:39,634 : INFO : EPOCH 3 - PROGRESS: at 76.39% examples, 429158 words/s, in_qsize 11, out_qsize 0\n",
            "2021-03-13 21:06:40,648 : INFO : EPOCH 3 - PROGRESS: at 80.51% examples, 428944 words/s, in_qsize 9, out_qsize 4\n",
            "2021-03-13 21:06:41,648 : INFO : EPOCH 3 - PROGRESS: at 84.70% examples, 429594 words/s, in_qsize 11, out_qsize 0\n",
            "2021-03-13 21:06:42,711 : INFO : EPOCH 3 - PROGRESS: at 88.90% examples, 429104 words/s, in_qsize 11, out_qsize 1\n",
            "2021-03-13 21:06:43,721 : INFO : EPOCH 3 - PROGRESS: at 93.15% examples, 429459 words/s, in_qsize 11, out_qsize 0\n",
            "2021-03-13 21:06:44,763 : INFO : EPOCH 3 - PROGRESS: at 97.40% examples, 429174 words/s, in_qsize 9, out_qsize 4\n",
            "2021-03-13 21:06:45,246 : INFO : worker thread finished; awaiting finish of 5 more threads\n",
            "2021-03-13 21:06:45,262 : INFO : worker thread finished; awaiting finish of 4 more threads\n",
            "2021-03-13 21:06:45,276 : INFO : worker thread finished; awaiting finish of 3 more threads\n",
            "2021-03-13 21:06:45,293 : INFO : worker thread finished; awaiting finish of 2 more threads\n",
            "2021-03-13 21:06:45,294 : INFO : worker thread finished; awaiting finish of 1 more threads\n",
            "2021-03-13 21:06:45,295 : INFO : worker thread finished; awaiting finish of 0 more threads\n",
            "2021-03-13 21:06:45,296 : INFO : EPOCH - 3 : training on 14059602 raw words (10360355 effective words) took 24.1s, 430586 effective words/s\n",
            "2021-03-13 21:06:46,353 : INFO : EPOCH 4 - PROGRESS: at 4.08% examples, 403636 words/s, in_qsize 11, out_qsize 0\n",
            "2021-03-13 21:06:47,384 : INFO : EPOCH 4 - PROGRESS: at 8.54% examples, 427581 words/s, in_qsize 11, out_qsize 0\n",
            "2021-03-13 21:06:48,394 : INFO : EPOCH 4 - PROGRESS: at 12.72% examples, 426205 words/s, in_qsize 11, out_qsize 0\n",
            "2021-03-13 21:06:49,416 : INFO : EPOCH 4 - PROGRESS: at 17.02% examples, 428128 words/s, in_qsize 12, out_qsize 0\n",
            "2021-03-13 21:06:50,441 : INFO : EPOCH 4 - PROGRESS: at 21.29% examples, 427772 words/s, in_qsize 11, out_qsize 0\n",
            "2021-03-13 21:06:51,486 : INFO : EPOCH 4 - PROGRESS: at 25.67% examples, 427913 words/s, in_qsize 9, out_qsize 2\n",
            "2021-03-13 21:06:52,542 : INFO : EPOCH 4 - PROGRESS: at 29.94% examples, 426177 words/s, in_qsize 11, out_qsize 0\n",
            "2021-03-13 21:06:53,618 : INFO : EPOCH 4 - PROGRESS: at 34.42% examples, 425627 words/s, in_qsize 12, out_qsize 5\n",
            "2021-03-13 21:06:54,654 : INFO : EPOCH 4 - PROGRESS: at 38.75% examples, 425920 words/s, in_qsize 11, out_qsize 0\n",
            "2021-03-13 21:06:55,659 : INFO : EPOCH 4 - PROGRESS: at 42.77% examples, 425545 words/s, in_qsize 11, out_qsize 1\n",
            "2021-03-13 21:06:56,684 : INFO : EPOCH 4 - PROGRESS: at 47.06% examples, 426671 words/s, in_qsize 11, out_qsize 0\n",
            "2021-03-13 21:06:57,707 : INFO : EPOCH 4 - PROGRESS: at 51.31% examples, 426680 words/s, in_qsize 11, out_qsize 0\n",
            "2021-03-13 21:06:58,708 : INFO : EPOCH 4 - PROGRESS: at 55.61% examples, 427425 words/s, in_qsize 11, out_qsize 0\n",
            "2021-03-13 21:06:59,740 : INFO : EPOCH 4 - PROGRESS: at 59.70% examples, 426701 words/s, in_qsize 12, out_qsize 0\n",
            "2021-03-13 21:07:00,751 : INFO : EPOCH 4 - PROGRESS: at 64.06% examples, 427554 words/s, in_qsize 12, out_qsize 0\n",
            "2021-03-13 21:07:01,760 : INFO : EPOCH 4 - PROGRESS: at 68.24% examples, 427912 words/s, in_qsize 10, out_qsize 1\n",
            "2021-03-13 21:07:02,778 : INFO : EPOCH 4 - PROGRESS: at 72.55% examples, 428373 words/s, in_qsize 11, out_qsize 0\n",
            "2021-03-13 21:07:03,782 : INFO : EPOCH 4 - PROGRESS: at 76.67% examples, 429024 words/s, in_qsize 11, out_qsize 0\n",
            "2021-03-13 21:07:04,788 : INFO : EPOCH 4 - PROGRESS: at 80.59% examples, 428251 words/s, in_qsize 11, out_qsize 0\n",
            "2021-03-13 21:07:05,796 : INFO : EPOCH 4 - PROGRESS: at 84.97% examples, 429460 words/s, in_qsize 11, out_qsize 0\n",
            "2021-03-13 21:07:06,831 : INFO : EPOCH 4 - PROGRESS: at 89.17% examples, 429462 words/s, in_qsize 11, out_qsize 0\n",
            "2021-03-13 21:07:07,832 : INFO : EPOCH 4 - PROGRESS: at 93.40% examples, 430063 words/s, in_qsize 11, out_qsize 0\n",
            "2021-03-13 21:07:08,858 : INFO : EPOCH 4 - PROGRESS: at 97.39% examples, 428673 words/s, in_qsize 11, out_qsize 1\n",
            "2021-03-13 21:07:09,375 : INFO : worker thread finished; awaiting finish of 5 more threads\n",
            "2021-03-13 21:07:09,377 : INFO : worker thread finished; awaiting finish of 4 more threads\n",
            "2021-03-13 21:07:09,378 : INFO : worker thread finished; awaiting finish of 3 more threads\n",
            "2021-03-13 21:07:09,386 : INFO : worker thread finished; awaiting finish of 2 more threads\n",
            "2021-03-13 21:07:09,395 : INFO : worker thread finished; awaiting finish of 1 more threads\n",
            "2021-03-13 21:07:09,404 : INFO : worker thread finished; awaiting finish of 0 more threads\n",
            "2021-03-13 21:07:09,405 : INFO : EPOCH - 4 : training on 14059602 raw words (10362332 effective words) took 24.1s, 429977 effective words/s\n",
            "2021-03-13 21:07:10,414 : INFO : EPOCH 5 - PROGRESS: at 3.95% examples, 408101 words/s, in_qsize 11, out_qsize 1\n",
            "2021-03-13 21:07:11,419 : INFO : EPOCH 5 - PROGRESS: at 8.14% examples, 421484 words/s, in_qsize 11, out_qsize 0\n",
            "2021-03-13 21:07:12,438 : INFO : EPOCH 5 - PROGRESS: at 12.34% examples, 423490 words/s, in_qsize 11, out_qsize 0\n",
            "2021-03-13 21:07:13,446 : INFO : EPOCH 5 - PROGRESS: at 16.57% examples, 425871 words/s, in_qsize 11, out_qsize 0\n",
            "2021-03-13 21:07:14,479 : INFO : EPOCH 5 - PROGRESS: at 20.81% examples, 423869 words/s, in_qsize 11, out_qsize 0\n",
            "2021-03-13 21:07:15,549 : INFO : EPOCH 5 - PROGRESS: at 25.22% examples, 424121 words/s, in_qsize 11, out_qsize 0\n",
            "2021-03-13 21:07:16,565 : INFO : EPOCH 5 - PROGRESS: at 29.61% examples, 426260 words/s, in_qsize 11, out_qsize 0\n",
            "2021-03-13 21:07:17,612 : INFO : EPOCH 5 - PROGRESS: at 34.00% examples, 426306 words/s, in_qsize 11, out_qsize 0\n",
            "2021-03-13 21:07:18,627 : INFO : EPOCH 5 - PROGRESS: at 38.19% examples, 425912 words/s, in_qsize 11, out_qsize 0\n",
            "2021-03-13 21:07:19,701 : INFO : EPOCH 5 - PROGRESS: at 42.63% examples, 426882 words/s, in_qsize 11, out_qsize 1\n",
            "2021-03-13 21:07:20,712 : INFO : EPOCH 5 - PROGRESS: at 46.70% examples, 426465 words/s, in_qsize 11, out_qsize 0\n",
            "2021-03-13 21:07:21,729 : INFO : EPOCH 5 - PROGRESS: at 50.89% examples, 426205 words/s, in_qsize 11, out_qsize 0\n",
            "2021-03-13 21:07:22,735 : INFO : EPOCH 5 - PROGRESS: at 55.15% examples, 426178 words/s, in_qsize 11, out_qsize 0\n",
            "2021-03-13 21:07:23,780 : INFO : EPOCH 5 - PROGRESS: at 59.19% examples, 425511 words/s, in_qsize 12, out_qsize 4\n",
            "2021-03-13 21:07:24,772 : INFO : EPOCH 5 - PROGRESS: at 63.38% examples, 425735 words/s, in_qsize 11, out_qsize 0\n",
            "2021-03-13 21:07:25,792 : INFO : EPOCH 5 - PROGRESS: at 67.34% examples, 424216 words/s, in_qsize 11, out_qsize 0\n",
            "2021-03-13 21:07:26,793 : INFO : EPOCH 5 - PROGRESS: at 71.51% examples, 424392 words/s, in_qsize 12, out_qsize 0\n",
            "2021-03-13 21:07:27,802 : INFO : EPOCH 5 - PROGRESS: at 75.43% examples, 424109 words/s, in_qsize 10, out_qsize 1\n",
            "2021-03-13 21:07:28,802 : INFO : EPOCH 5 - PROGRESS: at 79.66% examples, 425092 words/s, in_qsize 12, out_qsize 1\n",
            "2021-03-13 21:07:29,802 : INFO : EPOCH 5 - PROGRESS: at 83.73% examples, 425571 words/s, in_qsize 11, out_qsize 0\n",
            "2021-03-13 21:07:30,822 : INFO : EPOCH 5 - PROGRESS: at 87.59% examples, 424004 words/s, in_qsize 11, out_qsize 0\n",
            "2021-03-13 21:07:31,857 : INFO : EPOCH 5 - PROGRESS: at 91.74% examples, 423530 words/s, in_qsize 11, out_qsize 1\n",
            "2021-03-13 21:07:32,860 : INFO : EPOCH 5 - PROGRESS: at 95.91% examples, 424050 words/s, in_qsize 10, out_qsize 1\n",
            "2021-03-13 21:07:33,748 : INFO : worker thread finished; awaiting finish of 5 more threads\n",
            "2021-03-13 21:07:33,753 : INFO : worker thread finished; awaiting finish of 4 more threads\n",
            "2021-03-13 21:07:33,758 : INFO : worker thread finished; awaiting finish of 3 more threads\n",
            "2021-03-13 21:07:33,765 : INFO : worker thread finished; awaiting finish of 2 more threads\n",
            "2021-03-13 21:07:33,775 : INFO : worker thread finished; awaiting finish of 1 more threads\n",
            "2021-03-13 21:07:33,778 : INFO : worker thread finished; awaiting finish of 0 more threads\n",
            "2021-03-13 21:07:33,779 : INFO : EPOCH - 5 : training on 14059602 raw words (10362522 effective words) took 24.4s, 425290 effective words/s\n",
            "2021-03-13 21:07:34,828 : INFO : EPOCH 6 - PROGRESS: at 4.02% examples, 399312 words/s, in_qsize 12, out_qsize 0\n",
            "2021-03-13 21:07:35,849 : INFO : EPOCH 6 - PROGRESS: at 8.07% examples, 406052 words/s, in_qsize 12, out_qsize 2\n",
            "2021-03-13 21:07:36,851 : INFO : EPOCH 6 - PROGRESS: at 12.13% examples, 410824 words/s, in_qsize 12, out_qsize 1\n",
            "2021-03-13 21:07:37,891 : INFO : EPOCH 6 - PROGRESS: at 16.48% examples, 416439 words/s, in_qsize 11, out_qsize 0\n",
            "2021-03-13 21:07:38,912 : INFO : EPOCH 6 - PROGRESS: at 20.81% examples, 418667 words/s, in_qsize 10, out_qsize 1\n",
            "2021-03-13 21:07:39,916 : INFO : EPOCH 6 - PROGRESS: at 25.21% examples, 424232 words/s, in_qsize 10, out_qsize 1\n",
            "2021-03-13 21:07:40,925 : INFO : EPOCH 6 - PROGRESS: at 29.48% examples, 424790 words/s, in_qsize 11, out_qsize 0\n",
            "2021-03-13 21:07:41,935 : INFO : EPOCH 6 - PROGRESS: at 33.63% examples, 424223 words/s, in_qsize 11, out_qsize 0\n",
            "2021-03-13 21:07:42,943 : INFO : EPOCH 6 - PROGRESS: at 37.75% examples, 423644 words/s, in_qsize 11, out_qsize 0\n",
            "2021-03-13 21:07:43,954 : INFO : EPOCH 6 - PROGRESS: at 41.84% examples, 423962 words/s, in_qsize 9, out_qsize 2\n",
            "2021-03-13 21:07:44,970 : INFO : EPOCH 6 - PROGRESS: at 46.07% examples, 425023 words/s, in_qsize 11, out_qsize 0\n",
            "2021-03-13 21:07:45,981 : INFO : EPOCH 6 - PROGRESS: at 50.27% examples, 424989 words/s, in_qsize 11, out_qsize 0\n",
            "2021-03-13 21:07:47,012 : INFO : EPOCH 6 - PROGRESS: at 54.69% examples, 425951 words/s, in_qsize 12, out_qsize 0\n",
            "2021-03-13 21:07:48,016 : INFO : EPOCH 6 - PROGRESS: at 58.86% examples, 426669 words/s, in_qsize 11, out_qsize 0\n",
            "2021-03-13 21:07:49,046 : INFO : EPOCH 6 - PROGRESS: at 63.13% examples, 426581 words/s, in_qsize 11, out_qsize 1\n",
            "2021-03-13 21:07:50,051 : INFO : EPOCH 6 - PROGRESS: at 67.47% examples, 428014 words/s, in_qsize 11, out_qsize 0\n",
            "2021-03-13 21:07:51,116 : INFO : EPOCH 6 - PROGRESS: at 71.90% examples, 428443 words/s, in_qsize 11, out_qsize 1\n",
            "2021-03-13 21:07:52,140 : INFO : EPOCH 6 - PROGRESS: at 75.94% examples, 427996 words/s, in_qsize 10, out_qsize 1\n",
            "2021-03-13 21:07:53,151 : INFO : EPOCH 6 - PROGRESS: at 80.24% examples, 428642 words/s, in_qsize 11, out_qsize 0\n",
            "2021-03-13 21:07:54,170 : INFO : EPOCH 6 - PROGRESS: at 84.55% examples, 429637 words/s, in_qsize 11, out_qsize 0\n",
            "2021-03-13 21:07:55,172 : INFO : EPOCH 6 - PROGRESS: at 88.45% examples, 428571 words/s, in_qsize 10, out_qsize 1\n",
            "2021-03-13 21:07:56,182 : INFO : EPOCH 6 - PROGRESS: at 92.56% examples, 428378 words/s, in_qsize 11, out_qsize 0\n",
            "2021-03-13 21:07:57,188 : INFO : EPOCH 6 - PROGRESS: at 96.58% examples, 428034 words/s, in_qsize 12, out_qsize 1\n",
            "2021-03-13 21:07:57,922 : INFO : worker thread finished; awaiting finish of 5 more threads\n",
            "2021-03-13 21:07:57,926 : INFO : worker thread finished; awaiting finish of 4 more threads\n",
            "2021-03-13 21:07:57,936 : INFO : worker thread finished; awaiting finish of 3 more threads\n",
            "2021-03-13 21:07:57,952 : INFO : worker thread finished; awaiting finish of 2 more threads\n",
            "2021-03-13 21:07:57,956 : INFO : worker thread finished; awaiting finish of 1 more threads\n",
            "2021-03-13 21:07:57,958 : INFO : worker thread finished; awaiting finish of 0 more threads\n",
            "2021-03-13 21:07:57,960 : INFO : EPOCH - 6 : training on 14059602 raw words (10363109 effective words) took 24.2s, 428712 effective words/s\n",
            "2021-03-13 21:07:59,004 : INFO : EPOCH 7 - PROGRESS: at 4.02% examples, 400834 words/s, in_qsize 11, out_qsize 0\n",
            "2021-03-13 21:08:00,061 : INFO : EPOCH 7 - PROGRESS: at 8.40% examples, 417480 words/s, in_qsize 11, out_qsize 0\n",
            "2021-03-13 21:08:01,064 : INFO : EPOCH 7 - PROGRESS: at 12.56% examples, 420526 words/s, in_qsize 10, out_qsize 1\n",
            "2021-03-13 21:08:02,108 : INFO : EPOCH 7 - PROGRESS: at 17.02% examples, 425002 words/s, in_qsize 11, out_qsize 0\n",
            "2021-03-13 21:08:03,131 : INFO : EPOCH 7 - PROGRESS: at 21.29% examples, 425482 words/s, in_qsize 11, out_qsize 0\n",
            "2021-03-13 21:08:04,140 : INFO : EPOCH 7 - PROGRESS: at 25.51% examples, 426171 words/s, in_qsize 11, out_qsize 0\n",
            "2021-03-13 21:08:05,144 : INFO : EPOCH 7 - PROGRESS: at 29.63% examples, 424745 words/s, in_qsize 11, out_qsize 0\n",
            "2021-03-13 21:08:06,176 : INFO : EPOCH 7 - PROGRESS: at 33.79% examples, 423010 words/s, in_qsize 11, out_qsize 0\n",
            "2021-03-13 21:08:07,210 : INFO : EPOCH 7 - PROGRESS: at 38.12% examples, 424458 words/s, in_qsize 12, out_qsize 1\n",
            "2021-03-13 21:08:08,197 : INFO : EPOCH 7 - PROGRESS: at 42.28% examples, 425698 words/s, in_qsize 11, out_qsize 0\n",
            "2021-03-13 21:08:09,210 : INFO : EPOCH 7 - PROGRESS: at 46.29% examples, 424725 words/s, in_qsize 11, out_qsize 0\n",
            "2021-03-13 21:08:10,225 : INFO : EPOCH 7 - PROGRESS: at 50.52% examples, 425257 words/s, in_qsize 11, out_qsize 0\n",
            "2021-03-13 21:08:11,232 : INFO : EPOCH 7 - PROGRESS: at 54.92% examples, 426371 words/s, in_qsize 11, out_qsize 0\n",
            "2021-03-13 21:08:12,242 : INFO : EPOCH 7 - PROGRESS: at 59.00% examples, 426395 words/s, in_qsize 11, out_qsize 0\n",
            "2021-03-13 21:08:13,282 : INFO : EPOCH 7 - PROGRESS: at 63.38% examples, 426951 words/s, in_qsize 11, out_qsize 0\n",
            "2021-03-13 21:08:14,284 : INFO : EPOCH 7 - PROGRESS: at 67.62% examples, 427493 words/s, in_qsize 11, out_qsize 0\n",
            "2021-03-13 21:08:15,291 : INFO : EPOCH 7 - PROGRESS: at 71.83% examples, 427815 words/s, in_qsize 12, out_qsize 1\n",
            "2021-03-13 21:08:16,308 : INFO : EPOCH 7 - PROGRESS: at 75.80% examples, 427495 words/s, in_qsize 11, out_qsize 0\n",
            "2021-03-13 21:08:17,319 : INFO : EPOCH 7 - PROGRESS: at 80.00% examples, 427765 words/s, in_qsize 11, out_qsize 0\n",
            "2021-03-13 21:08:18,326 : INFO : EPOCH 7 - PROGRESS: at 84.38% examples, 429385 words/s, in_qsize 12, out_qsize 0\n",
            "2021-03-13 21:08:19,330 : INFO : EPOCH 7 - PROGRESS: at 88.43% examples, 428974 words/s, in_qsize 11, out_qsize 0\n",
            "2021-03-13 21:08:20,345 : INFO : EPOCH 7 - PROGRESS: at 92.62% examples, 428981 words/s, in_qsize 12, out_qsize 5\n",
            "2021-03-13 21:08:21,352 : INFO : EPOCH 7 - PROGRESS: at 97.01% examples, 430176 words/s, in_qsize 11, out_qsize 0\n",
            "2021-03-13 21:08:21,963 : INFO : worker thread finished; awaiting finish of 5 more threads\n",
            "2021-03-13 21:08:21,980 : INFO : worker thread finished; awaiting finish of 4 more threads\n",
            "2021-03-13 21:08:21,994 : INFO : worker thread finished; awaiting finish of 3 more threads\n",
            "2021-03-13 21:08:22,001 : INFO : worker thread finished; awaiting finish of 2 more threads\n",
            "2021-03-13 21:08:22,008 : INFO : worker thread finished; awaiting finish of 1 more threads\n",
            "2021-03-13 21:08:22,011 : INFO : worker thread finished; awaiting finish of 0 more threads\n",
            "2021-03-13 21:08:22,012 : INFO : EPOCH - 7 : training on 14059602 raw words (10362292 effective words) took 24.0s, 430946 effective words/s\n",
            "2021-03-13 21:08:23,027 : INFO : EPOCH 8 - PROGRESS: at 3.97% examples, 406897 words/s, in_qsize 11, out_qsize 1\n",
            "2021-03-13 21:08:24,028 : INFO : EPOCH 8 - PROGRESS: at 8.27% examples, 428937 words/s, in_qsize 10, out_qsize 1\n",
            "2021-03-13 21:08:25,066 : INFO : EPOCH 8 - PROGRESS: at 12.34% examples, 421023 words/s, in_qsize 9, out_qsize 2\n",
            "2021-03-13 21:08:26,090 : INFO : EPOCH 8 - PROGRESS: at 16.72% examples, 425921 words/s, in_qsize 11, out_qsize 0\n",
            "2021-03-13 21:08:27,163 : INFO : EPOCH 8 - PROGRESS: at 21.22% examples, 426270 words/s, in_qsize 11, out_qsize 0\n",
            "2021-03-13 21:08:28,181 : INFO : EPOCH 8 - PROGRESS: at 25.58% examples, 428463 words/s, in_qsize 11, out_qsize 0\n",
            "2021-03-13 21:08:29,216 : INFO : EPOCH 8 - PROGRESS: at 30.06% examples, 430958 words/s, in_qsize 11, out_qsize 0\n",
            "2021-03-13 21:08:30,229 : INFO : EPOCH 8 - PROGRESS: at 34.42% examples, 431289 words/s, in_qsize 11, out_qsize 0\n",
            "2021-03-13 21:08:31,269 : INFO : EPOCH 8 - PROGRESS: at 38.69% examples, 429993 words/s, in_qsize 11, out_qsize 1\n",
            "2021-03-13 21:08:32,310 : INFO : EPOCH 8 - PROGRESS: at 43.04% examples, 431157 words/s, in_qsize 10, out_qsize 1\n",
            "2021-03-13 21:08:33,337 : INFO : EPOCH 8 - PROGRESS: at 47.05% examples, 429111 words/s, in_qsize 10, out_qsize 1\n",
            "2021-03-13 21:08:34,351 : INFO : EPOCH 8 - PROGRESS: at 51.31% examples, 429185 words/s, in_qsize 10, out_qsize 1\n",
            "2021-03-13 21:08:35,359 : INFO : EPOCH 8 - PROGRESS: at 55.67% examples, 430093 words/s, in_qsize 12, out_qsize 0\n",
            "2021-03-13 21:08:36,374 : INFO : EPOCH 8 - PROGRESS: at 59.69% examples, 429141 words/s, in_qsize 10, out_qsize 1\n",
            "2021-03-13 21:08:37,409 : INFO : EPOCH 8 - PROGRESS: at 63.92% examples, 428274 words/s, in_qsize 11, out_qsize 2\n",
            "2021-03-13 21:08:38,412 : INFO : EPOCH 8 - PROGRESS: at 67.96% examples, 427804 words/s, in_qsize 11, out_qsize 0\n",
            "2021-03-13 21:08:39,415 : INFO : EPOCH 8 - PROGRESS: at 72.26% examples, 428672 words/s, in_qsize 11, out_qsize 0\n",
            "2021-03-13 21:08:40,453 : INFO : EPOCH 8 - PROGRESS: at 76.23% examples, 427753 words/s, in_qsize 9, out_qsize 3\n",
            "2021-03-13 21:08:41,489 : INFO : EPOCH 8 - PROGRESS: at 80.61% examples, 428571 words/s, in_qsize 11, out_qsize 0\n",
            "2021-03-13 21:08:42,531 : INFO : EPOCH 8 - PROGRESS: at 85.08% examples, 429776 words/s, in_qsize 11, out_qsize 0\n",
            "2021-03-13 21:08:43,540 : INFO : EPOCH 8 - PROGRESS: at 89.47% examples, 430918 words/s, in_qsize 11, out_qsize 0\n",
            "2021-03-13 21:08:44,595 : INFO : EPOCH 8 - PROGRESS: at 93.73% examples, 430440 words/s, in_qsize 11, out_qsize 0\n",
            "2021-03-13 21:08:45,600 : INFO : EPOCH 8 - PROGRESS: at 98.12% examples, 431278 words/s, in_qsize 11, out_qsize 0\n",
            "2021-03-13 21:08:45,965 : INFO : worker thread finished; awaiting finish of 5 more threads\n",
            "2021-03-13 21:08:45,985 : INFO : worker thread finished; awaiting finish of 4 more threads\n",
            "2021-03-13 21:08:45,994 : INFO : worker thread finished; awaiting finish of 3 more threads\n",
            "2021-03-13 21:08:45,997 : INFO : worker thread finished; awaiting finish of 2 more threads\n",
            "2021-03-13 21:08:46,005 : INFO : worker thread finished; awaiting finish of 1 more threads\n",
            "2021-03-13 21:08:46,016 : INFO : worker thread finished; awaiting finish of 0 more threads\n",
            "2021-03-13 21:08:46,016 : INFO : EPOCH - 8 : training on 14059602 raw words (10361175 effective words) took 24.0s, 431834 effective words/s\n",
            "2021-03-13 21:08:47,059 : INFO : EPOCH 9 - PROGRESS: at 3.96% examples, 395198 words/s, in_qsize 11, out_qsize 0\n",
            "2021-03-13 21:08:48,064 : INFO : EPOCH 9 - PROGRESS: at 8.20% examples, 418392 words/s, in_qsize 11, out_qsize 0\n",
            "2021-03-13 21:08:49,076 : INFO : EPOCH 9 - PROGRESS: at 12.27% examples, 417641 words/s, in_qsize 9, out_qsize 2\n",
            "2021-03-13 21:08:50,083 : INFO : EPOCH 9 - PROGRESS: at 16.64% examples, 424951 words/s, in_qsize 11, out_qsize 0\n",
            "2021-03-13 21:08:51,127 : INFO : EPOCH 9 - PROGRESS: at 21.09% examples, 426577 words/s, in_qsize 11, out_qsize 0\n",
            "2021-03-13 21:08:52,179 : INFO : EPOCH 9 - PROGRESS: at 25.66% examples, 429861 words/s, in_qsize 11, out_qsize 0\n",
            "2021-03-13 21:08:53,199 : INFO : EPOCH 9 - PROGRESS: at 30.07% examples, 432058 words/s, in_qsize 11, out_qsize 0\n",
            "2021-03-13 21:08:54,221 : INFO : EPOCH 9 - PROGRESS: at 34.42% examples, 431708 words/s, in_qsize 11, out_qsize 0\n",
            "2021-03-13 21:08:55,270 : INFO : EPOCH 9 - PROGRESS: at 38.68% examples, 429964 words/s, in_qsize 11, out_qsize 0\n",
            "2021-03-13 21:08:56,271 : INFO : EPOCH 9 - PROGRESS: at 42.90% examples, 431483 words/s, in_qsize 10, out_qsize 1\n",
            "2021-03-13 21:08:57,296 : INFO : EPOCH 9 - PROGRESS: at 46.83% examples, 428782 words/s, in_qsize 12, out_qsize 0\n",
            "2021-03-13 21:08:58,317 : INFO : EPOCH 9 - PROGRESS: at 51.31% examples, 430453 words/s, in_qsize 11, out_qsize 0\n",
            "2021-03-13 21:08:59,324 : INFO : EPOCH 9 - PROGRESS: at 55.55% examples, 430233 words/s, in_qsize 11, out_qsize 0\n",
            "2021-03-13 21:09:00,333 : INFO : EPOCH 9 - PROGRESS: at 59.63% examples, 429914 words/s, in_qsize 11, out_qsize 0\n",
            "2021-03-13 21:09:01,333 : INFO : EPOCH 9 - PROGRESS: at 63.84% examples, 429954 words/s, in_qsize 11, out_qsize 0\n",
            "2021-03-13 21:09:02,339 : INFO : EPOCH 9 - PROGRESS: at 67.94% examples, 429775 words/s, in_qsize 11, out_qsize 0\n",
            "2021-03-13 21:09:03,388 : INFO : EPOCH 9 - PROGRESS: at 72.34% examples, 429819 words/s, in_qsize 12, out_qsize 3\n",
            "2021-03-13 21:09:04,413 : INFO : EPOCH 9 - PROGRESS: at 76.39% examples, 429496 words/s, in_qsize 12, out_qsize 1\n",
            "2021-03-13 21:09:05,453 : INFO : EPOCH 9 - PROGRESS: at 80.67% examples, 429811 words/s, in_qsize 11, out_qsize 0\n",
            "2021-03-13 21:09:06,460 : INFO : EPOCH 9 - PROGRESS: at 84.84% examples, 429899 words/s, in_qsize 12, out_qsize 1\n",
            "2021-03-13 21:09:07,491 : INFO : EPOCH 9 - PROGRESS: at 88.97% examples, 429736 words/s, in_qsize 11, out_qsize 1\n",
            "2021-03-13 21:09:08,513 : INFO : EPOCH 9 - PROGRESS: at 93.26% examples, 430134 words/s, in_qsize 11, out_qsize 0\n",
            "2021-03-13 21:09:09,535 : INFO : EPOCH 9 - PROGRESS: at 97.45% examples, 429729 words/s, in_qsize 10, out_qsize 1\n",
            "2021-03-13 21:09:10,046 : INFO : worker thread finished; awaiting finish of 5 more threads\n",
            "2021-03-13 21:09:10,047 : INFO : worker thread finished; awaiting finish of 4 more threads\n",
            "2021-03-13 21:09:10,060 : INFO : worker thread finished; awaiting finish of 3 more threads\n",
            "2021-03-13 21:09:10,082 : INFO : worker thread finished; awaiting finish of 2 more threads\n",
            "2021-03-13 21:09:10,084 : INFO : worker thread finished; awaiting finish of 1 more threads\n",
            "2021-03-13 21:09:10,089 : INFO : worker thread finished; awaiting finish of 0 more threads\n",
            "2021-03-13 21:09:10,090 : INFO : EPOCH - 9 : training on 14059602 raw words (10361727 effective words) took 24.1s, 430583 effective words/s\n",
            "2021-03-13 21:09:11,100 : INFO : EPOCH 10 - PROGRESS: at 4.02% examples, 414911 words/s, in_qsize 11, out_qsize 0\n",
            "2021-03-13 21:09:12,113 : INFO : EPOCH 10 - PROGRESS: at 8.27% examples, 426568 words/s, in_qsize 11, out_qsize 0\n",
            "2021-03-13 21:09:13,129 : INFO : EPOCH 10 - PROGRESS: at 12.40% examples, 424796 words/s, in_qsize 10, out_qsize 1\n",
            "2021-03-13 21:09:14,132 : INFO : EPOCH 10 - PROGRESS: at 16.79% examples, 430688 words/s, in_qsize 11, out_qsize 1\n",
            "2021-03-13 21:09:15,205 : INFO : EPOCH 10 - PROGRESS: at 21.16% examples, 427712 words/s, in_qsize 11, out_qsize 1\n",
            "2021-03-13 21:09:16,243 : INFO : EPOCH 10 - PROGRESS: at 25.64% examples, 430253 words/s, in_qsize 12, out_qsize 1\n",
            "2021-03-13 21:09:17,264 : INFO : EPOCH 10 - PROGRESS: at 29.93% examples, 430248 words/s, in_qsize 11, out_qsize 0\n",
            "2021-03-13 21:09:18,282 : INFO : EPOCH 10 - PROGRESS: at 34.35% examples, 431290 words/s, in_qsize 11, out_qsize 0\n",
            "2021-03-13 21:09:19,352 : INFO : EPOCH 10 - PROGRESS: at 38.90% examples, 431726 words/s, in_qsize 11, out_qsize 0\n",
            "2021-03-13 21:09:20,362 : INFO : EPOCH 10 - PROGRESS: at 43.25% examples, 434087 words/s, in_qsize 11, out_qsize 0\n",
            "2021-03-13 21:09:21,371 : INFO : EPOCH 10 - PROGRESS: at 47.37% examples, 433130 words/s, in_qsize 11, out_qsize 0\n",
            "2021-03-13 21:09:22,375 : INFO : EPOCH 10 - PROGRESS: at 51.77% examples, 434438 words/s, in_qsize 11, out_qsize 0\n",
            "2021-03-13 21:09:23,405 : INFO : EPOCH 10 - PROGRESS: at 56.01% examples, 433627 words/s, in_qsize 12, out_qsize 1\n",
            "2021-03-13 21:09:24,430 : INFO : EPOCH 10 - PROGRESS: at 60.42% examples, 434681 words/s, in_qsize 11, out_qsize 0\n",
            "2021-03-13 21:09:25,486 : INFO : EPOCH 10 - PROGRESS: at 64.75% examples, 433784 words/s, in_qsize 10, out_qsize 1\n",
            "2021-03-13 21:09:26,516 : INFO : EPOCH 10 - PROGRESS: at 69.08% examples, 434008 words/s, in_qsize 10, out_qsize 1\n",
            "2021-03-13 21:09:27,521 : INFO : EPOCH 10 - PROGRESS: at 73.22% examples, 433669 words/s, in_qsize 12, out_qsize 0\n",
            "2021-03-13 21:09:28,523 : INFO : EPOCH 10 - PROGRESS: at 77.19% examples, 432869 words/s, in_qsize 11, out_qsize 0\n",
            "2021-03-13 21:09:29,549 : INFO : EPOCH 10 - PROGRESS: at 81.49% examples, 433978 words/s, in_qsize 11, out_qsize 0\n",
            "2021-03-13 21:09:30,610 : INFO : EPOCH 10 - PROGRESS: at 85.91% examples, 433881 words/s, in_qsize 11, out_qsize 0\n",
            "2021-03-13 21:09:31,625 : INFO : EPOCH 10 - PROGRESS: at 90.19% examples, 434047 words/s, in_qsize 11, out_qsize 0\n",
            "2021-03-13 21:09:32,640 : INFO : EPOCH 10 - PROGRESS: at 94.55% examples, 434844 words/s, in_qsize 11, out_qsize 0\n",
            "2021-03-13 21:09:33,647 : INFO : EPOCH 10 - PROGRESS: at 98.99% examples, 435437 words/s, in_qsize 11, out_qsize 0\n",
            "2021-03-13 21:09:33,826 : INFO : worker thread finished; awaiting finish of 5 more threads\n",
            "2021-03-13 21:09:33,836 : INFO : worker thread finished; awaiting finish of 4 more threads\n",
            "2021-03-13 21:09:33,837 : INFO : worker thread finished; awaiting finish of 3 more threads\n",
            "2021-03-13 21:09:33,863 : INFO : worker thread finished; awaiting finish of 2 more threads\n",
            "2021-03-13 21:09:33,868 : INFO : worker thread finished; awaiting finish of 1 more threads\n",
            "2021-03-13 21:09:33,872 : INFO : worker thread finished; awaiting finish of 0 more threads\n",
            "2021-03-13 21:09:33,873 : INFO : EPOCH - 10 : training on 14059602 raw words (10360257 effective words) took 23.8s, 435758 effective words/s\n",
            "2021-03-13 21:09:34,907 : INFO : EPOCH 11 - PROGRESS: at 4.02% examples, 405886 words/s, in_qsize 11, out_qsize 0\n",
            "2021-03-13 21:09:35,916 : INFO : EPOCH 11 - PROGRESS: at 8.21% examples, 419419 words/s, in_qsize 11, out_qsize 0\n",
            "2021-03-13 21:09:36,953 : INFO : EPOCH 11 - PROGRESS: at 12.69% examples, 429121 words/s, in_qsize 11, out_qsize 0\n",
            "2021-03-13 21:09:37,972 : INFO : EPOCH 11 - PROGRESS: at 16.87% examples, 427030 words/s, in_qsize 11, out_qsize 0\n",
            "2021-03-13 21:09:39,006 : INFO : EPOCH 11 - PROGRESS: at 21.24% examples, 427595 words/s, in_qsize 11, out_qsize 0\n",
            "2021-03-13 21:09:40,020 : INFO : EPOCH 11 - PROGRESS: at 25.72% examples, 432345 words/s, in_qsize 11, out_qsize 0\n",
            "2021-03-13 21:09:41,034 : INFO : EPOCH 11 - PROGRESS: at 30.06% examples, 433468 words/s, in_qsize 12, out_qsize 0\n",
            "2021-03-13 21:09:42,061 : INFO : EPOCH 11 - PROGRESS: at 34.42% examples, 432727 words/s, in_qsize 11, out_qsize 0\n",
            "2021-03-13 21:09:43,093 : INFO : EPOCH 11 - PROGRESS: at 38.68% examples, 431572 words/s, in_qsize 11, out_qsize 1\n",
            "2021-03-13 21:09:44,107 : INFO : EPOCH 11 - PROGRESS: at 42.91% examples, 432350 words/s, in_qsize 8, out_qsize 3\n",
            "2021-03-13 21:09:45,151 : INFO : EPOCH 11 - PROGRESS: at 47.30% examples, 432787 words/s, in_qsize 11, out_qsize 0\n",
            "2021-03-13 21:09:46,178 : INFO : EPOCH 11 - PROGRESS: at 51.76% examples, 433949 words/s, in_qsize 11, out_qsize 0\n",
            "2021-03-13 21:09:47,195 : INFO : EPOCH 11 - PROGRESS: at 56.09% examples, 434194 words/s, in_qsize 9, out_qsize 2\n",
            "2021-03-13 21:09:48,222 : INFO : EPOCH 11 - PROGRESS: at 60.35% examples, 434131 words/s, in_qsize 11, out_qsize 0\n",
            "2021-03-13 21:09:49,230 : INFO : EPOCH 11 - PROGRESS: at 64.83% examples, 435562 words/s, in_qsize 12, out_qsize 0\n",
            "2021-03-13 21:09:50,257 : INFO : EPOCH 11 - PROGRESS: at 69.32% examples, 436611 words/s, in_qsize 11, out_qsize 0\n",
            "2021-03-13 21:09:51,258 : INFO : EPOCH 11 - PROGRESS: at 73.50% examples, 436625 words/s, in_qsize 11, out_qsize 0\n",
            "2021-03-13 21:09:52,299 : INFO : EPOCH 11 - PROGRESS: at 77.80% examples, 437064 words/s, in_qsize 11, out_qsize 3\n",
            "2021-03-13 21:09:53,303 : INFO : EPOCH 11 - PROGRESS: at 82.07% examples, 437765 words/s, in_qsize 11, out_qsize 0\n",
            "2021-03-13 21:09:54,309 : INFO : EPOCH 11 - PROGRESS: at 86.34% examples, 437939 words/s, in_qsize 9, out_qsize 2\n",
            "2021-03-13 21:09:55,338 : INFO : EPOCH 11 - PROGRESS: at 90.65% examples, 437620 words/s, in_qsize 11, out_qsize 0\n",
            "2021-03-13 21:09:56,344 : INFO : EPOCH 11 - PROGRESS: at 94.76% examples, 437440 words/s, in_qsize 11, out_qsize 0\n",
            "2021-03-13 21:09:57,350 : INFO : EPOCH 11 - PROGRESS: at 99.06% examples, 437346 words/s, in_qsize 11, out_qsize 0\n",
            "2021-03-13 21:09:57,487 : INFO : worker thread finished; awaiting finish of 5 more threads\n",
            "2021-03-13 21:09:57,493 : INFO : worker thread finished; awaiting finish of 4 more threads\n",
            "2021-03-13 21:09:57,501 : INFO : worker thread finished; awaiting finish of 3 more threads\n",
            "2021-03-13 21:09:57,505 : INFO : worker thread finished; awaiting finish of 2 more threads\n",
            "2021-03-13 21:09:57,522 : INFO : worker thread finished; awaiting finish of 1 more threads\n",
            "2021-03-13 21:09:57,525 : INFO : worker thread finished; awaiting finish of 0 more threads\n",
            "2021-03-13 21:09:57,527 : INFO : EPOCH - 11 : training on 14059602 raw words (10362948 effective words) took 23.6s, 438272 effective words/s\n",
            "2021-03-13 21:09:58,538 : INFO : EPOCH 12 - PROGRESS: at 3.98% examples, 408548 words/s, in_qsize 11, out_qsize 0\n",
            "2021-03-13 21:09:59,551 : INFO : EPOCH 12 - PROGRESS: at 8.28% examples, 426838 words/s, in_qsize 11, out_qsize 0\n",
            "2021-03-13 21:10:00,559 : INFO : EPOCH 12 - PROGRESS: at 12.47% examples, 429255 words/s, in_qsize 11, out_qsize 0\n",
            "2021-03-13 21:10:01,565 : INFO : EPOCH 12 - PROGRESS: at 16.87% examples, 433383 words/s, in_qsize 11, out_qsize 0\n",
            "2021-03-13 21:10:02,595 : INFO : EPOCH 12 - PROGRESS: at 21.16% examples, 431573 words/s, in_qsize 12, out_qsize 0\n",
            "2021-03-13 21:10:03,629 : INFO : EPOCH 12 - PROGRESS: at 25.51% examples, 431838 words/s, in_qsize 10, out_qsize 1\n",
            "2021-03-13 21:10:04,647 : INFO : EPOCH 12 - PROGRESS: at 29.88% examples, 432702 words/s, in_qsize 11, out_qsize 0\n",
            "2021-03-13 21:10:05,650 : INFO : EPOCH 12 - PROGRESS: at 34.28% examples, 434289 words/s, in_qsize 12, out_qsize 1\n",
            "2021-03-13 21:10:06,651 : INFO : EPOCH 12 - PROGRESS: at 38.49% examples, 433667 words/s, in_qsize 11, out_qsize 0\n",
            "2021-03-13 21:10:07,679 : INFO : EPOCH 12 - PROGRESS: at 42.83% examples, 435070 words/s, in_qsize 11, out_qsize 0\n",
            "2021-03-13 21:10:08,680 : INFO : EPOCH 12 - PROGRESS: at 47.05% examples, 435589 words/s, in_qsize 11, out_qsize 0\n",
            "2021-03-13 21:10:09,747 : INFO : EPOCH 12 - PROGRESS: at 51.46% examples, 434482 words/s, in_qsize 10, out_qsize 1\n",
            "2021-03-13 21:10:10,763 : INFO : EPOCH 12 - PROGRESS: at 55.83% examples, 434703 words/s, in_qsize 10, out_qsize 1\n",
            "2021-03-13 21:10:11,806 : INFO : EPOCH 12 - PROGRESS: at 60.19% examples, 435158 words/s, in_qsize 11, out_qsize 0\n",
            "2021-03-13 21:10:12,812 : INFO : EPOCH 12 - PROGRESS: at 64.55% examples, 435609 words/s, in_qsize 11, out_qsize 0\n",
            "2021-03-13 21:10:13,826 : INFO : EPOCH 12 - PROGRESS: at 68.79% examples, 435708 words/s, in_qsize 11, out_qsize 0\n",
            "2021-03-13 21:10:14,827 : INFO : EPOCH 12 - PROGRESS: at 73.09% examples, 436193 words/s, in_qsize 11, out_qsize 0\n",
            "2021-03-13 21:10:15,829 : INFO : EPOCH 12 - PROGRESS: at 77.04% examples, 435289 words/s, in_qsize 11, out_qsize 0\n",
            "2021-03-13 21:10:16,865 : INFO : EPOCH 12 - PROGRESS: at 81.12% examples, 434897 words/s, in_qsize 11, out_qsize 0\n",
            "2021-03-13 21:10:17,891 : INFO : EPOCH 12 - PROGRESS: at 85.36% examples, 434449 words/s, in_qsize 12, out_qsize 0\n",
            "2021-03-13 21:10:18,928 : INFO : EPOCH 12 - PROGRESS: at 89.71% examples, 434498 words/s, in_qsize 11, out_qsize 0\n",
            "2021-03-13 21:10:19,952 : INFO : EPOCH 12 - PROGRESS: at 93.94% examples, 434411 words/s, in_qsize 11, out_qsize 0\n",
            "2021-03-13 21:10:20,984 : INFO : EPOCH 12 - PROGRESS: at 98.43% examples, 434905 words/s, in_qsize 11, out_qsize 0\n",
            "2021-03-13 21:10:21,275 : INFO : worker thread finished; awaiting finish of 5 more threads\n",
            "2021-03-13 21:10:21,280 : INFO : worker thread finished; awaiting finish of 4 more threads\n",
            "2021-03-13 21:10:21,281 : INFO : worker thread finished; awaiting finish of 3 more threads\n",
            "2021-03-13 21:10:21,290 : INFO : worker thread finished; awaiting finish of 2 more threads\n",
            "2021-03-13 21:10:21,308 : INFO : worker thread finished; awaiting finish of 1 more threads\n",
            "2021-03-13 21:10:21,318 : INFO : worker thread finished; awaiting finish of 0 more threads\n",
            "2021-03-13 21:10:21,319 : INFO : EPOCH - 12 : training on 14059602 raw words (10360921 effective words) took 23.8s, 435666 effective words/s\n",
            "2021-03-13 21:10:22,333 : INFO : EPOCH 13 - PROGRESS: at 4.02% examples, 413528 words/s, in_qsize 11, out_qsize 0\n",
            "2021-03-13 21:10:23,357 : INFO : EPOCH 13 - PROGRESS: at 8.27% examples, 423475 words/s, in_qsize 10, out_qsize 1\n",
            "2021-03-13 21:10:24,359 : INFO : EPOCH 13 - PROGRESS: at 12.47% examples, 427252 words/s, in_qsize 11, out_qsize 0\n",
            "2021-03-13 21:10:25,370 : INFO : EPOCH 13 - PROGRESS: at 16.55% examples, 424810 words/s, in_qsize 11, out_qsize 1\n",
            "2021-03-13 21:10:26,391 : INFO : EPOCH 13 - PROGRESS: at 21.09% examples, 429763 words/s, in_qsize 11, out_qsize 0\n",
            "2021-03-13 21:10:27,401 : INFO : EPOCH 13 - PROGRESS: at 25.36% examples, 430783 words/s, in_qsize 11, out_qsize 0\n",
            "2021-03-13 21:10:28,403 : INFO : EPOCH 13 - PROGRESS: at 29.74% examples, 432831 words/s, in_qsize 12, out_qsize 0\n",
            "2021-03-13 21:10:29,413 : INFO : EPOCH 13 - PROGRESS: at 34.08% examples, 433139 words/s, in_qsize 11, out_qsize 2\n",
            "2021-03-13 21:10:30,424 : INFO : EPOCH 13 - PROGRESS: at 38.33% examples, 433010 words/s, in_qsize 11, out_qsize 0\n",
            "2021-03-13 21:10:31,438 : INFO : EPOCH 13 - PROGRESS: at 42.56% examples, 433577 words/s, in_qsize 12, out_qsize 0\n",
            "2021-03-13 21:10:32,463 : INFO : EPOCH 13 - PROGRESS: at 46.84% examples, 434030 words/s, in_qsize 10, out_qsize 1\n",
            "2021-03-13 21:10:33,482 : INFO : EPOCH 13 - PROGRESS: at 51.17% examples, 434214 words/s, in_qsize 10, out_qsize 1\n",
            "2021-03-13 21:10:34,568 : INFO : EPOCH 13 - PROGRESS: at 55.83% examples, 434326 words/s, in_qsize 11, out_qsize 0\n",
            "2021-03-13 21:10:35,591 : INFO : EPOCH 13 - PROGRESS: at 60.12% examples, 434880 words/s, in_qsize 11, out_qsize 0\n",
            "2021-03-13 21:10:36,601 : INFO : EPOCH 13 - PROGRESS: at 64.55% examples, 435750 words/s, in_qsize 11, out_qsize 1\n",
            "2021-03-13 21:10:37,653 : INFO : EPOCH 13 - PROGRESS: at 68.80% examples, 434844 words/s, in_qsize 10, out_qsize 1\n",
            "2021-03-13 21:10:38,709 : INFO : EPOCH 13 - PROGRESS: at 73.23% examples, 434850 words/s, in_qsize 11, out_qsize 0\n",
            "2021-03-13 21:10:39,719 : INFO : EPOCH 13 - PROGRESS: at 77.43% examples, 435018 words/s, in_qsize 11, out_qsize 0\n",
            "2021-03-13 21:10:40,725 : INFO : EPOCH 13 - PROGRESS: at 81.49% examples, 435316 words/s, in_qsize 11, out_qsize 0\n",
            "2021-03-13 21:10:41,785 : INFO : EPOCH 13 - PROGRESS: at 85.97% examples, 435503 words/s, in_qsize 11, out_qsize 0\n",
            "2021-03-13 21:10:42,851 : INFO : EPOCH 13 - PROGRESS: at 90.43% examples, 435261 words/s, in_qsize 10, out_qsize 1\n",
            "2021-03-13 21:10:43,865 : INFO : EPOCH 13 - PROGRESS: at 94.61% examples, 435319 words/s, in_qsize 11, out_qsize 0\n",
            "2021-03-13 21:10:44,872 : INFO : EPOCH 13 - PROGRESS: at 98.99% examples, 435636 words/s, in_qsize 11, out_qsize 0\n",
            "2021-03-13 21:10:45,019 : INFO : worker thread finished; awaiting finish of 5 more threads\n",
            "2021-03-13 21:10:45,028 : INFO : worker thread finished; awaiting finish of 4 more threads\n",
            "2021-03-13 21:10:45,054 : INFO : worker thread finished; awaiting finish of 3 more threads\n",
            "2021-03-13 21:10:45,055 : INFO : worker thread finished; awaiting finish of 2 more threads\n",
            "2021-03-13 21:10:45,056 : INFO : worker thread finished; awaiting finish of 1 more threads\n",
            "2021-03-13 21:10:45,062 : INFO : worker thread finished; awaiting finish of 0 more threads\n",
            "2021-03-13 21:10:45,063 : INFO : EPOCH - 13 : training on 14059602 raw words (10362620 effective words) took 23.7s, 436589 effective words/s\n",
            "2021-03-13 21:10:46,088 : INFO : EPOCH 14 - PROGRESS: at 4.02% examples, 411763 words/s, in_qsize 11, out_qsize 0\n",
            "2021-03-13 21:10:47,097 : INFO : EPOCH 14 - PROGRESS: at 8.35% examples, 429529 words/s, in_qsize 11, out_qsize 0\n",
            "2021-03-13 21:10:48,100 : INFO : EPOCH 14 - PROGRESS: at 12.69% examples, 435726 words/s, in_qsize 11, out_qsize 0\n",
            "2021-03-13 21:10:49,129 : INFO : EPOCH 14 - PROGRESS: at 17.02% examples, 434536 words/s, in_qsize 12, out_qsize 0\n",
            "2021-03-13 21:10:50,134 : INFO : EPOCH 14 - PROGRESS: at 21.09% examples, 430349 words/s, in_qsize 11, out_qsize 0\n",
            "2021-03-13 21:10:51,146 : INFO : EPOCH 14 - PROGRESS: at 25.41% examples, 432301 words/s, in_qsize 11, out_qsize 0\n",
            "2021-03-13 21:10:52,153 : INFO : EPOCH 14 - PROGRESS: at 29.88% examples, 434889 words/s, in_qsize 11, out_qsize 0\n",
            "2021-03-13 21:10:53,170 : INFO : EPOCH 14 - PROGRESS: at 34.29% examples, 435408 words/s, in_qsize 11, out_qsize 0\n",
            "2021-03-13 21:10:54,193 : INFO : EPOCH 14 - PROGRESS: at 38.68% examples, 435978 words/s, in_qsize 11, out_qsize 0\n",
            "2021-03-13 21:10:55,237 : INFO : EPOCH 14 - PROGRESS: at 43.04% examples, 436510 words/s, in_qsize 11, out_qsize 0\n",
            "2021-03-13 21:10:56,244 : INFO : EPOCH 14 - PROGRESS: at 47.28% examples, 436699 words/s, in_qsize 10, out_qsize 1\n",
            "2021-03-13 21:10:57,259 : INFO : EPOCH 14 - PROGRESS: at 51.63% examples, 436936 words/s, in_qsize 11, out_qsize 2\n",
            "2021-03-13 21:10:58,291 : INFO : EPOCH 14 - PROGRESS: at 56.02% examples, 436790 words/s, in_qsize 11, out_qsize 1\n",
            "2021-03-13 21:10:59,298 : INFO : EPOCH 14 - PROGRESS: at 60.27% examples, 437182 words/s, in_qsize 11, out_qsize 0\n",
            "2021-03-13 21:11:00,301 : INFO : EPOCH 14 - PROGRESS: at 64.55% examples, 437143 words/s, in_qsize 11, out_qsize 0\n",
            "2021-03-13 21:11:01,334 : INFO : EPOCH 14 - PROGRESS: at 68.79% examples, 436603 words/s, in_qsize 11, out_qsize 0\n",
            "2021-03-13 21:11:02,360 : INFO : EPOCH 14 - PROGRESS: at 73.30% examples, 437659 words/s, in_qsize 11, out_qsize 0\n",
            "2021-03-13 21:11:03,377 : INFO : EPOCH 14 - PROGRESS: at 77.43% examples, 437113 words/s, in_qsize 11, out_qsize 0\n",
            "2021-03-13 21:11:04,406 : INFO : EPOCH 14 - PROGRESS: at 81.58% examples, 437150 words/s, in_qsize 11, out_qsize 0\n",
            "2021-03-13 21:11:05,412 : INFO : EPOCH 14 - PROGRESS: at 85.96% examples, 438059 words/s, in_qsize 11, out_qsize 0\n",
            "2021-03-13 21:11:06,413 : INFO : EPOCH 14 - PROGRESS: at 90.20% examples, 437977 words/s, in_qsize 11, out_qsize 0\n",
            "2021-03-13 21:11:07,421 : INFO : EPOCH 14 - PROGRESS: at 94.41% examples, 438080 words/s, in_qsize 11, out_qsize 0\n",
            "2021-03-13 21:11:08,438 : INFO : EPOCH 14 - PROGRESS: at 98.78% examples, 438052 words/s, in_qsize 11, out_qsize 0\n",
            "2021-03-13 21:11:08,635 : INFO : worker thread finished; awaiting finish of 5 more threads\n",
            "2021-03-13 21:11:08,650 : INFO : worker thread finished; awaiting finish of 4 more threads\n",
            "2021-03-13 21:11:08,651 : INFO : worker thread finished; awaiting finish of 3 more threads\n",
            "2021-03-13 21:11:08,663 : INFO : worker thread finished; awaiting finish of 2 more threads\n",
            "2021-03-13 21:11:08,682 : INFO : worker thread finished; awaiting finish of 1 more threads\n",
            "2021-03-13 21:11:08,687 : INFO : worker thread finished; awaiting finish of 0 more threads\n",
            "2021-03-13 21:11:08,688 : INFO : EPOCH - 14 : training on 14059602 raw words (10360472 effective words) took 23.6s, 438835 effective words/s\n",
            "2021-03-13 21:11:09,725 : INFO : EPOCH 15 - PROGRESS: at 3.95% examples, 399323 words/s, in_qsize 9, out_qsize 2\n",
            "2021-03-13 21:11:10,769 : INFO : EPOCH 15 - PROGRESS: at 8.47% examples, 426597 words/s, in_qsize 11, out_qsize 0\n",
            "2021-03-13 21:11:11,772 : INFO : EPOCH 15 - PROGRESS: at 12.72% examples, 429104 words/s, in_qsize 11, out_qsize 0\n",
            "2021-03-13 21:11:12,791 : INFO : EPOCH 15 - PROGRESS: at 16.94% examples, 428868 words/s, in_qsize 11, out_qsize 2\n",
            "2021-03-13 21:11:13,819 : INFO : EPOCH 15 - PROGRESS: at 21.35% examples, 431056 words/s, in_qsize 11, out_qsize 0\n",
            "2021-03-13 21:11:14,828 : INFO : EPOCH 15 - PROGRESS: at 25.66% examples, 431947 words/s, in_qsize 12, out_qsize 0\n",
            "2021-03-13 21:11:15,840 : INFO : EPOCH 15 - PROGRESS: at 30.21% examples, 436466 words/s, in_qsize 10, out_qsize 1\n",
            "2021-03-13 21:11:16,861 : INFO : EPOCH 15 - PROGRESS: at 34.50% examples, 434699 words/s, in_qsize 11, out_qsize 0\n",
            "2021-03-13 21:11:17,884 : INFO : EPOCH 15 - PROGRESS: at 38.75% examples, 433853 words/s, in_qsize 11, out_qsize 1\n",
            "2021-03-13 21:11:18,895 : INFO : EPOCH 15 - PROGRESS: at 42.90% examples, 433797 words/s, in_qsize 11, out_qsize 0\n",
            "2021-03-13 21:11:19,910 : INFO : EPOCH 15 - PROGRESS: at 47.13% examples, 433842 words/s, in_qsize 10, out_qsize 1\n",
            "2021-03-13 21:11:20,915 : INFO : EPOCH 15 - PROGRESS: at 51.31% examples, 433316 words/s, in_qsize 11, out_qsize 0\n",
            "2021-03-13 21:11:21,919 : INFO : EPOCH 15 - PROGRESS: at 55.54% examples, 432937 words/s, in_qsize 9, out_qsize 2\n",
            "2021-03-13 21:11:22,945 : INFO : EPOCH 15 - PROGRESS: at 59.54% examples, 431445 words/s, in_qsize 11, out_qsize 0\n",
            "2021-03-13 21:11:23,963 : INFO : EPOCH 15 - PROGRESS: at 63.76% examples, 430870 words/s, in_qsize 12, out_qsize 1\n",
            "2021-03-13 21:11:25,008 : INFO : EPOCH 15 - PROGRESS: at 68.23% examples, 431811 words/s, in_qsize 11, out_qsize 0\n",
            "2021-03-13 21:11:26,018 : INFO : EPOCH 15 - PROGRESS: at 72.60% examples, 432633 words/s, in_qsize 11, out_qsize 0\n",
            "2021-03-13 21:11:27,073 : INFO : EPOCH 15 - PROGRESS: at 76.75% examples, 431881 words/s, in_qsize 11, out_qsize 0\n",
            "2021-03-13 21:11:28,084 : INFO : EPOCH 15 - PROGRESS: at 80.91% examples, 432161 words/s, in_qsize 12, out_qsize 2\n",
            "2021-03-13 21:11:29,123 : INFO : EPOCH 15 - PROGRESS: at 85.09% examples, 431637 words/s, in_qsize 10, out_qsize 1\n",
            "2021-03-13 21:11:30,149 : INFO : EPOCH 15 - PROGRESS: at 89.55% examples, 432746 words/s, in_qsize 11, out_qsize 0\n",
            "2021-03-13 21:11:31,153 : INFO : EPOCH 15 - PROGRESS: at 93.66% examples, 432482 words/s, in_qsize 11, out_qsize 0\n",
            "2021-03-13 21:11:32,162 : INFO : EPOCH 15 - PROGRESS: at 97.99% examples, 432855 words/s, in_qsize 11, out_qsize 0\n",
            "2021-03-13 21:11:32,548 : INFO : worker thread finished; awaiting finish of 5 more threads\n",
            "2021-03-13 21:11:32,576 : INFO : worker thread finished; awaiting finish of 4 more threads\n",
            "2021-03-13 21:11:32,577 : INFO : worker thread finished; awaiting finish of 3 more threads\n",
            "2021-03-13 21:11:32,589 : INFO : worker thread finished; awaiting finish of 2 more threads\n",
            "2021-03-13 21:11:32,594 : INFO : worker thread finished; awaiting finish of 1 more threads\n",
            "2021-03-13 21:11:32,605 : INFO : worker thread finished; awaiting finish of 0 more threads\n",
            "2021-03-13 21:11:32,606 : INFO : EPOCH - 15 : training on 14059602 raw words (10362661 effective words) took 23.9s, 433492 effective words/s\n",
            "2021-03-13 21:11:33,622 : INFO : EPOCH 16 - PROGRESS: at 4.02% examples, 412550 words/s, in_qsize 11, out_qsize 0\n",
            "2021-03-13 21:11:34,651 : INFO : EPOCH 16 - PROGRESS: at 8.34% examples, 425725 words/s, in_qsize 11, out_qsize 0\n",
            "2021-03-13 21:11:35,657 : INFO : EPOCH 16 - PROGRESS: at 12.47% examples, 425615 words/s, in_qsize 11, out_qsize 0\n",
            "2021-03-13 21:11:36,663 : INFO : EPOCH 16 - PROGRESS: at 16.72% examples, 427628 words/s, in_qsize 10, out_qsize 1\n",
            "2021-03-13 21:11:37,671 : INFO : EPOCH 16 - PROGRESS: at 21.03% examples, 428866 words/s, in_qsize 11, out_qsize 0\n",
            "2021-03-13 21:11:38,708 : INFO : EPOCH 16 - PROGRESS: at 25.42% examples, 430404 words/s, in_qsize 11, out_qsize 0\n",
            "2021-03-13 21:11:39,742 : INFO : EPOCH 16 - PROGRESS: at 30.00% examples, 433781 words/s, in_qsize 11, out_qsize 0\n",
            "2021-03-13 21:11:40,749 : INFO : EPOCH 16 - PROGRESS: at 34.35% examples, 434115 words/s, in_qsize 11, out_qsize 0\n",
            "2021-03-13 21:11:41,770 : INFO : EPOCH 16 - PROGRESS: at 38.75% examples, 434933 words/s, in_qsize 11, out_qsize 0\n",
            "2021-03-13 21:11:42,805 : INFO : EPOCH 16 - PROGRESS: at 43.03% examples, 435246 words/s, in_qsize 7, out_qsize 4\n",
            "2021-03-13 21:11:43,808 : INFO : EPOCH 16 - PROGRESS: at 47.30% examples, 435711 words/s, in_qsize 11, out_qsize 0\n",
            "2021-03-13 21:11:44,889 : INFO : EPOCH 16 - PROGRESS: at 51.84% examples, 435313 words/s, in_qsize 11, out_qsize 0\n",
            "2021-03-13 21:11:45,921 : INFO : EPOCH 16 - PROGRESS: at 56.27% examples, 435993 words/s, in_qsize 11, out_qsize 0\n",
            "2021-03-13 21:11:47,003 : INFO : EPOCH 16 - PROGRESS: at 60.74% examples, 435746 words/s, in_qsize 10, out_qsize 1\n",
            "2021-03-13 21:11:48,022 : INFO : EPOCH 16 - PROGRESS: at 65.17% examples, 436192 words/s, in_qsize 10, out_qsize 1\n",
            "2021-03-13 21:11:49,057 : INFO : EPOCH 16 - PROGRESS: at 69.69% examples, 437054 words/s, in_qsize 11, out_qsize 0\n",
            "2021-03-13 21:11:50,058 : INFO : EPOCH 16 - PROGRESS: at 73.92% examples, 437471 words/s, in_qsize 11, out_qsize 0\n",
            "2021-03-13 21:11:51,076 : INFO : EPOCH 16 - PROGRESS: at 77.94% examples, 436534 words/s, in_qsize 11, out_qsize 0\n",
            "2021-03-13 21:11:52,085 : INFO : EPOCH 16 - PROGRESS: at 82.13% examples, 437051 words/s, in_qsize 11, out_qsize 0\n",
            "2021-03-13 21:11:53,089 : INFO : EPOCH 16 - PROGRESS: at 86.30% examples, 436935 words/s, in_qsize 9, out_qsize 2\n",
            "2021-03-13 21:11:54,096 : INFO : EPOCH 16 - PROGRESS: at 90.59% examples, 436757 words/s, in_qsize 11, out_qsize 0\n",
            "2021-03-13 21:11:55,111 : INFO : EPOCH 16 - PROGRESS: at 94.77% examples, 436784 words/s, in_qsize 11, out_qsize 0\n",
            "2021-03-13 21:11:56,118 : INFO : EPOCH 16 - PROGRESS: at 98.93% examples, 436031 words/s, in_qsize 8, out_qsize 1\n",
            "2021-03-13 21:11:56,279 : INFO : worker thread finished; awaiting finish of 5 more threads\n",
            "2021-03-13 21:11:56,304 : INFO : worker thread finished; awaiting finish of 4 more threads\n",
            "2021-03-13 21:11:56,309 : INFO : worker thread finished; awaiting finish of 3 more threads\n",
            "2021-03-13 21:11:56,313 : INFO : worker thread finished; awaiting finish of 2 more threads\n",
            "2021-03-13 21:11:56,320 : INFO : worker thread finished; awaiting finish of 1 more threads\n",
            "2021-03-13 21:11:56,324 : INFO : worker thread finished; awaiting finish of 0 more threads\n",
            "2021-03-13 21:11:56,325 : INFO : EPOCH - 16 : training on 14059602 raw words (10362444 effective words) took 23.7s, 437020 effective words/s\n",
            "2021-03-13 21:11:57,389 : INFO : EPOCH 17 - PROGRESS: at 4.02% examples, 394252 words/s, in_qsize 11, out_qsize 0\n",
            "2021-03-13 21:11:58,396 : INFO : EPOCH 17 - PROGRESS: at 8.35% examples, 420553 words/s, in_qsize 11, out_qsize 0\n",
            "2021-03-13 21:11:59,408 : INFO : EPOCH 17 - PROGRESS: at 12.49% examples, 421492 words/s, in_qsize 11, out_qsize 0\n",
            "2021-03-13 21:12:00,487 : INFO : EPOCH 17 - PROGRESS: at 17.02% examples, 423826 words/s, in_qsize 11, out_qsize 0\n",
            "2021-03-13 21:12:01,497 : INFO : EPOCH 17 - PROGRESS: at 21.42% examples, 428486 words/s, in_qsize 11, out_qsize 0\n",
            "2021-03-13 21:12:02,499 : INFO : EPOCH 17 - PROGRESS: at 25.71% examples, 430269 words/s, in_qsize 11, out_qsize 1\n",
            "2021-03-13 21:12:03,533 : INFO : EPOCH 17 - PROGRESS: at 30.08% examples, 430561 words/s, in_qsize 10, out_qsize 1\n",
            "2021-03-13 21:12:04,533 : INFO : EPOCH 17 - PROGRESS: at 34.50% examples, 432451 words/s, in_qsize 12, out_qsize 0\n",
            "2021-03-13 21:12:05,544 : INFO : EPOCH 17 - PROGRESS: at 38.98% examples, 434675 words/s, in_qsize 11, out_qsize 0\n",
            "2021-03-13 21:12:06,565 : INFO : EPOCH 17 - PROGRESS: at 43.11% examples, 434202 words/s, in_qsize 11, out_qsize 0\n",
            "2021-03-13 21:12:07,573 : INFO : EPOCH 17 - PROGRESS: at 47.30% examples, 433883 words/s, in_qsize 11, out_qsize 0\n",
            "2021-03-13 21:12:08,582 : INFO : EPOCH 17 - PROGRESS: at 51.63% examples, 434387 words/s, in_qsize 11, out_qsize 0\n",
            "2021-03-13 21:12:09,614 : INFO : EPOCH 17 - PROGRESS: at 55.97% examples, 434126 words/s, in_qsize 11, out_qsize 0\n",
            "2021-03-13 21:12:10,645 : INFO : EPOCH 17 - PROGRESS: at 60.19% examples, 433950 words/s, in_qsize 11, out_qsize 0\n",
            "2021-03-13 21:12:11,652 : INFO : EPOCH 17 - PROGRESS: at 64.48% examples, 434013 words/s, in_qsize 11, out_qsize 0\n",
            "2021-03-13 21:12:12,656 : INFO : EPOCH 17 - PROGRESS: at 68.72% examples, 434507 words/s, in_qsize 11, out_qsize 0\n",
            "2021-03-13 21:12:13,657 : INFO : EPOCH 17 - PROGRESS: at 72.89% examples, 434172 words/s, in_qsize 11, out_qsize 0\n",
            "2021-03-13 21:12:14,673 : INFO : EPOCH 17 - PROGRESS: at 77.04% examples, 434249 words/s, in_qsize 11, out_qsize 0\n",
            "2021-03-13 21:12:15,678 : INFO : EPOCH 17 - PROGRESS: at 81.19% examples, 435001 words/s, in_qsize 10, out_qsize 1\n",
            "2021-03-13 21:12:16,692 : INFO : EPOCH 17 - PROGRESS: at 85.43% examples, 434794 words/s, in_qsize 11, out_qsize 0\n",
            "2021-03-13 21:12:17,704 : INFO : EPOCH 17 - PROGRESS: at 89.71% examples, 434995 words/s, in_qsize 11, out_qsize 0\n",
            "2021-03-13 21:12:18,730 : INFO : EPOCH 17 - PROGRESS: at 93.93% examples, 434845 words/s, in_qsize 11, out_qsize 0\n",
            "2021-03-13 21:12:19,745 : INFO : EPOCH 17 - PROGRESS: at 98.30% examples, 435007 words/s, in_qsize 11, out_qsize 1\n",
            "2021-03-13 21:12:20,047 : INFO : worker thread finished; awaiting finish of 5 more threads\n",
            "2021-03-13 21:12:20,057 : INFO : worker thread finished; awaiting finish of 4 more threads\n",
            "2021-03-13 21:12:20,068 : INFO : worker thread finished; awaiting finish of 3 more threads\n",
            "2021-03-13 21:12:20,074 : INFO : worker thread finished; awaiting finish of 2 more threads\n",
            "2021-03-13 21:12:20,080 : INFO : worker thread finished; awaiting finish of 1 more threads\n",
            "2021-03-13 21:12:20,081 : INFO : worker thread finished; awaiting finish of 0 more threads\n",
            "2021-03-13 21:12:20,083 : INFO : EPOCH - 17 : training on 14059602 raw words (10362165 effective words) took 23.7s, 436323 effective words/s\n",
            "2021-03-13 21:12:21,118 : INFO : EPOCH 18 - PROGRESS: at 3.97% examples, 398468 words/s, in_qsize 9, out_qsize 2\n",
            "2021-03-13 21:12:22,160 : INFO : EPOCH 18 - PROGRESS: at 8.21% examples, 412342 words/s, in_qsize 11, out_qsize 1\n",
            "2021-03-13 21:12:23,196 : INFO : EPOCH 18 - PROGRESS: at 12.49% examples, 417418 words/s, in_qsize 10, out_qsize 1\n",
            "2021-03-13 21:12:24,215 : INFO : EPOCH 18 - PROGRESS: at 16.79% examples, 421773 words/s, in_qsize 11, out_qsize 2\n",
            "2021-03-13 21:12:25,216 : INFO : EPOCH 18 - PROGRESS: at 21.09% examples, 424773 words/s, in_qsize 11, out_qsize 0\n",
            "2021-03-13 21:12:26,226 : INFO : EPOCH 18 - PROGRESS: at 25.37% examples, 426628 words/s, in_qsize 11, out_qsize 0\n",
            "2021-03-13 21:12:27,227 : INFO : EPOCH 18 - PROGRESS: at 29.55% examples, 426304 words/s, in_qsize 12, out_qsize 0\n",
            "2021-03-13 21:12:28,246 : INFO : EPOCH 18 - PROGRESS: at 34.00% examples, 428654 words/s, in_qsize 11, out_qsize 0\n",
            "2021-03-13 21:12:29,265 : INFO : EPOCH 18 - PROGRESS: at 38.33% examples, 429432 words/s, in_qsize 11, out_qsize 0\n",
            "2021-03-13 21:12:30,307 : INFO : EPOCH 18 - PROGRESS: at 42.63% examples, 429957 words/s, in_qsize 12, out_qsize 1\n",
            "2021-03-13 21:12:31,312 : INFO : EPOCH 18 - PROGRESS: at 46.70% examples, 429554 words/s, in_qsize 11, out_qsize 0\n",
            "2021-03-13 21:12:32,382 : INFO : EPOCH 18 - PROGRESS: at 50.96% examples, 427741 words/s, in_qsize 12, out_qsize 0\n",
            "2021-03-13 21:12:33,397 : INFO : EPOCH 18 - PROGRESS: at 55.27% examples, 427888 words/s, in_qsize 11, out_qsize 0\n",
            "2021-03-13 21:12:34,402 : INFO : EPOCH 18 - PROGRESS: at 59.48% examples, 428946 words/s, in_qsize 11, out_qsize 0\n",
            "2021-03-13 21:12:35,405 : INFO : EPOCH 18 - PROGRESS: at 63.90% examples, 430383 words/s, in_qsize 12, out_qsize 1\n",
            "2021-03-13 21:12:36,442 : INFO : EPOCH 18 - PROGRESS: at 68.02% examples, 429360 words/s, in_qsize 10, out_qsize 1\n",
            "2021-03-13 21:12:37,511 : INFO : EPOCH 18 - PROGRESS: at 72.54% examples, 429734 words/s, in_qsize 12, out_qsize 1\n",
            "2021-03-13 21:12:38,553 : INFO : EPOCH 18 - PROGRESS: at 76.82% examples, 430243 words/s, in_qsize 11, out_qsize 0\n",
            "2021-03-13 21:12:39,556 : INFO : EPOCH 18 - PROGRESS: at 80.82% examples, 429990 words/s, in_qsize 12, out_qsize 3\n",
            "2021-03-13 21:12:40,611 : INFO : EPOCH 18 - PROGRESS: at 85.15% examples, 429979 words/s, in_qsize 11, out_qsize 1\n",
            "2021-03-13 21:12:41,630 : INFO : EPOCH 18 - PROGRESS: at 89.31% examples, 429905 words/s, in_qsize 10, out_qsize 1\n",
            "2021-03-13 21:12:42,649 : INFO : EPOCH 18 - PROGRESS: at 93.51% examples, 429810 words/s, in_qsize 12, out_qsize 1\n",
            "2021-03-13 21:12:43,675 : INFO : EPOCH 18 - PROGRESS: at 97.99% examples, 430620 words/s, in_qsize 11, out_qsize 0\n",
            "2021-03-13 21:12:44,045 : INFO : worker thread finished; awaiting finish of 5 more threads\n",
            "2021-03-13 21:12:44,071 : INFO : worker thread finished; awaiting finish of 4 more threads\n",
            "2021-03-13 21:12:44,078 : INFO : worker thread finished; awaiting finish of 3 more threads\n",
            "2021-03-13 21:12:44,096 : INFO : worker thread finished; awaiting finish of 2 more threads\n",
            "2021-03-13 21:12:44,102 : INFO : worker thread finished; awaiting finish of 1 more threads\n",
            "2021-03-13 21:12:44,108 : INFO : worker thread finished; awaiting finish of 0 more threads\n",
            "2021-03-13 21:12:44,109 : INFO : EPOCH - 18 : training on 14059602 raw words (10362667 effective words) took 24.0s, 431481 effective words/s\n",
            "2021-03-13 21:12:45,138 : INFO : EPOCH 19 - PROGRESS: at 4.02% examples, 407285 words/s, in_qsize 11, out_qsize 0\n",
            "2021-03-13 21:12:46,149 : INFO : EPOCH 19 - PROGRESS: at 8.35% examples, 426871 words/s, in_qsize 11, out_qsize 0\n",
            "2021-03-13 21:12:47,185 : INFO : EPOCH 19 - PROGRESS: at 12.72% examples, 429390 words/s, in_qsize 11, out_qsize 0\n",
            "2021-03-13 21:12:48,203 : INFO : EPOCH 19 - PROGRESS: at 17.09% examples, 432659 words/s, in_qsize 12, out_qsize 1\n",
            "2021-03-13 21:12:49,235 : INFO : EPOCH 19 - PROGRESS: at 21.49% examples, 433748 words/s, in_qsize 11, out_qsize 0\n",
            "2021-03-13 21:12:50,247 : INFO : EPOCH 19 - PROGRESS: at 25.95% examples, 436324 words/s, in_qsize 11, out_qsize 0\n",
            "2021-03-13 21:12:51,251 : INFO : EPOCH 19 - PROGRESS: at 30.27% examples, 437521 words/s, in_qsize 10, out_qsize 1\n",
            "2021-03-13 21:12:52,265 : INFO : EPOCH 19 - PROGRESS: at 34.71% examples, 437749 words/s, in_qsize 11, out_qsize 0\n",
            "2021-03-13 21:12:53,313 : INFO : EPOCH 19 - PROGRESS: at 39.25% examples, 438520 words/s, in_qsize 11, out_qsize 0\n",
            "2021-03-13 21:12:54,330 : INFO : EPOCH 19 - PROGRESS: at 43.38% examples, 437795 words/s, in_qsize 10, out_qsize 1\n",
            "2021-03-13 21:12:55,330 : INFO : EPOCH 19 - PROGRESS: at 47.67% examples, 438212 words/s, in_qsize 12, out_qsize 0\n",
            "2021-03-13 21:12:56,331 : INFO : EPOCH 19 - PROGRESS: at 51.77% examples, 436811 words/s, in_qsize 11, out_qsize 0\n",
            "2021-03-13 21:12:57,392 : INFO : EPOCH 19 - PROGRESS: at 56.13% examples, 435910 words/s, in_qsize 11, out_qsize 0\n",
            "2021-03-13 21:12:58,393 : INFO : EPOCH 19 - PROGRESS: at 60.19% examples, 434988 words/s, in_qsize 7, out_qsize 4\n",
            "2021-03-13 21:12:59,408 : INFO : EPOCH 19 - PROGRESS: at 64.41% examples, 434334 words/s, in_qsize 11, out_qsize 2\n",
            "2021-03-13 21:13:00,425 : INFO : EPOCH 19 - PROGRESS: at 68.66% examples, 434411 words/s, in_qsize 12, out_qsize 1\n",
            "2021-03-13 21:13:01,453 : INFO : EPOCH 19 - PROGRESS: at 72.96% examples, 434222 words/s, in_qsize 11, out_qsize 0\n",
            "2021-03-13 21:13:02,458 : INFO : EPOCH 19 - PROGRESS: at 76.96% examples, 433752 words/s, in_qsize 11, out_qsize 0\n",
            "2021-03-13 21:13:03,470 : INFO : EPOCH 19 - PROGRESS: at 80.92% examples, 432748 words/s, in_qsize 10, out_qsize 1\n",
            "2021-03-13 21:13:04,494 : INFO : EPOCH 19 - PROGRESS: at 85.15% examples, 432899 words/s, in_qsize 11, out_qsize 0\n",
            "2021-03-13 21:13:05,496 : INFO : EPOCH 19 - PROGRESS: at 89.17% examples, 432375 words/s, in_qsize 11, out_qsize 0\n",
            "2021-03-13 21:13:06,549 : INFO : EPOCH 19 - PROGRESS: at 93.60% examples, 432496 words/s, in_qsize 11, out_qsize 0\n",
            "2021-03-13 21:13:07,555 : INFO : EPOCH 19 - PROGRESS: at 97.91% examples, 432919 words/s, in_qsize 11, out_qsize 0\n",
            "2021-03-13 21:13:07,910 : INFO : worker thread finished; awaiting finish of 5 more threads\n",
            "2021-03-13 21:13:07,968 : INFO : worker thread finished; awaiting finish of 4 more threads\n",
            "2021-03-13 21:13:07,970 : INFO : worker thread finished; awaiting finish of 3 more threads\n",
            "2021-03-13 21:13:07,983 : INFO : worker thread finished; awaiting finish of 2 more threads\n",
            "2021-03-13 21:13:07,992 : INFO : worker thread finished; awaiting finish of 1 more threads\n",
            "2021-03-13 21:13:07,997 : INFO : worker thread finished; awaiting finish of 0 more threads\n",
            "2021-03-13 21:13:07,998 : INFO : EPOCH - 19 : training on 14059602 raw words (10361883 effective words) took 23.9s, 433896 effective words/s\n",
            "2021-03-13 21:13:09,031 : INFO : EPOCH 20 - PROGRESS: at 4.02% examples, 407185 words/s, in_qsize 9, out_qsize 2\n",
            "2021-03-13 21:13:10,046 : INFO : EPOCH 20 - PROGRESS: at 8.27% examples, 422156 words/s, in_qsize 11, out_qsize 0\n",
            "2021-03-13 21:13:11,047 : INFO : EPOCH 20 - PROGRESS: at 12.56% examples, 428808 words/s, in_qsize 10, out_qsize 1\n",
            "2021-03-13 21:13:12,049 : INFO : EPOCH 20 - PROGRESS: at 17.02% examples, 435884 words/s, in_qsize 11, out_qsize 0\n",
            "2021-03-13 21:13:13,055 : INFO : EPOCH 20 - PROGRESS: at 21.16% examples, 432794 words/s, in_qsize 11, out_qsize 0\n",
            "2021-03-13 21:13:14,078 : INFO : EPOCH 20 - PROGRESS: at 25.35% examples, 431189 words/s, in_qsize 9, out_qsize 2\n",
            "2021-03-13 21:13:15,090 : INFO : EPOCH 20 - PROGRESS: at 29.81% examples, 433636 words/s, in_qsize 11, out_qsize 0\n",
            "2021-03-13 21:13:16,106 : INFO : EPOCH 20 - PROGRESS: at 34.21% examples, 434387 words/s, in_qsize 11, out_qsize 0\n",
            "2021-03-13 21:13:17,106 : INFO : EPOCH 20 - PROGRESS: at 38.56% examples, 435414 words/s, in_qsize 11, out_qsize 0\n",
            "2021-03-13 21:13:18,121 : INFO : EPOCH 20 - PROGRESS: at 42.84% examples, 436515 words/s, in_qsize 11, out_qsize 0\n",
            "2021-03-13 21:13:19,134 : INFO : EPOCH 20 - PROGRESS: at 47.06% examples, 436384 words/s, in_qsize 10, out_qsize 1\n",
            "2021-03-13 21:13:20,138 : INFO : EPOCH 20 - PROGRESS: at 51.54% examples, 438090 words/s, in_qsize 11, out_qsize 0\n",
            "2021-03-13 21:13:21,139 : INFO : EPOCH 20 - PROGRESS: at 55.80% examples, 437966 words/s, in_qsize 11, out_qsize 0\n",
            "2021-03-13 21:13:22,178 : INFO : EPOCH 20 - PROGRESS: at 60.34% examples, 439326 words/s, in_qsize 11, out_qsize 0\n",
            "2021-03-13 21:13:23,193 : INFO : EPOCH 20 - PROGRESS: at 64.63% examples, 438791 words/s, in_qsize 11, out_qsize 0\n",
            "2021-03-13 21:13:24,218 : INFO : EPOCH 20 - PROGRESS: at 68.93% examples, 438803 words/s, in_qsize 11, out_qsize 0\n",
            "2021-03-13 21:13:25,240 : INFO : EPOCH 20 - PROGRESS: at 73.15% examples, 438171 words/s, in_qsize 9, out_qsize 2\n",
            "2021-03-13 21:13:26,270 : INFO : EPOCH 20 - PROGRESS: at 77.43% examples, 438091 words/s, in_qsize 11, out_qsize 0\n",
            "2021-03-13 21:13:27,273 : INFO : EPOCH 20 - PROGRESS: at 81.51% examples, 438283 words/s, in_qsize 8, out_qsize 3\n",
            "2021-03-13 21:13:28,326 : INFO : EPOCH 20 - PROGRESS: at 85.78% examples, 437425 words/s, in_qsize 11, out_qsize 2\n",
            "2021-03-13 21:13:29,347 : INFO : EPOCH 20 - PROGRESS: at 90.12% examples, 437639 words/s, in_qsize 10, out_qsize 1\n",
            "2021-03-13 21:13:30,359 : INFO : EPOCH 20 - PROGRESS: at 94.48% examples, 438331 words/s, in_qsize 11, out_qsize 0\n",
            "2021-03-13 21:13:31,387 : INFO : EPOCH 20 - PROGRESS: at 98.91% examples, 438402 words/s, in_qsize 11, out_qsize 0\n",
            "2021-03-13 21:13:31,537 : INFO : worker thread finished; awaiting finish of 5 more threads\n",
            "2021-03-13 21:13:31,568 : INFO : worker thread finished; awaiting finish of 4 more threads\n",
            "2021-03-13 21:13:31,570 : INFO : worker thread finished; awaiting finish of 3 more threads\n",
            "2021-03-13 21:13:31,584 : INFO : worker thread finished; awaiting finish of 2 more threads\n",
            "2021-03-13 21:13:31,588 : INFO : worker thread finished; awaiting finish of 1 more threads\n",
            "2021-03-13 21:13:31,591 : INFO : worker thread finished; awaiting finish of 0 more threads\n",
            "2021-03-13 21:13:31,592 : INFO : EPOCH - 20 : training on 14059602 raw words (10362173 effective words) took 23.6s, 439392 effective words/s\n",
            "2021-03-13 21:13:32,609 : INFO : EPOCH 21 - PROGRESS: at 4.10% examples, 419859 words/s, in_qsize 11, out_qsize 0\n",
            "2021-03-13 21:13:33,672 : INFO : EPOCH 21 - PROGRESS: at 8.20% examples, 411496 words/s, in_qsize 10, out_qsize 1\n",
            "2021-03-13 21:13:34,695 : INFO : EPOCH 21 - PROGRESS: at 12.36% examples, 413969 words/s, in_qsize 10, out_qsize 1\n",
            "2021-03-13 21:13:35,729 : INFO : EPOCH 21 - PROGRESS: at 16.72% examples, 420627 words/s, in_qsize 10, out_qsize 2\n",
            "2021-03-13 21:13:36,731 : INFO : EPOCH 21 - PROGRESS: at 21.02% examples, 422816 words/s, in_qsize 11, out_qsize 0\n",
            "2021-03-13 21:13:37,742 : INFO : EPOCH 21 - PROGRESS: at 25.35% examples, 426001 words/s, in_qsize 11, out_qsize 0\n",
            "2021-03-13 21:13:38,761 : INFO : EPOCH 21 - PROGRESS: at 29.50% examples, 423731 words/s, in_qsize 11, out_qsize 0\n",
            "2021-03-13 21:13:39,778 : INFO : EPOCH 21 - PROGRESS: at 33.93% examples, 426481 words/s, in_qsize 11, out_qsize 0\n",
            "2021-03-13 21:13:40,810 : INFO : EPOCH 21 - PROGRESS: at 38.33% examples, 427729 words/s, in_qsize 10, out_qsize 1\n",
            "2021-03-13 21:13:41,811 : INFO : EPOCH 21 - PROGRESS: at 42.56% examples, 429418 words/s, in_qsize 11, out_qsize 0\n",
            "2021-03-13 21:13:42,851 : INFO : EPOCH 21 - PROGRESS: at 46.84% examples, 429640 words/s, in_qsize 12, out_qsize 0\n",
            "2021-03-13 21:13:43,853 : INFO : EPOCH 21 - PROGRESS: at 51.04% examples, 429581 words/s, in_qsize 11, out_qsize 0\n",
            "2021-03-13 21:13:44,867 : INFO : EPOCH 21 - PROGRESS: at 55.35% examples, 429635 words/s, in_qsize 11, out_qsize 0\n",
            "2021-03-13 21:13:45,886 : INFO : EPOCH 21 - PROGRESS: at 59.70% examples, 431177 words/s, in_qsize 11, out_qsize 0\n",
            "2021-03-13 21:13:46,895 : INFO : EPOCH 21 - PROGRESS: at 64.20% examples, 432772 words/s, in_qsize 11, out_qsize 0\n",
            "2021-03-13 21:13:47,927 : INFO : EPOCH 21 - PROGRESS: at 68.38% examples, 432170 words/s, in_qsize 10, out_qsize 1\n",
            "2021-03-13 21:13:48,940 : INFO : EPOCH 21 - PROGRESS: at 72.82% examples, 433324 words/s, in_qsize 11, out_qsize 0\n",
            "2021-03-13 21:13:49,944 : INFO : EPOCH 21 - PROGRESS: at 76.96% examples, 433745 words/s, in_qsize 11, out_qsize 0\n",
            "2021-03-13 21:13:50,946 : INFO : EPOCH 21 - PROGRESS: at 80.96% examples, 433331 words/s, in_qsize 12, out_qsize 1\n",
            "2021-03-13 21:13:51,961 : INFO : EPOCH 21 - PROGRESS: at 85.22% examples, 433643 words/s, in_qsize 11, out_qsize 0\n",
            "2021-03-13 21:13:52,986 : INFO : EPOCH 21 - PROGRESS: at 89.47% examples, 433644 words/s, in_qsize 10, out_qsize 1\n",
            "2021-03-13 21:13:54,014 : INFO : EPOCH 21 - PROGRESS: at 93.57% examples, 432885 words/s, in_qsize 12, out_qsize 2\n",
            "2021-03-13 21:13:55,023 : INFO : EPOCH 21 - PROGRESS: at 97.68% examples, 432295 words/s, in_qsize 11, out_qsize 0\n",
            "2021-03-13 21:13:55,501 : INFO : worker thread finished; awaiting finish of 5 more threads\n",
            "2021-03-13 21:13:55,507 : INFO : worker thread finished; awaiting finish of 4 more threads\n",
            "2021-03-13 21:13:55,508 : INFO : worker thread finished; awaiting finish of 3 more threads\n",
            "2021-03-13 21:13:55,520 : INFO : worker thread finished; awaiting finish of 2 more threads\n",
            "2021-03-13 21:13:55,523 : INFO : worker thread finished; awaiting finish of 1 more threads\n",
            "2021-03-13 21:13:55,529 : INFO : worker thread finished; awaiting finish of 0 more threads\n",
            "2021-03-13 21:13:55,530 : INFO : EPOCH - 21 : training on 14059602 raw words (10362028 effective words) took 23.9s, 433043 effective words/s\n",
            "2021-03-13 21:13:56,546 : INFO : EPOCH 22 - PROGRESS: at 4.08% examples, 421712 words/s, in_qsize 11, out_qsize 0\n",
            "2021-03-13 21:13:57,579 : INFO : EPOCH 22 - PROGRESS: at 8.16% examples, 414965 words/s, in_qsize 11, out_qsize 0\n",
            "2021-03-13 21:13:58,579 : INFO : EPOCH 22 - PROGRESS: at 12.47% examples, 426467 words/s, in_qsize 11, out_qsize 1\n",
            "2021-03-13 21:13:59,584 : INFO : EPOCH 22 - PROGRESS: at 16.87% examples, 431965 words/s, in_qsize 11, out_qsize 0\n",
            "2021-03-13 21:14:00,628 : INFO : EPOCH 22 - PROGRESS: at 21.09% examples, 427761 words/s, in_qsize 12, out_qsize 2\n",
            "2021-03-13 21:14:01,630 : INFO : EPOCH 22 - PROGRESS: at 25.49% examples, 432078 words/s, in_qsize 10, out_qsize 1\n",
            "2021-03-13 21:14:02,640 : INFO : EPOCH 22 - PROGRESS: at 29.81% examples, 432427 words/s, in_qsize 11, out_qsize 0\n",
            "2021-03-13 21:14:03,674 : INFO : EPOCH 22 - PROGRESS: at 34.27% examples, 433200 words/s, in_qsize 11, out_qsize 0\n",
            "2021-03-13 21:14:04,678 : INFO : EPOCH 22 - PROGRESS: at 38.56% examples, 433387 words/s, in_qsize 11, out_qsize 0\n",
            "2021-03-13 21:14:05,715 : INFO : EPOCH 22 - PROGRESS: at 42.78% examples, 432999 words/s, in_qsize 9, out_qsize 4\n",
            "2021-03-13 21:14:06,737 : INFO : EPOCH 22 - PROGRESS: at 47.21% examples, 434860 words/s, in_qsize 11, out_qsize 0\n",
            "2021-03-13 21:14:07,744 : INFO : EPOCH 22 - PROGRESS: at 51.70% examples, 436567 words/s, in_qsize 12, out_qsize 1\n",
            "2021-03-13 21:14:08,758 : INFO : EPOCH 22 - PROGRESS: at 55.83% examples, 435059 words/s, in_qsize 11, out_qsize 0\n",
            "2021-03-13 21:14:09,761 : INFO : EPOCH 22 - PROGRESS: at 59.85% examples, 434112 words/s, in_qsize 12, out_qsize 1\n",
            "2021-03-13 21:14:10,778 : INFO : EPOCH 22 - PROGRESS: at 64.19% examples, 434318 words/s, in_qsize 11, out_qsize 0\n",
            "2021-03-13 21:14:11,802 : INFO : EPOCH 22 - PROGRESS: at 68.53% examples, 434750 words/s, in_qsize 11, out_qsize 0\n",
            "2021-03-13 21:14:12,806 : INFO : EPOCH 22 - PROGRESS: at 72.74% examples, 434705 words/s, in_qsize 11, out_qsize 1\n",
            "2021-03-13 21:14:13,847 : INFO : EPOCH 22 - PROGRESS: at 76.90% examples, 434164 words/s, in_qsize 11, out_qsize 0\n",
            "2021-03-13 21:14:14,862 : INFO : EPOCH 22 - PROGRESS: at 81.11% examples, 434576 words/s, in_qsize 11, out_qsize 0\n",
            "2021-03-13 21:14:15,879 : INFO : EPOCH 22 - PROGRESS: at 85.36% examples, 434806 words/s, in_qsize 12, out_qsize 0\n",
            "2021-03-13 21:14:16,925 : INFO : EPOCH 22 - PROGRESS: at 89.79% examples, 435007 words/s, in_qsize 12, out_qsize 0\n",
            "2021-03-13 21:14:17,927 : INFO : EPOCH 22 - PROGRESS: at 94.00% examples, 435328 words/s, in_qsize 12, out_qsize 0\n",
            "2021-03-13 21:14:18,932 : INFO : EPOCH 22 - PROGRESS: at 97.98% examples, 434116 words/s, in_qsize 11, out_qsize 3\n",
            "2021-03-13 21:14:19,310 : INFO : worker thread finished; awaiting finish of 5 more threads\n",
            "2021-03-13 21:14:19,312 : INFO : worker thread finished; awaiting finish of 4 more threads\n",
            "2021-03-13 21:14:19,330 : INFO : worker thread finished; awaiting finish of 3 more threads\n",
            "2021-03-13 21:14:19,336 : INFO : worker thread finished; awaiting finish of 2 more threads\n",
            "2021-03-13 21:14:19,351 : INFO : worker thread finished; awaiting finish of 1 more threads\n",
            "2021-03-13 21:14:19,358 : INFO : worker thread finished; awaiting finish of 0 more threads\n",
            "2021-03-13 21:14:19,359 : INFO : EPOCH - 22 : training on 14059602 raw words (10361021 effective words) took 23.8s, 435022 effective words/s\n",
            "2021-03-13 21:14:20,375 : INFO : EPOCH 23 - PROGRESS: at 3.97% examples, 406164 words/s, in_qsize 11, out_qsize 0\n",
            "2021-03-13 21:14:21,385 : INFO : EPOCH 23 - PROGRESS: at 8.14% examples, 419085 words/s, in_qsize 12, out_qsize 0\n",
            "2021-03-13 21:14:22,414 : INFO : EPOCH 23 - PROGRESS: at 12.55% examples, 427914 words/s, in_qsize 11, out_qsize 0\n",
            "2021-03-13 21:14:23,416 : INFO : EPOCH 23 - PROGRESS: at 16.79% examples, 429582 words/s, in_qsize 10, out_qsize 1\n",
            "2021-03-13 21:14:24,421 : INFO : EPOCH 23 - PROGRESS: at 20.81% examples, 425037 words/s, in_qsize 12, out_qsize 1\n",
            "2021-03-13 21:14:25,450 : INFO : EPOCH 23 - PROGRESS: at 25.21% examples, 427871 words/s, in_qsize 12, out_qsize 0\n",
            "2021-03-13 21:14:26,489 : INFO : EPOCH 23 - PROGRESS: at 29.54% examples, 427069 words/s, in_qsize 11, out_qsize 0\n",
            "2021-03-13 21:14:27,513 : INFO : EPOCH 23 - PROGRESS: at 33.94% examples, 428178 words/s, in_qsize 11, out_qsize 0\n",
            "2021-03-13 21:14:28,556 : INFO : EPOCH 23 - PROGRESS: at 38.33% examples, 428680 words/s, in_qsize 11, out_qsize 0\n",
            "2021-03-13 21:14:29,600 : INFO : EPOCH 23 - PROGRESS: at 42.63% examples, 429248 words/s, in_qsize 10, out_qsize 1\n",
            "2021-03-13 21:14:30,609 : INFO : EPOCH 23 - PROGRESS: at 46.84% examples, 429998 words/s, in_qsize 11, out_qsize 0\n",
            "2021-03-13 21:14:31,613 : INFO : EPOCH 23 - PROGRESS: at 51.25% examples, 431597 words/s, in_qsize 11, out_qsize 0\n",
            "2021-03-13 21:14:32,659 : INFO : EPOCH 23 - PROGRESS: at 55.68% examples, 431602 words/s, in_qsize 11, out_qsize 0\n",
            "2021-03-13 21:14:33,662 : INFO : EPOCH 23 - PROGRESS: at 60.04% examples, 433462 words/s, in_qsize 12, out_qsize 0\n",
            "2021-03-13 21:14:34,662 : INFO : EPOCH 23 - PROGRESS: at 64.06% examples, 431833 words/s, in_qsize 11, out_qsize 0\n",
            "2021-03-13 21:14:35,680 : INFO : EPOCH 23 - PROGRESS: at 68.30% examples, 432423 words/s, in_qsize 11, out_qsize 1\n",
            "2021-03-13 21:14:36,673 : INFO : EPOCH 23 - PROGRESS: at 72.48% examples, 432090 words/s, in_qsize 11, out_qsize 0\n",
            "2021-03-13 21:14:37,706 : INFO : EPOCH 23 - PROGRESS: at 76.39% examples, 430692 words/s, in_qsize 11, out_qsize 3\n",
            "2021-03-13 21:14:38,739 : INFO : EPOCH 23 - PROGRESS: at 80.82% examples, 431887 words/s, in_qsize 12, out_qsize 1\n",
            "2021-03-13 21:14:39,762 : INFO : EPOCH 23 - PROGRESS: at 85.01% examples, 431860 words/s, in_qsize 12, out_qsize 0\n",
            "2021-03-13 21:14:40,806 : INFO : EPOCH 23 - PROGRESS: at 89.24% examples, 431563 words/s, in_qsize 12, out_qsize 0\n",
            "2021-03-13 21:14:41,850 : INFO : EPOCH 23 - PROGRESS: at 93.66% examples, 431890 words/s, in_qsize 11, out_qsize 0\n",
            "2021-03-13 21:14:42,859 : INFO : EPOCH 23 - PROGRESS: at 97.99% examples, 432272 words/s, in_qsize 11, out_qsize 0\n",
            "2021-03-13 21:14:43,239 : INFO : worker thread finished; awaiting finish of 5 more threads\n",
            "2021-03-13 21:14:43,246 : INFO : worker thread finished; awaiting finish of 4 more threads\n",
            "2021-03-13 21:14:43,261 : INFO : worker thread finished; awaiting finish of 3 more threads\n",
            "2021-03-13 21:14:43,283 : INFO : worker thread finished; awaiting finish of 2 more threads\n",
            "2021-03-13 21:14:43,287 : INFO : worker thread finished; awaiting finish of 1 more threads\n",
            "2021-03-13 21:14:43,292 : INFO : worker thread finished; awaiting finish of 0 more threads\n",
            "2021-03-13 21:14:43,293 : INFO : EPOCH - 23 : training on 14059602 raw words (10361933 effective words) took 23.9s, 433111 effective words/s\n",
            "2021-03-13 21:14:44,381 : INFO : EPOCH 24 - PROGRESS: at 4.17% examples, 399849 words/s, in_qsize 12, out_qsize 1\n",
            "2021-03-13 21:14:45,416 : INFO : EPOCH 24 - PROGRESS: at 8.54% examples, 420932 words/s, in_qsize 11, out_qsize 0\n",
            "2021-03-13 21:14:46,418 : INFO : EPOCH 24 - PROGRESS: at 12.86% examples, 427731 words/s, in_qsize 11, out_qsize 0\n",
            "2021-03-13 21:14:47,429 : INFO : EPOCH 24 - PROGRESS: at 17.22% examples, 432143 words/s, in_qsize 11, out_qsize 0\n",
            "2021-03-13 21:14:48,447 : INFO : EPOCH 24 - PROGRESS: at 21.62% examples, 434506 words/s, in_qsize 11, out_qsize 0\n",
            "2021-03-13 21:14:49,481 : INFO : EPOCH 24 - PROGRESS: at 26.02% examples, 434250 words/s, in_qsize 10, out_qsize 1\n",
            "2021-03-13 21:14:50,501 : INFO : EPOCH 24 - PROGRESS: at 30.37% examples, 434790 words/s, in_qsize 11, out_qsize 0\n",
            "2021-03-13 21:14:51,533 : INFO : EPOCH 24 - PROGRESS: at 34.84% examples, 435303 words/s, in_qsize 11, out_qsize 0\n",
            "2021-03-13 21:14:52,546 : INFO : EPOCH 24 - PROGRESS: at 39.23% examples, 436401 words/s, in_qsize 11, out_qsize 2\n",
            "2021-03-13 21:14:53,604 : INFO : EPOCH 24 - PROGRESS: at 43.62% examples, 436269 words/s, in_qsize 12, out_qsize 1\n",
            "2021-03-13 21:14:54,605 : INFO : EPOCH 24 - PROGRESS: at 47.93% examples, 437444 words/s, in_qsize 11, out_qsize 0\n",
            "2021-03-13 21:14:55,609 : INFO : EPOCH 24 - PROGRESS: at 52.02% examples, 435990 words/s, in_qsize 11, out_qsize 0\n",
            "2021-03-13 21:14:56,611 : INFO : EPOCH 24 - PROGRESS: at 56.54% examples, 438198 words/s, in_qsize 11, out_qsize 0\n",
            "2021-03-13 21:14:57,618 : INFO : EPOCH 24 - PROGRESS: at 60.67% examples, 437505 words/s, in_qsize 11, out_qsize 0\n",
            "2021-03-13 21:14:58,620 : INFO : EPOCH 24 - PROGRESS: at 64.85% examples, 436464 words/s, in_qsize 11, out_qsize 4\n",
            "2021-03-13 21:14:59,630 : INFO : EPOCH 24 - PROGRESS: at 69.16% examples, 437021 words/s, in_qsize 11, out_qsize 0\n",
            "2021-03-13 21:15:00,656 : INFO : EPOCH 24 - PROGRESS: at 73.50% examples, 437234 words/s, in_qsize 11, out_qsize 0\n",
            "2021-03-13 21:15:01,674 : INFO : EPOCH 24 - PROGRESS: at 77.75% examples, 437483 words/s, in_qsize 12, out_qsize 0\n",
            "2021-03-13 21:15:02,681 : INFO : EPOCH 24 - PROGRESS: at 82.00% examples, 438389 words/s, in_qsize 12, out_qsize 0\n",
            "2021-03-13 21:15:03,712 : INFO : EPOCH 24 - PROGRESS: at 86.39% examples, 438722 words/s, in_qsize 10, out_qsize 1\n",
            "2021-03-13 21:15:04,721 : INFO : EPOCH 24 - PROGRESS: at 90.79% examples, 439106 words/s, in_qsize 11, out_qsize 0\n",
            "2021-03-13 21:15:05,733 : INFO : EPOCH 24 - PROGRESS: at 95.21% examples, 440016 words/s, in_qsize 12, out_qsize 0\n",
            "2021-03-13 21:15:06,740 : INFO : EPOCH 24 - PROGRESS: at 99.68% examples, 440711 words/s, in_qsize 5, out_qsize 1\n",
            "2021-03-13 21:15:06,749 : INFO : worker thread finished; awaiting finish of 5 more threads\n",
            "2021-03-13 21:15:06,759 : INFO : worker thread finished; awaiting finish of 4 more threads\n",
            "2021-03-13 21:15:06,804 : INFO : worker thread finished; awaiting finish of 3 more threads\n",
            "2021-03-13 21:15:06,805 : INFO : worker thread finished; awaiting finish of 2 more threads\n",
            "2021-03-13 21:15:06,816 : INFO : worker thread finished; awaiting finish of 1 more threads\n",
            "2021-03-13 21:15:06,817 : INFO : worker thread finished; awaiting finish of 0 more threads\n",
            "2021-03-13 21:15:06,818 : INFO : EPOCH - 24 : training on 14059602 raw words (10361761 effective words) took 23.5s, 440666 effective words/s\n",
            "2021-03-13 21:15:07,846 : INFO : EPOCH 25 - PROGRESS: at 3.95% examples, 401581 words/s, in_qsize 10, out_qsize 1\n",
            "2021-03-13 21:15:08,856 : INFO : EPOCH 25 - PROGRESS: at 8.16% examples, 416739 words/s, in_qsize 11, out_qsize 0\n",
            "2021-03-13 21:15:09,906 : INFO : EPOCH 25 - PROGRESS: at 12.63% examples, 425583 words/s, in_qsize 11, out_qsize 0\n",
            "2021-03-13 21:15:10,920 : INFO : EPOCH 25 - PROGRESS: at 17.02% examples, 430305 words/s, in_qsize 11, out_qsize 0\n",
            "2021-03-13 21:15:11,929 : INFO : EPOCH 25 - PROGRESS: at 21.41% examples, 433711 words/s, in_qsize 11, out_qsize 0\n",
            "2021-03-13 21:15:12,994 : INFO : EPOCH 25 - PROGRESS: at 26.09% examples, 436106 words/s, in_qsize 11, out_qsize 0\n",
            "2021-03-13 21:15:14,015 : INFO : EPOCH 25 - PROGRESS: at 30.20% examples, 433215 words/s, in_qsize 11, out_qsize 0\n",
            "2021-03-13 21:15:15,018 : INFO : EPOCH 25 - PROGRESS: at 34.56% examples, 433737 words/s, in_qsize 11, out_qsize 0\n",
            "2021-03-13 21:15:16,047 : INFO : EPOCH 25 - PROGRESS: at 38.97% examples, 434218 words/s, in_qsize 11, out_qsize 0\n",
            "2021-03-13 21:15:17,056 : INFO : EPOCH 25 - PROGRESS: at 43.04% examples, 433549 words/s, in_qsize 11, out_qsize 0\n",
            "2021-03-13 21:15:18,074 : INFO : EPOCH 25 - PROGRESS: at 47.51% examples, 435548 words/s, in_qsize 12, out_qsize 0\n",
            "2021-03-13 21:15:19,088 : INFO : EPOCH 25 - PROGRESS: at 51.91% examples, 436280 words/s, in_qsize 10, out_qsize 1\n",
            "2021-03-13 21:15:20,117 : INFO : EPOCH 25 - PROGRESS: at 56.34% examples, 437001 words/s, in_qsize 11, out_qsize 0\n",
            "2021-03-13 21:15:21,154 : INFO : EPOCH 25 - PROGRESS: at 60.74% examples, 437535 words/s, in_qsize 11, out_qsize 0\n",
            "2021-03-13 21:15:22,157 : INFO : EPOCH 25 - PROGRESS: at 65.24% examples, 438822 words/s, in_qsize 11, out_qsize 0\n",
            "2021-03-13 21:15:23,170 : INFO : EPOCH 25 - PROGRESS: at 69.70% examples, 439610 words/s, in_qsize 11, out_qsize 0\n",
            "2021-03-13 21:15:24,205 : INFO : EPOCH 25 - PROGRESS: at 74.01% examples, 439494 words/s, in_qsize 11, out_qsize 0\n",
            "2021-03-13 21:15:25,239 : INFO : EPOCH 25 - PROGRESS: at 78.14% examples, 438804 words/s, in_qsize 8, out_qsize 3\n",
            "2021-03-13 21:15:26,243 : INFO : EPOCH 25 - PROGRESS: at 82.33% examples, 439314 words/s, in_qsize 11, out_qsize 0\n",
            "2021-03-13 21:15:27,264 : INFO : EPOCH 25 - PROGRESS: at 86.45% examples, 438388 words/s, in_qsize 12, out_qsize 0\n",
            "2021-03-13 21:15:28,281 : INFO : EPOCH 25 - PROGRESS: at 90.87% examples, 438629 words/s, in_qsize 12, out_qsize 2\n",
            "2021-03-13 21:15:29,295 : INFO : EPOCH 25 - PROGRESS: at 95.13% examples, 438844 words/s, in_qsize 11, out_qsize 0\n",
            "2021-03-13 21:15:30,304 : INFO : EPOCH 25 - PROGRESS: at 99.60% examples, 439578 words/s, in_qsize 6, out_qsize 0\n",
            "2021-03-13 21:15:30,311 : INFO : worker thread finished; awaiting finish of 5 more threads\n",
            "2021-03-13 21:15:30,317 : INFO : worker thread finished; awaiting finish of 4 more threads\n",
            "2021-03-13 21:15:30,319 : INFO : worker thread finished; awaiting finish of 3 more threads\n",
            "2021-03-13 21:15:30,324 : INFO : worker thread finished; awaiting finish of 2 more threads\n",
            "2021-03-13 21:15:30,351 : INFO : worker thread finished; awaiting finish of 1 more threads\n",
            "2021-03-13 21:15:30,359 : INFO : worker thread finished; awaiting finish of 0 more threads\n",
            "2021-03-13 21:15:30,360 : INFO : EPOCH - 25 : training on 14059602 raw words (10359641 effective words) took 23.5s, 440247 effective words/s\n",
            "2021-03-13 21:15:31,391 : INFO : EPOCH 26 - PROGRESS: at 4.09% examples, 414063 words/s, in_qsize 12, out_qsize 1\n",
            "2021-03-13 21:15:32,414 : INFO : EPOCH 26 - PROGRESS: at 8.60% examples, 438507 words/s, in_qsize 11, out_qsize 0\n",
            "2021-03-13 21:15:33,464 : INFO : EPOCH 26 - PROGRESS: at 13.09% examples, 439612 words/s, in_qsize 11, out_qsize 0\n",
            "2021-03-13 21:15:34,473 : INFO : EPOCH 26 - PROGRESS: at 17.29% examples, 436082 words/s, in_qsize 11, out_qsize 0\n",
            "2021-03-13 21:15:35,485 : INFO : EPOCH 26 - PROGRESS: at 21.57% examples, 435257 words/s, in_qsize 11, out_qsize 0\n",
            "2021-03-13 21:15:36,511 : INFO : EPOCH 26 - PROGRESS: at 26.02% examples, 436584 words/s, in_qsize 11, out_qsize 0\n",
            "2021-03-13 21:15:37,519 : INFO : EPOCH 26 - PROGRESS: at 30.28% examples, 436496 words/s, in_qsize 11, out_qsize 0\n",
            "2021-03-13 21:15:38,530 : INFO : EPOCH 26 - PROGRESS: at 34.77% examples, 437835 words/s, in_qsize 12, out_qsize 0\n",
            "2021-03-13 21:15:39,560 : INFO : EPOCH 26 - PROGRESS: at 39.10% examples, 437117 words/s, in_qsize 11, out_qsize 0\n",
            "2021-03-13 21:15:40,585 : INFO : EPOCH 26 - PROGRESS: at 43.26% examples, 436165 words/s, in_qsize 11, out_qsize 0\n",
            "2021-03-13 21:15:41,652 : INFO : EPOCH 26 - PROGRESS: at 47.66% examples, 435420 words/s, in_qsize 11, out_qsize 0\n",
            "2021-03-13 21:15:42,670 : INFO : EPOCH 26 - PROGRESS: at 52.02% examples, 436043 words/s, in_qsize 11, out_qsize 0\n",
            "2021-03-13 21:15:43,707 : INFO : EPOCH 26 - PROGRESS: at 56.29% examples, 434902 words/s, in_qsize 12, out_qsize 1\n",
            "2021-03-13 21:15:44,729 : INFO : EPOCH 26 - PROGRESS: at 60.61% examples, 435567 words/s, in_qsize 12, out_qsize 0\n",
            "2021-03-13 21:15:45,739 : INFO : EPOCH 26 - PROGRESS: at 64.89% examples, 435362 words/s, in_qsize 12, out_qsize 0\n",
            "2021-03-13 21:15:46,812 : INFO : EPOCH 26 - PROGRESS: at 69.39% examples, 435199 words/s, in_qsize 11, out_qsize 0\n",
            "2021-03-13 21:15:47,849 : INFO : EPOCH 26 - PROGRESS: at 73.69% examples, 435255 words/s, in_qsize 10, out_qsize 1\n",
            "2021-03-13 21:15:48,850 : INFO : EPOCH 26 - PROGRESS: at 77.90% examples, 435582 words/s, in_qsize 11, out_qsize 0\n",
            "2021-03-13 21:15:49,892 : INFO : EPOCH 26 - PROGRESS: at 82.13% examples, 435809 words/s, in_qsize 11, out_qsize 0\n",
            "2021-03-13 21:15:50,898 : INFO : EPOCH 26 - PROGRESS: at 86.45% examples, 436434 words/s, in_qsize 11, out_qsize 0\n",
            "2021-03-13 21:15:51,901 : INFO : EPOCH 26 - PROGRESS: at 90.86% examples, 437033 words/s, in_qsize 11, out_qsize 0\n",
            "2021-03-13 21:15:52,902 : INFO : EPOCH 26 - PROGRESS: at 94.98% examples, 436956 words/s, in_qsize 10, out_qsize 1\n",
            "2021-03-13 21:15:53,936 : INFO : EPOCH 26 - PROGRESS: at 99.25% examples, 436367 words/s, in_qsize 11, out_qsize 0\n",
            "2021-03-13 21:15:54,015 : INFO : worker thread finished; awaiting finish of 5 more threads\n",
            "2021-03-13 21:15:54,046 : INFO : worker thread finished; awaiting finish of 4 more threads\n",
            "2021-03-13 21:15:54,047 : INFO : worker thread finished; awaiting finish of 3 more threads\n",
            "2021-03-13 21:15:54,052 : INFO : worker thread finished; awaiting finish of 2 more threads\n",
            "2021-03-13 21:15:54,060 : INFO : worker thread finished; awaiting finish of 1 more threads\n",
            "2021-03-13 21:15:54,062 : INFO : worker thread finished; awaiting finish of 0 more threads\n",
            "2021-03-13 21:15:54,063 : INFO : EPOCH - 26 : training on 14059602 raw words (10361714 effective words) took 23.7s, 437290 effective words/s\n",
            "2021-03-13 21:15:55,093 : INFO : EPOCH 27 - PROGRESS: at 4.02% examples, 410020 words/s, in_qsize 11, out_qsize 0\n",
            "2021-03-13 21:15:56,099 : INFO : EPOCH 27 - PROGRESS: at 8.28% examples, 425592 words/s, in_qsize 11, out_qsize 0\n",
            "2021-03-13 21:15:57,110 : INFO : EPOCH 27 - PROGRESS: at 12.62% examples, 431933 words/s, in_qsize 11, out_qsize 0\n",
            "2021-03-13 21:15:58,139 : INFO : EPOCH 27 - PROGRESS: at 17.10% examples, 435171 words/s, in_qsize 11, out_qsize 1\n",
            "2021-03-13 21:15:59,175 : INFO : EPOCH 27 - PROGRESS: at 21.62% examples, 438323 words/s, in_qsize 12, out_qsize 0\n",
            "2021-03-13 21:16:00,196 : INFO : EPOCH 27 - PROGRESS: at 25.86% examples, 435919 words/s, in_qsize 10, out_qsize 1\n",
            "2021-03-13 21:16:01,209 : INFO : EPOCH 27 - PROGRESS: at 30.28% examples, 437663 words/s, in_qsize 11, out_qsize 0\n",
            "2021-03-13 21:16:02,213 : INFO : EPOCH 27 - PROGRESS: at 34.84% examples, 440170 words/s, in_qsize 11, out_qsize 0\n",
            "2021-03-13 21:16:03,216 : INFO : EPOCH 27 - PROGRESS: at 38.97% examples, 438098 words/s, in_qsize 11, out_qsize 0\n",
            "2021-03-13 21:16:04,223 : INFO : EPOCH 27 - PROGRESS: at 43.46% examples, 441409 words/s, in_qsize 11, out_qsize 0\n",
            "2021-03-13 21:16:05,265 : INFO : EPOCH 27 - PROGRESS: at 47.59% examples, 438580 words/s, in_qsize 11, out_qsize 0\n",
            "2021-03-13 21:16:06,289 : INFO : EPOCH 27 - PROGRESS: at 51.97% examples, 438677 words/s, in_qsize 11, out_qsize 0\n",
            "2021-03-13 21:16:07,313 : INFO : EPOCH 27 - PROGRESS: at 56.42% examples, 439408 words/s, in_qsize 11, out_qsize 0\n",
            "2021-03-13 21:16:08,346 : INFO : EPOCH 27 - PROGRESS: at 60.67% examples, 438871 words/s, in_qsize 11, out_qsize 0\n",
            "2021-03-13 21:16:09,352 : INFO : EPOCH 27 - PROGRESS: at 65.09% examples, 439532 words/s, in_qsize 11, out_qsize 0\n",
            "2021-03-13 21:16:10,371 : INFO : EPOCH 27 - PROGRESS: at 69.41% examples, 439240 words/s, in_qsize 10, out_qsize 1\n",
            "2021-03-13 21:16:11,416 : INFO : EPOCH 27 - PROGRESS: at 73.85% examples, 439662 words/s, in_qsize 11, out_qsize 0\n",
            "2021-03-13 21:16:12,431 : INFO : EPOCH 27 - PROGRESS: at 78.14% examples, 440269 words/s, in_qsize 12, out_qsize 0\n",
            "2021-03-13 21:16:13,441 : INFO : EPOCH 27 - PROGRESS: at 82.28% examples, 440165 words/s, in_qsize 11, out_qsize 0\n",
            "2021-03-13 21:16:14,466 : INFO : EPOCH 27 - PROGRESS: at 86.45% examples, 439454 words/s, in_qsize 11, out_qsize 0\n",
            "2021-03-13 21:16:15,483 : INFO : EPOCH 27 - PROGRESS: at 90.87% examples, 439619 words/s, in_qsize 11, out_qsize 0\n",
            "2021-03-13 21:16:16,510 : INFO : EPOCH 27 - PROGRESS: at 95.21% examples, 439886 words/s, in_qsize 12, out_qsize 1\n",
            "2021-03-13 21:16:17,508 : INFO : worker thread finished; awaiting finish of 5 more threads\n",
            "2021-03-13 21:16:17,520 : INFO : EPOCH 27 - PROGRESS: at 99.76% examples, 440860 words/s, in_qsize 4, out_qsize 1\n",
            "2021-03-13 21:16:17,521 : INFO : worker thread finished; awaiting finish of 4 more threads\n",
            "2021-03-13 21:16:17,552 : INFO : worker thread finished; awaiting finish of 3 more threads\n",
            "2021-03-13 21:16:17,555 : INFO : worker thread finished; awaiting finish of 2 more threads\n",
            "2021-03-13 21:16:17,556 : INFO : worker thread finished; awaiting finish of 1 more threads\n",
            "2021-03-13 21:16:17,558 : INFO : worker thread finished; awaiting finish of 0 more threads\n",
            "2021-03-13 21:16:17,559 : INFO : EPOCH - 27 : training on 14059602 raw words (10360890 effective words) took 23.5s, 441243 effective words/s\n",
            "2021-03-13 21:16:18,625 : INFO : EPOCH 28 - PROGRESS: at 4.10% examples, 401471 words/s, in_qsize 8, out_qsize 3\n",
            "2021-03-13 21:16:19,674 : INFO : EPOCH 28 - PROGRESS: at 8.47% examples, 423480 words/s, in_qsize 12, out_qsize 3\n",
            "2021-03-13 21:16:20,671 : INFO : EPOCH 28 - PROGRESS: at 12.71% examples, 424788 words/s, in_qsize 10, out_qsize 1\n",
            "2021-03-13 21:16:21,694 : INFO : EPOCH 28 - PROGRESS: at 17.22% examples, 432186 words/s, in_qsize 11, out_qsize 0\n",
            "2021-03-13 21:16:22,718 : INFO : EPOCH 28 - PROGRESS: at 21.68% examples, 435514 words/s, in_qsize 11, out_qsize 0\n",
            "2021-03-13 21:16:23,729 : INFO : EPOCH 28 - PROGRESS: at 26.01% examples, 435484 words/s, in_qsize 11, out_qsize 0\n",
            "2021-03-13 21:16:24,772 : INFO : EPOCH 28 - PROGRESS: at 30.51% examples, 436508 words/s, in_qsize 12, out_qsize 1\n",
            "2021-03-13 21:16:25,780 : INFO : EPOCH 28 - PROGRESS: at 34.85% examples, 436244 words/s, in_qsize 10, out_qsize 1\n",
            "2021-03-13 21:16:26,781 : INFO : EPOCH 28 - PROGRESS: at 39.10% examples, 436323 words/s, in_qsize 11, out_qsize 0\n",
            "2021-03-13 21:16:27,809 : INFO : EPOCH 28 - PROGRESS: at 43.47% examples, 437436 words/s, in_qsize 11, out_qsize 0\n",
            "2021-03-13 21:16:28,830 : INFO : EPOCH 28 - PROGRESS: at 47.73% examples, 437034 words/s, in_qsize 11, out_qsize 0\n",
            "2021-03-13 21:16:29,833 : INFO : EPOCH 28 - PROGRESS: at 51.95% examples, 436867 words/s, in_qsize 11, out_qsize 0\n",
            "2021-03-13 21:16:30,833 : INFO : EPOCH 28 - PROGRESS: at 56.30% examples, 437419 words/s, in_qsize 10, out_qsize 1\n",
            "2021-03-13 21:16:31,837 : INFO : EPOCH 28 - PROGRESS: at 60.61% examples, 438410 words/s, in_qsize 11, out_qsize 0\n",
            "2021-03-13 21:16:32,891 : INFO : EPOCH 28 - PROGRESS: at 65.03% examples, 437700 words/s, in_qsize 10, out_qsize 1\n",
            "2021-03-13 21:16:33,922 : INFO : EPOCH 28 - PROGRESS: at 69.32% examples, 437214 words/s, in_qsize 11, out_qsize 0\n",
            "2021-03-13 21:16:34,993 : INFO : EPOCH 28 - PROGRESS: at 73.85% examples, 437528 words/s, in_qsize 12, out_qsize 1\n",
            "2021-03-13 21:16:36,012 : INFO : EPOCH 28 - PROGRESS: at 78.14% examples, 438120 words/s, in_qsize 11, out_qsize 0\n",
            "2021-03-13 21:16:37,016 : INFO : EPOCH 28 - PROGRESS: at 82.42% examples, 439000 words/s, in_qsize 12, out_qsize 1\n",
            "2021-03-13 21:16:38,017 : INFO : EPOCH 28 - PROGRESS: at 86.68% examples, 439253 words/s, in_qsize 12, out_qsize 1\n",
            "2021-03-13 21:16:39,031 : INFO : EPOCH 28 - PROGRESS: at 90.87% examples, 438511 words/s, in_qsize 11, out_qsize 0\n",
            "2021-03-13 21:16:40,050 : INFO : EPOCH 28 - PROGRESS: at 95.21% examples, 438991 words/s, in_qsize 11, out_qsize 0\n",
            "2021-03-13 21:16:41,045 : INFO : worker thread finished; awaiting finish of 5 more threads\n",
            "2021-03-13 21:16:41,052 : INFO : EPOCH 28 - PROGRESS: at 99.75% examples, 440138 words/s, in_qsize 4, out_qsize 1\n",
            "2021-03-13 21:16:41,055 : INFO : worker thread finished; awaiting finish of 4 more threads\n",
            "2021-03-13 21:16:41,061 : INFO : worker thread finished; awaiting finish of 3 more threads\n",
            "2021-03-13 21:16:41,073 : INFO : worker thread finished; awaiting finish of 2 more threads\n",
            "2021-03-13 21:16:41,090 : INFO : worker thread finished; awaiting finish of 1 more threads\n",
            "2021-03-13 21:16:41,094 : INFO : worker thread finished; awaiting finish of 0 more threads\n",
            "2021-03-13 21:16:41,096 : INFO : EPOCH - 28 : training on 14059602 raw words (10361242 effective words) took 23.5s, 440437 effective words/s\n",
            "2021-03-13 21:16:42,106 : INFO : EPOCH 29 - PROGRESS: at 4.10% examples, 423165 words/s, in_qsize 11, out_qsize 0\n",
            "2021-03-13 21:16:43,115 : INFO : EPOCH 29 - PROGRESS: at 8.21% examples, 424216 words/s, in_qsize 12, out_qsize 1\n",
            "2021-03-13 21:16:44,136 : INFO : EPOCH 29 - PROGRESS: at 12.69% examples, 434688 words/s, in_qsize 11, out_qsize 0\n",
            "2021-03-13 21:16:45,143 : INFO : EPOCH 29 - PROGRESS: at 16.94% examples, 434418 words/s, in_qsize 10, out_qsize 1\n",
            "2021-03-13 21:16:46,149 : INFO : EPOCH 29 - PROGRESS: at 21.23% examples, 434361 words/s, in_qsize 11, out_qsize 2\n",
            "2021-03-13 21:16:47,163 : INFO : EPOCH 29 - PROGRESS: at 25.51% examples, 434314 words/s, in_qsize 11, out_qsize 0\n",
            "2021-03-13 21:16:48,182 : INFO : EPOCH 29 - PROGRESS: at 30.00% examples, 436946 words/s, in_qsize 11, out_qsize 0\n",
            "2021-03-13 21:16:49,208 : INFO : EPOCH 29 - PROGRESS: at 34.21% examples, 433979 words/s, in_qsize 11, out_qsize 0\n",
            "2021-03-13 21:16:50,250 : INFO : EPOCH 29 - PROGRESS: at 38.75% examples, 435428 words/s, in_qsize 11, out_qsize 0\n",
            "2021-03-13 21:16:51,251 : INFO : EPOCH 29 - PROGRESS: at 43.12% examples, 437835 words/s, in_qsize 11, out_qsize 0\n",
            "2021-03-13 21:16:52,262 : INFO : EPOCH 29 - PROGRESS: at 47.05% examples, 435203 words/s, in_qsize 9, out_qsize 2\n",
            "2021-03-13 21:16:53,267 : INFO : EPOCH 29 - PROGRESS: at 51.46% examples, 436330 words/s, in_qsize 11, out_qsize 0\n",
            "2021-03-13 21:16:54,305 : INFO : EPOCH 29 - PROGRESS: at 55.95% examples, 436801 words/s, in_qsize 11, out_qsize 0\n",
            "2021-03-13 21:16:55,306 : INFO : EPOCH 29 - PROGRESS: at 60.04% examples, 436299 words/s, in_qsize 11, out_qsize 0\n",
            "2021-03-13 21:16:56,312 : INFO : EPOCH 29 - PROGRESS: at 64.33% examples, 436235 words/s, in_qsize 11, out_qsize 0\n",
            "2021-03-13 21:16:57,323 : INFO : EPOCH 29 - PROGRESS: at 68.46% examples, 435525 words/s, in_qsize 12, out_qsize 0\n",
            "2021-03-13 21:16:58,337 : INFO : EPOCH 29 - PROGRESS: at 72.96% examples, 436889 words/s, in_qsize 11, out_qsize 0\n",
            "2021-03-13 21:16:59,362 : INFO : EPOCH 29 - PROGRESS: at 76.96% examples, 435780 words/s, in_qsize 11, out_qsize 0\n",
            "2021-03-13 21:17:00,368 : INFO : EPOCH 29 - PROGRESS: at 81.26% examples, 436689 words/s, in_qsize 10, out_qsize 1\n",
            "2021-03-13 21:17:01,380 : INFO : EPOCH 29 - PROGRESS: at 85.35% examples, 436178 words/s, in_qsize 11, out_qsize 0\n",
            "2021-03-13 21:17:02,408 : INFO : EPOCH 29 - PROGRESS: at 89.79% examples, 436646 words/s, in_qsize 11, out_qsize 0\n",
            "2021-03-13 21:17:03,418 : INFO : EPOCH 29 - PROGRESS: at 93.94% examples, 436457 words/s, in_qsize 10, out_qsize 1\n",
            "2021-03-13 21:17:04,458 : INFO : EPOCH 29 - PROGRESS: at 98.36% examples, 436387 words/s, in_qsize 12, out_qsize 5\n",
            "2021-03-13 21:17:04,721 : INFO : worker thread finished; awaiting finish of 5 more threads\n",
            "2021-03-13 21:17:04,750 : INFO : worker thread finished; awaiting finish of 4 more threads\n",
            "2021-03-13 21:17:04,760 : INFO : worker thread finished; awaiting finish of 3 more threads\n",
            "2021-03-13 21:17:04,767 : INFO : worker thread finished; awaiting finish of 2 more threads\n",
            "2021-03-13 21:17:04,772 : INFO : worker thread finished; awaiting finish of 1 more threads\n",
            "2021-03-13 21:17:04,786 : INFO : worker thread finished; awaiting finish of 0 more threads\n",
            "2021-03-13 21:17:04,786 : INFO : EPOCH - 29 : training on 14059602 raw words (10361643 effective words) took 23.7s, 437548 effective words/s\n",
            "2021-03-13 21:17:05,799 : INFO : EPOCH 30 - PROGRESS: at 4.01% examples, 413798 words/s, in_qsize 10, out_qsize 1\n",
            "2021-03-13 21:17:06,824 : INFO : EPOCH 30 - PROGRESS: at 8.02% examples, 413570 words/s, in_qsize 12, out_qsize 5\n",
            "2021-03-13 21:17:07,821 : INFO : EPOCH 30 - PROGRESS: at 12.19% examples, 418402 words/s, in_qsize 7, out_qsize 4\n",
            "2021-03-13 21:17:08,824 : INFO : EPOCH 30 - PROGRESS: at 16.64% examples, 427989 words/s, in_qsize 11, out_qsize 0\n",
            "2021-03-13 21:17:09,829 : INFO : EPOCH 30 - PROGRESS: at 20.74% examples, 424958 words/s, in_qsize 12, out_qsize 0\n",
            "2021-03-13 21:17:10,884 : INFO : EPOCH 30 - PROGRESS: at 25.07% examples, 424826 words/s, in_qsize 7, out_qsize 4\n",
            "2021-03-13 21:17:11,890 : INFO : EPOCH 30 - PROGRESS: at 29.76% examples, 431532 words/s, in_qsize 10, out_qsize 1\n",
            "2021-03-13 21:17:12,904 : INFO : EPOCH 30 - PROGRESS: at 34.07% examples, 431704 words/s, in_qsize 11, out_qsize 0\n",
            "2021-03-13 21:17:13,920 : INFO : EPOCH 30 - PROGRESS: at 38.24% examples, 430733 words/s, in_qsize 11, out_qsize 0\n",
            "2021-03-13 21:17:14,960 : INFO : EPOCH 30 - PROGRESS: at 42.63% examples, 431906 words/s, in_qsize 11, out_qsize 0\n",
            "2021-03-13 21:17:15,990 : INFO : EPOCH 30 - PROGRESS: at 46.98% examples, 432896 words/s, in_qsize 12, out_qsize 0\n",
            "2021-03-13 21:17:17,012 : INFO : EPOCH 30 - PROGRESS: at 51.38% examples, 433621 words/s, in_qsize 11, out_qsize 0\n",
            "2021-03-13 21:17:18,022 : INFO : EPOCH 30 - PROGRESS: at 55.61% examples, 433028 words/s, in_qsize 11, out_qsize 0\n",
            "2021-03-13 21:17:19,029 : INFO : EPOCH 30 - PROGRESS: at 59.82% examples, 433643 words/s, in_qsize 11, out_qsize 0\n",
            "2021-03-13 21:17:20,064 : INFO : EPOCH 30 - PROGRESS: at 64.13% examples, 432921 words/s, in_qsize 10, out_qsize 1\n",
            "2021-03-13 21:17:21,095 : INFO : EPOCH 30 - PROGRESS: at 68.60% examples, 434135 words/s, in_qsize 9, out_qsize 3\n",
            "2021-03-13 21:17:22,115 : INFO : EPOCH 30 - PROGRESS: at 73.09% examples, 435448 words/s, in_qsize 11, out_qsize 0\n",
            "2021-03-13 21:17:23,133 : INFO : EPOCH 30 - PROGRESS: at 77.12% examples, 434615 words/s, in_qsize 11, out_qsize 0\n",
            "2021-03-13 21:17:24,137 : INFO : EPOCH 30 - PROGRESS: at 81.27% examples, 435349 words/s, in_qsize 10, out_qsize 1\n",
            "2021-03-13 21:17:25,176 : INFO : EPOCH 30 - PROGRESS: at 85.50% examples, 434610 words/s, in_qsize 12, out_qsize 2\n",
            "2021-03-13 21:17:26,179 : INFO : EPOCH 30 - PROGRESS: at 89.86% examples, 435341 words/s, in_qsize 11, out_qsize 0\n",
            "2021-03-13 21:17:27,203 : INFO : EPOCH 30 - PROGRESS: at 94.07% examples, 435260 words/s, in_qsize 10, out_qsize 1\n",
            "2021-03-13 21:17:28,206 : INFO : EPOCH 30 - PROGRESS: at 98.30% examples, 434997 words/s, in_qsize 12, out_qsize 1\n",
            "2021-03-13 21:17:28,506 : INFO : worker thread finished; awaiting finish of 5 more threads\n",
            "2021-03-13 21:17:28,510 : INFO : worker thread finished; awaiting finish of 4 more threads\n",
            "2021-03-13 21:17:28,532 : INFO : worker thread finished; awaiting finish of 3 more threads\n",
            "2021-03-13 21:17:28,533 : INFO : worker thread finished; awaiting finish of 2 more threads\n",
            "2021-03-13 21:17:28,534 : INFO : worker thread finished; awaiting finish of 1 more threads\n",
            "2021-03-13 21:17:28,537 : INFO : worker thread finished; awaiting finish of 0 more threads\n",
            "2021-03-13 21:17:28,538 : INFO : EPOCH - 30 : training on 14059602 raw words (10362012 effective words) took 23.7s, 436423 effective words/s\n",
            "2021-03-13 21:17:29,558 : INFO : EPOCH 31 - PROGRESS: at 4.02% examples, 413453 words/s, in_qsize 11, out_qsize 0\n",
            "2021-03-13 21:17:30,562 : INFO : EPOCH 31 - PROGRESS: at 8.27% examples, 427828 words/s, in_qsize 12, out_qsize 0\n",
            "2021-03-13 21:17:31,583 : INFO : EPOCH 31 - PROGRESS: at 12.63% examples, 432147 words/s, in_qsize 11, out_qsize 2\n",
            "2021-03-13 21:17:32,594 : INFO : EPOCH 31 - PROGRESS: at 17.02% examples, 435445 words/s, in_qsize 11, out_qsize 0\n",
            "2021-03-13 21:17:33,597 : INFO : EPOCH 31 - PROGRESS: at 21.35% examples, 436963 words/s, in_qsize 10, out_qsize 1\n",
            "2021-03-13 21:17:34,602 : INFO : EPOCH 31 - PROGRESS: at 25.56% examples, 435899 words/s, in_qsize 11, out_qsize 0\n",
            "2021-03-13 21:17:35,615 : INFO : EPOCH 31 - PROGRESS: at 29.88% examples, 435569 words/s, in_qsize 11, out_qsize 0\n",
            "2021-03-13 21:17:36,623 : INFO : EPOCH 31 - PROGRESS: at 34.14% examples, 434680 words/s, in_qsize 11, out_qsize 0\n",
            "2021-03-13 21:17:37,626 : INFO : EPOCH 31 - PROGRESS: at 38.42% examples, 434750 words/s, in_qsize 11, out_qsize 1\n",
            "2021-03-13 21:17:38,651 : INFO : EPOCH 31 - PROGRESS: at 42.77% examples, 436177 words/s, in_qsize 12, out_qsize 0\n",
            "2021-03-13 21:17:39,657 : INFO : EPOCH 31 - PROGRESS: at 47.05% examples, 437070 words/s, in_qsize 11, out_qsize 0\n",
            "2021-03-13 21:17:40,668 : INFO : EPOCH 31 - PROGRESS: at 51.20% examples, 435523 words/s, in_qsize 10, out_qsize 1\n",
            "2021-03-13 21:17:41,671 : INFO : EPOCH 31 - PROGRESS: at 55.23% examples, 433216 words/s, in_qsize 12, out_qsize 0\n",
            "2021-03-13 21:17:42,674 : INFO : EPOCH 31 - PROGRESS: at 59.31% examples, 433489 words/s, in_qsize 11, out_qsize 0\n",
            "2021-03-13 21:17:43,674 : INFO : EPOCH 31 - PROGRESS: at 63.38% examples, 432299 words/s, in_qsize 11, out_qsize 0\n",
            "2021-03-13 21:17:44,680 : INFO : EPOCH 31 - PROGRESS: at 67.68% examples, 432890 words/s, in_qsize 11, out_qsize 0\n",
            "2021-03-13 21:17:45,704 : INFO : EPOCH 31 - PROGRESS: at 72.05% examples, 433328 words/s, in_qsize 11, out_qsize 0\n",
            "2021-03-13 21:17:46,720 : INFO : EPOCH 31 - PROGRESS: at 76.09% examples, 433050 words/s, in_qsize 11, out_qsize 0\n",
            "2021-03-13 21:17:47,731 : INFO : EPOCH 31 - PROGRESS: at 80.36% examples, 433484 words/s, in_qsize 11, out_qsize 0\n",
            "2021-03-13 21:17:48,742 : INFO : EPOCH 31 - PROGRESS: at 84.38% examples, 432944 words/s, in_qsize 12, out_qsize 1\n",
            "2021-03-13 21:17:49,743 : INFO : EPOCH 31 - PROGRESS: at 88.57% examples, 433129 words/s, in_qsize 12, out_qsize 0\n",
            "2021-03-13 21:17:50,773 : INFO : EPOCH 31 - PROGRESS: at 92.73% examples, 432654 words/s, in_qsize 9, out_qsize 2\n",
            "2021-03-13 21:17:51,774 : INFO : EPOCH 31 - PROGRESS: at 96.93% examples, 432841 words/s, in_qsize 11, out_qsize 0\n",
            "2021-03-13 21:17:52,404 : INFO : worker thread finished; awaiting finish of 5 more threads\n",
            "2021-03-13 21:17:52,426 : INFO : worker thread finished; awaiting finish of 4 more threads\n",
            "2021-03-13 21:17:52,433 : INFO : worker thread finished; awaiting finish of 3 more threads\n",
            "2021-03-13 21:17:52,452 : INFO : worker thread finished; awaiting finish of 2 more threads\n",
            "2021-03-13 21:17:52,456 : INFO : worker thread finished; awaiting finish of 1 more threads\n",
            "2021-03-13 21:17:52,457 : INFO : worker thread finished; awaiting finish of 0 more threads\n",
            "2021-03-13 21:17:52,457 : INFO : EPOCH - 31 : training on 14059602 raw words (10361332 effective words) took 23.9s, 433434 effective words/s\n",
            "2021-03-13 21:17:53,517 : INFO : EPOCH 32 - PROGRESS: at 4.23% examples, 418878 words/s, in_qsize 11, out_qsize 0\n",
            "2021-03-13 21:17:54,572 : INFO : EPOCH 32 - PROGRESS: at 8.76% examples, 433680 words/s, in_qsize 11, out_qsize 0\n",
            "2021-03-13 21:17:55,608 : INFO : EPOCH 32 - PROGRESS: at 13.08% examples, 433609 words/s, in_qsize 11, out_qsize 0\n",
            "2021-03-13 21:17:56,636 : INFO : EPOCH 32 - PROGRESS: at 17.38% examples, 431408 words/s, in_qsize 11, out_qsize 0\n",
            "2021-03-13 21:17:57,657 : INFO : EPOCH 32 - PROGRESS: at 21.81% examples, 435147 words/s, in_qsize 11, out_qsize 0\n",
            "2021-03-13 21:17:58,659 : INFO : EPOCH 32 - PROGRESS: at 26.16% examples, 435740 words/s, in_qsize 11, out_qsize 0\n",
            "2021-03-13 21:17:59,685 : INFO : EPOCH 32 - PROGRESS: at 30.35% examples, 433689 words/s, in_qsize 11, out_qsize 0\n",
            "2021-03-13 21:18:00,694 : INFO : EPOCH 32 - PROGRESS: at 34.50% examples, 431198 words/s, in_qsize 9, out_qsize 2\n",
            "2021-03-13 21:18:01,709 : INFO : EPOCH 32 - PROGRESS: at 39.05% examples, 434196 words/s, in_qsize 11, out_qsize 0\n",
            "2021-03-13 21:18:02,725 : INFO : EPOCH 32 - PROGRESS: at 43.04% examples, 432568 words/s, in_qsize 11, out_qsize 0\n",
            "2021-03-13 21:18:03,774 : INFO : EPOCH 32 - PROGRESS: at 47.30% examples, 431457 words/s, in_qsize 12, out_qsize 0\n",
            "2021-03-13 21:18:04,795 : INFO : EPOCH 32 - PROGRESS: at 51.69% examples, 432345 words/s, in_qsize 11, out_qsize 0\n",
            "2021-03-13 21:18:05,811 : INFO : EPOCH 32 - PROGRESS: at 55.95% examples, 432161 words/s, in_qsize 10, out_qsize 1\n",
            "2021-03-13 21:18:06,811 : INFO : EPOCH 32 - PROGRESS: at 60.34% examples, 434071 words/s, in_qsize 11, out_qsize 0\n",
            "2021-03-13 21:18:07,817 : INFO : EPOCH 32 - PROGRESS: at 64.63% examples, 434157 words/s, in_qsize 12, out_qsize 0\n",
            "2021-03-13 21:18:08,818 : INFO : EPOCH 32 - PROGRESS: at 68.79% examples, 434237 words/s, in_qsize 11, out_qsize 0\n",
            "2021-03-13 21:18:09,824 : INFO : EPOCH 32 - PROGRESS: at 72.81% examples, 432990 words/s, in_qsize 11, out_qsize 0\n",
            "2021-03-13 21:18:10,842 : INFO : EPOCH 32 - PROGRESS: at 76.89% examples, 432690 words/s, in_qsize 10, out_qsize 1\n",
            "2021-03-13 21:18:11,848 : INFO : EPOCH 32 - PROGRESS: at 81.12% examples, 433858 words/s, in_qsize 11, out_qsize 0\n",
            "2021-03-13 21:18:12,876 : INFO : EPOCH 32 - PROGRESS: at 85.28% examples, 433078 words/s, in_qsize 10, out_qsize 1\n",
            "2021-03-13 21:18:13,878 : INFO : EPOCH 32 - PROGRESS: at 89.40% examples, 432884 words/s, in_qsize 12, out_qsize 0\n",
            "2021-03-13 21:18:14,885 : INFO : EPOCH 32 - PROGRESS: at 93.73% examples, 433536 words/s, in_qsize 11, out_qsize 0\n",
            "2021-03-13 21:18:15,909 : INFO : EPOCH 32 - PROGRESS: at 98.06% examples, 433592 words/s, in_qsize 11, out_qsize 1\n",
            "2021-03-13 21:18:16,289 : INFO : worker thread finished; awaiting finish of 5 more threads\n",
            "2021-03-13 21:18:16,315 : INFO : worker thread finished; awaiting finish of 4 more threads\n",
            "2021-03-13 21:18:16,321 : INFO : worker thread finished; awaiting finish of 3 more threads\n",
            "2021-03-13 21:18:16,329 : INFO : worker thread finished; awaiting finish of 2 more threads\n",
            "2021-03-13 21:18:16,333 : INFO : worker thread finished; awaiting finish of 1 more threads\n",
            "2021-03-13 21:18:16,337 : INFO : worker thread finished; awaiting finish of 0 more threads\n",
            "2021-03-13 21:18:16,338 : INFO : EPOCH - 32 : training on 14059602 raw words (10362625 effective words) took 23.9s, 434199 effective words/s\n",
            "2021-03-13 21:18:16,339 : INFO : training on a 449907264 raw words (331577049 effective words) took 763.5s, 434314 effective words/s\n"
          ],
          "name": "stderr"
        },
        {
          "output_type": "stream",
          "text": [
            "CPU times: user 24min 47s, sys: 6.72 s, total: 24min 54s\n",
            "Wall time: 12min 43s\n"
          ],
          "name": "stdout"
        },
        {
          "output_type": "execute_result",
          "data": {
            "text/plain": [
              "(331577049, 449907264)"
            ]
          },
          "metadata": {
            "tags": []
          },
          "execution_count": 26
        }
      ]
    },
    {
      "cell_type": "code",
      "metadata": {
        "colab": {
          "base_uri": "https://localhost:8080/"
        },
        "id": "TMz3Rf13Kx_-",
        "scrolled": true,
        "outputId": "9e40aa16-3610-406c-81ad-7cce7d45a848"
      },
      "source": [
        "w2v_model.most_similar(\"love\")"
      ],
      "execution_count": 27,
      "outputs": [
        {
          "output_type": "stream",
          "text": [
            "/usr/local/lib/python3.7/dist-packages/ipykernel_launcher.py:1: DeprecationWarning: Call to deprecated `most_similar` (Method will be removed in 4.0.0, use self.wv.most_similar() instead).\n",
            "  \"\"\"Entry point for launching an IPython kernel.\n",
            "2021-03-13 21:29:21,368 : INFO : precomputing L2-norms of word weight vectors\n"
          ],
          "name": "stderr"
        },
        {
          "output_type": "execute_result",
          "data": {
            "text/plain": [
              "[('hate', 0.6941418051719666),\n",
              " ('Love', 0.6532096862792969),\n",
              " ('loved', 0.6502095460891724),\n",
              " ('enjoy', 0.6480669379234314),\n",
              " ('adore', 0.6168540716171265),\n",
              " ('liked', 0.5942255258560181),\n",
              " ('LOVE', 0.5731377601623535),\n",
              " ('dislike', 0.5296758413314819),\n",
              " ('luv', 0.5292836427688599),\n",
              " ('enjoyed', 0.4925728440284729)]"
            ]
          },
          "metadata": {
            "tags": []
          },
          "execution_count": 27
        }
      ]
    },
    {
      "cell_type": "code",
      "metadata": {
        "colab": {
          "base_uri": "https://localhost:8080/"
        },
        "id": "Zh09BB1EKx_-",
        "scrolled": true,
        "outputId": "4c6bfa4e-34eb-4e78-86b8-b9bc018b150b"
      },
      "source": [
        "w2v_model.most_similar(\"fun\")"
      ],
      "execution_count": 28,
      "outputs": [
        {
          "output_type": "stream",
          "text": [
            "/usr/local/lib/python3.7/dist-packages/ipykernel_launcher.py:1: DeprecationWarning: Call to deprecated `most_similar` (Method will be removed in 4.0.0, use self.wv.most_similar() instead).\n",
            "  \"\"\"Entry point for launching an IPython kernel.\n"
          ],
          "name": "stderr"
        },
        {
          "output_type": "execute_result",
          "data": {
            "text/plain": [
              "[('fun.', 0.7215197086334229),\n",
              " ('enjoyable', 0.7023166418075562),\n",
              " ('fun!', 0.6535427570343018),\n",
              " ('blast', 0.5873757004737854),\n",
              " ('funny', 0.5837901830673218),\n",
              " ('entertaining', 0.576908528804779),\n",
              " ('great', 0.5548355579376221),\n",
              " ('good', 0.5437201261520386),\n",
              " ('boring', 0.528954267501831),\n",
              " ('fun...', 0.5275879502296448)]"
            ]
          },
          "metadata": {
            "tags": []
          },
          "execution_count": 28
        }
      ]
    },
    {
      "cell_type": "code",
      "metadata": {
        "colab": {
          "base_uri": "https://localhost:8080/"
        },
        "id": "Xp_u1Wa8Kx_-",
        "scrolled": true,
        "outputId": "ca393ae6-01b5-41a2-a353-4cd508acdb36"
      },
      "source": [
        "w2v_model.most_similar(\"exciting\")"
      ],
      "execution_count": 29,
      "outputs": [
        {
          "output_type": "stream",
          "text": [
            "/usr/local/lib/python3.7/dist-packages/ipykernel_launcher.py:1: DeprecationWarning: Call to deprecated `most_similar` (Method will be removed in 4.0.0, use self.wv.most_similar() instead).\n",
            "  \"\"\"Entry point for launching an IPython kernel.\n"
          ],
          "name": "stderr"
        },
        {
          "output_type": "execute_result",
          "data": {
            "text/plain": [
              "[('entertaining', 0.6656864881515503),\n",
              " ('intense', 0.660645067691803),\n",
              " ('interesting', 0.6270351409912109),\n",
              " ('thrilling', 0.6258715391159058),\n",
              " ('tense', 0.6205111145973206),\n",
              " ('enjoyable', 0.6112058162689209),\n",
              " ('engaging', 0.5913442969322205),\n",
              " ('challenging', 0.5809884667396545),\n",
              " ('addictive', 0.560731053352356),\n",
              " ('immersive', 0.5580490827560425)]"
            ]
          },
          "metadata": {
            "tags": []
          },
          "execution_count": 29
        }
      ]
    },
    {
      "cell_type": "code",
      "metadata": {
        "colab": {
          "base_uri": "https://localhost:8080/"
        },
        "id": "hMaVKWldKx__",
        "outputId": "01c4dd68-c700-4dc1-9757-b563f40f0489"
      },
      "source": [
        "w2v_model.most_similar(\"sucks\")"
      ],
      "execution_count": 30,
      "outputs": [
        {
          "output_type": "stream",
          "text": [
            "/usr/local/lib/python3.7/dist-packages/ipykernel_launcher.py:1: DeprecationWarning: Call to deprecated `most_similar` (Method will be removed in 4.0.0, use self.wv.most_similar() instead).\n",
            "  \"\"\"Entry point for launching an IPython kernel.\n"
          ],
          "name": "stderr"
        },
        {
          "output_type": "execute_result",
          "data": {
            "text/plain": [
              "[('sucks.', 0.6206700801849365),\n",
              " ('suck', 0.48802563548088074),\n",
              " ('sux', 0.48747187852859497),\n",
              " ('hurts', 0.4376883804798126),\n",
              " ('ruins', 0.4221021831035614),\n",
              " ('sucks...', 0.4079853892326355),\n",
              " ('suck.', 0.37858861684799194),\n",
              " ('Sucks', 0.36644458770751953),\n",
              " ('hate', 0.36272937059402466),\n",
              " ('lags', 0.359108030796051)]"
            ]
          },
          "metadata": {
            "tags": []
          },
          "execution_count": 30
        }
      ]
    },
    {
      "cell_type": "code",
      "metadata": {
        "colab": {
          "base_uri": "https://localhost:8080/"
        },
        "id": "m3NEU6ox8Frm",
        "outputId": "ccaad677-39b8-42cc-bab3-791734dca1a6"
      },
      "source": [
        "w2v_model.most_similar(\"hate\")"
      ],
      "execution_count": 31,
      "outputs": [
        {
          "output_type": "stream",
          "text": [
            "/usr/local/lib/python3.7/dist-packages/ipykernel_launcher.py:1: DeprecationWarning: Call to deprecated `most_similar` (Method will be removed in 4.0.0, use self.wv.most_similar() instead).\n",
            "  \"\"\"Entry point for launching an IPython kernel.\n"
          ],
          "name": "stderr"
        },
        {
          "output_type": "execute_result",
          "data": {
            "text/plain": [
              "[('love', 0.6941418051719666),\n",
              " ('dislike', 0.6425459384918213),\n",
              " ('despise', 0.5355886220932007),\n",
              " ('hated', 0.5269489288330078),\n",
              " ('suck', 0.4887895882129669),\n",
              " ('enjoy', 0.48662248253822327),\n",
              " ('HATE', 0.4845544695854187),\n",
              " ('hates', 0.45592963695526123),\n",
              " ('liked', 0.4444247782230377),\n",
              " ('loved', 0.4357396364212036)]"
            ]
          },
          "metadata": {
            "tags": []
          },
          "execution_count": 31
        }
      ]
    },
    {
      "cell_type": "markdown",
      "metadata": {
        "id": "8dpQhsCdKx__"
      },
      "source": [
        "# Tokenize Text"
      ]
    },
    {
      "cell_type": "code",
      "metadata": {
        "colab": {
          "base_uri": "https://localhost:8080/"
        },
        "id": "wQpVunSZKx__",
        "outputId": "7cce857f-f772-4050-e193-7c4b5940e444"
      },
      "source": [
        "%%time\n",
        "tokenizer = Tokenizer()\n",
        "tokenizer.fit_on_texts(df_train.text)\n",
        "\n",
        "vocab_size = len(tokenizer.word_index) + 1\n",
        "print(\"Total words\", vocab_size)"
      ],
      "execution_count": 32,
      "outputs": [
        {
          "output_type": "stream",
          "text": [
            "Total words 196286\n",
            "CPU times: user 10.1 s, sys: 46 ms, total: 10.1 s\n",
            "Wall time: 10.1 s\n"
          ],
          "name": "stdout"
        }
      ]
    },
    {
      "cell_type": "code",
      "metadata": {
        "colab": {
          "base_uri": "https://localhost:8080/"
        },
        "id": "6XtgRdIkKx__",
        "outputId": "64adea1f-b97a-46ca-9d1f-27ee52a37ae6"
      },
      "source": [
        "%%time\n",
        "x_train = pad_sequences(tokenizer.texts_to_sequences(df_train.text), maxlen=SEQUENCE_LENGTH)\n",
        "x_test = pad_sequences(tokenizer.texts_to_sequences(df_test.text), maxlen=SEQUENCE_LENGTH)"
      ],
      "execution_count": 33,
      "outputs": [
        {
          "output_type": "stream",
          "text": [
            "CPU times: user 12.1 s, sys: 178 ms, total: 12.3 s\n",
            "Wall time: 12.3 s\n"
          ],
          "name": "stdout"
        }
      ]
    },
    {
      "cell_type": "markdown",
      "metadata": {
        "id": "pMjCDdjeKyAA"
      },
      "source": [
        "# Label Encoder"
      ]
    },
    {
      "cell_type": "code",
      "metadata": {
        "id": "odUTPyhrgGew"
      },
      "source": [
        ""
      ],
      "execution_count": null,
      "outputs": []
    },
    {
      "cell_type": "code",
      "metadata": {
        "colab": {
          "base_uri": "https://localhost:8080/"
        },
        "id": "lIYAEBbeKyAA",
        "outputId": "17890cc3-6b6e-4e86-f4f7-37e1d18f03aa"
      },
      "source": [
        "labels = df_train.target.unique().tolist()\n",
        "# labels.append(NEUTRAL)\n",
        "labels"
      ],
      "execution_count": 35,
      "outputs": [
        {
          "output_type": "execute_result",
          "data": {
            "text/plain": [
              "['RECOMMENDED', 'NOT RECOMMENDED']"
            ]
          },
          "metadata": {
            "tags": []
          },
          "execution_count": 35
        }
      ]
    },
    {
      "cell_type": "code",
      "metadata": {
        "colab": {
          "base_uri": "https://localhost:8080/"
        },
        "id": "vREZUPqyKyAA",
        "outputId": "1cf2523f-4406-463c-dcfa-1a667057fe40"
      },
      "source": [
        "encoder = LabelEncoder()\n",
        "encoder.fit(df_train.target.tolist())\n",
        "\n",
        "y_train = encoder.transform(df_train.target.tolist())\n",
        "y_test = encoder.transform(df_test.target.tolist())\n",
        "\n",
        "y_train = y_train.reshape(-1,1)\n",
        "y_test = y_test.reshape(-1,1)\n",
        "\n",
        "print(\"y_train\",y_train.shape)\n",
        "print(\"y_test\",y_test.shape)"
      ],
      "execution_count": 36,
      "outputs": [
        {
          "output_type": "stream",
          "text": [
            "y_train (346700, 1)\n",
            "y_test (86675, 1)\n"
          ],
          "name": "stdout"
        }
      ]
    },
    {
      "cell_type": "code",
      "metadata": {
        "colab": {
          "base_uri": "https://localhost:8080/"
        },
        "id": "9fioElx2KyAA",
        "outputId": "1807696d-3bd3-464d-c418-60793b483925"
      },
      "source": [
        "print(\"x_train\", x_train.shape)\n",
        "print(\"y_train\", y_train.shape)\n",
        "print()\n",
        "print(\"x_test\", x_test.shape)\n",
        "print(\"y_test\", y_test.shape)"
      ],
      "execution_count": 37,
      "outputs": [
        {
          "output_type": "stream",
          "text": [
            "x_train (346700, 300)\n",
            "y_train (346700, 1)\n",
            "\n",
            "x_test (86675, 300)\n",
            "y_test (86675, 1)\n"
          ],
          "name": "stdout"
        }
      ]
    },
    {
      "cell_type": "code",
      "metadata": {
        "colab": {
          "base_uri": "https://localhost:8080/"
        },
        "id": "toeg0s62KyAB",
        "outputId": "903cdede-0d55-47e7-856b-447cf54e5849"
      },
      "source": [
        "y_train[:10]"
      ],
      "execution_count": 38,
      "outputs": [
        {
          "output_type": "execute_result",
          "data": {
            "text/plain": [
              "array([[1],\n",
              "       [1],\n",
              "       [1],\n",
              "       [0],\n",
              "       [0],\n",
              "       [1],\n",
              "       [1],\n",
              "       [1],\n",
              "       [1],\n",
              "       [1]])"
            ]
          },
          "metadata": {
            "tags": []
          },
          "execution_count": 38
        }
      ]
    },
    {
      "cell_type": "markdown",
      "metadata": {
        "id": "zKZzaTc6KyAB"
      },
      "source": [
        "# Embedding Layer"
      ]
    },
    {
      "cell_type": "code",
      "metadata": {
        "colab": {
          "base_uri": "https://localhost:8080/"
        },
        "id": "vlXTlBNcKyAB",
        "outputId": "36c89ddb-0694-4493-ddc5-4edf939b05a9"
      },
      "source": [
        "embedding_matrix = np.zeros((vocab_size, W2V_SIZE))\n",
        "for word, i in tokenizer.word_index.items():\n",
        "  if word in w2v_model.wv:\n",
        "    embedding_matrix[i] = w2v_model.wv[word]\n",
        "print(embedding_matrix.shape)"
      ],
      "execution_count": 39,
      "outputs": [
        {
          "output_type": "stream",
          "text": [
            "(196286, 300)\n"
          ],
          "name": "stdout"
        }
      ]
    },
    {
      "cell_type": "code",
      "metadata": {
        "id": "31e4yjZMKyAC"
      },
      "source": [
        "embedding_layer = Embedding(vocab_size, W2V_SIZE, weights=[embedding_matrix], input_length=SEQUENCE_LENGTH, trainable=False)"
      ],
      "execution_count": 40,
      "outputs": []
    },
    {
      "cell_type": "markdown",
      "metadata": {
        "id": "F6Z9Dr1-KyAC"
      },
      "source": [
        "# Build Model"
      ]
    },
    {
      "cell_type": "code",
      "metadata": {
        "colab": {
          "base_uri": "https://localhost:8080/"
        },
        "id": "y8dRjD60KyAC",
        "outputId": "a835aac2-0e60-4bec-a648-bf7a55c4f716"
      },
      "source": [
        "model = Sequential()\n",
        "model.add(embedding_layer)\n",
        "model.add(Dropout(0.5))\n",
        "model.add(LSTM(100, dropout=0.2, recurrent_dropout=0.2))\n",
        "model.add(Dense(1, activation='sigmoid'))\n",
        "\n",
        "model.summary()"
      ],
      "execution_count": 45,
      "outputs": [
        {
          "output_type": "stream",
          "text": [
            "WARNING:tensorflow:Layer lstm_1 will not use cuDNN kernel since it doesn't meet the cuDNN kernel criteria. It will use generic GPU kernel as fallback when running on GPU\n"
          ],
          "name": "stdout"
        },
        {
          "output_type": "stream",
          "text": [
            "2021-03-13 21:31:07,028 : WARNING : Layer lstm_1 will not use cuDNN kernel since it doesn't meet the cuDNN kernel criteria. It will use generic GPU kernel as fallback when running on GPU\n"
          ],
          "name": "stderr"
        },
        {
          "output_type": "stream",
          "text": [
            "Model: \"sequential_1\"\n",
            "_________________________________________________________________\n",
            "Layer (type)                 Output Shape              Param #   \n",
            "=================================================================\n",
            "embedding (Embedding)        (None, 300, 300)          58885800  \n",
            "_________________________________________________________________\n",
            "dropout_1 (Dropout)          (None, 300, 300)          0         \n",
            "_________________________________________________________________\n",
            "lstm_1 (LSTM)                (None, 100)               160400    \n",
            "_________________________________________________________________\n",
            "dense_1 (Dense)              (None, 1)                 101       \n",
            "=================================================================\n",
            "Total params: 59,046,301\n",
            "Trainable params: 160,501\n",
            "Non-trainable params: 58,885,800\n",
            "_________________________________________________________________\n"
          ],
          "name": "stdout"
        }
      ]
    },
    {
      "cell_type": "markdown",
      "metadata": {
        "id": "DIDZNFFcKyAC"
      },
      "source": [
        "# Compile Model"
      ]
    },
    {
      "cell_type": "code",
      "metadata": {
        "id": "soe_Cck2KyAD"
      },
      "source": [
        "model.compile(loss='binary_crossentropy',\n",
        "              optimizer=\"adam\",\n",
        "              metrics=['accuracy'])"
      ],
      "execution_count": 47,
      "outputs": []
    },
    {
      "cell_type": "markdown",
      "metadata": {
        "id": "PK6qC7m7KyAD"
      },
      "source": [
        "# Callbacks"
      ]
    },
    {
      "cell_type": "code",
      "metadata": {
        "id": "2JeljzvbKyAD"
      },
      "source": [
        "callbacks = [ ReduceLROnPlateau(monitor='val_loss', patience=5, cooldown=0),\n",
        "              EarlyStopping(monitor='val_acc', min_delta=1e-4, patience=5)]"
      ],
      "execution_count": 48,
      "outputs": []
    },
    {
      "cell_type": "markdown",
      "metadata": {
        "id": "wIPYhoYjKyAD"
      },
      "source": [
        "# Train"
      ]
    },
    {
      "cell_type": "code",
      "metadata": {
        "colab": {
          "base_uri": "https://localhost:8080/"
        },
        "id": "DUxXG-nRKyAE",
        "scrolled": true,
        "outputId": "76edfde3-51be-49d3-d622-d4ccba3fde9a"
      },
      "source": [
        "%%time\n",
        "history = model.fit(x_train, y_train,\n",
        "                    batch_size=BATCH_SIZE,\n",
        "                    epochs=EPOCHS,\n",
        "                    validation_split=0.1,\n",
        "                    verbose=1,\n",
        "                    callbacks=callbacks)"
      ],
      "execution_count": 49,
      "outputs": [
        {
          "output_type": "stream",
          "text": [
            "Epoch 1/6\n",
            "305/305 [==============================] - 323s 1s/step - loss: 0.4594 - accuracy: 0.7712 - val_loss: 0.3317 - val_accuracy: 0.8609\n",
            "WARNING:tensorflow:Early stopping conditioned on metric `val_acc` which is not available. Available metrics are: loss,accuracy,val_loss,val_accuracy,lr\n"
          ],
          "name": "stdout"
        },
        {
          "output_type": "stream",
          "text": [
            "2021-03-13 21:36:41,351 : WARNING : Early stopping conditioned on metric `val_acc` which is not available. Available metrics are: loss,accuracy,val_loss,val_accuracy,lr\n"
          ],
          "name": "stderr"
        },
        {
          "output_type": "stream",
          "text": [
            "Epoch 2/6\n",
            "305/305 [==============================] - 312s 1s/step - loss: 0.3225 - accuracy: 0.8594 - val_loss: 0.3003 - val_accuracy: 0.8742\n",
            "WARNING:tensorflow:Early stopping conditioned on metric `val_acc` which is not available. Available metrics are: loss,accuracy,val_loss,val_accuracy,lr\n"
          ],
          "name": "stdout"
        },
        {
          "output_type": "stream",
          "text": [
            "2021-03-13 21:41:53,363 : WARNING : Early stopping conditioned on metric `val_acc` which is not available. Available metrics are: loss,accuracy,val_loss,val_accuracy,lr\n"
          ],
          "name": "stderr"
        },
        {
          "output_type": "stream",
          "text": [
            "Epoch 3/6\n",
            "305/305 [==============================] - 316s 1s/step - loss: 0.3045 - accuracy: 0.8675 - val_loss: 0.2942 - val_accuracy: 0.8798\n",
            "WARNING:tensorflow:Early stopping conditioned on metric `val_acc` which is not available. Available metrics are: loss,accuracy,val_loss,val_accuracy,lr\n"
          ],
          "name": "stdout"
        },
        {
          "output_type": "stream",
          "text": [
            "2021-03-13 21:47:09,826 : WARNING : Early stopping conditioned on metric `val_acc` which is not available. Available metrics are: loss,accuracy,val_loss,val_accuracy,lr\n"
          ],
          "name": "stderr"
        },
        {
          "output_type": "stream",
          "text": [
            "Epoch 4/6\n",
            "305/305 [==============================] - 310s 1s/step - loss: 0.2940 - accuracy: 0.8732 - val_loss: 0.2776 - val_accuracy: 0.8852\n",
            "WARNING:tensorflow:Early stopping conditioned on metric `val_acc` which is not available. Available metrics are: loss,accuracy,val_loss,val_accuracy,lr\n"
          ],
          "name": "stdout"
        },
        {
          "output_type": "stream",
          "text": [
            "2021-03-13 21:52:19,739 : WARNING : Early stopping conditioned on metric `val_acc` which is not available. Available metrics are: loss,accuracy,val_loss,val_accuracy,lr\n"
          ],
          "name": "stderr"
        },
        {
          "output_type": "stream",
          "text": [
            "Epoch 5/6\n",
            "305/305 [==============================] - 308s 1s/step - loss: 0.2836 - accuracy: 0.8779 - val_loss: 0.2749 - val_accuracy: 0.8858\n",
            "WARNING:tensorflow:Early stopping conditioned on metric `val_acc` which is not available. Available metrics are: loss,accuracy,val_loss,val_accuracy,lr\n"
          ],
          "name": "stdout"
        },
        {
          "output_type": "stream",
          "text": [
            "2021-03-13 21:57:27,350 : WARNING : Early stopping conditioned on metric `val_acc` which is not available. Available metrics are: loss,accuracy,val_loss,val_accuracy,lr\n"
          ],
          "name": "stderr"
        },
        {
          "output_type": "stream",
          "text": [
            "Epoch 6/6\n",
            "305/305 [==============================] - 305s 1000ms/step - loss: 0.2786 - accuracy: 0.8809 - val_loss: 0.2747 - val_accuracy: 0.8876\n",
            "WARNING:tensorflow:Early stopping conditioned on metric `val_acc` which is not available. Available metrics are: loss,accuracy,val_loss,val_accuracy,lr\n"
          ],
          "name": "stdout"
        },
        {
          "output_type": "stream",
          "text": [
            "2021-03-13 22:02:32,236 : WARNING : Early stopping conditioned on metric `val_acc` which is not available. Available metrics are: loss,accuracy,val_loss,val_accuracy,lr\n"
          ],
          "name": "stderr"
        },
        {
          "output_type": "stream",
          "text": [
            "CPU times: user 44min 14s, sys: 5min 56s, total: 50min 10s\n",
            "Wall time: 31min 13s\n"
          ],
          "name": "stdout"
        }
      ]
    },
    {
      "cell_type": "markdown",
      "metadata": {
        "id": "w-i-RRIzKyAE"
      },
      "source": [
        "# Evaluate"
      ]
    },
    {
      "cell_type": "code",
      "metadata": {
        "id": "EopKZD5fKyAE",
        "colab": {
          "base_uri": "https://localhost:8080/"
        },
        "outputId": "4eaa955f-3ef9-474c-f5fe-5038e028034c"
      },
      "source": [
        "%%time\n",
        "score = model.evaluate(x_test, y_test, batch_size=BATCH_SIZE)\n",
        "print()\n",
        "print(\"ACCURACY:\",score[1])\n",
        "print(\"LOSS:\",score[0])"
      ],
      "execution_count": 50,
      "outputs": [
        {
          "output_type": "stream",
          "text": [
            "85/85 [==============================] - 14s 165ms/step - loss: 0.2765 - accuracy: 0.8866\n",
            "\n",
            "ACCURACY: 0.8865993618965149\n",
            "LOSS: 0.27653422951698303\n",
            "CPU times: user 12.9 s, sys: 702 ms, total: 13.6 s\n",
            "Wall time: 14.2 s\n"
          ],
          "name": "stdout"
        }
      ]
    },
    {
      "cell_type": "markdown",
      "metadata": {
        "id": "sSZLD5PSKyAE"
      },
      "source": [
        "# Plot"
      ]
    },
    {
      "cell_type": "code",
      "metadata": {
        "id": "2qYTifuFKyAE",
        "colab": {
          "base_uri": "https://localhost:8080/",
          "height": 545
        },
        "outputId": "e08a3b93-c85e-4abe-c0ef-a2f7158c158c"
      },
      "source": [
        "accuracy = history.history['accuracy']\n",
        "val_accuracy = history.history['val_accuracy']\n",
        "loss = history.history['loss']\n",
        "val_loss = history.history['val_loss']\n",
        " \n",
        "epochs = range(len(accuracy))\n",
        " \n",
        "plt.plot(epochs, accuracy, 'b', label='Training acc')\n",
        "plt.plot(epochs, val_accuracy, 'r', label='Validation acc')\n",
        "plt.title('Training and validation accuracy')\n",
        "plt.legend()\n",
        " \n",
        "plt.figure()\n",
        " \n",
        "plt.plot(epochs, loss, 'b', label='Training loss')\n",
        "plt.plot(epochs, val_loss, 'r', label='Validation loss')\n",
        "plt.title('Training and validation loss')\n",
        "plt.legend()\n",
        " \n",
        "plt.show()"
      ],
      "execution_count": 51,
      "outputs": [
        {
          "output_type": "display_data",
          "data": {
            "image/png": "[encoded data removed]",
            "text/plain": [
              "<Figure size 432x288 with 1 Axes>"
            ]
          },
          "metadata": {
            "tags": [],
            "needs_background": "light"
          }
        },
        {
          "output_type": "display_data",
          "data": {
            "image/png": "[encoded data removed]",
            "text/plain": [
              "<Figure size 432x288 with 1 Axes>"
            ]
          },
          "metadata": {
            "tags": [],
            "needs_background": "light"
          }
        }
      ]
    },
    {
      "cell_type": "markdown",
      "metadata": {
        "id": "4eSsZ9BfKyAF"
      },
      "source": [
        "# Predict"
      ]
    },
    {
      "cell_type": "code",
      "metadata": {
        "id": "ByMQyeC-KyAF"
      },
      "source": [
        "def decode_sentiment(score, include_neutral=True):\n",
        "    if include_neutral:        \n",
        "        label = NEUTRAL\n",
        "        if score <= SENTIMENT_THRESHOLDS[0]:\n",
        "            label = NOT_RECOMMENDED\n",
        "        elif score >= SENTIMENT_THRESHOLDS[1]:\n",
        "            label = RECOMMENDED\n",
        "\n",
        "        return label\n",
        "    else:\n",
        "          return NOT_RECOMMENDED if score < 0.5 else RECOMMENDED"
      ],
      "execution_count": 52,
      "outputs": []
    },
    {
      "cell_type": "code",
      "metadata": {
        "id": "OmaTz8ViKyAF"
      },
      "source": [
        "def predict(text, include_neutral=True):\n",
        "    start_at = time.time()\n",
        "    # Tokenize text\n",
        "    x_test = pad_sequences(tokenizer.texts_to_sequences([text]), maxlen=SEQUENCE_LENGTH)\n",
        "    # Predict\n",
        "    score = model.predict([x_test])[0]\n",
        "    # Decode sentiment\n",
        "    label = decode_sentiment(score, include_neutral=include_neutral)\n",
        "\n",
        "    return {\"label\": label, \"score\": float(score),\n",
        "       \"elapsed_time\": time.time()-start_at}  "
      ],
      "execution_count": 53,
      "outputs": []
    },
    {
      "cell_type": "code",
      "metadata": {
        "id": "fW91EXiPKyAF",
        "colab": {
          "base_uri": "https://localhost:8080/"
        },
        "outputId": "56659b5a-f973-4921-f88a-1964f9e6043d"
      },
      "source": [
        "predict(\"I Love This!\")"
      ],
      "execution_count": 54,
      "outputs": [
        {
          "output_type": "execute_result",
          "data": {
            "text/plain": [
              "{'elapsed_time': 0.2920677661895752,\n",
              " 'label': 'RECOMMENDED',\n",
              " 'score': 0.9873477220535278}"
            ]
          },
          "metadata": {
            "tags": []
          },
          "execution_count": 54
        }
      ]
    },
    {
      "cell_type": "code",
      "metadata": {
        "id": "x9uHTuleKyAG",
        "colab": {
          "base_uri": "https://localhost:8080/"
        },
        "outputId": "0610f58b-0617-4e15-edcb-a70282e5360f"
      },
      "source": [
        "predict(\"I REALLY hate this thing\")"
      ],
      "execution_count": 55,
      "outputs": [
        {
          "output_type": "execute_result",
          "data": {
            "text/plain": [
              "{'elapsed_time': 0.09389424324035645,\n",
              " 'label': 'NEUTRAL',\n",
              " 'score': 0.6032214760780334}"
            ]
          },
          "metadata": {
            "tags": []
          },
          "execution_count": 55
        }
      ]
    },
    {
      "cell_type": "code",
      "metadata": {
        "id": "vO4QCWDOKyAH",
        "colab": {
          "base_uri": "https://localhost:8080/"
        },
        "outputId": "dcf00334-9ebd-42c6-af28-dee10dadc30d"
      },
      "source": [
        "predict(\"i don't know what i'm doing\")"
      ],
      "execution_count": 56,
      "outputs": [
        {
          "output_type": "execute_result",
          "data": {
            "text/plain": [
              "{'elapsed_time': 0.0924525260925293,\n",
              " 'label': 'RECOMMENDED',\n",
              " 'score': 0.8754724264144897}"
            ]
          },
          "metadata": {
            "tags": []
          },
          "execution_count": 56
        }
      ]
    },
    {
      "cell_type": "code",
      "metadata": {
        "colab": {
          "base_uri": "https://localhost:8080/"
        },
        "id": "1tr3w1l-6qoH",
        "outputId": "ca0a8cc5-666a-4af5-87c1-277a4964f990"
      },
      "source": [
        "predict(\"shit\")"
      ],
      "execution_count": 57,
      "outputs": [
        {
          "output_type": "execute_result",
          "data": {
            "text/plain": [
              "{'elapsed_time': 0.09369444847106934,\n",
              " 'label': 'NOT RECOMMENDED',\n",
              " 'score': 0.3145761489868164}"
            ]
          },
          "metadata": {
            "tags": []
          },
          "execution_count": 57
        }
      ]
    },
    {
      "cell_type": "code",
      "metadata": {
        "colab": {
          "base_uri": "https://localhost:8080/"
        },
        "id": "KbgFap8H6uNj",
        "outputId": "7661b7d7-49f8-4b6b-d0a4-606ba2d62242"
      },
      "source": [
        "predict(\"this game sucks\")"
      ],
      "execution_count": 58,
      "outputs": [
        {
          "output_type": "execute_result",
          "data": {
            "text/plain": [
              "{'elapsed_time': 0.09343886375427246,\n",
              " 'label': 'NOT RECOMMENDED',\n",
              " 'score': 0.09722422808408737}"
            ]
          },
          "metadata": {
            "tags": []
          },
          "execution_count": 58
        }
      ]
    },
    {
      "cell_type": "code",
      "metadata": {
        "colab": {
          "base_uri": "https://localhost:8080/"
        },
        "id": "jvETwB-H6yyl",
        "outputId": "488f820b-c312-4128-d054-9b830a7e6e4d"
      },
      "source": [
        "predict(\"Game released now so i'd thought it would be best if i edit my review.Vaulting is very solid and fun but the game developers have not fixed the real issue with the game.The Netcode Servers of PUBG are still running 15hz while good servers are supposed to run 65hz.The server performance is clearly noticable while playing the game you get shot after you get in cover. Damage takes a while to go into effect. Example I quickly peek another player and shoot him. He looks up but i duck into cover again. He shoots and a second after the shot i get hit in the head while i was in cover. This gunfight was CQB so there is no excuse for this slow bullettravel and hitbox issue.This game will not feel solid and after 200 hours the fun of winning doesn't feel like a reward. Its core issues arent being worked on or resolved so i don't see PUBG being a longtime favorite for most people\")"
      ],
      "execution_count": 59,
      "outputs": [
        {
          "output_type": "execute_result",
          "data": {
            "text/plain": [
              "{'elapsed_time': 0.09779882431030273,\n",
              " 'label': 'NOT RECOMMENDED',\n",
              " 'score': 0.28888794779777527}"
            ]
          },
          "metadata": {
            "tags": []
          },
          "execution_count": 59
        }
      ]
    },
    {
      "cell_type": "code",
      "metadata": {
        "colab": {
          "base_uri": "https://localhost:8080/"
        },
        "id": "LRR7n6kM62-0",
        "outputId": "7e099a6d-430e-480b-95bf-712e51cb857d"
      },
      "source": [
        "predict(\"Currently the best Battle Royale out there\")"
      ],
      "execution_count": 60,
      "outputs": [
        {
          "output_type": "execute_result",
          "data": {
            "text/plain": [
              "{'elapsed_time': 0.09186816215515137,\n",
              " 'label': 'RECOMMENDED',\n",
              " 'score': 0.9983716607093811}"
            ]
          },
          "metadata": {
            "tags": []
          },
          "execution_count": 60
        }
      ]
    },
    {
      "cell_type": "code",
      "metadata": {
        "colab": {
          "base_uri": "https://localhost:8080/"
        },
        "id": "KBjF0et-P_2L",
        "outputId": "47e44ab8-34f9-4f85-f3d3-4b4b2ce49191"
      },
      "source": [
        "predict(\"I had fun and will play again\")"
      ],
      "execution_count": 61,
      "outputs": [
        {
          "output_type": "execute_result",
          "data": {
            "text/plain": [
              "{'elapsed_time': 0.09125804901123047,\n",
              " 'label': 'RECOMMENDED',\n",
              " 'score': 0.9669526219367981}"
            ]
          },
          "metadata": {
            "tags": []
          },
          "execution_count": 61
        }
      ]
    },
    {
      "cell_type": "code",
      "metadata": {
        "colab": {
          "base_uri": "https://localhost:8080/"
        },
        "id": "0jY0YpgpQU9z",
        "outputId": "0e8bd60f-2512-47e1-9c66-661481643149"
      },
      "source": [
        "predict(\"I had fun but will not play again\")"
      ],
      "execution_count": 62,
      "outputs": [
        {
          "output_type": "execute_result",
          "data": {
            "text/plain": [
              "{'elapsed_time': 0.09398293495178223,\n",
              " 'label': 'NEUTRAL',\n",
              " 'score': 0.5833446383476257}"
            ]
          },
          "metadata": {
            "tags": []
          },
          "execution_count": 62
        }
      ]
    },
    {
      "cell_type": "code",
      "metadata": {
        "colab": {
          "base_uri": "https://localhost:8080/"
        },
        "id": "a09bAlBqQZOa",
        "outputId": "703af4bc-bfac-4881-ef10-2901efd06d57"
      },
      "source": [
        "predict(\"I had a good time but there were issues online\")"
      ],
      "execution_count": 63,
      "outputs": [
        {
          "output_type": "execute_result",
          "data": {
            "text/plain": [
              "{'elapsed_time': 0.09386134147644043,\n",
              " 'label': 'RECOMMENDED',\n",
              " 'score': 0.9101329445838928}"
            ]
          },
          "metadata": {
            "tags": []
          },
          "execution_count": 63
        }
      ]
    },
    {
      "cell_type": "code",
      "metadata": {
        "colab": {
          "base_uri": "https://localhost:8080/"
        },
        "id": "ZEF67LL3Qiem",
        "outputId": "2fc55d36-45fd-4d4b-b397-be8ce4958513"
      },
      "source": [
        "predict(\"I did not have a good time, but the online was fun\")"
      ],
      "execution_count": 64,
      "outputs": [
        {
          "output_type": "execute_result",
          "data": {
            "text/plain": [
              "{'elapsed_time': 0.09176278114318848,\n",
              " 'label': 'NEUTRAL',\n",
              " 'score': 0.5600866079330444}"
            ]
          },
          "metadata": {
            "tags": []
          },
          "execution_count": 64
        }
      ]
    },
    {
      "cell_type": "code",
      "metadata": {
        "colab": {
          "base_uri": "https://localhost:8080/"
        },
        "id": "j6_wDDRRQw7i",
        "outputId": "58297ded-c7ac-4b70-8498-d13da8b9d8d6"
      },
      "source": [
        "predict(\"This game fucking rocks!\")"
      ],
      "execution_count": 65,
      "outputs": [
        {
          "output_type": "execute_result",
          "data": {
            "text/plain": [
              "{'elapsed_time': 0.08821296691894531,\n",
              " 'label': 'RECOMMENDED',\n",
              " 'score': 0.9395471811294556}"
            ]
          },
          "metadata": {
            "tags": []
          },
          "execution_count": 65
        }
      ]
    },
    {
      "cell_type": "code",
      "metadata": {
        "colab": {
          "base_uri": "https://localhost:8080/"
        },
        "id": "6aTfeM2XQ6Ma",
        "outputId": "f7dde155-4392-4c42-896f-2bfdf6228ad7"
      },
      "source": [
        "predict(\"I had fun for a few hours, but I DO NOT recommend\")"
      ],
      "execution_count": 66,
      "outputs": [
        {
          "output_type": "execute_result",
          "data": {
            "text/plain": [
              "{'elapsed_time': 0.10816526412963867,\n",
              " 'label': 'NOT RECOMMENDED',\n",
              " 'score': 0.11143315583467484}"
            ]
          },
          "metadata": {
            "tags": []
          },
          "execution_count": 66
        }
      ]
    },
    {
      "cell_type": "code",
      "metadata": {
        "colab": {
          "base_uri": "https://localhost:8080/"
        },
        "id": "3kTcETmjRCZb",
        "outputId": "8e19b463-5f05-4c43-b0c6-95537725a8a4"
      },
      "source": [
        "predict(\"Not enough Eddie, and not the Eddie we want. Murphy is just too generous in both these movies: he gives so much screen time away to his co-stars, he himself barely registers, yet he's the reason we're here.\")"
      ],
      "execution_count": 67,
      "outputs": [
        {
          "output_type": "execute_result",
          "data": {
            "text/plain": [
              "{'elapsed_time': 0.09848976135253906,\n",
              " 'label': 'NEUTRAL',\n",
              " 'score': 0.44562438130378723}"
            ]
          },
          "metadata": {
            "tags": []
          },
          "execution_count": 67
        }
      ]
    },
    {
      "cell_type": "code",
      "metadata": {
        "colab": {
          "base_uri": "https://localhost:8080/"
        },
        "id": "3xL9I5zGSfZT",
        "outputId": "3d64d5c4-5820-478a-92d8-7889038cad22"
      },
      "source": [
        "predict(\"Silly setup and plot. Real actors are painfully trying to interact with the cartoon cast.\")"
      ],
      "execution_count": 68,
      "outputs": [
        {
          "output_type": "execute_result",
          "data": {
            "text/plain": [
              "{'elapsed_time': 0.09300971031188965,\n",
              " 'label': 'NEUTRAL',\n",
              " 'score': 0.6961286067962646}"
            ]
          },
          "metadata": {
            "tags": []
          },
          "execution_count": 68
        }
      ]
    },
    {
      "cell_type": "code",
      "metadata": {
        "colab": {
          "base_uri": "https://localhost:8080/"
        },
        "id": "czYEwNRvULfz",
        "outputId": "66babccf-8d64-4862-8fa6-f41f0369f2d4"
      },
      "source": [
        "predict(\"Playing with friends is hard but time well spent\")"
      ],
      "execution_count": 69,
      "outputs": [
        {
          "output_type": "execute_result",
          "data": {
            "text/plain": [
              "{'elapsed_time': 0.09119677543640137,\n",
              " 'label': 'RECOMMENDED',\n",
              " 'score': 0.9879342317581177}"
            ]
          },
          "metadata": {
            "tags": []
          },
          "execution_count": 69
        }
      ]
    },
    {
      "cell_type": "markdown",
      "metadata": {
        "id": "cZ8hdubjKyAH"
      },
      "source": [
        "# Confusiuon Matrix"
      ]
    },
    {
      "cell_type": "code",
      "metadata": {
        "id": "mXOjZoyBKyAH",
        "colab": {
          "base_uri": "https://localhost:8080/"
        },
        "outputId": "df21b1da-880d-43c9-f38a-7873345f9970"
      },
      "source": [
        "%%time\n",
        "y_pred_1d = []\n",
        "y_test_1d = list(df_test.target)\n",
        "scores = model.predict(x_test, verbose=1, batch_size=8000)\n",
        "y_pred_1d = [decode_sentiment(score, include_neutral=False) for score in scores]"
      ],
      "execution_count": 70,
      "outputs": [
        {
          "output_type": "stream",
          "text": [
            "11/11 [==============================] - 13s 1s/step\n",
            "CPU times: user 9.29 s, sys: 4.5 s, total: 13.8 s\n",
            "Wall time: 13.3 s\n"
          ],
          "name": "stdout"
        }
      ]
    },
    {
      "cell_type": "code",
      "metadata": {
        "id": "OPDkr_KVKyAH"
      },
      "source": [
        "def plot_confusion_matrix(cm, classes,\n",
        "                          title='Confusion matrix',\n",
        "                          cmap=plt.cm.Blues):\n",
        "    \"\"\"\n",
        "    This function prints and plots the confusion matrix.\n",
        "    Normalization can be applied by setting `normalize=True`.\n",
        "    \"\"\"\n",
        "\n",
        "    cm = cm.astype('float') / cm.sum(axis=1)[:, np.newaxis]\n",
        "\n",
        "    plt.imshow(cm, interpolation='nearest', cmap=cmap)\n",
        "    plt.title(title, fontsize=30)\n",
        "    plt.colorbar()\n",
        "    tick_marks = np.arange(len(classes))\n",
        "    plt.xticks(tick_marks, classes, rotation=90, fontsize=22)\n",
        "    plt.yticks(tick_marks, classes, fontsize=22)\n",
        "\n",
        "    fmt = '.2f'\n",
        "    thresh = cm.max() / 2.\n",
        "    for i, j in itertools.product(range(cm.shape[0]), range(cm.shape[1])):\n",
        "        plt.text(j, i, format(cm[i, j], fmt),\n",
        "                 horizontalalignment=\"center\",\n",
        "                 color=\"white\" if cm[i, j] > thresh else \"black\")\n",
        "\n",
        "    plt.ylabel('True label', fontsize=25)\n",
        "    plt.xlabel('Predicted label', fontsize=25)"
      ],
      "execution_count": 71,
      "outputs": []
    },
    {
      "cell_type": "code",
      "metadata": {
        "id": "97QAfshVKyAI",
        "colab": {
          "base_uri": "https://localhost:8080/",
          "height": 926
        },
        "outputId": "08c75afa-3a51-464a-f738-166f08ba4fba"
      },
      "source": [
        "%%time\n",
        "\n",
        "cnf_matrix = confusion_matrix(y_test_1d, y_pred_1d)\n",
        "plt.figure(figsize=(12,12))\n",
        "plot_confusion_matrix(cnf_matrix, classes=df_train.target.unique(), title=\"Confusion matrix\")\n",
        "plt.show()"
      ],
      "execution_count": 231,
      "outputs": [
        {
          "output_type": "display_data",
          "data": {
            "image/png": "[encoded data removed]",
            "text/plain": [
              "<Figure size 864x864 with 2 Axes>"
            ]
          },
          "metadata": {
            "tags": [],
            "needs_background": "light"
          }
        },
        {
          "output_type": "stream",
          "text": [
            "CPU times: user 539 ms, sys: 4.78 ms, total: 544 ms\n",
            "Wall time: 551 ms\n"
          ],
          "name": "stdout"
        }
      ]
    },
    {
      "cell_type": "markdown",
      "metadata": {
        "id": "B47RC9nOKyAI"
      },
      "source": [
        "# Classification Report"
      ]
    },
    {
      "cell_type": "code",
      "metadata": {
        "id": "f1K0ST0sKyAI",
        "colab": {
          "base_uri": "https://localhost:8080/"
        },
        "outputId": "34f5b93c-ca52-4c77-bb39-d055e058c042"
      },
      "source": [
        "print(classification_report(y_test_1d, y_pred_1d))"
      ],
      "execution_count": 72,
      "outputs": [
        {
          "output_type": "stream",
          "text": [
            "                 precision    recall  f1-score   support\n",
            "\n",
            "NOT RECOMMENDED       0.85      0.75      0.80     26211\n",
            "    RECOMMENDED       0.90      0.94      0.92     60464\n",
            "\n",
            "       accuracy                           0.89     86675\n",
            "      macro avg       0.88      0.85      0.86     86675\n",
            "   weighted avg       0.89      0.89      0.88     86675\n",
            "\n"
          ],
          "name": "stdout"
        }
      ]
    },
    {
      "cell_type": "markdown",
      "metadata": {
        "id": "ASB4DiXhKyAJ"
      },
      "source": [
        "# Accuracy Score"
      ]
    },
    {
      "cell_type": "code",
      "metadata": {
        "id": "onI0brwYKyAJ",
        "colab": {
          "base_uri": "https://localhost:8080/"
        },
        "outputId": "95c503d2-c2ca-41a9-8b29-b5373eefa4c8"
      },
      "source": [
        "accuracy_score(y_test_1d, y_pred_1d)"
      ],
      "execution_count": 73,
      "outputs": [
        {
          "output_type": "execute_result",
          "data": {
            "text/plain": [
              "0.8865993654456302"
            ]
          },
          "metadata": {
            "tags": []
          },
          "execution_count": 73
        }
      ]
    },
    {
      "cell_type": "markdown",
      "metadata": {
        "id": "9jm1E3sFKyAJ"
      },
      "source": [
        "# Save Model"
      ]
    },
    {
      "cell_type": "code",
      "metadata": {
        "id": "DqHdWTHGKyAJ",
        "colab": {
          "base_uri": "https://localhost:8080/"
        },
        "outputId": "d67f1051-fee7-4832-fd17-6aa890e3d677"
      },
      "source": [
        "model.save(KERAS_MODEL)\n",
        "w2v_model.save(WORD2VEC_MODEL)\n",
        "pickle.dump(tokenizer, open(TOKENIZER_MODEL, \"wb\"), protocol=0)\n",
        "pickle.dump(encoder, open(ENCODER_MODEL, \"wb\"), protocol=0)"
      ],
      "execution_count": 74,
      "outputs": [
        {
          "output_type": "stream",
          "text": [
            "2021-03-13 22:19:31,383 : INFO : saving Word2Vec object under model.w2v, separately None\n",
            "2021-03-13 22:19:31,385 : INFO : not storing attribute vectors_norm\n",
            "2021-03-13 22:19:31,388 : INFO : not storing attribute cum_table\n",
            "2021-03-13 22:19:32,181 : INFO : saved model.w2v\n"
          ],
          "name": "stderr"
        }
      ]
    }
  ]
}